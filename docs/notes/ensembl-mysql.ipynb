{
 "cells": [
  {
   "cell_type": "markdown",
   "metadata": {},
   "source": [
    "# Ensembl mysql"
   ]
  },
  {
   "cell_type": "markdown",
   "metadata": {},
   "source": [
    "- https://www.ensembl.org/info/data/mysql.html\n",
    "- https://www.ensembl.org/info/docs/api/core/core_schema.html"
   ]
  },
  {
   "cell_type": "markdown",
   "metadata": {},
   "source": [
    "Install mysqlclient: https://pypi.org/project/mysqlclient/"
   ]
  },
  {
   "cell_type": "code",
   "execution_count": 1,
   "metadata": {},
   "outputs": [],
   "source": [
    "import sqlmodel as sqm\n",
    "import pandas as pd"
   ]
  },
  {
   "cell_type": "code",
   "execution_count": 2,
   "metadata": {},
   "outputs": [],
   "source": [
    "def get_url(db=\"core\"):\n",
    "    return f\"mysql+mysqldb://anonymous:@ensembldb.ensembl.org/homo_sapiens_{db}_108_38\""
   ]
  },
  {
   "cell_type": "markdown",
   "metadata": {},
   "source": [
    "## core db"
   ]
  },
  {
   "cell_type": "code",
   "execution_count": 3,
   "metadata": {},
   "outputs": [],
   "source": [
    "engine = sqm.create_engine(get_url(), future=False)"
   ]
  },
  {
   "cell_type": "markdown",
   "metadata": {},
   "source": [
    "Pull the full `gene` table:"
   ]
  },
  {
   "cell_type": "code",
   "execution_count": 3,
   "metadata": {},
   "outputs": [
    {
     "data": {
      "text/plain": [
       "(70616, 16)"
      ]
     },
     "execution_count": 3,
     "metadata": {},
     "output_type": "execute_result"
    }
   ],
   "source": [
    "gene = pd.read_sql(\"SELECT * FROM gene\", con=engine)\n",
    "gene.shape"
   ]
  },
  {
   "cell_type": "code",
   "execution_count": 4,
   "metadata": {},
   "outputs": [
    {
     "data": {
      "text/html": [
       "<div>\n",
       "<style scoped>\n",
       "    .dataframe tbody tr th:only-of-type {\n",
       "        vertical-align: middle;\n",
       "    }\n",
       "\n",
       "    .dataframe tbody tr th {\n",
       "        vertical-align: top;\n",
       "    }\n",
       "\n",
       "    .dataframe thead th {\n",
       "        text-align: right;\n",
       "    }\n",
       "</style>\n",
       "<table border=\"1\" class=\"dataframe\">\n",
       "  <thead>\n",
       "    <tr style=\"text-align: right;\">\n",
       "      <th></th>\n",
       "      <th>gene_id</th>\n",
       "      <th>biotype</th>\n",
       "      <th>analysis_id</th>\n",
       "      <th>seq_region_id</th>\n",
       "      <th>seq_region_start</th>\n",
       "      <th>seq_region_end</th>\n",
       "      <th>seq_region_strand</th>\n",
       "      <th>display_xref_id</th>\n",
       "      <th>source</th>\n",
       "      <th>description</th>\n",
       "      <th>is_current</th>\n",
       "      <th>canonical_transcript_id</th>\n",
       "      <th>stable_id</th>\n",
       "      <th>version</th>\n",
       "      <th>created_date</th>\n",
       "      <th>modified_date</th>\n",
       "    </tr>\n",
       "  </thead>\n",
       "  <tbody>\n",
       "    <tr>\n",
       "      <th>0</th>\n",
       "      <td>554</td>\n",
       "      <td>Mt_tRNA</td>\n",
       "      <td>1</td>\n",
       "      <td>132907</td>\n",
       "      <td>577</td>\n",
       "      <td>647</td>\n",
       "      <td>1</td>\n",
       "      <td>2873366.0</td>\n",
       "      <td>insdc</td>\n",
       "      <td>mitochondrially encoded tRNA-Phe (UUU/C) [Sour...</td>\n",
       "      <td>1</td>\n",
       "      <td>1587</td>\n",
       "      <td>ENSG00000210049</td>\n",
       "      <td>1</td>\n",
       "      <td>2006-05-12</td>\n",
       "      <td>2006-05-12 00:00:00</td>\n",
       "    </tr>\n",
       "    <tr>\n",
       "      <th>1</th>\n",
       "      <td>555</td>\n",
       "      <td>Mt_rRNA</td>\n",
       "      <td>1</td>\n",
       "      <td>132907</td>\n",
       "      <td>648</td>\n",
       "      <td>1601</td>\n",
       "      <td>1</td>\n",
       "      <td>2873345.0</td>\n",
       "      <td>insdc</td>\n",
       "      <td>mitochondrially encoded 12S rRNA [Source:HGNC ...</td>\n",
       "      <td>1</td>\n",
       "      <td>1588</td>\n",
       "      <td>ENSG00000211459</td>\n",
       "      <td>2</td>\n",
       "      <td>2006-07-03</td>\n",
       "      <td>2010-01-08 18:00:56</td>\n",
       "    </tr>\n",
       "    <tr>\n",
       "      <th>2</th>\n",
       "      <td>556</td>\n",
       "      <td>Mt_tRNA</td>\n",
       "      <td>1</td>\n",
       "      <td>132907</td>\n",
       "      <td>1602</td>\n",
       "      <td>1670</td>\n",
       "      <td>1</td>\n",
       "      <td>2873419.0</td>\n",
       "      <td>insdc</td>\n",
       "      <td>mitochondrially encoded tRNA-Val (GUN) [Source...</td>\n",
       "      <td>1</td>\n",
       "      <td>1589</td>\n",
       "      <td>ENSG00000210077</td>\n",
       "      <td>1</td>\n",
       "      <td>2006-05-12</td>\n",
       "      <td>2006-05-12 00:00:00</td>\n",
       "    </tr>\n",
       "    <tr>\n",
       "      <th>3</th>\n",
       "      <td>557</td>\n",
       "      <td>Mt_rRNA</td>\n",
       "      <td>1</td>\n",
       "      <td>132907</td>\n",
       "      <td>1671</td>\n",
       "      <td>3229</td>\n",
       "      <td>1</td>\n",
       "      <td>2873347.0</td>\n",
       "      <td>insdc</td>\n",
       "      <td>mitochondrially encoded 16S rRNA [Source:HGNC ...</td>\n",
       "      <td>1</td>\n",
       "      <td>1590</td>\n",
       "      <td>ENSG00000210082</td>\n",
       "      <td>2</td>\n",
       "      <td>2006-05-12</td>\n",
       "      <td>2010-01-08 18:00:56</td>\n",
       "    </tr>\n",
       "    <tr>\n",
       "      <th>4</th>\n",
       "      <td>558</td>\n",
       "      <td>Mt_tRNA</td>\n",
       "      <td>1</td>\n",
       "      <td>132907</td>\n",
       "      <td>3230</td>\n",
       "      <td>3304</td>\n",
       "      <td>1</td>\n",
       "      <td>2873391.0</td>\n",
       "      <td>insdc</td>\n",
       "      <td>mitochondrially encoded tRNA-Leu (UUA/G) 1 [So...</td>\n",
       "      <td>1</td>\n",
       "      <td>1591</td>\n",
       "      <td>ENSG00000209082</td>\n",
       "      <td>1</td>\n",
       "      <td>2006-05-12</td>\n",
       "      <td>2006-05-12 00:00:00</td>\n",
       "    </tr>\n",
       "  </tbody>\n",
       "</table>\n",
       "</div>"
      ],
      "text/plain": [
       "   gene_id  biotype  analysis_id  seq_region_id  seq_region_start  \\\n",
       "0      554  Mt_tRNA            1         132907               577   \n",
       "1      555  Mt_rRNA            1         132907               648   \n",
       "2      556  Mt_tRNA            1         132907              1602   \n",
       "3      557  Mt_rRNA            1         132907              1671   \n",
       "4      558  Mt_tRNA            1         132907              3230   \n",
       "\n",
       "   seq_region_end  seq_region_strand  display_xref_id source  \\\n",
       "0             647                  1        2873366.0  insdc   \n",
       "1            1601                  1        2873345.0  insdc   \n",
       "2            1670                  1        2873419.0  insdc   \n",
       "3            3229                  1        2873347.0  insdc   \n",
       "4            3304                  1        2873391.0  insdc   \n",
       "\n",
       "                                         description  is_current  \\\n",
       "0  mitochondrially encoded tRNA-Phe (UUU/C) [Sour...           1   \n",
       "1  mitochondrially encoded 12S rRNA [Source:HGNC ...           1   \n",
       "2  mitochondrially encoded tRNA-Val (GUN) [Source...           1   \n",
       "3  mitochondrially encoded 16S rRNA [Source:HGNC ...           1   \n",
       "4  mitochondrially encoded tRNA-Leu (UUA/G) 1 [So...           1   \n",
       "\n",
       "   canonical_transcript_id        stable_id  version created_date  \\\n",
       "0                     1587  ENSG00000210049        1   2006-05-12   \n",
       "1                     1588  ENSG00000211459        2   2006-07-03   \n",
       "2                     1589  ENSG00000210077        1   2006-05-12   \n",
       "3                     1590  ENSG00000210082        2   2006-05-12   \n",
       "4                     1591  ENSG00000209082        1   2006-05-12   \n",
       "\n",
       "        modified_date  \n",
       "0 2006-05-12 00:00:00  \n",
       "1 2010-01-08 18:00:56  \n",
       "2 2006-05-12 00:00:00  \n",
       "3 2010-01-08 18:00:56  \n",
       "4 2006-05-12 00:00:00  "
      ]
     },
     "execution_count": 4,
     "metadata": {},
     "output_type": "execute_result"
    }
   ],
   "source": [
    "gene.head()"
   ]
  },
  {
   "cell_type": "markdown",
   "metadata": {},
   "source": [
    "Pull the `xref` table:"
   ]
  },
  {
   "cell_type": "code",
   "execution_count": 5,
   "metadata": {},
   "outputs": [
    {
     "data": {
      "text/plain": [
       "(2330490, 8)"
      ]
     },
     "execution_count": 5,
     "metadata": {},
     "output_type": "execute_result"
    }
   ],
   "source": [
    "xref = pd.read_sql(\"SELECT * FROM xref\", con=engine)\n",
    "xref.shape"
   ]
  },
  {
   "cell_type": "code",
   "execution_count": 6,
   "metadata": {},
   "outputs": [
    {
     "data": {
      "text/html": [
       "<div>\n",
       "<style scoped>\n",
       "    .dataframe tbody tr th:only-of-type {\n",
       "        vertical-align: middle;\n",
       "    }\n",
       "\n",
       "    .dataframe tbody tr th {\n",
       "        vertical-align: top;\n",
       "    }\n",
       "\n",
       "    .dataframe thead th {\n",
       "        text-align: right;\n",
       "    }\n",
       "</style>\n",
       "<table border=\"1\" class=\"dataframe\">\n",
       "  <thead>\n",
       "    <tr style=\"text-align: right;\">\n",
       "      <th></th>\n",
       "      <th>xref_id</th>\n",
       "      <th>external_db_id</th>\n",
       "      <th>dbprimary_acc</th>\n",
       "      <th>display_label</th>\n",
       "      <th>version</th>\n",
       "      <th>description</th>\n",
       "      <th>info_type</th>\n",
       "      <th>info_text</th>\n",
       "    </tr>\n",
       "  </thead>\n",
       "  <tbody>\n",
       "    <tr>\n",
       "      <th>0</th>\n",
       "      <td>1</td>\n",
       "      <td>2700</td>\n",
       "      <td>ENSG00000108821</td>\n",
       "      <td>ENSG00000108821</td>\n",
       "      <td>0</td>\n",
       "      <td>None</td>\n",
       "      <td>NONE</td>\n",
       "      <td></td>\n",
       "    </tr>\n",
       "    <tr>\n",
       "      <th>1</th>\n",
       "      <td>2</td>\n",
       "      <td>50541</td>\n",
       "      <td>LRG_1</td>\n",
       "      <td>LRG_1</td>\n",
       "      <td>0</td>\n",
       "      <td>Locus Reference Genomic record for COL1A1</td>\n",
       "      <td>DIRECT</td>\n",
       "      <td></td>\n",
       "    </tr>\n",
       "    <tr>\n",
       "      <th>2</th>\n",
       "      <td>3</td>\n",
       "      <td>50543</td>\n",
       "      <td>LRG_1t1</td>\n",
       "      <td>LRG_1t1</td>\n",
       "      <td>0</td>\n",
       "      <td>Locus Reference Genomic record for COL1A1</td>\n",
       "      <td>DIRECT</td>\n",
       "      <td></td>\n",
       "    </tr>\n",
       "    <tr>\n",
       "      <th>3</th>\n",
       "      <td>4</td>\n",
       "      <td>2700</td>\n",
       "      <td>ENSG00000165370</td>\n",
       "      <td>ENSG00000165370</td>\n",
       "      <td>0</td>\n",
       "      <td>None</td>\n",
       "      <td>NONE</td>\n",
       "      <td></td>\n",
       "    </tr>\n",
       "    <tr>\n",
       "      <th>4</th>\n",
       "      <td>5</td>\n",
       "      <td>50541</td>\n",
       "      <td>LRG_1000</td>\n",
       "      <td>LRG_1000</td>\n",
       "      <td>0</td>\n",
       "      <td>Locus Reference Genomic record for GPR101</td>\n",
       "      <td>DIRECT</td>\n",
       "      <td></td>\n",
       "    </tr>\n",
       "  </tbody>\n",
       "</table>\n",
       "</div>"
      ],
      "text/plain": [
       "   xref_id  external_db_id    dbprimary_acc    display_label version  \\\n",
       "0        1            2700  ENSG00000108821  ENSG00000108821       0   \n",
       "1        2           50541            LRG_1            LRG_1       0   \n",
       "2        3           50543          LRG_1t1          LRG_1t1       0   \n",
       "3        4            2700  ENSG00000165370  ENSG00000165370       0   \n",
       "4        5           50541         LRG_1000         LRG_1000       0   \n",
       "\n",
       "                                 description info_type info_text  \n",
       "0                                       None      NONE            \n",
       "1  Locus Reference Genomic record for COL1A1    DIRECT            \n",
       "2  Locus Reference Genomic record for COL1A1    DIRECT            \n",
       "3                                       None      NONE            \n",
       "4  Locus Reference Genomic record for GPR101    DIRECT            "
      ]
     },
     "execution_count": 6,
     "metadata": {},
     "output_type": "execute_result"
    }
   ],
   "source": [
    "xref.head()"
   ]
  },
  {
   "cell_type": "markdown",
   "metadata": {},
   "source": [
    "Pull the `external_db` table:\n",
    "\n",
    "- EntrezGene: 1300\n",
    "- HGNC: 1100\n",
    "- MGI: 1400"
   ]
  },
  {
   "cell_type": "code",
   "execution_count": 22,
   "metadata": {},
   "outputs": [
    {
     "data": {
      "text/plain": [
       "(478, 10)"
      ]
     },
     "execution_count": 22,
     "metadata": {},
     "output_type": "execute_result"
    }
   ],
   "source": [
    "external_db = pd.read_sql(\"SELECT * FROM external_db\", con=engine)\n",
    "external_db.shape"
   ]
  },
  {
   "cell_type": "code",
   "execution_count": 20,
   "metadata": {},
   "outputs": [
    {
     "data": {
      "text/html": [
       "<div>\n",
       "<style scoped>\n",
       "    .dataframe tbody tr th:only-of-type {\n",
       "        vertical-align: middle;\n",
       "    }\n",
       "\n",
       "    .dataframe tbody tr th {\n",
       "        vertical-align: top;\n",
       "    }\n",
       "\n",
       "    .dataframe thead th {\n",
       "        text-align: right;\n",
       "    }\n",
       "</style>\n",
       "<table border=\"1\" class=\"dataframe\">\n",
       "  <thead>\n",
       "    <tr style=\"text-align: right;\">\n",
       "      <th></th>\n",
       "      <th>external_db_id</th>\n",
       "      <th>db_name</th>\n",
       "      <th>db_release</th>\n",
       "      <th>status</th>\n",
       "      <th>priority</th>\n",
       "      <th>db_display_name</th>\n",
       "      <th>type</th>\n",
       "      <th>secondary_db_name</th>\n",
       "      <th>secondary_db_table</th>\n",
       "      <th>description</th>\n",
       "    </tr>\n",
       "  </thead>\n",
       "  <tbody>\n",
       "    <tr>\n",
       "      <th>16</th>\n",
       "      <td>821</td>\n",
       "      <td>FlyBaseName_gene</td>\n",
       "      <td>1</td>\n",
       "      <td>KNOWN</td>\n",
       "      <td>5</td>\n",
       "      <td>FlyBase gene name</td>\n",
       "      <td>PRIMARY_DB_SYNONYM</td>\n",
       "      <td>None</td>\n",
       "      <td>None</td>\n",
       "      <td>None</td>\n",
       "    </tr>\n",
       "    <tr>\n",
       "      <th>19</th>\n",
       "      <td>826</td>\n",
       "      <td>FlyBaseCGID_gene</td>\n",
       "      <td>1</td>\n",
       "      <td>XREF</td>\n",
       "      <td>5</td>\n",
       "      <td>FlyBase gene CGID</td>\n",
       "      <td>PRIMARY_DB_SYNONYM</td>\n",
       "      <td>None</td>\n",
       "      <td>None</td>\n",
       "      <td>None</td>\n",
       "    </tr>\n",
       "    <tr>\n",
       "      <th>29</th>\n",
       "      <td>1100</td>\n",
       "      <td>HGNC</td>\n",
       "      <td>1</td>\n",
       "      <td>KNOWNXREF</td>\n",
       "      <td>100</td>\n",
       "      <td>HGNC Symbol</td>\n",
       "      <td>PRIMARY_DB_SYNONYM</td>\n",
       "      <td>None</td>\n",
       "      <td>None</td>\n",
       "      <td>None</td>\n",
       "    </tr>\n",
       "    <tr>\n",
       "      <th>31</th>\n",
       "      <td>1300</td>\n",
       "      <td>EntrezGene</td>\n",
       "      <td>1</td>\n",
       "      <td>KNOWNXREF</td>\n",
       "      <td>250</td>\n",
       "      <td>NCBI gene (formerly Entrezgene)</td>\n",
       "      <td>PRIMARY_DB_SYNONYM</td>\n",
       "      <td>None</td>\n",
       "      <td>None</td>\n",
       "      <td>None</td>\n",
       "    </tr>\n",
       "    <tr>\n",
       "      <th>32</th>\n",
       "      <td>1400</td>\n",
       "      <td>MGI</td>\n",
       "      <td>1</td>\n",
       "      <td>KNOWNXREF</td>\n",
       "      <td>270</td>\n",
       "      <td>MGI Symbol</td>\n",
       "      <td>PRIMARY_DB_SYNONYM</td>\n",
       "      <td>None</td>\n",
       "      <td>None</td>\n",
       "      <td>None</td>\n",
       "    </tr>\n",
       "  </tbody>\n",
       "</table>\n",
       "</div>"
      ],
      "text/plain": [
       "    external_db_id           db_name db_release     status  priority  \\\n",
       "16             821  FlyBaseName_gene          1      KNOWN         5   \n",
       "19             826  FlyBaseCGID_gene          1       XREF         5   \n",
       "29            1100              HGNC          1  KNOWNXREF       100   \n",
       "31            1300        EntrezGene          1  KNOWNXREF       250   \n",
       "32            1400               MGI          1  KNOWNXREF       270   \n",
       "\n",
       "                    db_display_name                type secondary_db_name  \\\n",
       "16                FlyBase gene name  PRIMARY_DB_SYNONYM              None   \n",
       "19                FlyBase gene CGID  PRIMARY_DB_SYNONYM              None   \n",
       "29                      HGNC Symbol  PRIMARY_DB_SYNONYM              None   \n",
       "31  NCBI gene (formerly Entrezgene)  PRIMARY_DB_SYNONYM              None   \n",
       "32                       MGI Symbol  PRIMARY_DB_SYNONYM              None   \n",
       "\n",
       "   secondary_db_table description  \n",
       "16               None        None  \n",
       "19               None        None  \n",
       "29               None        None  \n",
       "31               None        None  \n",
       "32               None        None  "
      ]
     },
     "execution_count": 20,
     "metadata": {},
     "output_type": "execute_result"
    }
   ],
   "source": [
    "external_db[external_db[\"type\"] == \"PRIMARY_DB_SYNONYM\"].head()"
   ]
  },
  {
   "cell_type": "markdown",
   "metadata": {},
   "source": [
    "Pull the `external_synonym` table:"
   ]
  },
  {
   "cell_type": "code",
   "execution_count": 12,
   "metadata": {},
   "outputs": [
    {
     "data": {
      "text/plain": [
       "(56200, 2)"
      ]
     },
     "execution_count": 12,
     "metadata": {},
     "output_type": "execute_result"
    }
   ],
   "source": [
    "external_synonym = pd.read_sql(\"SELECT * FROM external_synonym\", con=engine)\n",
    "external_synonym.shape"
   ]
  },
  {
   "cell_type": "code",
   "execution_count": 13,
   "metadata": {},
   "outputs": [
    {
     "data": {
      "text/html": [
       "<div>\n",
       "<style scoped>\n",
       "    .dataframe tbody tr th:only-of-type {\n",
       "        vertical-align: middle;\n",
       "    }\n",
       "\n",
       "    .dataframe tbody tr th {\n",
       "        vertical-align: top;\n",
       "    }\n",
       "\n",
       "    .dataframe thead th {\n",
       "        text-align: right;\n",
       "    }\n",
       "</style>\n",
       "<table border=\"1\" class=\"dataframe\">\n",
       "  <thead>\n",
       "    <tr style=\"text-align: right;\">\n",
       "      <th></th>\n",
       "      <th>xref_id</th>\n",
       "      <th>synonym</th>\n",
       "    </tr>\n",
       "  </thead>\n",
       "  <tbody>\n",
       "    <tr>\n",
       "      <th>0</th>\n",
       "      <td>420056</td>\n",
       "      <td>A2MP</td>\n",
       "    </tr>\n",
       "    <tr>\n",
       "      <th>1</th>\n",
       "      <td>423501</td>\n",
       "      <td>ALOX12E</td>\n",
       "    </tr>\n",
       "    <tr>\n",
       "      <th>2</th>\n",
       "      <td>438805</td>\n",
       "      <td>CRYB2B</td>\n",
       "    </tr>\n",
       "    <tr>\n",
       "      <th>3</th>\n",
       "      <td>440287</td>\n",
       "      <td>bA144G6.6</td>\n",
       "    </tr>\n",
       "    <tr>\n",
       "      <th>4</th>\n",
       "      <td>440287</td>\n",
       "      <td>bA342C24.4</td>\n",
       "    </tr>\n",
       "  </tbody>\n",
       "</table>\n",
       "</div>"
      ],
      "text/plain": [
       "   xref_id     synonym\n",
       "0   420056        A2MP\n",
       "1   423501     ALOX12E\n",
       "2   438805      CRYB2B\n",
       "3   440287   bA144G6.6\n",
       "4   440287  bA342C24.4"
      ]
     },
     "execution_count": 13,
     "metadata": {},
     "output_type": "execute_result"
    }
   ],
   "source": [
    "external_synonym.head()"
   ]
  },
  {
   "cell_type": "markdown",
   "metadata": {},
   "source": [
    "Pull `dobject_xref` genes"
   ]
  },
  {
   "cell_type": "code",
   "execution_count": 9,
   "metadata": {},
   "outputs": [
    {
     "data": {
      "text/plain": [
       "(467563, 6)"
      ]
     },
     "execution_count": 9,
     "metadata": {},
     "output_type": "execute_result"
    }
   ],
   "source": [
    "object_xref = pd.read_sql(\n",
    "    \"SELECT * FROM object_xref WHERE ensembl_object_type = 'Gene'\", con=engine\n",
    ")\n",
    "object_xref.shape"
   ]
  },
  {
   "cell_type": "code",
   "execution_count": 8,
   "metadata": {},
   "outputs": [
    {
     "data": {
      "text/html": [
       "<div>\n",
       "<style scoped>\n",
       "    .dataframe tbody tr th:only-of-type {\n",
       "        vertical-align: middle;\n",
       "    }\n",
       "\n",
       "    .dataframe tbody tr th {\n",
       "        vertical-align: top;\n",
       "    }\n",
       "\n",
       "    .dataframe thead th {\n",
       "        text-align: right;\n",
       "    }\n",
       "</style>\n",
       "<table border=\"1\" class=\"dataframe\">\n",
       "  <thead>\n",
       "    <tr style=\"text-align: right;\">\n",
       "      <th></th>\n",
       "      <th>object_xref_id</th>\n",
       "      <th>ensembl_id</th>\n",
       "      <th>ensembl_object_type</th>\n",
       "      <th>xref_id</th>\n",
       "      <th>linkage_annotation</th>\n",
       "      <th>analysis_id</th>\n",
       "    </tr>\n",
       "  </thead>\n",
       "  <tbody>\n",
       "    <tr>\n",
       "      <th>0</th>\n",
       "      <td>258269</td>\n",
       "      <td>554</td>\n",
       "      <td>Gene</td>\n",
       "      <td>315859</td>\n",
       "      <td>None</td>\n",
       "      <td>8381</td>\n",
       "    </tr>\n",
       "    <tr>\n",
       "      <th>1</th>\n",
       "      <td>627342</td>\n",
       "      <td>554</td>\n",
       "      <td>Gene</td>\n",
       "      <td>2873366</td>\n",
       "      <td>None</td>\n",
       "      <td>8381</td>\n",
       "    </tr>\n",
       "    <tr>\n",
       "      <th>2</th>\n",
       "      <td>258270</td>\n",
       "      <td>555</td>\n",
       "      <td>Gene</td>\n",
       "      <td>315863</td>\n",
       "      <td>None</td>\n",
       "      <td>8381</td>\n",
       "    </tr>\n",
       "    <tr>\n",
       "      <th>3</th>\n",
       "      <td>627336</td>\n",
       "      <td>555</td>\n",
       "      <td>Gene</td>\n",
       "      <td>2873345</td>\n",
       "      <td>None</td>\n",
       "      <td>8381</td>\n",
       "    </tr>\n",
       "    <tr>\n",
       "      <th>4</th>\n",
       "      <td>428421</td>\n",
       "      <td>555</td>\n",
       "      <td>Gene</td>\n",
       "      <td>399115</td>\n",
       "      <td>None</td>\n",
       "      <td>8381</td>\n",
       "    </tr>\n",
       "  </tbody>\n",
       "</table>\n",
       "</div>"
      ],
      "text/plain": [
       "   object_xref_id  ensembl_id ensembl_object_type  xref_id linkage_annotation  \\\n",
       "0          258269         554                Gene   315859               None   \n",
       "1          627342         554                Gene  2873366               None   \n",
       "2          258270         555                Gene   315863               None   \n",
       "3          627336         555                Gene  2873345               None   \n",
       "4          428421         555                Gene   399115               None   \n",
       "\n",
       "   analysis_id  \n",
       "0         8381  \n",
       "1         8381  \n",
       "2         8381  \n",
       "3         8381  \n",
       "4         8381  "
      ]
     },
     "execution_count": 8,
     "metadata": {},
     "output_type": "execute_result"
    }
   ],
   "source": [
    "object_xref.head()"
   ]
  },
  {
   "cell_type": "markdown",
   "metadata": {},
   "source": [
    "## Queries"
   ]
  },
  {
   "cell_type": "code",
   "execution_count": 14,
   "metadata": {},
   "outputs": [],
   "source": [
    "query_core = \"\"\"\n",
    "SELECT gene.stable_id, xref.display_label, gene.biotype, gene.description, external_synonym.synonym\n",
    "FROM gene\n",
    "LEFT JOIN xref ON gene.display_xref_id = xref.xref_id\n",
    "LEFT JOIN external_synonym ON gene.display_xref_id = external_synonym.xref_id\n",
    "\"\"\"\n",
    "\n",
    "query_external = \"\"\"\n",
    "SELECT gene.stable_id, object_xref.xref_id, xref.dbprimary_acc, external_db.db_name\n",
    "FROM gene\n",
    "LEFT JOIN object_xref ON gene.gene_id = object_xref.ensembl_id\n",
    "LEFT JOIN xref ON object_xref.xref_id = xref.xref_id\n",
    "LEFT JOIN external_db ON xref.external_db_id = external_db.external_db_id\n",
    "WHERE object_xref.ensembl_object_type = 'Gene' AND external_db.db_name IN ('HGNC', 'EntrezGene')\n",
    "\"\"\""
   ]
  },
  {
   "cell_type": "markdown",
   "metadata": {},
   "source": [
    "Query for the basic gene annotations:"
   ]
  },
  {
   "cell_type": "code",
   "execution_count": 7,
   "metadata": {},
   "outputs": [
    {
     "data": {
      "text/plain": [
       "(111512, 5)"
      ]
     },
     "execution_count": 7,
     "metadata": {},
     "output_type": "execute_result"
    }
   ],
   "source": [
    "results_core = pd.read_sql(query_core, con=engine)\n",
    "results_core.shape"
   ]
  },
  {
   "cell_type": "code",
   "execution_count": 9,
   "metadata": {},
   "outputs": [
    {
     "data": {
      "text/html": [
       "<div>\n",
       "<style scoped>\n",
       "    .dataframe tbody tr th:only-of-type {\n",
       "        vertical-align: middle;\n",
       "    }\n",
       "\n",
       "    .dataframe tbody tr th {\n",
       "        vertical-align: top;\n",
       "    }\n",
       "\n",
       "    .dataframe thead th {\n",
       "        text-align: right;\n",
       "    }\n",
       "</style>\n",
       "<table border=\"1\" class=\"dataframe\">\n",
       "  <thead>\n",
       "    <tr style=\"text-align: right;\">\n",
       "      <th></th>\n",
       "      <th>stable_id</th>\n",
       "      <th>display_label</th>\n",
       "      <th>biotype</th>\n",
       "      <th>description</th>\n",
       "      <th>synonym</th>\n",
       "    </tr>\n",
       "  </thead>\n",
       "  <tbody>\n",
       "    <tr>\n",
       "      <th>0</th>\n",
       "      <td>ENSG00000210049</td>\n",
       "      <td>MT-TF</td>\n",
       "      <td>Mt_tRNA</td>\n",
       "      <td>mitochondrially encoded tRNA-Phe (UUU/C) [Sour...</td>\n",
       "      <td>MTTF</td>\n",
       "    </tr>\n",
       "    <tr>\n",
       "      <th>1</th>\n",
       "      <td>ENSG00000210049</td>\n",
       "      <td>MT-TF</td>\n",
       "      <td>Mt_tRNA</td>\n",
       "      <td>mitochondrially encoded tRNA-Phe (UUU/C) [Sour...</td>\n",
       "      <td>trnF</td>\n",
       "    </tr>\n",
       "    <tr>\n",
       "      <th>2</th>\n",
       "      <td>ENSG00000211459</td>\n",
       "      <td>MT-RNR1</td>\n",
       "      <td>Mt_rRNA</td>\n",
       "      <td>mitochondrially encoded 12S rRNA [Source:HGNC ...</td>\n",
       "      <td>12S</td>\n",
       "    </tr>\n",
       "    <tr>\n",
       "      <th>3</th>\n",
       "      <td>ENSG00000211459</td>\n",
       "      <td>MT-RNR1</td>\n",
       "      <td>Mt_rRNA</td>\n",
       "      <td>mitochondrially encoded 12S rRNA [Source:HGNC ...</td>\n",
       "      <td>MOTS-c</td>\n",
       "    </tr>\n",
       "    <tr>\n",
       "      <th>4</th>\n",
       "      <td>ENSG00000211459</td>\n",
       "      <td>MT-RNR1</td>\n",
       "      <td>Mt_rRNA</td>\n",
       "      <td>mitochondrially encoded 12S rRNA [Source:HGNC ...</td>\n",
       "      <td>MTRNR1</td>\n",
       "    </tr>\n",
       "  </tbody>\n",
       "</table>\n",
       "</div>"
      ],
      "text/plain": [
       "         stable_id display_label  biotype  \\\n",
       "0  ENSG00000210049         MT-TF  Mt_tRNA   \n",
       "1  ENSG00000210049         MT-TF  Mt_tRNA   \n",
       "2  ENSG00000211459       MT-RNR1  Mt_rRNA   \n",
       "3  ENSG00000211459       MT-RNR1  Mt_rRNA   \n",
       "4  ENSG00000211459       MT-RNR1  Mt_rRNA   \n",
       "\n",
       "                                         description synonym  \n",
       "0  mitochondrially encoded tRNA-Phe (UUU/C) [Sour...    MTTF  \n",
       "1  mitochondrially encoded tRNA-Phe (UUU/C) [Sour...    trnF  \n",
       "2  mitochondrially encoded 12S rRNA [Source:HGNC ...     12S  \n",
       "3  mitochondrially encoded 12S rRNA [Source:HGNC ...  MOTS-c  \n",
       "4  mitochondrially encoded 12S rRNA [Source:HGNC ...  MTRNR1  "
      ]
     },
     "execution_count": 9,
     "metadata": {},
     "output_type": "execute_result"
    }
   ],
   "source": [
    "results_core.head()"
   ]
  },
  {
   "cell_type": "code",
   "execution_count": 12,
   "metadata": {},
   "outputs": [
    {
     "data": {
      "text/plain": [
       "70616"
      ]
     },
     "execution_count": 12,
     "metadata": {},
     "output_type": "execute_result"
    }
   ],
   "source": [
    "len(results_core[\"stable_id\"].unique())"
   ]
  },
  {
   "cell_type": "markdown",
   "metadata": {},
   "source": [
    "Query for external ids:"
   ]
  },
  {
   "cell_type": "code",
   "execution_count": 15,
   "metadata": {},
   "outputs": [
    {
     "data": {
      "text/plain": [
       "(83469, 4)"
      ]
     },
     "execution_count": 15,
     "metadata": {},
     "output_type": "execute_result"
    }
   ],
   "source": [
    "results_external = pd.read_sql(query_external, con=engine)\n",
    "results_external.shape"
   ]
  },
  {
   "cell_type": "code",
   "execution_count": 16,
   "metadata": {},
   "outputs": [
    {
     "data": {
      "text/html": [
       "<div>\n",
       "<style scoped>\n",
       "    .dataframe tbody tr th:only-of-type {\n",
       "        vertical-align: middle;\n",
       "    }\n",
       "\n",
       "    .dataframe tbody tr th {\n",
       "        vertical-align: top;\n",
       "    }\n",
       "\n",
       "    .dataframe thead th {\n",
       "        text-align: right;\n",
       "    }\n",
       "</style>\n",
       "<table border=\"1\" class=\"dataframe\">\n",
       "  <thead>\n",
       "    <tr style=\"text-align: right;\">\n",
       "      <th></th>\n",
       "      <th>stable_id</th>\n",
       "      <th>xref_id</th>\n",
       "      <th>dbprimary_acc</th>\n",
       "      <th>db_name</th>\n",
       "    </tr>\n",
       "  </thead>\n",
       "  <tbody>\n",
       "    <tr>\n",
       "      <th>0</th>\n",
       "      <td>ENSG00000198888</td>\n",
       "      <td>478987</td>\n",
       "      <td>4535</td>\n",
       "      <td>EntrezGene</td>\n",
       "    </tr>\n",
       "    <tr>\n",
       "      <th>1</th>\n",
       "      <td>ENSG00000198763</td>\n",
       "      <td>479001</td>\n",
       "      <td>4536</td>\n",
       "      <td>EntrezGene</td>\n",
       "    </tr>\n",
       "    <tr>\n",
       "      <th>2</th>\n",
       "      <td>ENSG00000198804</td>\n",
       "      <td>478802</td>\n",
       "      <td>4512</td>\n",
       "      <td>EntrezGene</td>\n",
       "    </tr>\n",
       "    <tr>\n",
       "      <th>3</th>\n",
       "      <td>ENSG00000210151</td>\n",
       "      <td>1027844</td>\n",
       "      <td>113219467</td>\n",
       "      <td>EntrezGene</td>\n",
       "    </tr>\n",
       "    <tr>\n",
       "      <th>4</th>\n",
       "      <td>ENSG00000198712</td>\n",
       "      <td>478817</td>\n",
       "      <td>4513</td>\n",
       "      <td>EntrezGene</td>\n",
       "    </tr>\n",
       "    <tr>\n",
       "      <th>...</th>\n",
       "      <td>...</td>\n",
       "      <td>...</td>\n",
       "      <td>...</td>\n",
       "      <td>...</td>\n",
       "    </tr>\n",
       "    <tr>\n",
       "      <th>83464</th>\n",
       "      <td>ENSG00000162543</td>\n",
       "      <td>2949466</td>\n",
       "      <td>HGNC:26354</td>\n",
       "      <td>HGNC</td>\n",
       "    </tr>\n",
       "    <tr>\n",
       "      <th>83465</th>\n",
       "      <td>ENSG00000134686</td>\n",
       "      <td>2898382</td>\n",
       "      <td>HGNC:3183</td>\n",
       "      <td>HGNC</td>\n",
       "    </tr>\n",
       "    <tr>\n",
       "      <th>83466</th>\n",
       "      <td>ENSG00000159023</td>\n",
       "      <td>2802492</td>\n",
       "      <td>HGNC:3377</td>\n",
       "      <td>HGNC</td>\n",
       "    </tr>\n",
       "    <tr>\n",
       "      <th>83467</th>\n",
       "      <td>ENSG00000198216</td>\n",
       "      <td>2757756</td>\n",
       "      <td>HGNC:1392</td>\n",
       "      <td>HGNC</td>\n",
       "    </tr>\n",
       "    <tr>\n",
       "      <th>83468</th>\n",
       "      <td>ENSG00000159388</td>\n",
       "      <td>2754739</td>\n",
       "      <td>HGNC:1131</td>\n",
       "      <td>HGNC</td>\n",
       "    </tr>\n",
       "  </tbody>\n",
       "</table>\n",
       "<p>83469 rows × 4 columns</p>\n",
       "</div>"
      ],
      "text/plain": [
       "             stable_id  xref_id dbprimary_acc     db_name\n",
       "0      ENSG00000198888   478987          4535  EntrezGene\n",
       "1      ENSG00000198763   479001          4536  EntrezGene\n",
       "2      ENSG00000198804   478802          4512  EntrezGene\n",
       "3      ENSG00000210151  1027844     113219467  EntrezGene\n",
       "4      ENSG00000198712   478817          4513  EntrezGene\n",
       "...                ...      ...           ...         ...\n",
       "83464  ENSG00000162543  2949466    HGNC:26354        HGNC\n",
       "83465  ENSG00000134686  2898382     HGNC:3183        HGNC\n",
       "83466  ENSG00000159023  2802492     HGNC:3377        HGNC\n",
       "83467  ENSG00000198216  2757756     HGNC:1392        HGNC\n",
       "83468  ENSG00000159388  2754739     HGNC:1131        HGNC\n",
       "\n",
       "[83469 rows x 4 columns]"
      ]
     },
     "execution_count": 16,
     "metadata": {},
     "output_type": "execute_result"
    }
   ],
   "source": [
    "results_external"
   ]
  },
  {
   "cell_type": "code",
   "execution_count": null,
   "metadata": {},
   "outputs": [],
   "source": []
  }
 ],
 "metadata": {
  "kernelspec": {
   "display_name": "Python 3.9.13 ('py39')",
   "language": "python",
   "name": "python3"
  },
  "language_info": {
   "codemirror_mode": {
    "name": "ipython",
    "version": 3
   },
   "file_extension": ".py",
   "mimetype": "text/x-python",
   "name": "python",
   "nbconvert_exporter": "python",
   "pygments_lexer": "ipython3",
   "version": "3.9.13"
  },
  "orig_nbformat": 4,
  "vscode": {
   "interpreter": {
    "hash": "ae1fefc8646a06dd2e75004cd934adda7c5727b046986a772e3b44b0ffba9754"
   }
  }
 },
 "nbformat": 4,
 "nbformat_minor": 2
}
