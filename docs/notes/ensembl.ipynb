{
 "cells": [
  {
   "attachments": {},
   "cell_type": "markdown",
   "metadata": {},
   "source": [
    "# Ensembl MySQL"
   ]
  },
  {
   "attachments": {},
   "cell_type": "markdown",
   "metadata": {},
   "source": [
    "- https://www.ensembl.org/info/data/mysql.html\n",
    "- https://www.ensembl.org/info/docs/api/core/core_schema.html"
   ]
  },
  {
   "attachments": {},
   "cell_type": "markdown",
   "metadata": {},
   "source": [
    "Install mysqlclient: https://pypi.org/project/mysqlclient/"
   ]
  },
  {
   "cell_type": "code",
   "execution_count": null,
   "metadata": {},
   "outputs": [],
   "source": [
    "import mysql.connector as sql\n",
    "import pandas as pd\n",
    "from sqlalchemy import create_engine"
   ]
  },
  {
   "attachments": {},
   "cell_type": "markdown",
   "metadata": {},
   "source": [
    "## core db"
   ]
  },
  {
   "cell_type": "code",
   "execution_count": null,
   "metadata": {},
   "outputs": [],
   "source": [
    "def get_url(db=\"homo_sapiens_core_109_38\"):\n",
    "    return f\"mysql+mysqldb://anonymous:@ensembldb.ensembl.org/{db}\""
   ]
  },
  {
   "cell_type": "code",
   "execution_count": null,
   "metadata": {},
   "outputs": [],
   "source": [
    "engine = create_engine(url=get_url())"
   ]
  },
  {
   "attachments": {},
   "cell_type": "markdown",
   "metadata": {},
   "source": [
    "Pull the full `gene` table:"
   ]
  },
  {
   "cell_type": "code",
   "execution_count": null,
   "metadata": {},
   "outputs": [
    {
     "data": {
      "text/plain": [
       "(70616, 16)"
      ]
     },
     "metadata": {},
     "output_type": "display_data"
    }
   ],
   "source": [
    "gene = pd.read_sql(\"SELECT * FROM gene\", con=engine)\n",
    "gene.shape"
   ]
  },
  {
   "cell_type": "code",
   "execution_count": null,
   "metadata": {},
   "outputs": [
    {
     "data": {
      "text/html": [
       "<div>\n",
       "<style scoped>\n",
       "    .dataframe tbody tr th:only-of-type {\n",
       "        vertical-align: middle;\n",
       "    }\n",
       "\n",
       "    .dataframe tbody tr th {\n",
       "        vertical-align: top;\n",
       "    }\n",
       "\n",
       "    .dataframe thead th {\n",
       "        text-align: right;\n",
       "    }\n",
       "</style>\n",
       "<table border=\"1\" class=\"dataframe\">\n",
       "  <thead>\n",
       "    <tr style=\"text-align: right;\">\n",
       "      <th></th>\n",
       "      <th>gene_id</th>\n",
       "      <th>biotype</th>\n",
       "      <th>analysis_id</th>\n",
       "      <th>seq_region_id</th>\n",
       "      <th>seq_region_start</th>\n",
       "      <th>seq_region_end</th>\n",
       "      <th>seq_region_strand</th>\n",
       "      <th>display_xref_id</th>\n",
       "      <th>source</th>\n",
       "      <th>description</th>\n",
       "      <th>is_current</th>\n",
       "      <th>canonical_transcript_id</th>\n",
       "      <th>stable_id</th>\n",
       "      <th>version</th>\n",
       "      <th>created_date</th>\n",
       "      <th>modified_date</th>\n",
       "    </tr>\n",
       "  </thead>\n",
       "  <tbody>\n",
       "    <tr>\n",
       "      <th>0</th>\n",
       "      <td>554</td>\n",
       "      <td>Mt_tRNA</td>\n",
       "      <td>1</td>\n",
       "      <td>132907</td>\n",
       "      <td>577</td>\n",
       "      <td>647</td>\n",
       "      <td>1</td>\n",
       "      <td>2873366.0</td>\n",
       "      <td>insdc</td>\n",
       "      <td>mitochondrially encoded tRNA-Phe (UUU/C) [Sour...</td>\n",
       "      <td>1</td>\n",
       "      <td>1587</td>\n",
       "      <td>ENSG00000210049</td>\n",
       "      <td>1</td>\n",
       "      <td>2006-05-12</td>\n",
       "      <td>2006-05-12 00:00:00</td>\n",
       "    </tr>\n",
       "    <tr>\n",
       "      <th>1</th>\n",
       "      <td>555</td>\n",
       "      <td>Mt_rRNA</td>\n",
       "      <td>1</td>\n",
       "      <td>132907</td>\n",
       "      <td>648</td>\n",
       "      <td>1601</td>\n",
       "      <td>1</td>\n",
       "      <td>2873345.0</td>\n",
       "      <td>insdc</td>\n",
       "      <td>mitochondrially encoded 12S rRNA [Source:HGNC ...</td>\n",
       "      <td>1</td>\n",
       "      <td>1588</td>\n",
       "      <td>ENSG00000211459</td>\n",
       "      <td>2</td>\n",
       "      <td>2006-07-03</td>\n",
       "      <td>2010-01-08 18:00:56</td>\n",
       "    </tr>\n",
       "  </tbody>\n",
       "</table>\n",
       "</div>"
      ],
      "text/plain": [
       "   gene_id  biotype  analysis_id  seq_region_id  seq_region_start  \\\n",
       "0      554  Mt_tRNA            1         132907               577   \n",
       "1      555  Mt_rRNA            1         132907               648   \n",
       "\n",
       "   seq_region_end  seq_region_strand  display_xref_id source  \\\n",
       "0             647                  1        2873366.0  insdc   \n",
       "1            1601                  1        2873345.0  insdc   \n",
       "\n",
       "                                         description  is_current  \\\n",
       "0  mitochondrially encoded tRNA-Phe (UUU/C) [Sour...           1   \n",
       "1  mitochondrially encoded 12S rRNA [Source:HGNC ...           1   \n",
       "\n",
       "   canonical_transcript_id        stable_id  version created_date  \\\n",
       "0                     1587  ENSG00000210049        1   2006-05-12   \n",
       "1                     1588  ENSG00000211459        2   2006-07-03   \n",
       "\n",
       "        modified_date  \n",
       "0 2006-05-12 00:00:00  \n",
       "1 2010-01-08 18:00:56  "
      ]
     },
     "metadata": {},
     "output_type": "display_data"
    }
   ],
   "source": [
    "gene.head(2)"
   ]
  },
  {
   "attachments": {},
   "cell_type": "markdown",
   "metadata": {},
   "source": [
    "Pull the `xref` table:"
   ]
  },
  {
   "cell_type": "code",
   "execution_count": null,
   "metadata": {},
   "outputs": [
    {
     "data": {
      "text/plain": [
       "(2330490, 8)"
      ]
     },
     "metadata": {},
     "output_type": "display_data"
    }
   ],
   "source": [
    "xref = pd.read_sql(\"SELECT * FROM xref\", con=engine)\n",
    "xref.shape"
   ]
  },
  {
   "cell_type": "code",
   "execution_count": null,
   "metadata": {},
   "outputs": [
    {
     "data": {
      "text/html": [
       "<div>\n",
       "<style scoped>\n",
       "    .dataframe tbody tr th:only-of-type {\n",
       "        vertical-align: middle;\n",
       "    }\n",
       "\n",
       "    .dataframe tbody tr th {\n",
       "        vertical-align: top;\n",
       "    }\n",
       "\n",
       "    .dataframe thead th {\n",
       "        text-align: right;\n",
       "    }\n",
       "</style>\n",
       "<table border=\"1\" class=\"dataframe\">\n",
       "  <thead>\n",
       "    <tr style=\"text-align: right;\">\n",
       "      <th></th>\n",
       "      <th>xref_id</th>\n",
       "      <th>external_db_id</th>\n",
       "      <th>dbprimary_acc</th>\n",
       "      <th>display_label</th>\n",
       "      <th>version</th>\n",
       "      <th>description</th>\n",
       "      <th>info_type</th>\n",
       "      <th>info_text</th>\n",
       "    </tr>\n",
       "  </thead>\n",
       "  <tbody>\n",
       "    <tr>\n",
       "      <th>0</th>\n",
       "      <td>1</td>\n",
       "      <td>2700</td>\n",
       "      <td>ENSG00000108821</td>\n",
       "      <td>ENSG00000108821</td>\n",
       "      <td>0</td>\n",
       "      <td>None</td>\n",
       "      <td>NONE</td>\n",
       "      <td></td>\n",
       "    </tr>\n",
       "    <tr>\n",
       "      <th>1</th>\n",
       "      <td>2</td>\n",
       "      <td>50541</td>\n",
       "      <td>LRG_1</td>\n",
       "      <td>LRG_1</td>\n",
       "      <td>0</td>\n",
       "      <td>Locus Reference Genomic record for COL1A1</td>\n",
       "      <td>DIRECT</td>\n",
       "      <td></td>\n",
       "    </tr>\n",
       "  </tbody>\n",
       "</table>\n",
       "</div>"
      ],
      "text/plain": [
       "   xref_id  external_db_id    dbprimary_acc    display_label version  \\\n",
       "0        1            2700  ENSG00000108821  ENSG00000108821       0   \n",
       "1        2           50541            LRG_1            LRG_1       0   \n",
       "\n",
       "                                 description info_type info_text  \n",
       "0                                       None      NONE            \n",
       "1  Locus Reference Genomic record for COL1A1    DIRECT            "
      ]
     },
     "metadata": {},
     "output_type": "display_data"
    }
   ],
   "source": [
    "xref.head(2)"
   ]
  },
  {
   "attachments": {},
   "cell_type": "markdown",
   "metadata": {},
   "source": [
    "Pull the `external_db` table:\n",
    "\n",
    "- EntrezGene: 1300\n",
    "- HGNC: 1100\n",
    "- MGI: 1400"
   ]
  },
  {
   "cell_type": "code",
   "execution_count": null,
   "metadata": {},
   "outputs": [
    {
     "data": {
      "text/plain": [
       "(478, 10)"
      ]
     },
     "metadata": {},
     "output_type": "display_data"
    }
   ],
   "source": [
    "external_db = pd.read_sql(\"SELECT * FROM external_db\", con=engine)\n",
    "external_db.shape"
   ]
  },
  {
   "cell_type": "code",
   "execution_count": null,
   "metadata": {},
   "outputs": [
    {
     "data": {
      "text/html": [
       "<div>\n",
       "<style scoped>\n",
       "    .dataframe tbody tr th:only-of-type {\n",
       "        vertical-align: middle;\n",
       "    }\n",
       "\n",
       "    .dataframe tbody tr th {\n",
       "        vertical-align: top;\n",
       "    }\n",
       "\n",
       "    .dataframe thead th {\n",
       "        text-align: right;\n",
       "    }\n",
       "</style>\n",
       "<table border=\"1\" class=\"dataframe\">\n",
       "  <thead>\n",
       "    <tr style=\"text-align: right;\">\n",
       "      <th></th>\n",
       "      <th>external_db_id</th>\n",
       "      <th>db_name</th>\n",
       "      <th>db_release</th>\n",
       "      <th>status</th>\n",
       "      <th>priority</th>\n",
       "      <th>db_display_name</th>\n",
       "      <th>type</th>\n",
       "      <th>secondary_db_name</th>\n",
       "      <th>secondary_db_table</th>\n",
       "      <th>description</th>\n",
       "    </tr>\n",
       "  </thead>\n",
       "  <tbody>\n",
       "    <tr>\n",
       "      <th>16</th>\n",
       "      <td>821</td>\n",
       "      <td>FlyBaseName_gene</td>\n",
       "      <td>1</td>\n",
       "      <td>KNOWN</td>\n",
       "      <td>5</td>\n",
       "      <td>FlyBase gene name</td>\n",
       "      <td>PRIMARY_DB_SYNONYM</td>\n",
       "      <td>None</td>\n",
       "      <td>None</td>\n",
       "      <td>None</td>\n",
       "    </tr>\n",
       "    <tr>\n",
       "      <th>19</th>\n",
       "      <td>826</td>\n",
       "      <td>FlyBaseCGID_gene</td>\n",
       "      <td>1</td>\n",
       "      <td>XREF</td>\n",
       "      <td>5</td>\n",
       "      <td>FlyBase gene CGID</td>\n",
       "      <td>PRIMARY_DB_SYNONYM</td>\n",
       "      <td>None</td>\n",
       "      <td>None</td>\n",
       "      <td>None</td>\n",
       "    </tr>\n",
       "    <tr>\n",
       "      <th>29</th>\n",
       "      <td>1100</td>\n",
       "      <td>HGNC</td>\n",
       "      <td>1</td>\n",
       "      <td>KNOWNXREF</td>\n",
       "      <td>100</td>\n",
       "      <td>HGNC Symbol</td>\n",
       "      <td>PRIMARY_DB_SYNONYM</td>\n",
       "      <td>None</td>\n",
       "      <td>None</td>\n",
       "      <td>None</td>\n",
       "    </tr>\n",
       "    <tr>\n",
       "      <th>31</th>\n",
       "      <td>1300</td>\n",
       "      <td>EntrezGene</td>\n",
       "      <td>1</td>\n",
       "      <td>KNOWNXREF</td>\n",
       "      <td>250</td>\n",
       "      <td>NCBI gene (formerly Entrezgene)</td>\n",
       "      <td>PRIMARY_DB_SYNONYM</td>\n",
       "      <td>None</td>\n",
       "      <td>None</td>\n",
       "      <td>None</td>\n",
       "    </tr>\n",
       "    <tr>\n",
       "      <th>32</th>\n",
       "      <td>1400</td>\n",
       "      <td>MGI</td>\n",
       "      <td>1</td>\n",
       "      <td>KNOWNXREF</td>\n",
       "      <td>270</td>\n",
       "      <td>MGI Symbol</td>\n",
       "      <td>PRIMARY_DB_SYNONYM</td>\n",
       "      <td>None</td>\n",
       "      <td>None</td>\n",
       "      <td>None</td>\n",
       "    </tr>\n",
       "  </tbody>\n",
       "</table>\n",
       "</div>"
      ],
      "text/plain": [
       "    external_db_id           db_name db_release     status  priority  \\\n",
       "16             821  FlyBaseName_gene          1      KNOWN         5   \n",
       "19             826  FlyBaseCGID_gene          1       XREF         5   \n",
       "29            1100              HGNC          1  KNOWNXREF       100   \n",
       "31            1300        EntrezGene          1  KNOWNXREF       250   \n",
       "32            1400               MGI          1  KNOWNXREF       270   \n",
       "\n",
       "                    db_display_name                type secondary_db_name  \\\n",
       "16                FlyBase gene name  PRIMARY_DB_SYNONYM              None   \n",
       "19                FlyBase gene CGID  PRIMARY_DB_SYNONYM              None   \n",
       "29                      HGNC Symbol  PRIMARY_DB_SYNONYM              None   \n",
       "31  NCBI gene (formerly Entrezgene)  PRIMARY_DB_SYNONYM              None   \n",
       "32                       MGI Symbol  PRIMARY_DB_SYNONYM              None   \n",
       "\n",
       "   secondary_db_table description  \n",
       "16               None        None  \n",
       "19               None        None  \n",
       "29               None        None  \n",
       "31               None        None  \n",
       "32               None        None  "
      ]
     },
     "metadata": {},
     "output_type": "display_data"
    }
   ],
   "source": [
    "external_db[external_db[\"type\"] == \"PRIMARY_DB_SYNONYM\"].head()"
   ]
  },
  {
   "attachments": {},
   "cell_type": "markdown",
   "metadata": {},
   "source": [
    "Pull the `external_synonym` table:"
   ]
  },
  {
   "cell_type": "code",
   "execution_count": null,
   "metadata": {},
   "outputs": [
    {
     "data": {
      "text/plain": [
       "(56200, 2)"
      ]
     },
     "metadata": {},
     "output_type": "display_data"
    }
   ],
   "source": [
    "external_synonym = pd.read_sql(\"SELECT * FROM external_synonym\", con=engine)\n",
    "external_synonym.shape"
   ]
  },
  {
   "cell_type": "code",
   "execution_count": null,
   "metadata": {},
   "outputs": [
    {
     "data": {
      "text/html": [
       "<div>\n",
       "<style scoped>\n",
       "    .dataframe tbody tr th:only-of-type {\n",
       "        vertical-align: middle;\n",
       "    }\n",
       "\n",
       "    .dataframe tbody tr th {\n",
       "        vertical-align: top;\n",
       "    }\n",
       "\n",
       "    .dataframe thead th {\n",
       "        text-align: right;\n",
       "    }\n",
       "</style>\n",
       "<table border=\"1\" class=\"dataframe\">\n",
       "  <thead>\n",
       "    <tr style=\"text-align: right;\">\n",
       "      <th></th>\n",
       "      <th>xref_id</th>\n",
       "      <th>synonym</th>\n",
       "    </tr>\n",
       "  </thead>\n",
       "  <tbody>\n",
       "    <tr>\n",
       "      <th>0</th>\n",
       "      <td>420056</td>\n",
       "      <td>A2MP</td>\n",
       "    </tr>\n",
       "    <tr>\n",
       "      <th>1</th>\n",
       "      <td>423501</td>\n",
       "      <td>ALOX12E</td>\n",
       "    </tr>\n",
       "    <tr>\n",
       "      <th>2</th>\n",
       "      <td>438805</td>\n",
       "      <td>CRYB2B</td>\n",
       "    </tr>\n",
       "    <tr>\n",
       "      <th>3</th>\n",
       "      <td>440287</td>\n",
       "      <td>bA144G6.6</td>\n",
       "    </tr>\n",
       "    <tr>\n",
       "      <th>4</th>\n",
       "      <td>440287</td>\n",
       "      <td>bA342C24.4</td>\n",
       "    </tr>\n",
       "  </tbody>\n",
       "</table>\n",
       "</div>"
      ],
      "text/plain": [
       "   xref_id     synonym\n",
       "0   420056        A2MP\n",
       "1   423501     ALOX12E\n",
       "2   438805      CRYB2B\n",
       "3   440287   bA144G6.6\n",
       "4   440287  bA342C24.4"
      ]
     },
     "metadata": {},
     "output_type": "display_data"
    }
   ],
   "source": [
    "external_synonym.head()"
   ]
  },
  {
   "attachments": {},
   "cell_type": "markdown",
   "metadata": {},
   "source": [
    "Pull `dobject_xref` genes"
   ]
  },
  {
   "cell_type": "code",
   "execution_count": null,
   "metadata": {},
   "outputs": [
    {
     "data": {
      "text/plain": [
       "(467563, 6)"
      ]
     },
     "metadata": {},
     "output_type": "display_data"
    }
   ],
   "source": [
    "object_xref = pd.read_sql(\n",
    "    \"SELECT * FROM object_xref WHERE ensembl_object_type = 'Gene'\", con=engine\n",
    ")\n",
    "object_xref.shape"
   ]
  },
  {
   "cell_type": "code",
   "execution_count": null,
   "metadata": {},
   "outputs": [
    {
     "data": {
      "text/html": [
       "<div>\n",
       "<style scoped>\n",
       "    .dataframe tbody tr th:only-of-type {\n",
       "        vertical-align: middle;\n",
       "    }\n",
       "\n",
       "    .dataframe tbody tr th {\n",
       "        vertical-align: top;\n",
       "    }\n",
       "\n",
       "    .dataframe thead th {\n",
       "        text-align: right;\n",
       "    }\n",
       "</style>\n",
       "<table border=\"1\" class=\"dataframe\">\n",
       "  <thead>\n",
       "    <tr style=\"text-align: right;\">\n",
       "      <th></th>\n",
       "      <th>object_xref_id</th>\n",
       "      <th>ensembl_id</th>\n",
       "      <th>ensembl_object_type</th>\n",
       "      <th>xref_id</th>\n",
       "      <th>linkage_annotation</th>\n",
       "      <th>analysis_id</th>\n",
       "    </tr>\n",
       "  </thead>\n",
       "  <tbody>\n",
       "    <tr>\n",
       "      <th>0</th>\n",
       "      <td>258269</td>\n",
       "      <td>554</td>\n",
       "      <td>Gene</td>\n",
       "      <td>315859</td>\n",
       "      <td>None</td>\n",
       "      <td>8381</td>\n",
       "    </tr>\n",
       "    <tr>\n",
       "      <th>1</th>\n",
       "      <td>627342</td>\n",
       "      <td>554</td>\n",
       "      <td>Gene</td>\n",
       "      <td>2873366</td>\n",
       "      <td>None</td>\n",
       "      <td>8381</td>\n",
       "    </tr>\n",
       "    <tr>\n",
       "      <th>2</th>\n",
       "      <td>258270</td>\n",
       "      <td>555</td>\n",
       "      <td>Gene</td>\n",
       "      <td>315863</td>\n",
       "      <td>None</td>\n",
       "      <td>8381</td>\n",
       "    </tr>\n",
       "    <tr>\n",
       "      <th>3</th>\n",
       "      <td>627336</td>\n",
       "      <td>555</td>\n",
       "      <td>Gene</td>\n",
       "      <td>2873345</td>\n",
       "      <td>None</td>\n",
       "      <td>8381</td>\n",
       "    </tr>\n",
       "    <tr>\n",
       "      <th>4</th>\n",
       "      <td>428421</td>\n",
       "      <td>555</td>\n",
       "      <td>Gene</td>\n",
       "      <td>399115</td>\n",
       "      <td>None</td>\n",
       "      <td>8381</td>\n",
       "    </tr>\n",
       "  </tbody>\n",
       "</table>\n",
       "</div>"
      ],
      "text/plain": [
       "   object_xref_id  ensembl_id ensembl_object_type  xref_id linkage_annotation  \\\n",
       "0          258269         554                Gene   315859               None   \n",
       "1          627342         554                Gene  2873366               None   \n",
       "2          258270         555                Gene   315863               None   \n",
       "3          627336         555                Gene  2873345               None   \n",
       "4          428421         555                Gene   399115               None   \n",
       "\n",
       "   analysis_id  \n",
       "0         8381  \n",
       "1         8381  \n",
       "2         8381  \n",
       "3         8381  \n",
       "4         8381  "
      ]
     },
     "metadata": {},
     "output_type": "display_data"
    }
   ],
   "source": [
    "object_xref.head()"
   ]
  }
 ],
 "metadata": {
  "kernelspec": {
   "display_name": "py39",
   "language": "python",
   "name": "python3"
  },
  "language_info": {
   "codemirror_mode": {
    "name": "ipython",
    "version": 3
   },
   "file_extension": ".py",
   "mimetype": "text/x-python",
   "name": "python",
   "nbconvert_exporter": "python",
   "pygments_lexer": "ipython3",
   "version": "3.9.16"
  },
  "orig_nbformat": 4
 },
 "nbformat": 4,
 "nbformat_minor": 2
}
