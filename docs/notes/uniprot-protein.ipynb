{
 "cells": [
  {
   "cell_type": "markdown",
   "id": "b0a1375b-e948-4556-88c9-0cbfe4bd4dcf",
   "metadata": {},
   "source": [
    "# UniProtKB table -> `bionty.Protein().df`"
   ]
  },
  {
   "cell_type": "code",
   "execution_count": 1,
   "id": "0efd2442-12d8-4549-be8f-2001d7f5ee9c",
   "metadata": {},
   "outputs": [
    {
     "data": {
      "text/html": [
       "<table><tbody><tr><td style='text-align: left;'><b>author</b></td><td style='text-align: left;'>Sunny Sun (sunnyosun)</td></tr><tr><td style='text-align: left;'><b>id</b></td><td style='text-align: left;'>uV9o<span style='opacity:0.3'>7RZmv6rG</span></td></tr><tr><td style='text-align: left;'><b>version</b></td><td style='text-align: left;'>1</td></tr><tr><td style='text-align: left;'><b>time_init</b></td><td style='text-align: left;'>2022-09-26 21:17</td></tr><tr><td style='text-align: left;'><b>time_run</b></td><td style='text-align: left;'>2022-10-25 16:23</td></tr><tr><td style='text-align: left;'><b>consecutive_cells</b></td><td style='text-align: left;'>True</td></tr><tr><td style='text-align: left;'><b>pypackage</b></td><td style='text-align: left;'>lamindb==0.6.0 lnschema_bionty==0.4.3 pandas==1.5.0</td></tr></tbody></table>"
      ],
      "text/plain": [
       "<IPython.core.display.HTML object>"
      ]
     },
     "metadata": {},
     "output_type": "display_data"
    }
   ],
   "source": [
    "import pandas as pd\n",
    "import lamindb as ln\n",
    "from lnschema_bionty import id\n",
    "\n",
    "ln.nb.header()"
   ]
  },
  {
   "cell_type": "markdown",
   "id": "79c54e2e-dfb1-4a85-a0fa-1ac5502e5ff2",
   "metadata": {},
   "source": [
    "Files are downloaded from: https://www.uniprot.org/uniprotkb"
   ]
  },
  {
   "cell_type": "code",
   "execution_count": 2,
   "id": "f3e0e87a-a7ec-44a7-90e6-f266bdb5bd4d",
   "metadata": {},
   "outputs": [],
   "source": [
    "# Downloaded from 2022-09-26\n",
    "\n",
    "filepaths = {\n",
    "    \"human\": \"https://bionty-assets.s3.amazonaws.com/uniprot-human.tsv.gz\",\n",
    "    \"mouse\": \"https://bionty-assets.s3.amazonaws.com/uniprot-mouse.tsv.gz\",\n",
    "}"
   ]
  },
  {
   "cell_type": "markdown",
   "id": "afdc407a-f9fd-4f55-90c4-7f8ab401cb91",
   "metadata": {},
   "source": [
    "## Curate the tables"
   ]
  },
  {
   "cell_type": "code",
   "execution_count": 3,
   "id": "706b826d-d2f8-4bb8-84c5-b20f3db9ecdb",
   "metadata": {},
   "outputs": [
    {
     "name": "stdout",
     "output_type": "stream",
     "text": [
      "Loading human data...\n",
      "shape: (204961, 9)\n"
     ]
    },
    {
     "data": {
      "text/html": [
       "<div>\n",
       "<style scoped>\n",
       "    .dataframe tbody tr th:only-of-type {\n",
       "        vertical-align: middle;\n",
       "    }\n",
       "\n",
       "    .dataframe tbody tr th {\n",
       "        vertical-align: top;\n",
       "    }\n",
       "\n",
       "    .dataframe thead th {\n",
       "        text-align: right;\n",
       "    }\n",
       "</style>\n",
       "<table border=\"1\" class=\"dataframe\">\n",
       "  <thead>\n",
       "    <tr style=\"text-align: right;\">\n",
       "      <th></th>\n",
       "      <th>Entry</th>\n",
       "      <th>Entry Name</th>\n",
       "      <th>Protein names</th>\n",
       "      <th>Length</th>\n",
       "      <th>Organism (ID)</th>\n",
       "      <th>Gene Names (primary)</th>\n",
       "      <th>Gene Names (synonym)</th>\n",
       "      <th>Ensembl</th>\n",
       "      <th>GeneID</th>\n",
       "    </tr>\n",
       "    <tr>\n",
       "      <th>id</th>\n",
       "      <th></th>\n",
       "      <th></th>\n",
       "      <th></th>\n",
       "      <th></th>\n",
       "      <th></th>\n",
       "      <th></th>\n",
       "      <th></th>\n",
       "      <th></th>\n",
       "      <th></th>\n",
       "    </tr>\n",
       "  </thead>\n",
       "  <tbody>\n",
       "    <tr>\n",
       "      <th>1zrr8Wy</th>\n",
       "      <td>A0A024QZ08</td>\n",
       "      <td>A0A024QZ08_HUMAN</td>\n",
       "      <td>Intraflagellar transport 20 homolog (Chlamydom...</td>\n",
       "      <td>132</td>\n",
       "      <td>9606</td>\n",
       "      <td>IFT20</td>\n",
       "      <td>NaN</td>\n",
       "      <td>NaN</td>\n",
       "      <td>90410;</td>\n",
       "    </tr>\n",
       "    <tr>\n",
       "      <th>xNgxtFu</th>\n",
       "      <td>A0A024QZ86</td>\n",
       "      <td>A0A024QZ86_HUMAN</td>\n",
       "      <td>T-box 2, isoform CRA_a</td>\n",
       "      <td>712</td>\n",
       "      <td>9606</td>\n",
       "      <td>TBX2</td>\n",
       "      <td>NaN</td>\n",
       "      <td>NaN</td>\n",
       "      <td>6909;</td>\n",
       "    </tr>\n",
       "    <tr>\n",
       "      <th>X9K8OgK</th>\n",
       "      <td>A0A024QZA8</td>\n",
       "      <td>A0A024QZA8_HUMAN</td>\n",
       "      <td>Receptor protein-tyrosine kinase, EC 2.7.10.1</td>\n",
       "      <td>976</td>\n",
       "      <td>9606</td>\n",
       "      <td>EPHA2</td>\n",
       "      <td>NaN</td>\n",
       "      <td>NaN</td>\n",
       "      <td>1969;</td>\n",
       "    </tr>\n",
       "    <tr>\n",
       "      <th>8jW9Ci4</th>\n",
       "      <td>A0A024QZB8</td>\n",
       "      <td>A0A024QZB8_HUMAN</td>\n",
       "      <td>Battenin</td>\n",
       "      <td>438</td>\n",
       "      <td>9606</td>\n",
       "      <td>CLN3</td>\n",
       "      <td>NaN</td>\n",
       "      <td>NaN</td>\n",
       "      <td>1201;</td>\n",
       "    </tr>\n",
       "    <tr>\n",
       "      <th>nZNsA6F</th>\n",
       "      <td>A0A024QZQ1</td>\n",
       "      <td>A0A024QZQ1_HUMAN</td>\n",
       "      <td>Sirtuin (Silent mating type information regula...</td>\n",
       "      <td>747</td>\n",
       "      <td>9606</td>\n",
       "      <td>SIRT1</td>\n",
       "      <td>NaN</td>\n",
       "      <td>NaN</td>\n",
       "      <td>23411;</td>\n",
       "    </tr>\n",
       "  </tbody>\n",
       "</table>\n",
       "</div>"
      ],
      "text/plain": [
       "              Entry        Entry Name  \\\n",
       "id                                      \n",
       "1zrr8Wy  A0A024QZ08  A0A024QZ08_HUMAN   \n",
       "xNgxtFu  A0A024QZ86  A0A024QZ86_HUMAN   \n",
       "X9K8OgK  A0A024QZA8  A0A024QZA8_HUMAN   \n",
       "8jW9Ci4  A0A024QZB8  A0A024QZB8_HUMAN   \n",
       "nZNsA6F  A0A024QZQ1  A0A024QZQ1_HUMAN   \n",
       "\n",
       "                                             Protein names  Length  \\\n",
       "id                                                                   \n",
       "1zrr8Wy  Intraflagellar transport 20 homolog (Chlamydom...     132   \n",
       "xNgxtFu                             T-box 2, isoform CRA_a     712   \n",
       "X9K8OgK      Receptor protein-tyrosine kinase, EC 2.7.10.1     976   \n",
       "8jW9Ci4                                           Battenin     438   \n",
       "nZNsA6F  Sirtuin (Silent mating type information regula...     747   \n",
       "\n",
       "         Organism (ID) Gene Names (primary) Gene Names (synonym) Ensembl  \\\n",
       "id                                                                         \n",
       "1zrr8Wy           9606                IFT20                  NaN     NaN   \n",
       "xNgxtFu           9606                 TBX2                  NaN     NaN   \n",
       "X9K8OgK           9606                EPHA2                  NaN     NaN   \n",
       "8jW9Ci4           9606                 CLN3                  NaN     NaN   \n",
       "nZNsA6F           9606                SIRT1                  NaN     NaN   \n",
       "\n",
       "         GeneID  \n",
       "id               \n",
       "1zrr8Wy  90410;  \n",
       "xNgxtFu   6909;  \n",
       "X9K8OgK   1969;  \n",
       "8jW9Ci4   1201;  \n",
       "nZNsA6F  23411;  "
      ]
     },
     "metadata": {},
     "output_type": "display_data"
    },
    {
     "name": "stdout",
     "output_type": "stream",
     "text": [
      "Wrote uniprot-human.parquet.\n",
      "------------------------------------------------\n",
      "Loading mouse data...\n",
      "shape: (86436, 9)\n"
     ]
    },
    {
     "data": {
      "text/html": [
       "<div>\n",
       "<style scoped>\n",
       "    .dataframe tbody tr th:only-of-type {\n",
       "        vertical-align: middle;\n",
       "    }\n",
       "\n",
       "    .dataframe tbody tr th {\n",
       "        vertical-align: top;\n",
       "    }\n",
       "\n",
       "    .dataframe thead th {\n",
       "        text-align: right;\n",
       "    }\n",
       "</style>\n",
       "<table border=\"1\" class=\"dataframe\">\n",
       "  <thead>\n",
       "    <tr style=\"text-align: right;\">\n",
       "      <th></th>\n",
       "      <th>Entry</th>\n",
       "      <th>Entry Name</th>\n",
       "      <th>Protein names</th>\n",
       "      <th>Length</th>\n",
       "      <th>Organism (ID)</th>\n",
       "      <th>Gene Names (primary)</th>\n",
       "      <th>Gene Names (synonym)</th>\n",
       "      <th>Ensembl</th>\n",
       "      <th>GeneID</th>\n",
       "    </tr>\n",
       "    <tr>\n",
       "      <th>id</th>\n",
       "      <th></th>\n",
       "      <th></th>\n",
       "      <th></th>\n",
       "      <th></th>\n",
       "      <th></th>\n",
       "      <th></th>\n",
       "      <th></th>\n",
       "      <th></th>\n",
       "      <th></th>\n",
       "    </tr>\n",
       "  </thead>\n",
       "  <tbody>\n",
       "    <tr>\n",
       "      <th>oWysKQr</th>\n",
       "      <td>A0A075F5C6</td>\n",
       "      <td>A0A075F5C6_MOUSE</td>\n",
       "      <td>Heat shock factor protein 1 (Heat shock transc...</td>\n",
       "      <td>531</td>\n",
       "      <td>10090</td>\n",
       "      <td>Hsf1</td>\n",
       "      <td>NaN</td>\n",
       "      <td>ENSMUST00000228371.2;</td>\n",
       "      <td>15499;</td>\n",
       "    </tr>\n",
       "    <tr>\n",
       "      <th>IGupwHD</th>\n",
       "      <td>A0A087WPF7</td>\n",
       "      <td>AUTS2_MOUSE</td>\n",
       "      <td>Autism susceptibility gene 2 protein homolog</td>\n",
       "      <td>1261</td>\n",
       "      <td>10090</td>\n",
       "      <td>Auts2</td>\n",
       "      <td>Kiaa0442</td>\n",
       "      <td>ENSMUST00000161226 [A0A087WPF7-1];ENSMUST00000...</td>\n",
       "      <td>NaN</td>\n",
       "    </tr>\n",
       "    <tr>\n",
       "      <th>XrEF1mC</th>\n",
       "      <td>A0A087WPT2</td>\n",
       "      <td>A0A087WPT2_MOUSE</td>\n",
       "      <td>Prostaglandin G/H synthase 2</td>\n",
       "      <td>62</td>\n",
       "      <td>10090</td>\n",
       "      <td>Ptgs2</td>\n",
       "      <td>NaN</td>\n",
       "      <td>ENSMUST00000190784.2;</td>\n",
       "      <td>NaN</td>\n",
       "    </tr>\n",
       "    <tr>\n",
       "      <th>qACNsPf</th>\n",
       "      <td>A0A087WPU4</td>\n",
       "      <td>A0A087WPU4_MOUSE</td>\n",
       "      <td>FAT atypical cadherin 1</td>\n",
       "      <td>159</td>\n",
       "      <td>10090</td>\n",
       "      <td>Fat1</td>\n",
       "      <td>NaN</td>\n",
       "      <td>ENSMUST00000186342.3;</td>\n",
       "      <td>NaN</td>\n",
       "    </tr>\n",
       "    <tr>\n",
       "      <th>izgkQbe</th>\n",
       "      <td>A0A087WRK1</td>\n",
       "      <td>A0A087WRK1_MOUSE</td>\n",
       "      <td>Predicted gene, 20814 (Predicted gene, 20850) ...</td>\n",
       "      <td>222</td>\n",
       "      <td>10090</td>\n",
       "      <td>Gm20850</td>\n",
       "      <td>Gm20814 Gm20835 Gm20855 Gm20869 Gm20870 Gm2088...</td>\n",
       "      <td>ENSMUST00000185240.2;ENSMUST00000185245.2;ENSM...</td>\n",
       "      <td>100042201;100042279;100042594;100861691;108167...</td>\n",
       "    </tr>\n",
       "  </tbody>\n",
       "</table>\n",
       "</div>"
      ],
      "text/plain": [
       "              Entry        Entry Name  \\\n",
       "id                                      \n",
       "oWysKQr  A0A075F5C6  A0A075F5C6_MOUSE   \n",
       "IGupwHD  A0A087WPF7       AUTS2_MOUSE   \n",
       "XrEF1mC  A0A087WPT2  A0A087WPT2_MOUSE   \n",
       "qACNsPf  A0A087WPU4  A0A087WPU4_MOUSE   \n",
       "izgkQbe  A0A087WRK1  A0A087WRK1_MOUSE   \n",
       "\n",
       "                                             Protein names  Length  \\\n",
       "id                                                                   \n",
       "oWysKQr  Heat shock factor protein 1 (Heat shock transc...     531   \n",
       "IGupwHD       Autism susceptibility gene 2 protein homolog    1261   \n",
       "XrEF1mC                       Prostaglandin G/H synthase 2      62   \n",
       "qACNsPf                            FAT atypical cadherin 1     159   \n",
       "izgkQbe  Predicted gene, 20814 (Predicted gene, 20850) ...     222   \n",
       "\n",
       "         Organism (ID) Gene Names (primary)  \\\n",
       "id                                            \n",
       "oWysKQr          10090                 Hsf1   \n",
       "IGupwHD          10090                Auts2   \n",
       "XrEF1mC          10090                Ptgs2   \n",
       "qACNsPf          10090                 Fat1   \n",
       "izgkQbe          10090              Gm20850   \n",
       "\n",
       "                                      Gene Names (synonym)  \\\n",
       "id                                                           \n",
       "oWysKQr                                                NaN   \n",
       "IGupwHD                                           Kiaa0442   \n",
       "XrEF1mC                                                NaN   \n",
       "qACNsPf                                                NaN   \n",
       "izgkQbe  Gm20814 Gm20835 Gm20855 Gm20869 Gm20870 Gm2088...   \n",
       "\n",
       "                                                   Ensembl  \\\n",
       "id                                                           \n",
       "oWysKQr                              ENSMUST00000228371.2;   \n",
       "IGupwHD  ENSMUST00000161226 [A0A087WPF7-1];ENSMUST00000...   \n",
       "XrEF1mC                              ENSMUST00000190784.2;   \n",
       "qACNsPf                              ENSMUST00000186342.3;   \n",
       "izgkQbe  ENSMUST00000185240.2;ENSMUST00000185245.2;ENSM...   \n",
       "\n",
       "                                                    GeneID  \n",
       "id                                                          \n",
       "oWysKQr                                             15499;  \n",
       "IGupwHD                                                NaN  \n",
       "XrEF1mC                                                NaN  \n",
       "qACNsPf                                                NaN  \n",
       "izgkQbe  100042201;100042279;100042594;100861691;108167...  "
      ]
     },
     "metadata": {},
     "output_type": "display_data"
    },
    {
     "name": "stdout",
     "output_type": "stream",
     "text": [
      "Wrote uniprot-mouse.parquet.\n",
      "------------------------------------------------\n"
     ]
    }
   ],
   "source": [
    "allids = []\n",
    "\n",
    "for species, filepath in filepaths.items():\n",
    "    print(f\"Loading {species} data...\")\n",
    "\n",
    "    df = pd.read_csv(filepath, sep=\"\\t\")\n",
    "\n",
    "    # add ids to each entry\n",
    "    ids = []\n",
    "    for _i in df.index:\n",
    "        ids.append(id.protein())\n",
    "    df.index = ids\n",
    "    df.index.name = \"id\"\n",
    "\n",
    "    allids += ids\n",
    "\n",
    "    print(f\"shape: {df.shape}\")\n",
    "    display(df.head())\n",
    "\n",
    "    filename = f\"uniprot-{species}.parquet\"\n",
    "    df.to_parquet(filename)\n",
    "\n",
    "    print(f\"Wrote {filename}.\")\n",
    "    print(\"------------------------------------------------\")\n",
    "\n",
    "assert len(allids) == len(set(allids))"
   ]
  },
  {
   "cell_type": "markdown",
   "id": "b4c72f3f-1780-4fd5-8997-c8c91707916b",
   "metadata": {},
   "source": [
    "## Push to bionty-assets.lndb"
   ]
  },
  {
   "cell_type": "code",
   "execution_count": 4,
   "id": "2753b9d2-2b29-4f6c-92d0-d535490fa4ee",
   "metadata": {},
   "outputs": [
    {
     "name": "stdout",
     "output_type": "stream",
     "text": [
      "migrate-unnecessary\n"
     ]
    }
   ],
   "source": [
    "!lndb load bionty-assets"
   ]
  },
  {
   "cell_type": "code",
   "execution_count": 5,
   "id": "9061b743-0a22-4a2b-a9b5-19df5429be67",
   "metadata": {},
   "outputs": [],
   "source": [
    "!lndb login sunnyosun"
   ]
  },
  {
   "cell_type": "code",
   "execution_count": 6,
   "id": "f2c5ea1f-d168-4f01-b2aa-6a005ccc6bfd",
   "metadata": {},
   "outputs": [],
   "source": [
    "ingest = ln.db.Ingest()"
   ]
  },
  {
   "cell_type": "code",
   "execution_count": 7,
   "id": "65c33090-ed3d-4c8e-94d3-cb61a1c4cd43",
   "metadata": {},
   "outputs": [],
   "source": [
    "ingest.add(\"uniprot-human.parquet\")\n",
    "ingest.add(\"uniprot-mouse.parquet\");"
   ]
  },
  {
   "cell_type": "code",
   "execution_count": 8,
   "id": "f617d975-b2d8-4561-81c9-3610cbde7138",
   "metadata": {},
   "outputs": [
    {
     "name": "stdout",
     "output_type": "stream",
     "text": [
      "✅ Cell numbers increase consecutively: Awesome!\n"
     ]
    },
    {
     "name": "stderr",
     "output_type": "stream",
     "text": [
      "2022-10-25 18:22:19,238:INFO - Found credentials in shared credentials file: ~/.aws/credentials\n"
     ]
    },
    {
     "name": "stdout",
     "output_type": "stream",
     "text": [
      "Upload /Users/sunnysun/Documents/repos.nosync/bionty-assets/docs/ingest/uniprot-human.parquet: 1.00\n",
      "Upload /Users/sunnysun/Documents/repos.nosync/bionty-assets/docs/ingest/uniprot-mouse.parquet: 1.00\n",
      "ℹ️ Added notebook 'UniProtKB table -> `bionty.Protein().df`' (uV9o7RZmv6rG, 1) by user sunnyosun.\n",
      "✅ Ingested the following dobjects:\n",
      "+---+-----------------------------------------------+--------------------------------------------------------------+----------------------+\n",
      "|   | dobject                                       | jupynb                                                       | user                 |\n",
      "+---+-----------------------------------------------+--------------------------------------------------------------+----------------------+\n",
      "| 0 | uniprot-human.parquet (5WBmdkTO4JCFzPzBcDOJ3) | 'UniProtKB table -> `bionty.Protein().df`' (uV9o7RZmv6rG, 1) | sunnyosun (kmvZDIX9) |\n",
      "| 1 | uniprot-mouse.parquet (6vgntdGiAbz5bEYP53sma) | 'UniProtKB table -> `bionty.Protein().df`' (uV9o7RZmv6rG, 1) | sunnyosun (kmvZDIX9) |\n",
      "+---+-----------------------------------------------+--------------------------------------------------------------+----------------------+\n",
      "ℹ️ Set notebook version to \u001b[1m1\u001b[0m & wrote pypackages.\n"
     ]
    }
   ],
   "source": [
    "ingest.commit()"
   ]
  },
  {
   "cell_type": "markdown",
   "id": "8a0e0d72-f93e-4342-a6a4-7a5c1f73e0c7",
   "metadata": {},
   "source": [
    "Now on S3:\n",
    "- human: https://bionty-assets.s3.amazonaws.com/5WBmdkTO4JCFzPzBcDOJ3.parquet\n",
    "- mouse: https://bionty-assets.s3.amazonaws.com/6vgntdGiAbz5bEYP53sma.parquet"
   ]
  }
 ],
 "metadata": {
  "kernelspec": {
   "display_name": "Python 3 (ipykernel)",
   "language": "python",
   "name": "python3"
  },
  "language_info": {
   "codemirror_mode": {
    "name": "ipython",
    "version": 3
   },
   "file_extension": ".py",
   "mimetype": "text/x-python",
   "name": "python",
   "nbconvert_exporter": "python",
   "pygments_lexer": "ipython3",
   "version": "3.9.13"
  },
  "nbproject": {
   "id": "uV9o7RZmv6rG",
   "parent": null,
   "pypackage": {
    "lamindb": "0.6.0",
    "lnschema_bionty": "0.4.3",
    "pandas": "1.5.0"
   },
   "time_init": "2022-09-26T21:17:13.086426+00:00",
   "user_handle": "sunnyosun",
   "user_id": "kmvZDIX9",
   "user_name": "Sunny Sun",
   "version": "1"
  }
 },
 "nbformat": 4,
 "nbformat_minor": 5
}
