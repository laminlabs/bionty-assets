{
 "cells": [
  {
   "cell_type": "markdown",
   "metadata": {},
   "source": [
    "# Ensembl gene version statistics"
   ]
  },
  {
   "cell_type": "markdown",
   "metadata": {},
   "source": [
    "This notebook calculates several statistics for the total number of (unique) genes, added, and deleted genes per ensembl version."
   ]
  },
  {
   "cell_type": "code",
   "execution_count": 7,
   "metadata": {},
   "outputs": [],
   "source": [
    "import pandas as pd"
   ]
  },
  {
   "cell_type": "code",
   "execution_count": 8,
   "metadata": {},
   "outputs": [],
   "source": [
    "dfs = [\n",
    "    pd.read_parquet(f\"df_human__ensembl__release-{version}__Gene.parquet\")\n",
    "    for version in [110, 111, 112]\n",
    "]\n",
    "df_110, df_111, df_112 = dfs\n",
    "\n",
    "df_sets = [set(df[\"ensembl_gene_id\"]) for df in dfs]\n",
    "df_110_set, df_111_set, df_112_set = df_sets"
   ]
  },
  {
   "cell_type": "code",
   "execution_count": 9,
   "metadata": {},
   "outputs": [
    {
     "name": "stdout",
     "output_type": "stream",
     "text": [
      "Total number of (potentially non-unique) genes 75719 in ensembl 110\n",
      "Total number of (potentially non-unique) genes 76062 in ensembl 111\n",
      "Total number of (potentially non-unique) genes 75829 in ensembl 112\n"
     ]
    }
   ],
   "source": [
    "for release, df in zip([\"110\", \"111\", \"112\"], [df_110, df_111, df_112]):\n",
    "    print(\n",
    "        f\"Total number of (potentially non-unique) genes {len(df)} in ensembl {release}\"\n",
    "    )"
   ]
  },
  {
   "cell_type": "code",
   "execution_count": 10,
   "metadata": {},
   "outputs": [
    {
     "name": "stdout",
     "output_type": "stream",
     "text": [
      "Total number of unique genes 70116 in ensembl 110\n",
      "Total number of unique genes 70711 in ensembl 111\n",
      "Total number of unique genes 70611 in ensembl 112\n"
     ]
    }
   ],
   "source": [
    "for release, df_set in zip([\"110\", \"111\", \"112\"], [df_110_set, df_111_set, df_112_set]):\n",
    "    print(f\"Total number of unique genes {len(df_set)} in ensembl {release}\")"
   ]
  },
  {
   "cell_type": "code",
   "execution_count": 11,
   "metadata": {},
   "outputs": [
    {
     "name": "stdout",
     "output_type": "stream",
     "text": [
      "Removed genes: Unique for 110 when comparing 110 and 111: 50\n",
      "Removed genes: Unique for 111 when comparing 111 and 112: 127\n"
     ]
    }
   ],
   "source": [
    "print(\n",
    "    f\"Removed genes: Unique for 110 when comparing 110 and 111: {len(df_110_set - df_111_set)}\"\n",
    ")\n",
    "print(\n",
    "    f\"Removed genes: Unique for 111 when comparing 111 and 112: {len(df_111_set - df_112_set)}\"\n",
    ")"
   ]
  },
  {
   "cell_type": "code",
   "execution_count": 12,
   "metadata": {},
   "outputs": [
    {
     "name": "stdout",
     "output_type": "stream",
     "text": [
      "Added genes: Unique for 111 when comparing 111 and 110: 645\n",
      "Added genes: Unique for 112 when comparing 112 and 111: 27\n"
     ]
    }
   ],
   "source": [
    "print(\n",
    "    f\"Added genes: Unique for 111 when comparing 111 and 110: {len(df_111_set - df_110_set)}\"\n",
    ")\n",
    "print(\n",
    "    f\"Added genes: Unique for 112 when comparing 112 and 111: {len(df_112_set - df_111_set)}\"\n",
    ")"
   ]
  }
 ],
 "metadata": {
  "kernelspec": {
   "display_name": "bionty",
   "language": "python",
   "name": "python3"
  },
  "language_info": {
   "codemirror_mode": {
    "name": "ipython",
    "version": 3
   },
   "file_extension": ".py",
   "mimetype": "text/x-python",
   "name": "python",
   "nbconvert_exporter": "python",
   "pygments_lexer": "ipython3",
   "version": "3.10.10"
  }
 },
 "nbformat": 4,
 "nbformat_minor": 2
}
