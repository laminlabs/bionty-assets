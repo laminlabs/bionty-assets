{
 "cells": [
  {
   "cell_type": "markdown",
   "metadata": {},
   "source": [
    "# CellType statistics"
   ]
  },
  {
   "cell_type": "markdown",
   "metadata": {},
   "source": [
    "We want to learn how many cell types get added/removed between releases and what happens to deprecated terms."
   ]
  },
  {
   "cell_type": "code",
   "execution_count": 1,
   "metadata": {},
   "outputs": [
    {
     "name": "stdout",
     "output_type": "stream",
     "text": [
      "✅ wrote new records from public sources.yaml to /home/zeth/.lamin/bionty/versions/sources_local.yaml!\n",
      "\n",
      "if you see this message repeatedly, run: import bionty_base; bionty_base.reset_sources()\n"
     ]
    }
   ],
   "source": [
    "import bionty_base as bt"
   ]
  },
  {
   "cell_type": "code",
   "execution_count": 27,
   "metadata": {},
   "outputs": [
    {
     "data": {
      "text/html": [
       "<div>\n",
       "<style scoped>\n",
       "    .dataframe tbody tr th:only-of-type {\n",
       "        vertical-align: middle;\n",
       "    }\n",
       "\n",
       "    .dataframe tbody tr th {\n",
       "        vertical-align: top;\n",
       "    }\n",
       "\n",
       "    .dataframe thead th {\n",
       "        text-align: right;\n",
       "    }\n",
       "</style>\n",
       "<table border=\"1\" class=\"dataframe\">\n",
       "  <thead>\n",
       "    <tr style=\"text-align: right;\">\n",
       "      <th></th>\n",
       "      <th>source</th>\n",
       "      <th>organism</th>\n",
       "      <th>version</th>\n",
       "      <th>url</th>\n",
       "      <th>md5</th>\n",
       "      <th>source_name</th>\n",
       "      <th>source_website</th>\n",
       "    </tr>\n",
       "    <tr>\n",
       "      <th>entity</th>\n",
       "      <th></th>\n",
       "      <th></th>\n",
       "      <th></th>\n",
       "      <th></th>\n",
       "      <th></th>\n",
       "      <th></th>\n",
       "      <th></th>\n",
       "    </tr>\n",
       "  </thead>\n",
       "  <tbody>\n",
       "    <tr>\n",
       "      <th>CellType</th>\n",
       "      <td>cl</td>\n",
       "      <td>all</td>\n",
       "      <td>2024-02-13</td>\n",
       "      <td>http://purl.obolibrary.org/obo/cl/releases/202...</td>\n",
       "      <td></td>\n",
       "      <td>Cell Ontology</td>\n",
       "      <td>https://obophenotype.github.io/cell-ontology</td>\n",
       "    </tr>\n",
       "    <tr>\n",
       "      <th>CellType</th>\n",
       "      <td>cl</td>\n",
       "      <td>all</td>\n",
       "      <td>2023-08-24</td>\n",
       "      <td>http://purl.obolibrary.org/obo/cl/releases/202...</td>\n",
       "      <td>46e7dd89421f1255cf0191eca1548f73</td>\n",
       "      <td>Cell Ontology</td>\n",
       "      <td>https://obophenotype.github.io/cell-ontology</td>\n",
       "    </tr>\n",
       "    <tr>\n",
       "      <th>CellType</th>\n",
       "      <td>cl</td>\n",
       "      <td>all</td>\n",
       "      <td>2023-04-20</td>\n",
       "      <td>http://purl.obolibrary.org/obo/cl/releases/202...</td>\n",
       "      <td>58cdc1545f0d35e6fce76a65331b00fb</td>\n",
       "      <td>Cell Ontology</td>\n",
       "      <td>https://obophenotype.github.io/cell-ontology</td>\n",
       "    </tr>\n",
       "    <tr>\n",
       "      <th>CellType</th>\n",
       "      <td>cl</td>\n",
       "      <td>all</td>\n",
       "      <td>2023-02-15</td>\n",
       "      <td>http://purl.obolibrary.org/obo/cl/releases/202...</td>\n",
       "      <td>9331a6a029cb1863bd0584ab41508df7</td>\n",
       "      <td>Cell Ontology</td>\n",
       "      <td>https://obophenotype.github.io/cell-ontology</td>\n",
       "    </tr>\n",
       "    <tr>\n",
       "      <th>CellType</th>\n",
       "      <td>cl</td>\n",
       "      <td>all</td>\n",
       "      <td>2022-08-16</td>\n",
       "      <td>http://purl.obolibrary.org/obo/cl/releases/202...</td>\n",
       "      <td>d0655766574e63f3fe5ed56d3c030880</td>\n",
       "      <td>Cell Ontology</td>\n",
       "      <td>https://obophenotype.github.io/cell-ontology</td>\n",
       "    </tr>\n",
       "  </tbody>\n",
       "</table>\n",
       "</div>"
      ],
      "text/plain": [
       "         source organism     version   \n",
       "entity                                 \n",
       "CellType     cl      all  2024-02-13  \\\n",
       "CellType     cl      all  2023-08-24   \n",
       "CellType     cl      all  2023-04-20   \n",
       "CellType     cl      all  2023-02-15   \n",
       "CellType     cl      all  2022-08-16   \n",
       "\n",
       "                                                        url   \n",
       "entity                                                        \n",
       "CellType  http://purl.obolibrary.org/obo/cl/releases/202...  \\\n",
       "CellType  http://purl.obolibrary.org/obo/cl/releases/202...   \n",
       "CellType  http://purl.obolibrary.org/obo/cl/releases/202...   \n",
       "CellType  http://purl.obolibrary.org/obo/cl/releases/202...   \n",
       "CellType  http://purl.obolibrary.org/obo/cl/releases/202...   \n",
       "\n",
       "                                       md5    source_name   \n",
       "entity                                                      \n",
       "CellType                                    Cell Ontology  \\\n",
       "CellType  46e7dd89421f1255cf0191eca1548f73  Cell Ontology   \n",
       "CellType  58cdc1545f0d35e6fce76a65331b00fb  Cell Ontology   \n",
       "CellType  9331a6a029cb1863bd0584ab41508df7  Cell Ontology   \n",
       "CellType  d0655766574e63f3fe5ed56d3c030880  Cell Ontology   \n",
       "\n",
       "                                        source_website  \n",
       "entity                                                  \n",
       "CellType  https://obophenotype.github.io/cell-ontology  \n",
       "CellType  https://obophenotype.github.io/cell-ontology  \n",
       "CellType  https://obophenotype.github.io/cell-ontology  \n",
       "CellType  https://obophenotype.github.io/cell-ontology  \n",
       "CellType  https://obophenotype.github.io/cell-ontology  "
      ]
     },
     "execution_count": 27,
     "metadata": {},
     "output_type": "execute_result"
    }
   ],
   "source": [
    "bt.display_available_sources().loc[\"CellType\"]"
   ]
  },
  {
   "cell_type": "code",
   "execution_count": 23,
   "metadata": {},
   "outputs": [],
   "source": [
    "ct_2023_04_20 = bt.CellType(version=\"2023-04-20\")"
   ]
  },
  {
   "cell_type": "code",
   "execution_count": 8,
   "metadata": {},
   "outputs": [],
   "source": [
    "ct_2023_08_24 = bt.CellType(version=\"2023-08-24\")"
   ]
  },
  {
   "cell_type": "code",
   "execution_count": 9,
   "metadata": {},
   "outputs": [],
   "source": [
    "ct_2024_02_13 = bt.CellType(version=\"2024-02-13\")"
   ]
  },
  {
   "cell_type": "code",
   "execution_count": 24,
   "metadata": {},
   "outputs": [
    {
     "data": {
      "text/plain": [
       "32"
      ]
     },
     "execution_count": 24,
     "metadata": {},
     "output_type": "execute_result"
    }
   ],
   "source": [
    "len(set(ct_2023_08_24.df().index.values) - set(ct_2023_04_20.df().index.values))"
   ]
  },
  {
   "cell_type": "code",
   "execution_count": 21,
   "metadata": {},
   "outputs": [
    {
     "data": {
      "text/plain": [
       "24"
      ]
     },
     "execution_count": 21,
     "metadata": {},
     "output_type": "execute_result"
    }
   ],
   "source": [
    "len(set(ct_2024_02_13.df().index.values) - set(ct_2023_08_24.df().index.values))"
   ]
  },
  {
   "cell_type": "code",
   "execution_count": 32,
   "metadata": {},
   "outputs": [
    {
     "data": {
      "text/plain": [
       "name           barrier epithelial cell\n",
       "definition                        None\n",
       "synonyms                          None\n",
       "parents       [CL:0000066, CL:0002371]\n",
       "Name: CL:0000073, dtype: object"
      ]
     },
     "execution_count": 32,
     "metadata": {},
     "output_type": "execute_result"
    }
   ],
   "source": [
    "ct_2023_04_20.df().loc[\"CL:0000073\"]"
   ]
  },
  {
   "cell_type": "code",
   "execution_count": 31,
   "metadata": {},
   "outputs": [
    {
     "data": {
      "text/plain": [
       "name          obsolete barrier epithelial cell\n",
       "definition                                None\n",
       "synonyms                                  None\n",
       "parents                                    NaN\n",
       "Name: CL:0000073, dtype: object"
      ]
     },
     "execution_count": 31,
     "metadata": {},
     "output_type": "execute_result"
    }
   ],
   "source": [
    "ct_2024_02_13.df().loc[\"CL:0000073\"]"
   ]
  }
 ],
 "metadata": {
  "kernelspec": {
   "display_name": "bionty",
   "language": "python",
   "name": "python3"
  },
  "language_info": {
   "codemirror_mode": {
    "name": "ipython",
    "version": 3
   },
   "file_extension": ".py",
   "mimetype": "text/x-python",
   "name": "python",
   "nbconvert_exporter": "python",
   "pygments_lexer": "ipython3",
   "version": "3.10.10"
  }
 },
 "nbformat": 4,
 "nbformat_minor": 2
}
