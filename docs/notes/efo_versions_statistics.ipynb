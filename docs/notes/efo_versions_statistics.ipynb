{
 "cells": [
  {
   "cell_type": "markdown",
   "metadata": {},
   "source": [
    "# EFO statistics"
   ]
  },
  {
   "cell_type": "code",
   "execution_count": 1,
   "metadata": {},
   "outputs": [
    {
     "name": "stdout",
     "output_type": "stream",
     "text": [
      "✅ wrote new records from public sources.yaml to /home/zeth/.lamin/bionty/versions/sources_local.yaml!\n",
      "\n",
      "if you see this message repeatedly, run: import bionty_base; bionty_base.reset_sources()\n"
     ]
    }
   ],
   "source": [
    "import bionty_base as bt"
   ]
  },
  {
   "cell_type": "code",
   "execution_count": 2,
   "metadata": {},
   "outputs": [
    {
     "data": {
      "text/html": [
       "<div>\n",
       "<style scoped>\n",
       "    .dataframe tbody tr th:only-of-type {\n",
       "        vertical-align: middle;\n",
       "    }\n",
       "\n",
       "    .dataframe tbody tr th {\n",
       "        vertical-align: top;\n",
       "    }\n",
       "\n",
       "    .dataframe thead th {\n",
       "        text-align: right;\n",
       "    }\n",
       "</style>\n",
       "<table border=\"1\" class=\"dataframe\">\n",
       "  <thead>\n",
       "    <tr style=\"text-align: right;\">\n",
       "      <th></th>\n",
       "      <th>source</th>\n",
       "      <th>organism</th>\n",
       "      <th>version</th>\n",
       "      <th>url</th>\n",
       "      <th>md5</th>\n",
       "      <th>source_name</th>\n",
       "      <th>source_website</th>\n",
       "    </tr>\n",
       "    <tr>\n",
       "      <th>entity</th>\n",
       "      <th></th>\n",
       "      <th></th>\n",
       "      <th></th>\n",
       "      <th></th>\n",
       "      <th></th>\n",
       "      <th></th>\n",
       "      <th></th>\n",
       "    </tr>\n",
       "  </thead>\n",
       "  <tbody>\n",
       "    <tr>\n",
       "      <th>ExperimentalFactor</th>\n",
       "      <td>efo</td>\n",
       "      <td>all</td>\n",
       "      <td>3.63.0</td>\n",
       "      <td>http://www.ebi.ac.uk/efo/releases/v3.63.0/efo.owl</td>\n",
       "      <td>603e6f6981d53d501c5921aa3940b095</td>\n",
       "      <td>The Experimental Factor Ontology</td>\n",
       "      <td>https://bioportal.bioontology.org/ontologies/EFO</td>\n",
       "    </tr>\n",
       "    <tr>\n",
       "      <th>ExperimentalFactor</th>\n",
       "      <td>efo</td>\n",
       "      <td>all</td>\n",
       "      <td>3.57.0</td>\n",
       "      <td>http://www.ebi.ac.uk/efo/releases/v3.57.0/efo.owl</td>\n",
       "      <td>2ecafc69b3aba7bdb31ad99438505c05</td>\n",
       "      <td>The Experimental Factor Ontology</td>\n",
       "      <td>https://bioportal.bioontology.org/ontologies/EFO</td>\n",
       "    </tr>\n",
       "    <tr>\n",
       "      <th>ExperimentalFactor</th>\n",
       "      <td>efo</td>\n",
       "      <td>all</td>\n",
       "      <td>3.48.0</td>\n",
       "      <td>http://www.ebi.ac.uk/efo/releases/v3.48.0/efo.owl</td>\n",
       "      <td>3367e9a9ae3dee9113024e5108c49091</td>\n",
       "      <td>The Experimental Factor Ontology</td>\n",
       "      <td>https://bioportal.bioontology.org/ontologies/EFO</td>\n",
       "    </tr>\n",
       "  </tbody>\n",
       "</table>\n",
       "</div>"
      ],
      "text/plain": [
       "                   source organism version   \n",
       "entity                                       \n",
       "ExperimentalFactor    efo      all  3.63.0  \\\n",
       "ExperimentalFactor    efo      all  3.57.0   \n",
       "ExperimentalFactor    efo      all  3.48.0   \n",
       "\n",
       "                                                                  url   \n",
       "entity                                                                  \n",
       "ExperimentalFactor  http://www.ebi.ac.uk/efo/releases/v3.63.0/efo.owl  \\\n",
       "ExperimentalFactor  http://www.ebi.ac.uk/efo/releases/v3.57.0/efo.owl   \n",
       "ExperimentalFactor  http://www.ebi.ac.uk/efo/releases/v3.48.0/efo.owl   \n",
       "\n",
       "                                                 md5   \n",
       "entity                                                 \n",
       "ExperimentalFactor  603e6f6981d53d501c5921aa3940b095  \\\n",
       "ExperimentalFactor  2ecafc69b3aba7bdb31ad99438505c05   \n",
       "ExperimentalFactor  3367e9a9ae3dee9113024e5108c49091   \n",
       "\n",
       "                                         source_name   \n",
       "entity                                                 \n",
       "ExperimentalFactor  The Experimental Factor Ontology  \\\n",
       "ExperimentalFactor  The Experimental Factor Ontology   \n",
       "ExperimentalFactor  The Experimental Factor Ontology   \n",
       "\n",
       "                                                      source_website  \n",
       "entity                                                                \n",
       "ExperimentalFactor  https://bioportal.bioontology.org/ontologies/EFO  \n",
       "ExperimentalFactor  https://bioportal.bioontology.org/ontologies/EFO  \n",
       "ExperimentalFactor  https://bioportal.bioontology.org/ontologies/EFO  "
      ]
     },
     "execution_count": 2,
     "metadata": {},
     "output_type": "execute_result"
    }
   ],
   "source": [
    "bt.display_available_sources().loc[\"ExperimentalFactor\"]"
   ]
  },
  {
   "cell_type": "code",
   "execution_count": 4,
   "metadata": {},
   "outputs": [],
   "source": [
    "efo_3_57 = bt.ExperimentalFactor(version=\"3.57.0\")"
   ]
  },
  {
   "cell_type": "code",
   "execution_count": 3,
   "metadata": {},
   "outputs": [],
   "source": [
    "efo_3_63 = bt.ExperimentalFactor(version=\"3.63.0\")"
   ]
  },
  {
   "cell_type": "code",
   "execution_count": 7,
   "metadata": {},
   "outputs": [
    {
     "data": {
      "text/plain": [
       "0"
      ]
     },
     "execution_count": 7,
     "metadata": {},
     "output_type": "execute_result"
    }
   ],
   "source": [
    "len(set(efo_3_57.df().index.values) - set(efo_3_63.df().index.values))"
   ]
  },
  {
   "cell_type": "code",
   "execution_count": 8,
   "metadata": {},
   "outputs": [
    {
     "data": {
      "text/plain": [
       "529"
      ]
     },
     "execution_count": 8,
     "metadata": {},
     "output_type": "execute_result"
    }
   ],
   "source": [
    "len(set(efo_3_63.df().index.values) - set(efo_3_57.df().index.values))"
   ]
  }
 ],
 "metadata": {
  "kernelspec": {
   "display_name": "bionty",
   "language": "python",
   "name": "python3"
  },
  "language_info": {
   "codemirror_mode": {
    "name": "ipython",
    "version": 3
   },
   "file_extension": ".py",
   "mimetype": "text/x-python",
   "name": "python",
   "nbconvert_exporter": "python",
   "pygments_lexer": "ipython3",
   "version": "3.10.10"
  }
 },
 "nbformat": 4,
 "nbformat_minor": 2
}
