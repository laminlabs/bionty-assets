{
 "cells": [
  {
   "cell_type": "markdown",
   "id": "5aa48c26-d7f1-494b-aa41-bfa32a77381c",
   "metadata": {},
   "source": [
    "# Pydantic models for entities"
   ]
  },
  {
   "cell_type": "code",
   "execution_count": null,
   "id": "f6904ce1-3162-4b46-8ca4-2b3bd93eed9e",
   "metadata": {},
   "outputs": [],
   "source": [
    "from typing import Any, Dict, Optional\n",
    "\n",
    "from pydantic import BaseModel as PydanticBaseModel\n",
    "from pydantic import create_model as pydantic_create_model\n",
    "from pydantic.fields import ModelField\n",
    "\n",
    "\n",
    "class BaseModel(PydanticBaseModel):\n",
    "    @classmethod\n",
    "    def add_fields(cls, **field_definitions: Any):\n",
    "        \"\"\"Dynamically adding fields inplace.\n",
    "\n",
    "        From: https://github.com/samuelcolvin/pydantic/issues/1937\n",
    "        \"\"\"\n",
    "        new_fields: Dict[str, ModelField] = {}\n",
    "        new_annotations: Dict[str, Optional[type]] = {}\n",
    "\n",
    "        for f_name, f_def in field_definitions.items():\n",
    "            if isinstance(f_def, tuple):\n",
    "                try:\n",
    "                    f_annotation, f_value = f_def\n",
    "                except ValueError as e:\n",
    "                    raise Exception(\n",
    "                        \"field definitions should either be a tuple of (<type>,\"\n",
    "                        \" <default>) or just a default value, unfortunately this means\"\n",
    "                        \" tuples as default values are not allowed\"\n",
    "                    ) from e\n",
    "            else:\n",
    "                f_annotation, f_value = None, f_def\n",
    "\n",
    "            if f_annotation:\n",
    "                new_annotations[f_name] = f_annotation\n",
    "\n",
    "            new_fields[f_name] = ModelField.infer(\n",
    "                name=f_name,\n",
    "                value=f_value,\n",
    "                annotation=f_annotation,\n",
    "                class_validators=None,\n",
    "                config=cls.__config__,\n",
    "            )\n",
    "\n",
    "        cls.__fields__.update(new_fields)\n",
    "        cls.__annotations__.update(new_annotations)\n",
    "\n",
    "\n",
    "class Entity(BaseModel):\n",
    "    name: str  # this is the value of the standardized id\n",
    "    std_id: str  # which field contains the standardized ids\n",
    "\n",
    "\n",
    "def create_model(__model_name: str, *, __base__=BaseModel, **kwargs):\n",
    "    return pydantic_create_model(\n",
    "        __model_name=__model_name, __base__=BaseModel, **kwargs\n",
    "    )"
   ]
  }
 ],
 "metadata": {
  "kernelspec": {
   "display_name": "Python 3 (ipykernel)",
   "language": "python",
   "name": "python3"
  },
  "language_info": {
   "codemirror_mode": {
    "name": "ipython",
    "version": 3
   },
   "file_extension": ".py",
   "mimetype": "text/x-python",
   "name": "python",
   "nbconvert_exporter": "python",
   "pygments_lexer": "ipython3",
   "version": "3.9.12"
  }
 },
 "nbformat": 4,
 "nbformat_minor": 5
}
