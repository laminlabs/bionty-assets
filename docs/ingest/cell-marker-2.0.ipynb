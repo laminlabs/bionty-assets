{
 "cells": [
  {
   "attachments": {},
   "cell_type": "markdown",
   "metadata": {},
   "source": [
    "# `CellMarker`: cellmarker; 2.0\n",
    "\n",
    "The underlying curation process for `bionty.CellMarker.df()`"
   ]
  },
  {
   "cell_type": "code",
   "execution_count": null,
   "metadata": {},
   "outputs": [],
   "source": [
    "import pandas as pd"
   ]
  },
  {
   "cell_type": "code",
   "execution_count": null,
   "metadata": {},
   "outputs": [],
   "source": [
    "url = \"http://bio-bigdata.hrbmu.edu.cn/CellMarker/CellMarker_download_files/file/Cell_marker_All.xlsx\"\n",
    "df_cm = pd.read_excel(url, dtype=str)"
   ]
  },
  {
   "cell_type": "code",
   "execution_count": null,
   "metadata": {},
   "outputs": [],
   "source": [
    "import unicodedata\n",
    "\n",
    "greek_to_letter = {}\n",
    "greek_alphabet = \"ΑαΒβΓγΔδΕεΖζΗηΘθΙιΚκΛλΜμΝνΞξΟοΠπΡρΣσςΤτΥυΦφΧχΨψΩω\"\n",
    "for i in greek_alphabet:\n",
    "    if unicodedata.name(i).startswith(\"GREEK \"):\n",
    "        greek_to_letter[i] = unicodedata.name(i).split(\" \")[-1]\n",
    "\n",
    "\n",
    "def greek2letter(string: str):\n",
    "    \"\"\"α -> ALPHA.\"\"\"\n",
    "    for k, v in greek_to_letter.items():\n",
    "        string = string.replace(k, v)\n",
    "    return string\n",
    "\n",
    "\n",
    "def greek2latin(string: str):\n",
    "    \"\"\"α -> a.\"\"\"\n",
    "    greek_alphabet = \"ΑαΒβΓγΔδΕεΖζΗηΘθΙιΚκΛλΜμΝνΞξΟοΠπΡρΣσςΤτΥυΦφΧχΨψΩω\"\n",
    "    latin_alphabet = \"AaBbGgDdEeZzHhJjIiKkLlMmNnXxOoPpRrSssTtUuFfQqYyWw\"\n",
    "    greek2latin = str.maketrans(greek_alphabet, latin_alphabet)\n",
    "    return string.translate(greek2latin)\n",
    "\n",
    "\n",
    "letter_to_latin = {}\n",
    "for k, v in greek_to_letter.items():\n",
    "    letter_to_latin[v] = greek2latin(k)\n",
    "\n",
    "\n",
    "def letter2latin(string: str):\n",
    "    \"\"\"ALPHA -> a.\"\"\"\n",
    "    for k, v in letter_to_latin.items():\n",
    "        string = string.replace(k, v).replace(k.lower(), v).replace(k.capitalize(), v)\n",
    "    return string\n",
    "\n",
    "\n",
    "def remove_case_insensitive_dup(myList: list):\n",
    "    result = []\n",
    "\n",
    "    marker = set()\n",
    "\n",
    "    for l in myList:\n",
    "        ll = l.lower()\n",
    "        if ll not in marker:  # test presence\n",
    "            marker.add(ll)\n",
    "            result.append(l)  # preserve order\n",
    "    return result"
   ]
  },
  {
   "cell_type": "code",
   "execution_count": null,
   "metadata": {},
   "outputs": [],
   "source": [
    "def preprocess(df_cm: pd.DataFrame, species: str):\n",
    "    df_cm = df_cm[df_cm[\"species\"] == species.capitalize()].copy()\n",
    "    print(f\"Original shape: {df_cm.shape}\")\n",
    "    display(df_cm.head())\n",
    "\n",
    "    # Drop tissue, cell type, tech, journal, Genename\n",
    "    df = df_cm[[\"marker\", \"GeneID\", \"Symbol\", \"UNIPROTID\"]].copy()\n",
    "    # Remove duplications\n",
    "    df = df.drop_duplicates(subset=[\"marker\", \"GeneID\", \"UNIPROTID\"])\n",
    "    df = df.drop_duplicates(subset=[\"marker\"])\n",
    "    df.rename(\n",
    "        columns={\n",
    "            \"marker\": \"name\",\n",
    "            \"GeneID\": \"ncbi_gene_id\",\n",
    "            \"Symbol\": \"gene_symbol\",\n",
    "            \"UNIPROTID\": \"uniprotkb_id\",\n",
    "        },\n",
    "        inplace=True,\n",
    "    )\n",
    "    df = df[df[\"name\"].notnull()].copy()\n",
    "    print(f\"Unique shape: {df.shape}\")\n",
    "    display(df.head())\n",
    "\n",
    "    # Aggregate on a no-, space latin name\n",
    "    df.rename(columns={\"name\": \"orig_name\"}, inplace=True)\n",
    "    df[\"synonyms\"] = \"\"\n",
    "    df[\"agg\"] = \"\"\n",
    "    for _, row in df.iterrows():\n",
    "        n = row[\"orig_name\"]\n",
    "        # remove ' ' and ' ' of the name\n",
    "        syns = set([n, n.replace(\" \", \"\").replace(\"-\", \"\").replace(\"‐\", \"\")])\n",
    "        if \"-\" in n:\n",
    "            syns.update([n.replace(\"-\", \" \"), n.replace(\"-\", \"\")])\n",
    "        if \" \" in n:\n",
    "            syns.update([n.replace(\" \", \"-\"), n.replace(\" \", \"\")])\n",
    "\n",
    "        # convert greek symbols to latin and letters\n",
    "        greeks = (\n",
    "            set([greek2letter(i) for i in syns])\n",
    "            .union(set([greek2latin(i) for i in syns]))\n",
    "            .union(set([letter2latin(i) for i in syns]))\n",
    "        )\n",
    "\n",
    "        # if contains greek symbols, the name must be latin\n",
    "        if greek2latin(n) != n:\n",
    "            row[\"agg\"] = min(set([greek2latin(i) for i in syns]), key=len)\n",
    "        else:\n",
    "            # use the shortest syns as the name\n",
    "            row[\"agg\"] = min(syns.union(greeks), key=len)\n",
    "\n",
    "        row[\"agg\"] = row[\"agg\"].upper()\n",
    "        row[\"synonyms\"] = list(syns.union(greeks))\n",
    "\n",
    "    # aggregate all synonyms\n",
    "    df_group = df.groupby(\"agg\").agg(\n",
    "        {\n",
    "            \"ncbi_gene_id\": \"first\",\n",
    "            \"gene_symbol\": \"first\",\n",
    "            \"uniprotkb_id\": \"first\",\n",
    "            \"synonyms\": \"sum\",\n",
    "            \"orig_name\": list,\n",
    "        }\n",
    "    )\n",
    "\n",
    "    # remove the synonyms that are only case different from name\n",
    "    # use the shortest non-greek original name as the new name\n",
    "    df_group[\"name\"] = \"\"\n",
    "    for _, row in df_group.iterrows():\n",
    "        orig_names = set(row[\"orig_name\"])\n",
    "        shortest_orig_name = min(orig_names, key=len)\n",
    "        if greek2latin(shortest_orig_name) != shortest_orig_name:\n",
    "            shortest_orig_name = greek2latin(shortest_orig_name)\n",
    "        else:\n",
    "            orig_names.remove(shortest_orig_name)\n",
    "\n",
    "        syns = orig_names.union(row[\"synonyms\"])\n",
    "        syns = {i for i in syns if i.lower() != shortest_orig_name.lower()}\n",
    "\n",
    "        syns = remove_case_insensitive_dup(syns)\n",
    "\n",
    "        row[\"synonyms\"] = \"|\".join(syns)\n",
    "        row[\"name\"] = shortest_orig_name\n",
    "\n",
    "    df_group.reset_index(drop=True, inplace=True)\n",
    "    df_group = df_group[\n",
    "        [\"name\", \"synonyms\", \"gene_symbol\", \"ncbi_gene_id\", \"uniprotkb_id\"]\n",
    "    ]\n",
    "    df_group = df_group.sort_values(\"gene_symbol\")\n",
    "    df_group = df_group.set_index(\"name\")\n",
    "\n",
    "    print(f\"Final shape: {df_group.shape}\")\n",
    "    display(df_group.head())\n",
    "\n",
    "    return df_group"
   ]
  },
  {
   "attachments": {},
   "cell_type": "markdown",
   "metadata": {},
   "source": [
    "## Human"
   ]
  },
  {
   "cell_type": "code",
   "execution_count": null,
   "metadata": {},
   "outputs": [],
   "source": [
    "df_human = preprocess(df_cm, species=\"human\")"
   ]
  },
  {
   "cell_type": "code",
   "execution_count": null,
   "metadata": {},
   "outputs": [],
   "source": [
    "# confirm that no synonym is attached to multiple entries\n",
    "\n",
    "exp = pd.DataFrame(df_human[\"synonyms\"].str.split(\"|\"))\n",
    "exp = exp.explode(\"synonyms\")\n",
    "exp = exp[exp[\"synonyms\"].apply(len) > 0]\n",
    "exp[exp[\"synonyms\"].duplicated(keep=False)]"
   ]
  },
  {
   "cell_type": "code",
   "execution_count": null,
   "metadata": {},
   "outputs": [],
   "source": [
    "df_human.to_parquet(\"df_human__cellmarker__2.0__CellMarker.parquet\")"
   ]
  },
  {
   "attachments": {},
   "cell_type": "markdown",
   "metadata": {},
   "source": [
    "## Mouse"
   ]
  },
  {
   "cell_type": "code",
   "execution_count": null,
   "metadata": {},
   "outputs": [],
   "source": [
    "df_mouse = preprocess(df_cm, species=\"mouse\")"
   ]
  },
  {
   "cell_type": "code",
   "execution_count": null,
   "metadata": {},
   "outputs": [],
   "source": [
    "df_mouse.to_parquet(\"df_mouse__cellmarker__2.0__CellMarker.parquet\")"
   ]
  }
 ],
 "metadata": {
  "kernelspec": {
   "display_name": "py39",
   "language": "python",
   "name": "python3"
  },
  "language_info": {
   "codemirror_mode": {
    "name": "ipython",
    "version": 3
   },
   "file_extension": ".py",
   "mimetype": "text/x-python",
   "name": "python",
   "nbconvert_exporter": "python",
   "pygments_lexer": "ipython3",
   "version": "3.9.16"
  }
 },
 "nbformat": 4,
 "nbformat_minor": 2
}
