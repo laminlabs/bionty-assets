{
 "cells": [
  {
   "cell_type": "markdown",
   "metadata": {},
   "source": [
    "# `Organism`: ncbitaxon, 2025-03-13"
   ]
  },
  {
   "cell_type": "code",
   "execution_count": 1,
   "metadata": {},
   "outputs": [],
   "source": [
    "import bionty as bt\n",
    "from bionty.base._ontology import Ontology"
   ]
  },
  {
   "cell_type": "code",
   "execution_count": 6,
   "metadata": {},
   "outputs": [],
   "source": [
    "onto = bt.base._ontology.Ontology(\n",
    "    \"/home/lukas/code/bionty/bionty/base/_dynamic/ontology_all__ncbitaxon__2025-03-13__Organism\"\n",
    ")"
   ]
  },
  {
   "cell_type": "code",
   "execution_count": 7,
   "metadata": {},
   "outputs": [
    {
     "data": {
      "text/plain": [
       "Ontology('/home/lukas/code/bionty/bionty/base/_dynamic/ontology_all__ncbitaxon__2025-03-13__Organism', timeout=100)"
      ]
     },
     "execution_count": 7,
     "metadata": {},
     "output_type": "execute_result"
    }
   ],
   "source": [
    "onto"
   ]
  },
  {
   "cell_type": "code",
   "execution_count": 8,
   "metadata": {},
   "outputs": [
    {
     "data": {
      "text/plain": [
       "Term('NCBITaxon:9606', name='Homo sapiens')"
      ]
     },
     "execution_count": 8,
     "metadata": {},
     "output_type": "execute_result"
    }
   ],
   "source": [
    "term = onto[\"NCBITaxon:9606\"]\n",
    "term"
   ]
  },
  {
   "cell_type": "code",
   "execution_count": 9,
   "metadata": {},
   "outputs": [
    {
     "data": {
      "text/plain": [
       "['human']"
      ]
     },
     "execution_count": 9,
     "metadata": {},
     "output_type": "execute_result"
    }
   ],
   "source": [
    "[i.description for i in term.synonyms if i.scope == \"EXACT\"]"
   ]
  },
  {
   "cell_type": "code",
   "execution_count": 10,
   "metadata": {},
   "outputs": [],
   "source": [
    "df_values = []\n",
    "for term in onto.terms():\n",
    "    # # term definition text\n",
    "    definition = None if term.definition is None else term.definition.title()\n",
    "\n",
    "    # get synonyms as a list\n",
    "    synonyms_list = [i.description for i in term.synonyms if i.scope == \"EXACT\"]\n",
    "    # concatenate synonyms into a string\n",
    "    if len(synonyms_list) > 0:\n",
    "        common_name = synonyms_list[0]\n",
    "        synonyms_list = synonyms_list[1:]\n",
    "    else:\n",
    "        common_name = term.name\n",
    "    synonyms = \"|\".join(synonyms_list)\n",
    "    if len(synonyms) == 0:\n",
    "        synonyms = None  # type:ignore\n",
    "\n",
    "    # get 1st degree parents as a list\n",
    "    superclasses = [\n",
    "        s.id\n",
    "        for s in term.superclasses(distance=1, with_self=False).to_set()\n",
    "        if s.id.startswith(\"NCBITaxon\")\n",
    "    ]\n",
    "\n",
    "    df_values.append(\n",
    "        (term.id, common_name, term.name, definition, synonyms, superclasses)\n",
    "    )"
   ]
  },
  {
   "cell_type": "code",
   "execution_count": 11,
   "metadata": {},
   "outputs": [
    {
     "data": {
      "text/plain": [
       "2650584"
      ]
     },
     "execution_count": 11,
     "metadata": {},
     "output_type": "execute_result"
    }
   ],
   "source": [
    "len(df_values)"
   ]
  },
  {
   "cell_type": "code",
   "execution_count": 12,
   "metadata": {},
   "outputs": [],
   "source": [
    "import pandas as pd\n",
    "\n",
    "df = pd.DataFrame(\n",
    "    df_values,\n",
    "    columns=[\n",
    "        \"ontology_id\",\n",
    "        \"name\",\n",
    "        \"scientific_name\",\n",
    "        \"definition\",\n",
    "        \"synonyms\",\n",
    "        \"parents\",\n",
    "    ],\n",
    ").set_index(\"ontology_id\")"
   ]
  },
  {
   "cell_type": "code",
   "execution_count": 13,
   "metadata": {},
   "outputs": [
    {
     "data": {
      "text/html": [
       "<div>\n",
       "<style scoped>\n",
       "    .dataframe tbody tr th:only-of-type {\n",
       "        vertical-align: middle;\n",
       "    }\n",
       "\n",
       "    .dataframe tbody tr th {\n",
       "        vertical-align: top;\n",
       "    }\n",
       "\n",
       "    .dataframe thead th {\n",
       "        text-align: right;\n",
       "    }\n",
       "</style>\n",
       "<table border=\"1\" class=\"dataframe\">\n",
       "  <thead>\n",
       "    <tr style=\"text-align: right;\">\n",
       "      <th></th>\n",
       "      <th>name</th>\n",
       "      <th>scientific_name</th>\n",
       "      <th>definition</th>\n",
       "      <th>synonyms</th>\n",
       "      <th>parents</th>\n",
       "    </tr>\n",
       "    <tr>\n",
       "      <th>ontology_id</th>\n",
       "      <th></th>\n",
       "      <th></th>\n",
       "      <th></th>\n",
       "      <th></th>\n",
       "      <th></th>\n",
       "    </tr>\n",
       "  </thead>\n",
       "  <tbody>\n",
       "    <tr>\n",
       "      <th>NCBITaxon:1</th>\n",
       "      <td>root</td>\n",
       "      <td>root</td>\n",
       "      <td>None</td>\n",
       "      <td>None</td>\n",
       "      <td>[]</td>\n",
       "    </tr>\n",
       "    <tr>\n",
       "      <th>NCBITaxon:10</th>\n",
       "      <td>Cellvibrio</td>\n",
       "      <td>Cellvibrio</td>\n",
       "      <td>None</td>\n",
       "      <td>None</td>\n",
       "      <td>[NCBITaxon:1706371]</td>\n",
       "    </tr>\n",
       "    <tr>\n",
       "      <th>NCBITaxon:100</th>\n",
       "      <td>Ancylobacter aquaticus</td>\n",
       "      <td>Ancylobacter aquaticus</td>\n",
       "      <td>None</td>\n",
       "      <td>None</td>\n",
       "      <td>[NCBITaxon:99]</td>\n",
       "    </tr>\n",
       "    <tr>\n",
       "      <th>NCBITaxon:100000</th>\n",
       "      <td>Herbaspirillum sp. BA12</td>\n",
       "      <td>Herbaspirillum sp. BA12</td>\n",
       "      <td>None</td>\n",
       "      <td>None</td>\n",
       "      <td>[NCBITaxon:2624150]</td>\n",
       "    </tr>\n",
       "    <tr>\n",
       "      <th>NCBITaxon:1000000</th>\n",
       "      <td>Microbacterium sp. 6.11-VPa</td>\n",
       "      <td>Microbacterium sp. 6.11-VPa</td>\n",
       "      <td>None</td>\n",
       "      <td>None</td>\n",
       "      <td>[NCBITaxon:2609290]</td>\n",
       "    </tr>\n",
       "    <tr>\n",
       "      <th>...</th>\n",
       "      <td>...</td>\n",
       "      <td>...</td>\n",
       "      <td>...</td>\n",
       "      <td>...</td>\n",
       "      <td>...</td>\n",
       "    </tr>\n",
       "    <tr>\n",
       "      <th>NCBITaxon:tribe</th>\n",
       "      <td>tribe</td>\n",
       "      <td>tribe</td>\n",
       "      <td>None</td>\n",
       "      <td>None</td>\n",
       "      <td>[]</td>\n",
       "    </tr>\n",
       "    <tr>\n",
       "      <th>NCBITaxon:varietas</th>\n",
       "      <td>varietas</td>\n",
       "      <td>varietas</td>\n",
       "      <td>None</td>\n",
       "      <td>None</td>\n",
       "      <td>[]</td>\n",
       "    </tr>\n",
       "    <tr>\n",
       "      <th>http://purl.obolibrary.org/obo/NCBITaxon#_species_group</th>\n",
       "      <td>species group</td>\n",
       "      <td>species group</td>\n",
       "      <td>None</td>\n",
       "      <td>None</td>\n",
       "      <td>[]</td>\n",
       "    </tr>\n",
       "    <tr>\n",
       "      <th>http://purl.obolibrary.org/obo/NCBITaxon#_species_subgroup</th>\n",
       "      <td>species subgroup</td>\n",
       "      <td>species subgroup</td>\n",
       "      <td>None</td>\n",
       "      <td>None</td>\n",
       "      <td>[]</td>\n",
       "    </tr>\n",
       "    <tr>\n",
       "      <th>http://purl.obolibrary.org/obo/NCBITaxon#_taxonomic_rank</th>\n",
       "      <td>taxonomic rank</td>\n",
       "      <td>taxonomic rank</td>\n",
       "      <td>None</td>\n",
       "      <td>None</td>\n",
       "      <td>[]</td>\n",
       "    </tr>\n",
       "  </tbody>\n",
       "</table>\n",
       "<p>2650584 rows × 5 columns</p>\n",
       "</div>"
      ],
      "text/plain": [
       "                                                                           name  \\\n",
       "ontology_id                                                                       \n",
       "NCBITaxon:1                                                                root   \n",
       "NCBITaxon:10                                                         Cellvibrio   \n",
       "NCBITaxon:100                                            Ancylobacter aquaticus   \n",
       "NCBITaxon:100000                                        Herbaspirillum sp. BA12   \n",
       "NCBITaxon:1000000                                   Microbacterium sp. 6.11-VPa   \n",
       "...                                                                         ...   \n",
       "NCBITaxon:tribe                                                           tribe   \n",
       "NCBITaxon:varietas                                                     varietas   \n",
       "http://purl.obolibrary.org/obo/NCBITaxon#_speci...                species group   \n",
       "http://purl.obolibrary.org/obo/NCBITaxon#_speci...             species subgroup   \n",
       "http://purl.obolibrary.org/obo/NCBITaxon#_taxon...               taxonomic rank   \n",
       "\n",
       "                                                                scientific_name  \\\n",
       "ontology_id                                                                       \n",
       "NCBITaxon:1                                                                root   \n",
       "NCBITaxon:10                                                         Cellvibrio   \n",
       "NCBITaxon:100                                            Ancylobacter aquaticus   \n",
       "NCBITaxon:100000                                        Herbaspirillum sp. BA12   \n",
       "NCBITaxon:1000000                                   Microbacterium sp. 6.11-VPa   \n",
       "...                                                                         ...   \n",
       "NCBITaxon:tribe                                                           tribe   \n",
       "NCBITaxon:varietas                                                     varietas   \n",
       "http://purl.obolibrary.org/obo/NCBITaxon#_speci...                species group   \n",
       "http://purl.obolibrary.org/obo/NCBITaxon#_speci...             species subgroup   \n",
       "http://purl.obolibrary.org/obo/NCBITaxon#_taxon...               taxonomic rank   \n",
       "\n",
       "                                                   definition synonyms  \\\n",
       "ontology_id                                                              \n",
       "NCBITaxon:1                                              None     None   \n",
       "NCBITaxon:10                                             None     None   \n",
       "NCBITaxon:100                                            None     None   \n",
       "NCBITaxon:100000                                         None     None   \n",
       "NCBITaxon:1000000                                        None     None   \n",
       "...                                                       ...      ...   \n",
       "NCBITaxon:tribe                                          None     None   \n",
       "NCBITaxon:varietas                                       None     None   \n",
       "http://purl.obolibrary.org/obo/NCBITaxon#_speci...       None     None   \n",
       "http://purl.obolibrary.org/obo/NCBITaxon#_speci...       None     None   \n",
       "http://purl.obolibrary.org/obo/NCBITaxon#_taxon...       None     None   \n",
       "\n",
       "                                                                parents  \n",
       "ontology_id                                                              \n",
       "NCBITaxon:1                                                          []  \n",
       "NCBITaxon:10                                        [NCBITaxon:1706371]  \n",
       "NCBITaxon:100                                            [NCBITaxon:99]  \n",
       "NCBITaxon:100000                                    [NCBITaxon:2624150]  \n",
       "NCBITaxon:1000000                                   [NCBITaxon:2609290]  \n",
       "...                                                                 ...  \n",
       "NCBITaxon:tribe                                                      []  \n",
       "NCBITaxon:varietas                                                   []  \n",
       "http://purl.obolibrary.org/obo/NCBITaxon#_speci...                   []  \n",
       "http://purl.obolibrary.org/obo/NCBITaxon#_speci...                   []  \n",
       "http://purl.obolibrary.org/obo/NCBITaxon#_taxon...                   []  \n",
       "\n",
       "[2650584 rows x 5 columns]"
      ]
     },
     "execution_count": 13,
     "metadata": {},
     "output_type": "execute_result"
    }
   ],
   "source": [
    "df"
   ]
  },
  {
   "cell_type": "code",
   "execution_count": 14,
   "metadata": {},
   "outputs": [],
   "source": [
    "df.name = df.name.str.lower()"
   ]
  },
  {
   "cell_type": "code",
   "execution_count": 15,
   "metadata": {},
   "outputs": [
    {
     "data": {
      "text/plain": [
       "name                          human\n",
       "scientific_name        Homo sapiens\n",
       "definition                     None\n",
       "synonyms                       None\n",
       "parents            [NCBITaxon:9605]\n",
       "Name: NCBITaxon:9606, dtype: object"
      ]
     },
     "execution_count": 15,
     "metadata": {},
     "output_type": "execute_result"
    }
   ],
   "source": [
    "df.loc[\"NCBITaxon:9606\"]"
   ]
  },
  {
   "cell_type": "code",
   "execution_count": 16,
   "metadata": {},
   "outputs": [],
   "source": [
    "df.to_parquet(\n",
    "    \"/home/lukas/code/bionty/bionty/base/_dynamic/df_all__ncbitaxon__2025-03-13__Organism.parquet\"\n",
    ")"
   ]
  }
 ],
 "metadata": {
  "kernelspec": {
   "display_name": "lamindb",
   "language": "python",
   "name": "python3"
  },
  "language_info": {
   "codemirror_mode": {
    "name": "ipython",
    "version": 3
   },
   "file_extension": ".py",
   "mimetype": "text/x-python",
   "name": "python",
   "nbconvert_exporter": "python",
   "pygments_lexer": "ipython3",
   "version": "3.12.8"
  }
 },
 "nbformat": 4,
 "nbformat_minor": 2
}
