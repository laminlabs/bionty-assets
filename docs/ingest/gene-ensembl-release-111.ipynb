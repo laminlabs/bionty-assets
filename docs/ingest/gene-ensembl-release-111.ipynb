{
 "cells": [
  {
   "attachments": {},
   "cell_type": "markdown",
   "metadata": {},
   "source": [
    "# `Gene`: ensembl, release-110"
   ]
  },
  {
   "attachments": {},
   "cell_type": "markdown",
   "metadata": {},
   "source": [
    "- https://www.ensembl.org/info/data/mysql.html\n",
    "- https://www.ensembl.org/info/docs/api/core/core_schema.html"
   ]
  },
  {
   "attachments": {},
   "cell_type": "markdown",
   "metadata": {},
   "source": [
    "Install mysqlclient: https://pypi.org/project/mysqlclient/"
   ]
  },
  {
   "cell_type": "code",
   "execution_count": 26,
   "metadata": {},
   "outputs": [],
   "source": [
    "from bionty_base.entities._gene import EnsemblGene\n",
    "\n",
    "version = \"release-111\""
   ]
  },
  {
   "attachments": {},
   "cell_type": "markdown",
   "metadata": {},
   "source": [
    "## Human"
   ]
  },
  {
   "cell_type": "code",
   "execution_count": 27,
   "metadata": {},
   "outputs": [],
   "source": [
    "ensembl_gene = EnsemblGene(organism=\"human\", version=version)"
   ]
  },
  {
   "cell_type": "code",
   "execution_count": 28,
   "metadata": {},
   "outputs": [
    {
     "name": "stdout",
     "output_type": "stream",
     "text": [
      "💡 fetching records from the core DB...\n",
      "💡 fetching records from the external DBs...\n",
      "❗ duplicated #rows ensembl_gene_id with ncbi_gene_id: 6031\n",
      "✅ downloaded Gene table containing 76062 entries.\n"
     ]
    }
   ],
   "source": [
    "df = ensembl_gene.download_df()"
   ]
  },
  {
   "cell_type": "code",
   "execution_count": 29,
   "metadata": {},
   "outputs": [
    {
     "data": {
      "text/html": [
       "<div>\n",
       "<style scoped>\n",
       "    .dataframe tbody tr th:only-of-type {\n",
       "        vertical-align: middle;\n",
       "    }\n",
       "\n",
       "    .dataframe tbody tr th {\n",
       "        vertical-align: top;\n",
       "    }\n",
       "\n",
       "    .dataframe thead th {\n",
       "        text-align: right;\n",
       "    }\n",
       "</style>\n",
       "<table border=\"1\" class=\"dataframe\">\n",
       "  <thead>\n",
       "    <tr style=\"text-align: right;\">\n",
       "      <th></th>\n",
       "      <th>ensembl_gene_id</th>\n",
       "      <th>symbol</th>\n",
       "      <th>ncbi_gene_id</th>\n",
       "      <th>biotype</th>\n",
       "      <th>description</th>\n",
       "      <th>synonyms</th>\n",
       "    </tr>\n",
       "  </thead>\n",
       "  <tbody>\n",
       "    <tr>\n",
       "      <th>0</th>\n",
       "      <td>ENSG00000000003</td>\n",
       "      <td>TSPAN6</td>\n",
       "      <td>7105</td>\n",
       "      <td>protein_coding</td>\n",
       "      <td>tetraspanin 6 [Source:HGNC Symbol;Acc:HGNC:11858]</td>\n",
       "      <td>TM4SF6|TSPAN-6|T245</td>\n",
       "    </tr>\n",
       "    <tr>\n",
       "      <th>1</th>\n",
       "      <td>ENSG00000000005</td>\n",
       "      <td>TNMD</td>\n",
       "      <td>64102</td>\n",
       "      <td>protein_coding</td>\n",
       "      <td>tenomodulin [Source:HGNC Symbol;Acc:HGNC:17757]</td>\n",
       "      <td>MYODULIN|BRICD4|TEM|CHM1L|TENDIN</td>\n",
       "    </tr>\n",
       "    <tr>\n",
       "      <th>2</th>\n",
       "      <td>ENSG00000000419</td>\n",
       "      <td>DPM1</td>\n",
       "      <td>8813</td>\n",
       "      <td>protein_coding</td>\n",
       "      <td>dolichyl-phosphate mannosyltransferase subunit...</td>\n",
       "      <td>CDGIE|MPDS</td>\n",
       "    </tr>\n",
       "    <tr>\n",
       "      <th>3</th>\n",
       "      <td>ENSG00000000457</td>\n",
       "      <td>SCYL3</td>\n",
       "      <td>57147</td>\n",
       "      <td>protein_coding</td>\n",
       "      <td>SCY1 like pseudokinase 3 [Source:HGNC Symbol;A...</td>\n",
       "      <td>PACE-1|PACE1</td>\n",
       "    </tr>\n",
       "    <tr>\n",
       "      <th>4</th>\n",
       "      <td>ENSG00000000460</td>\n",
       "      <td>FIRRM</td>\n",
       "      <td>55732</td>\n",
       "      <td>protein_coding</td>\n",
       "      <td>FIGNL1 interacting regulator of recombination ...</td>\n",
       "      <td>FLIP|C1ORF112|FLJ10706|APOLO1|MEICA1</td>\n",
       "    </tr>\n",
       "  </tbody>\n",
       "</table>\n",
       "</div>"
      ],
      "text/plain": [
       "   ensembl_gene_id  symbol ncbi_gene_id         biotype   \n",
       "0  ENSG00000000003  TSPAN6         7105  protein_coding  \\\n",
       "1  ENSG00000000005    TNMD        64102  protein_coding   \n",
       "2  ENSG00000000419    DPM1         8813  protein_coding   \n",
       "3  ENSG00000000457   SCYL3        57147  protein_coding   \n",
       "4  ENSG00000000460   FIRRM        55732  protein_coding   \n",
       "\n",
       "                                         description   \n",
       "0  tetraspanin 6 [Source:HGNC Symbol;Acc:HGNC:11858]  \\\n",
       "1    tenomodulin [Source:HGNC Symbol;Acc:HGNC:17757]   \n",
       "2  dolichyl-phosphate mannosyltransferase subunit...   \n",
       "3  SCY1 like pseudokinase 3 [Source:HGNC Symbol;A...   \n",
       "4  FIGNL1 interacting regulator of recombination ...   \n",
       "\n",
       "                               synonyms  \n",
       "0                   TM4SF6|TSPAN-6|T245  \n",
       "1      MYODULIN|BRICD4|TEM|CHM1L|TENDIN  \n",
       "2                            CDGIE|MPDS  \n",
       "3                          PACE-1|PACE1  \n",
       "4  FLIP|C1ORF112|FLJ10706|APOLO1|MEICA1  "
      ]
     },
     "execution_count": 29,
     "metadata": {},
     "output_type": "execute_result"
    }
   ],
   "source": [
    "df.head()"
   ]
  },
  {
   "cell_type": "code",
   "execution_count": 30,
   "metadata": {},
   "outputs": [],
   "source": [
    "# https://github.com/laminlabs/bionty/issues/533\n",
    "df[\"description\"] = df[\"description\"].str.replace(r\"\\[.*?\\]\", \"\", regex=True)"
   ]
  },
  {
   "cell_type": "code",
   "execution_count": 31,
   "metadata": {},
   "outputs": [
    {
     "data": {
      "text/html": [
       "<div>\n",
       "<style scoped>\n",
       "    .dataframe tbody tr th:only-of-type {\n",
       "        vertical-align: middle;\n",
       "    }\n",
       "\n",
       "    .dataframe tbody tr th {\n",
       "        vertical-align: top;\n",
       "    }\n",
       "\n",
       "    .dataframe thead th {\n",
       "        text-align: right;\n",
       "    }\n",
       "</style>\n",
       "<table border=\"1\" class=\"dataframe\">\n",
       "  <thead>\n",
       "    <tr style=\"text-align: right;\">\n",
       "      <th></th>\n",
       "      <th>ensembl_gene_id</th>\n",
       "      <th>symbol</th>\n",
       "      <th>ncbi_gene_id</th>\n",
       "      <th>biotype</th>\n",
       "      <th>description</th>\n",
       "      <th>synonyms</th>\n",
       "    </tr>\n",
       "  </thead>\n",
       "  <tbody>\n",
       "    <tr>\n",
       "      <th>0</th>\n",
       "      <td>ENSG00000000003</td>\n",
       "      <td>TSPAN6</td>\n",
       "      <td>7105</td>\n",
       "      <td>protein_coding</td>\n",
       "      <td>tetraspanin 6</td>\n",
       "      <td>TM4SF6|TSPAN-6|T245</td>\n",
       "    </tr>\n",
       "    <tr>\n",
       "      <th>1</th>\n",
       "      <td>ENSG00000000005</td>\n",
       "      <td>TNMD</td>\n",
       "      <td>64102</td>\n",
       "      <td>protein_coding</td>\n",
       "      <td>tenomodulin</td>\n",
       "      <td>MYODULIN|BRICD4|TEM|CHM1L|TENDIN</td>\n",
       "    </tr>\n",
       "    <tr>\n",
       "      <th>2</th>\n",
       "      <td>ENSG00000000419</td>\n",
       "      <td>DPM1</td>\n",
       "      <td>8813</td>\n",
       "      <td>protein_coding</td>\n",
       "      <td>dolichyl-phosphate mannosyltransferase subunit...</td>\n",
       "      <td>CDGIE|MPDS</td>\n",
       "    </tr>\n",
       "    <tr>\n",
       "      <th>3</th>\n",
       "      <td>ENSG00000000457</td>\n",
       "      <td>SCYL3</td>\n",
       "      <td>57147</td>\n",
       "      <td>protein_coding</td>\n",
       "      <td>SCY1 like pseudokinase 3</td>\n",
       "      <td>PACE-1|PACE1</td>\n",
       "    </tr>\n",
       "    <tr>\n",
       "      <th>4</th>\n",
       "      <td>ENSG00000000460</td>\n",
       "      <td>FIRRM</td>\n",
       "      <td>55732</td>\n",
       "      <td>protein_coding</td>\n",
       "      <td>FIGNL1 interacting regulator of recombination ...</td>\n",
       "      <td>FLIP|C1ORF112|FLJ10706|APOLO1|MEICA1</td>\n",
       "    </tr>\n",
       "  </tbody>\n",
       "</table>\n",
       "</div>"
      ],
      "text/plain": [
       "   ensembl_gene_id  symbol ncbi_gene_id         biotype   \n",
       "0  ENSG00000000003  TSPAN6         7105  protein_coding  \\\n",
       "1  ENSG00000000005    TNMD        64102  protein_coding   \n",
       "2  ENSG00000000419    DPM1         8813  protein_coding   \n",
       "3  ENSG00000000457   SCYL3        57147  protein_coding   \n",
       "4  ENSG00000000460   FIRRM        55732  protein_coding   \n",
       "\n",
       "                                         description   \n",
       "0                                     tetraspanin 6   \\\n",
       "1                                       tenomodulin    \n",
       "2  dolichyl-phosphate mannosyltransferase subunit...   \n",
       "3                          SCY1 like pseudokinase 3    \n",
       "4  FIGNL1 interacting regulator of recombination ...   \n",
       "\n",
       "                               synonyms  \n",
       "0                   TM4SF6|TSPAN-6|T245  \n",
       "1      MYODULIN|BRICD4|TEM|CHM1L|TENDIN  \n",
       "2                            CDGIE|MPDS  \n",
       "3                          PACE-1|PACE1  \n",
       "4  FLIP|C1ORF112|FLJ10706|APOLO1|MEICA1  "
      ]
     },
     "execution_count": 31,
     "metadata": {},
     "output_type": "execute_result"
    }
   ],
   "source": [
    "df.head()"
   ]
  },
  {
   "cell_type": "code",
   "execution_count": 32,
   "metadata": {},
   "outputs": [],
   "source": [
    "df.to_parquet(f\"df_human__ensembl__{version}__Gene.parquet\")"
   ]
  },
  {
   "cell_type": "code",
   "execution_count": 33,
   "metadata": {},
   "outputs": [],
   "source": [
    "df_legacy = ensembl_gene.download_legacy_ids_df(df)"
   ]
  },
  {
   "cell_type": "code",
   "execution_count": 34,
   "metadata": {},
   "outputs": [
    {
     "data": {
      "text/plain": [
       "(8285, 14)"
      ]
     },
     "execution_count": 34,
     "metadata": {},
     "output_type": "execute_result"
    }
   ],
   "source": [
    "df_legacy.shape"
   ]
  },
  {
   "cell_type": "code",
   "execution_count": 35,
   "metadata": {},
   "outputs": [],
   "source": [
    "df_legacy.to_parquet(f\"df-legacy_human__ensembl__{version}__Gene.parquet\")"
   ]
  },
  {
   "cell_type": "markdown",
   "metadata": {},
   "source": [
    "## Mouse"
   ]
  },
  {
   "cell_type": "code",
   "execution_count": 36,
   "metadata": {},
   "outputs": [],
   "source": [
    "ensembl_gene = EnsemblGene(organism=\"mouse\", version=version)"
   ]
  },
  {
   "cell_type": "code",
   "execution_count": 37,
   "metadata": {},
   "outputs": [
    {
     "name": "stdout",
     "output_type": "stream",
     "text": [
      "💡 fetching records from the core DB...\n",
      "💡 fetching records from the external DBs...\n",
      "❗ duplicated #rows ensembl_gene_id with ncbi_gene_id: 600\n",
      "✅ downloaded Gene table containing 57545 entries.\n"
     ]
    }
   ],
   "source": [
    "df = ensembl_gene.download_df()"
   ]
  },
  {
   "cell_type": "code",
   "execution_count": 38,
   "metadata": {},
   "outputs": [
    {
     "data": {
      "text/html": [
       "<div>\n",
       "<style scoped>\n",
       "    .dataframe tbody tr th:only-of-type {\n",
       "        vertical-align: middle;\n",
       "    }\n",
       "\n",
       "    .dataframe tbody tr th {\n",
       "        vertical-align: top;\n",
       "    }\n",
       "\n",
       "    .dataframe thead th {\n",
       "        text-align: right;\n",
       "    }\n",
       "</style>\n",
       "<table border=\"1\" class=\"dataframe\">\n",
       "  <thead>\n",
       "    <tr style=\"text-align: right;\">\n",
       "      <th></th>\n",
       "      <th>ensembl_gene_id</th>\n",
       "      <th>symbol</th>\n",
       "      <th>ncbi_gene_id</th>\n",
       "      <th>biotype</th>\n",
       "      <th>description</th>\n",
       "      <th>synonyms</th>\n",
       "    </tr>\n",
       "  </thead>\n",
       "  <tbody>\n",
       "    <tr>\n",
       "      <th>0</th>\n",
       "      <td>ENSMUSG00000000001</td>\n",
       "      <td>Gnai3</td>\n",
       "      <td>14679</td>\n",
       "      <td>protein_coding</td>\n",
       "      <td>guanine nucleotide binding protein (G protein)...</td>\n",
       "      <td>Galphai3</td>\n",
       "    </tr>\n",
       "    <tr>\n",
       "      <th>1</th>\n",
       "      <td>ENSMUSG00000000003</td>\n",
       "      <td>Pbsn</td>\n",
       "      <td>54192</td>\n",
       "      <td>protein_coding</td>\n",
       "      <td>probasin [Source:MGI Symbol;Acc:MGI:1860484]</td>\n",
       "      <td>PB</td>\n",
       "    </tr>\n",
       "    <tr>\n",
       "      <th>2</th>\n",
       "      <td>ENSMUSG00000000028</td>\n",
       "      <td>Cdc45</td>\n",
       "      <td>12544</td>\n",
       "      <td>protein_coding</td>\n",
       "      <td>cell division cycle 45 [Source:MGI Symbol;Acc:...</td>\n",
       "      <td>Cdc45l</td>\n",
       "    </tr>\n",
       "    <tr>\n",
       "      <th>3</th>\n",
       "      <td>ENSMUSG00000000031</td>\n",
       "      <td>H19</td>\n",
       "      <td>14955</td>\n",
       "      <td>lncRNA</td>\n",
       "      <td>H19, imprinted maternally expressed transcript...</td>\n",
       "      <td></td>\n",
       "    </tr>\n",
       "    <tr>\n",
       "      <th>4</th>\n",
       "      <td>ENSMUSG00000000037</td>\n",
       "      <td>Scml2</td>\n",
       "      <td>107815</td>\n",
       "      <td>protein_coding</td>\n",
       "      <td>Scm polycomb group protein like 2 [Source:MGI ...</td>\n",
       "      <td>4932420G07Rik</td>\n",
       "    </tr>\n",
       "  </tbody>\n",
       "</table>\n",
       "</div>"
      ],
      "text/plain": [
       "      ensembl_gene_id symbol ncbi_gene_id         biotype   \n",
       "0  ENSMUSG00000000001  Gnai3        14679  protein_coding  \\\n",
       "1  ENSMUSG00000000003   Pbsn        54192  protein_coding   \n",
       "2  ENSMUSG00000000028  Cdc45        12544  protein_coding   \n",
       "3  ENSMUSG00000000031    H19        14955          lncRNA   \n",
       "4  ENSMUSG00000000037  Scml2       107815  protein_coding   \n",
       "\n",
       "                                         description       synonyms  \n",
       "0  guanine nucleotide binding protein (G protein)...       Galphai3  \n",
       "1       probasin [Source:MGI Symbol;Acc:MGI:1860484]             PB  \n",
       "2  cell division cycle 45 [Source:MGI Symbol;Acc:...         Cdc45l  \n",
       "3  H19, imprinted maternally expressed transcript...                 \n",
       "4  Scm polycomb group protein like 2 [Source:MGI ...  4932420G07Rik  "
      ]
     },
     "execution_count": 38,
     "metadata": {},
     "output_type": "execute_result"
    }
   ],
   "source": [
    "df.head()"
   ]
  },
  {
   "cell_type": "code",
   "execution_count": 39,
   "metadata": {},
   "outputs": [],
   "source": [
    "# https://github.com/laminlabs/bionty/issues/533\n",
    "df[\"description\"] = df[\"description\"].str.replace(r\"\\[.*?\\]\", \"\", regex=True)"
   ]
  },
  {
   "cell_type": "code",
   "execution_count": 40,
   "metadata": {},
   "outputs": [],
   "source": [
    "df.to_parquet(f\"df_mouse__ensembl__{version}__Gene.parquet\")"
   ]
  },
  {
   "cell_type": "code",
   "execution_count": 41,
   "metadata": {},
   "outputs": [],
   "source": [
    "df_legacy = ensembl_gene.download_legacy_ids_df(df)"
   ]
  },
  {
   "cell_type": "code",
   "execution_count": 42,
   "metadata": {},
   "outputs": [
    {
     "data": {
      "text/plain": [
       "(30685, 14)"
      ]
     },
     "execution_count": 42,
     "metadata": {},
     "output_type": "execute_result"
    }
   ],
   "source": [
    "df_legacy.shape"
   ]
  },
  {
   "cell_type": "code",
   "execution_count": 43,
   "metadata": {},
   "outputs": [
    {
     "data": {
      "text/html": [
       "<div>\n",
       "<style scoped>\n",
       "    .dataframe tbody tr th:only-of-type {\n",
       "        vertical-align: middle;\n",
       "    }\n",
       "\n",
       "    .dataframe tbody tr th {\n",
       "        vertical-align: top;\n",
       "    }\n",
       "\n",
       "    .dataframe thead th {\n",
       "        text-align: right;\n",
       "    }\n",
       "</style>\n",
       "<table border=\"1\" class=\"dataframe\">\n",
       "  <thead>\n",
       "    <tr style=\"text-align: right;\">\n",
       "      <th></th>\n",
       "      <th>mapping_session_id</th>\n",
       "      <th>old_stable_id</th>\n",
       "      <th>old_version</th>\n",
       "      <th>new_stable_id</th>\n",
       "      <th>new_version</th>\n",
       "      <th>type</th>\n",
       "      <th>score</th>\n",
       "      <th>old_db_name</th>\n",
       "      <th>new_db_name</th>\n",
       "      <th>old_release</th>\n",
       "      <th>new_release</th>\n",
       "      <th>old_assembly</th>\n",
       "      <th>new_assembly</th>\n",
       "      <th>created</th>\n",
       "    </tr>\n",
       "  </thead>\n",
       "  <tbody>\n",
       "    <tr>\n",
       "      <th>0</th>\n",
       "      <td>59</td>\n",
       "      <td>ENSMUSG00000079169</td>\n",
       "      <td>4</td>\n",
       "      <td>ENSMUSG00000027157</td>\n",
       "      <td>12</td>\n",
       "      <td>gene</td>\n",
       "      <td>0.990000</td>\n",
       "      <td>mus_musculus_core_106_39</td>\n",
       "      <td>mus_musculus_core_107_39</td>\n",
       "      <td>106</td>\n",
       "      <td>107</td>\n",
       "      <td>GRCm39</td>\n",
       "      <td>GRCm39</td>\n",
       "      <td>2022-01-12 20:12:50</td>\n",
       "    </tr>\n",
       "    <tr>\n",
       "      <th>1</th>\n",
       "      <td>61</td>\n",
       "      <td>ENSMUSG00000095464</td>\n",
       "      <td>2</td>\n",
       "      <td>ENSMUSG00000046516</td>\n",
       "      <td>12</td>\n",
       "      <td>gene</td>\n",
       "      <td>0.990000</td>\n",
       "      <td>mus_musculus_core_108_39</td>\n",
       "      <td>mus_musculus_core_109_39</td>\n",
       "      <td>108</td>\n",
       "      <td>109</td>\n",
       "      <td>GRCm39</td>\n",
       "      <td>GRCm39</td>\n",
       "      <td>2022-08-25 23:23:22</td>\n",
       "    </tr>\n",
       "    <tr>\n",
       "      <th>2</th>\n",
       "      <td>59</td>\n",
       "      <td>ENSMUSG00000085431</td>\n",
       "      <td>8</td>\n",
       "      <td>ENSMUSG00000054510</td>\n",
       "      <td>7</td>\n",
       "      <td>gene</td>\n",
       "      <td>0.990000</td>\n",
       "      <td>mus_musculus_core_106_39</td>\n",
       "      <td>mus_musculus_core_107_39</td>\n",
       "      <td>106</td>\n",
       "      <td>107</td>\n",
       "      <td>GRCm39</td>\n",
       "      <td>GRCm39</td>\n",
       "      <td>2022-01-12 20:12:50</td>\n",
       "    </tr>\n",
       "    <tr>\n",
       "      <th>3</th>\n",
       "      <td>6</td>\n",
       "      <td>ENSMUSG00000067056</td>\n",
       "      <td>1</td>\n",
       "      <td>ENSMUSG00000070605</td>\n",
       "      <td>1</td>\n",
       "      <td>gene</td>\n",
       "      <td>0.993523</td>\n",
       "      <td>mus_musculus_core_36_34d</td>\n",
       "      <td>mus_musculus_core_38_35</td>\n",
       "      <td>36</td>\n",
       "      <td>38</td>\n",
       "      <td>NCBIM34</td>\n",
       "      <td>NCBIM35</td>\n",
       "      <td>2006-03-15 17:41:36</td>\n",
       "    </tr>\n",
       "    <tr>\n",
       "      <th>4</th>\n",
       "      <td>6</td>\n",
       "      <td>ENSMUSG00000068846</td>\n",
       "      <td>1</td>\n",
       "      <td>ENSMUSG00000071738</td>\n",
       "      <td>1</td>\n",
       "      <td>gene</td>\n",
       "      <td>0.991369</td>\n",
       "      <td>mus_musculus_core_36_34d</td>\n",
       "      <td>mus_musculus_core_38_35</td>\n",
       "      <td>36</td>\n",
       "      <td>38</td>\n",
       "      <td>NCBIM34</td>\n",
       "      <td>NCBIM35</td>\n",
       "      <td>2006-03-15 17:41:36</td>\n",
       "    </tr>\n",
       "  </tbody>\n",
       "</table>\n",
       "</div>"
      ],
      "text/plain": [
       "   mapping_session_id       old_stable_id  old_version       new_stable_id   \n",
       "0                  59  ENSMUSG00000079169            4  ENSMUSG00000027157  \\\n",
       "1                  61  ENSMUSG00000095464            2  ENSMUSG00000046516   \n",
       "2                  59  ENSMUSG00000085431            8  ENSMUSG00000054510   \n",
       "3                   6  ENSMUSG00000067056            1  ENSMUSG00000070605   \n",
       "4                   6  ENSMUSG00000068846            1  ENSMUSG00000071738   \n",
       "\n",
       "   new_version  type     score               old_db_name   \n",
       "0           12  gene  0.990000  mus_musculus_core_106_39  \\\n",
       "1           12  gene  0.990000  mus_musculus_core_108_39   \n",
       "2            7  gene  0.990000  mus_musculus_core_106_39   \n",
       "3            1  gene  0.993523  mus_musculus_core_36_34d   \n",
       "4            1  gene  0.991369  mus_musculus_core_36_34d   \n",
       "\n",
       "                new_db_name old_release new_release old_assembly new_assembly   \n",
       "0  mus_musculus_core_107_39         106         107       GRCm39       GRCm39  \\\n",
       "1  mus_musculus_core_109_39         108         109       GRCm39       GRCm39   \n",
       "2  mus_musculus_core_107_39         106         107       GRCm39       GRCm39   \n",
       "3   mus_musculus_core_38_35          36          38      NCBIM34      NCBIM35   \n",
       "4   mus_musculus_core_38_35          36          38      NCBIM34      NCBIM35   \n",
       "\n",
       "              created  \n",
       "0 2022-01-12 20:12:50  \n",
       "1 2022-08-25 23:23:22  \n",
       "2 2022-01-12 20:12:50  \n",
       "3 2006-03-15 17:41:36  \n",
       "4 2006-03-15 17:41:36  "
      ]
     },
     "execution_count": 43,
     "metadata": {},
     "output_type": "execute_result"
    }
   ],
   "source": [
    "df_legacy.head()"
   ]
  },
  {
   "cell_type": "code",
   "execution_count": 44,
   "metadata": {},
   "outputs": [],
   "source": [
    "df_legacy.to_parquet(f\"df-legacy_mouse__ensembl__{version}__Gene.parquet\")"
   ]
  },
  {
   "cell_type": "markdown",
   "metadata": {},
   "source": [
    "## saccharomyces_cerevisiae"
   ]
  },
  {
   "cell_type": "code",
   "execution_count": 45,
   "metadata": {},
   "outputs": [],
   "source": [
    "ensembl_gene = EnsemblGene(organism=\"saccharomyces cerevisiae\", version=version)"
   ]
  },
  {
   "cell_type": "code",
   "execution_count": 46,
   "metadata": {},
   "outputs": [
    {
     "name": "stdout",
     "output_type": "stream",
     "text": [
      "💡 fetching records from the core DB...\n",
      "💡 fetching records from the external DBs...\n",
      "❗ duplicated #rows ensembl_gene_id with ncbi_gene_id: 218\n",
      "❗ no ensembl_gene_id found, writing to table_id column.\n",
      "✅ downloaded Gene table containing 7248 entries.\n"
     ]
    }
   ],
   "source": [
    "df = ensembl_gene.download_df()"
   ]
  },
  {
   "cell_type": "code",
   "execution_count": 47,
   "metadata": {},
   "outputs": [],
   "source": [
    "# https://github.com/laminlabs/bionty/issues/533\n",
    "df[\"description\"] = df[\"description\"].str.replace(r\"\\[.*?\\]\", \"\", regex=True)"
   ]
  },
  {
   "cell_type": "code",
   "execution_count": 48,
   "metadata": {},
   "outputs": [],
   "source": [
    "df.to_parquet(f\"df_saccharomyces cerevisiae__ensembl__{version}__Gene.parquet\")"
   ]
  },
  {
   "cell_type": "code",
   "execution_count": 49,
   "metadata": {},
   "outputs": [],
   "source": [
    "df_legacy = ensembl_gene.download_legacy_ids_df(df, col=\"stable_id\")"
   ]
  },
  {
   "cell_type": "code",
   "execution_count": 50,
   "metadata": {},
   "outputs": [
    {
     "data": {
      "text/plain": [
       "(0, 14)"
      ]
     },
     "execution_count": 50,
     "metadata": {},
     "output_type": "execute_result"
    }
   ],
   "source": [
    "df_legacy.shape"
   ]
  }
 ],
 "metadata": {
  "kernelspec": {
   "display_name": "Python 3.9.13 ('py39')",
   "language": "python",
   "name": "python3"
  },
  "language_info": {
   "codemirror_mode": {
    "name": "ipython",
    "version": 3
   },
   "file_extension": ".py",
   "mimetype": "text/x-python",
   "name": "python",
   "nbconvert_exporter": "python",
   "pygments_lexer": "ipython3",
   "version": "3.10.10"
  },
  "orig_nbformat": 4,
  "vscode": {
   "interpreter": {
    "hash": "ae1fefc8646a06dd2e75004cd934adda7c5727b046986a772e3b44b0ffba9754"
   }
  }
 },
 "nbformat": 4,
 "nbformat_minor": 2
}
