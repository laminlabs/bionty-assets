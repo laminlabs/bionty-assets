{
 "cells": [
  {
   "cell_type": "markdown",
   "id": "1d7b3b73-75f9-468d-8783-873ebadcab9b",
   "metadata": {},
   "source": [
    "# Ingest complete HGNC gene set from EBI"
   ]
  },
  {
   "cell_type": "code",
   "execution_count": null,
   "id": "97ec6631-8473-4a2d-b488-def921bb83de",
   "metadata": {},
   "outputs": [],
   "source": [
    "from nbproject import header"
   ]
  },
  {
   "cell_type": "code",
   "execution_count": null,
   "id": "af510a69-9892-4346-8d2f-567d1d4b944d",
   "metadata": {},
   "outputs": [],
   "source": [
    "URL = \"http://ftp.ebi.ac.uk/pub/databases/genenames/hgnc/tsv/hgnc_complete_set.txt\""
   ]
  },
  {
   "cell_type": "code",
   "execution_count": null,
   "id": "d02069e2-07a8-417c-8b41-92a7dc83423e",
   "metadata": {},
   "outputs": [],
   "source": [
    "from urllib.request import urlretrieve\n",
    "import pandas as pd"
   ]
  },
  {
   "cell_type": "markdown",
   "id": "ff8a5421-a7d1-4d13-85fd-e4e12a0c020f",
   "metadata": {},
   "source": [
    "The following call was originally used to download the file, but it times out very often."
   ]
  },
  {
   "cell_type": "code",
   "execution_count": null,
   "id": "a61f6cf3-1c07-4715-9aba-cf482755099a",
   "metadata": {},
   "outputs": [],
   "source": [
    "# filepath, message = urlretrieve(URL)\n",
    "filepath = \"/var/folders/b2/nq98s8w96zq2mdcj6rdplvqr0000gn/T/tmpr4nzb57d\""
   ]
  },
  {
   "cell_type": "code",
   "execution_count": null,
   "id": "96295cb1-2a7f-4648-bb0b-6f191514a0de",
   "metadata": {},
   "outputs": [],
   "source": [
    "df = pd.read_csv(\n",
    "    filepath,\n",
    "    sep=\"\\t\",\n",
    "    index_col=0,\n",
    "    low_memory=False,  # If True, gets DtypeWarning\n",
    "    verbose=False,\n",
    ")"
   ]
  },
  {
   "cell_type": "code",
   "execution_count": null,
   "id": "b7217ba4-497f-4d77-8986-45bfc4087b49",
   "metadata": {},
   "outputs": [],
   "source": [
    "df.shape"
   ]
  },
  {
   "cell_type": "code",
   "execution_count": null,
   "id": "cc43e789-6d19-4253-b262-8420a92d144d",
   "metadata": {},
   "outputs": [],
   "source": [
    "df.to_parquet()"
   ]
  }
 ],
 "metadata": {
  "kernelspec": {
   "display_name": "Python 3 (ipykernel)",
   "language": "python",
   "name": "python3"
  },
  "language_info": {
   "codemirror_mode": {
    "name": "ipython",
    "version": 3
   },
   "file_extension": ".py",
   "mimetype": "text/x-python",
   "name": "python",
   "nbconvert_exporter": "python",
   "pygments_lexer": "ipython3",
   "version": "3.9.12"
  },
  "nbproject": {
   "dependency": {
    "nbproject": "0.1a3",
    "pandas": "1.4.2"
   },
   "id": "m41ldPB0kSel",
   "time_init": "2022-06-24T08:37:22.711250+00:00"
  }
 },
 "nbformat": 4,
 "nbformat_minor": 5
}
