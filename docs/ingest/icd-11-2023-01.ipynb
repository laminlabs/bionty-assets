{
 "cells": [
  {
   "cell_type": "markdown",
   "metadata": {},
   "source": [
    "# ICD 11"
   ]
  },
  {
   "cell_type": "markdown",
   "metadata": {},
   "source": [
    "The data was obtained on 2024-01-22 (version 01/2023) by clicking on `info` -> `spreadsheet file` on https://icd.who.int/browse11/l-m/en.\n",
    "\n",
    "There are 3 different types of values:\n",
    "1. chapter\n",
    "2. block\n",
    "3. category\n",
    "\n",
    "There isn't a proper `ontology_id`, so we'll use the linearization URI.\n",
    "Note that it can have `other` and `unspecified` which pose alternatives. We will keep them but replace them with `o` and `u` respectively."
   ]
  },
  {
   "cell_type": "code",
   "execution_count": 16,
   "metadata": {},
   "outputs": [],
   "source": [
    "import pandas as pd\n",
    "import numpy as np\n",
    "import re"
   ]
  },
  {
   "cell_type": "code",
   "execution_count": 17,
   "metadata": {},
   "outputs": [],
   "source": [
    "df = pd.read_excel(\"icd_11.xlsx\")"
   ]
  },
  {
   "cell_type": "code",
   "execution_count": 18,
   "metadata": {},
   "outputs": [
    {
     "data": {
      "text/html": [
       "<div>\n",
       "<style scoped>\n",
       "    .dataframe tbody tr th:only-of-type {\n",
       "        vertical-align: middle;\n",
       "    }\n",
       "\n",
       "    .dataframe tbody tr th {\n",
       "        vertical-align: top;\n",
       "    }\n",
       "\n",
       "    .dataframe thead th {\n",
       "        text-align: right;\n",
       "    }\n",
       "</style>\n",
       "<table border=\"1\" class=\"dataframe\">\n",
       "  <thead>\n",
       "    <tr style=\"text-align: right;\">\n",
       "      <th></th>\n",
       "      <th>Linearization (release) URI</th>\n",
       "      <th>Code</th>\n",
       "      <th>Title</th>\n",
       "    </tr>\n",
       "  </thead>\n",
       "  <tbody>\n",
       "    <tr>\n",
       "      <th>0</th>\n",
       "      <td>http://id.who.int/icd/release/11/2023-01/mms/1...</td>\n",
       "      <td>NaN</td>\n",
       "      <td>Certain infectious or parasitic diseases</td>\n",
       "    </tr>\n",
       "    <tr>\n",
       "      <th>1</th>\n",
       "      <td>http://id.who.int/icd/release/11/2023-01/mms/5...</td>\n",
       "      <td>NaN</td>\n",
       "      <td>- Gastroenteritis or colitis of infectious origin</td>\n",
       "    </tr>\n",
       "    <tr>\n",
       "      <th>2</th>\n",
       "      <td>http://id.who.int/icd/release/11/2023-01/mms/1...</td>\n",
       "      <td>NaN</td>\n",
       "      <td>- - Bacterial intestinal infections</td>\n",
       "    </tr>\n",
       "    <tr>\n",
       "      <th>3</th>\n",
       "      <td>http://id.who.int/icd/release/11/2023-01/mms/2...</td>\n",
       "      <td>1A00</td>\n",
       "      <td>- - - Cholera</td>\n",
       "    </tr>\n",
       "    <tr>\n",
       "      <th>4</th>\n",
       "      <td>http://id.who.int/icd/release/11/2023-01/mms/4...</td>\n",
       "      <td>1A01</td>\n",
       "      <td>- - - Intestinal infection due to other Vibrio</td>\n",
       "    </tr>\n",
       "  </tbody>\n",
       "</table>\n",
       "</div>"
      ],
      "text/plain": [
       "                         Linearization (release) URI  Code  \\\n",
       "0  http://id.who.int/icd/release/11/2023-01/mms/1...   NaN   \n",
       "1  http://id.who.int/icd/release/11/2023-01/mms/5...   NaN   \n",
       "2  http://id.who.int/icd/release/11/2023-01/mms/1...   NaN   \n",
       "3  http://id.who.int/icd/release/11/2023-01/mms/2...  1A00   \n",
       "4  http://id.who.int/icd/release/11/2023-01/mms/4...  1A01   \n",
       "\n",
       "                                               Title  \n",
       "0           Certain infectious or parasitic diseases  \n",
       "1  - Gastroenteritis or colitis of infectious origin  \n",
       "2                - - Bacterial intestinal infections  \n",
       "3                                      - - - Cholera  \n",
       "4     - - - Intestinal infection due to other Vibrio  "
      ]
     },
     "execution_count": 18,
     "metadata": {},
     "output_type": "execute_result"
    }
   ],
   "source": [
    "df = df[[\"Linearization (release) URI\", \"Code\", \"Title\"]]\n",
    "df.head()"
   ]
  },
  {
   "cell_type": "code",
   "execution_count": 19,
   "metadata": {},
   "outputs": [],
   "source": [
    "df.rename(\n",
    "    columns={\"Code\": \"code\", \"Title\": \"name\", \"Linearization (release) URI\": \"URI\"},\n",
    "    inplace=True,\n",
    ")"
   ]
  },
  {
   "cell_type": "code",
   "execution_count": 20,
   "metadata": {},
   "outputs": [],
   "source": [
    "def extract_code(url: str) -> str:\n",
    "    match = re.search(r\"/(\\d+)(?:/(other|unspecified))?$\", url)\n",
    "    if match:\n",
    "        code = match.group(1)\n",
    "        suffix = match.group(2)\n",
    "        if suffix == \"other\":\n",
    "            code += \"o\"\n",
    "        elif suffix == \"unspecified\":\n",
    "            code += \"u\"\n",
    "        return code\n",
    "    else:\n",
    "        return \"No code found\""
   ]
  },
  {
   "cell_type": "code",
   "execution_count": 21,
   "metadata": {},
   "outputs": [],
   "source": [
    "# Finding the parent for each term\n",
    "def find_parent(term, all_terms):\n",
    "    depth = term.count(\"-\")\n",
    "    parent_depth = depth - 1\n",
    "    term_index = all_terms.index(term)\n",
    "\n",
    "    # Search upwards for the nearest term with one less dash\n",
    "    for previous_term in reversed(all_terms[:term_index]):\n",
    "        if previous_term.count(\"-\") == parent_depth:\n",
    "            return previous_term.strip(\"- \").strip()\n",
    "    return None\n",
    "\n",
    "\n",
    "df[\"parents\"] = df[\"name\"].apply(lambda x: find_parent(x, df[\"name\"].tolist()))"
   ]
  },
  {
   "cell_type": "code",
   "execution_count": 22,
   "metadata": {},
   "outputs": [],
   "source": [
    "df[\"ontology_id\"] = df[\"URI\"].apply(extract_code)"
   ]
  },
  {
   "cell_type": "code",
   "execution_count": 23,
   "metadata": {},
   "outputs": [],
   "source": [
    "df.drop(\"URI\", inplace=True, axis=1)"
   ]
  },
  {
   "cell_type": "code",
   "execution_count": 24,
   "metadata": {},
   "outputs": [],
   "source": [
    "df[\"name\"] = df[\"name\"].str.replace(\"-\", \"\").str.strip()"
   ]
  },
  {
   "cell_type": "code",
   "execution_count": 25,
   "metadata": {},
   "outputs": [],
   "source": [
    "title_to_ontology = dict(zip(df[\"name\"], df[\"ontology_id\"]))\n",
    "\n",
    "df[\"parents\"] = df[\"parents\"].apply(title_to_ontology.get)"
   ]
  },
  {
   "cell_type": "code",
   "execution_count": 26,
   "metadata": {},
   "outputs": [],
   "source": [
    "df.set_index(\"ontology_id\", inplace=True)"
   ]
  },
  {
   "cell_type": "code",
   "execution_count": 27,
   "metadata": {},
   "outputs": [
    {
     "data": {
      "text/html": [
       "<div>\n",
       "<style scoped>\n",
       "    .dataframe tbody tr th:only-of-type {\n",
       "        vertical-align: middle;\n",
       "    }\n",
       "\n",
       "    .dataframe tbody tr th {\n",
       "        vertical-align: top;\n",
       "    }\n",
       "\n",
       "    .dataframe thead th {\n",
       "        text-align: right;\n",
       "    }\n",
       "</style>\n",
       "<table border=\"1\" class=\"dataframe\">\n",
       "  <thead>\n",
       "    <tr style=\"text-align: right;\">\n",
       "      <th></th>\n",
       "      <th>code</th>\n",
       "      <th>name</th>\n",
       "      <th>parents</th>\n",
       "    </tr>\n",
       "    <tr>\n",
       "      <th>ontology_id</th>\n",
       "      <th></th>\n",
       "      <th></th>\n",
       "      <th></th>\n",
       "    </tr>\n",
       "  </thead>\n",
       "  <tbody>\n",
       "    <tr>\n",
       "      <th>1435254666</th>\n",
       "      <td>NaN</td>\n",
       "      <td>Certain infectious or parasitic diseases</td>\n",
       "      <td>None</td>\n",
       "    </tr>\n",
       "    <tr>\n",
       "      <th>588616678</th>\n",
       "      <td>NaN</td>\n",
       "      <td>Gastroenteritis or colitis of infectious origin</td>\n",
       "      <td>1435254666</td>\n",
       "    </tr>\n",
       "    <tr>\n",
       "      <th>135352227</th>\n",
       "      <td>NaN</td>\n",
       "      <td>Bacterial intestinal infections</td>\n",
       "      <td>588616678</td>\n",
       "    </tr>\n",
       "    <tr>\n",
       "      <th>257068234</th>\n",
       "      <td>1A00</td>\n",
       "      <td>Cholera</td>\n",
       "      <td>135352227</td>\n",
       "    </tr>\n",
       "    <tr>\n",
       "      <th>416025325</th>\n",
       "      <td>1A01</td>\n",
       "      <td>Intestinal infection due to other Vibrio</td>\n",
       "      <td>135352227</td>\n",
       "    </tr>\n",
       "    <tr>\n",
       "      <th>...</th>\n",
       "      <td>...</td>\n",
       "      <td>...</td>\n",
       "      <td>...</td>\n",
       "    </tr>\n",
       "    <tr>\n",
       "      <th>1956913761</th>\n",
       "      <td>XD36Q1</td>\n",
       "      <td>Infusion Pumps, Syringe</td>\n",
       "      <td>1529373361</td>\n",
       "    </tr>\n",
       "    <tr>\n",
       "      <th>783787054</th>\n",
       "      <td>XD1N14</td>\n",
       "      <td>Infusion Pumps, Syringe, Nuclear Magnetic Reso...</td>\n",
       "      <td>1529373361</td>\n",
       "    </tr>\n",
       "    <tr>\n",
       "      <th>1524741217</th>\n",
       "      <td>XD80Z7</td>\n",
       "      <td>Medical/medicinal gas systems and relative acc...</td>\n",
       "      <td>1838822834</td>\n",
       "    </tr>\n",
       "    <tr>\n",
       "      <th>280385798</th>\n",
       "      <td>XD4U38</td>\n",
       "      <td>General purpose electrocardiographs</td>\n",
       "      <td>1838822834</td>\n",
       "    </tr>\n",
       "    <tr>\n",
       "      <th>1799393163</th>\n",
       "      <td>XD6UU3</td>\n",
       "      <td>Oxygen Concentrators</td>\n",
       "      <td>1838822834</td>\n",
       "    </tr>\n",
       "  </tbody>\n",
       "</table>\n",
       "<p>35574 rows × 3 columns</p>\n",
       "</div>"
      ],
      "text/plain": [
       "               code                                               name  \\\n",
       "ontology_id                                                              \n",
       "1435254666      NaN           Certain infectious or parasitic diseases   \n",
       "588616678       NaN    Gastroenteritis or colitis of infectious origin   \n",
       "135352227       NaN                    Bacterial intestinal infections   \n",
       "257068234      1A00                                            Cholera   \n",
       "416025325      1A01           Intestinal infection due to other Vibrio   \n",
       "...             ...                                                ...   \n",
       "1956913761   XD36Q1                            Infusion Pumps, Syringe   \n",
       "783787054    XD1N14  Infusion Pumps, Syringe, Nuclear Magnetic Reso...   \n",
       "1524741217   XD80Z7  Medical/medicinal gas systems and relative acc...   \n",
       "280385798    XD4U38                General purpose electrocardiographs   \n",
       "1799393163   XD6UU3                               Oxygen Concentrators   \n",
       "\n",
       "                parents  \n",
       "ontology_id              \n",
       "1435254666         None  \n",
       "588616678    1435254666  \n",
       "135352227     588616678  \n",
       "257068234     135352227  \n",
       "416025325     135352227  \n",
       "...                 ...  \n",
       "1956913761   1529373361  \n",
       "783787054    1529373361  \n",
       "1524741217   1838822834  \n",
       "280385798    1838822834  \n",
       "1799393163   1838822834  \n",
       "\n",
       "[35574 rows x 3 columns]"
      ]
     },
     "execution_count": 27,
     "metadata": {},
     "output_type": "execute_result"
    }
   ],
   "source": [
    "df"
   ]
  },
  {
   "cell_type": "code",
   "execution_count": 28,
   "metadata": {},
   "outputs": [],
   "source": [
    "df.to_parquet(\"icd-11-2023-01.parquet\")"
   ]
  }
 ],
 "metadata": {
  "kernelspec": {
   "display_name": "lamindb",
   "language": "python",
   "name": "python3"
  },
  "language_info": {
   "codemirror_mode": {
    "name": "ipython",
    "version": 3
   },
   "file_extension": ".py",
   "mimetype": "text/x-python",
   "name": "python",
   "nbconvert_exporter": "python",
   "pygments_lexer": "ipython3",
   "version": "3.11.5"
  }
 },
 "nbformat": 4,
 "nbformat_minor": 2
}
