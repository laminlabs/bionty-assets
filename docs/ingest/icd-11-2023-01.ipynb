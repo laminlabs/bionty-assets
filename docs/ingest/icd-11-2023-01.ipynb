{
 "cells": [
  {
   "cell_type": "markdown",
   "metadata": {},
   "source": [
    "# ICD 11"
   ]
  },
  {
   "cell_type": "markdown",
   "metadata": {},
   "source": [
    "The data was obtained on 2024-01-22 (version 01/2023) by clicking on `info` -> `spreadsheet file` on https://icd.who.int/browse11/l-m/en.\n",
    "\n",
    "There are 3 different types of values:\n",
    "1. chapter\n",
    "2. block\n",
    "3. category\n",
    "\n",
    "There isn't a proper `ontology_id`, so we'll use the linearization URI.\n",
    "Note that it can have `other` and `unspecified` which pose alternatives. We will keep them but replace them with `o` and `u` respectively."
   ]
  },
  {
   "cell_type": "code",
   "execution_count": null,
   "metadata": {},
   "outputs": [],
   "source": [
    "import pandas as pd\n",
    "import numpy as np\n",
    "import re"
   ]
  },
  {
   "cell_type": "code",
   "execution_count": null,
   "metadata": {},
   "outputs": [],
   "source": [
    "df = pd.read_excel(\"icd_11.xlsx\")"
   ]
  },
  {
   "cell_type": "code",
   "execution_count": null,
   "metadata": {},
   "outputs": [],
   "source": [
    "df = df[[\"Linearization (release) URI\", \"Code\", \"Title\"]]\n",
    "df.head()"
   ]
  },
  {
   "cell_type": "code",
   "execution_count": null,
   "metadata": {},
   "outputs": [],
   "source": [
    "df.rename(\n",
    "    columns={\"Code\": \"code\", \"Title\": \"name\", \"Linearization (release) URI\": \"URI\"},\n",
    "    inplace=True,\n",
    ")"
   ]
  },
  {
   "cell_type": "code",
   "execution_count": null,
   "metadata": {},
   "outputs": [],
   "source": [
    "def extract_code(url: str) -> str:\n",
    "    match = re.search(r\"/(\\d+)(?:/(other|unspecified))?$\", url)\n",
    "    if match:\n",
    "        code = match.group(1)\n",
    "        suffix = match.group(2)\n",
    "        if suffix == \"other\":\n",
    "            code += \"o\"\n",
    "        elif suffix == \"unspecified\":\n",
    "            code += \"u\"\n",
    "        return code\n",
    "    else:\n",
    "        return \"No code found\""
   ]
  },
  {
   "cell_type": "code",
   "execution_count": null,
   "metadata": {},
   "outputs": [],
   "source": [
    "# Finding the parent for each term\n",
    "def find_parent(term, all_terms):\n",
    "    depth = term.count(\"-\")\n",
    "    parent_depth = depth - 1\n",
    "    term_index = all_terms.index(term)\n",
    "\n",
    "    # Search upwards for the nearest term with one less dash\n",
    "    for previous_term in reversed(all_terms[:term_index]):\n",
    "        if previous_term.count(\"-\") == parent_depth:\n",
    "            return previous_term.strip(\"- \").strip()\n",
    "    return None\n",
    "\n",
    "\n",
    "df[\"parents\"] = df[\"name\"].apply(lambda x: find_parent(x, df[\"name\"].tolist()))"
   ]
  },
  {
   "cell_type": "code",
   "execution_count": null,
   "metadata": {},
   "outputs": [],
   "source": [
    "df[\"ontology_id\"] = df[\"URI\"].apply(extract_code)"
   ]
  },
  {
   "cell_type": "code",
   "execution_count": null,
   "metadata": {},
   "outputs": [],
   "source": [
    "df.drop(\"URI\", inplace=True, axis=1)"
   ]
  },
  {
   "cell_type": "code",
   "execution_count": null,
   "metadata": {},
   "outputs": [],
   "source": [
    "df[\"name\"] = df[\"name\"].str.replace(\"-\", \"\").str.strip()"
   ]
  },
  {
   "cell_type": "code",
   "execution_count": null,
   "metadata": {},
   "outputs": [],
   "source": [
    "title_to_ontology = dict(zip(df[\"name\"], df[\"ontology_id\"]))\n",
    "\n",
    "df[\"parents\"] = df[\"parents\"].apply(title_to_ontology.get)"
   ]
  },
  {
   "cell_type": "code",
   "execution_count": null,
   "metadata": {},
   "outputs": [],
   "source": [
    "df.set_index(\"ontology_id\", inplace=True)"
   ]
  },
  {
   "cell_type": "code",
   "execution_count": null,
   "metadata": {},
   "outputs": [],
   "source": [
    "df"
   ]
  },
  {
   "cell_type": "code",
   "execution_count": null,
   "metadata": {},
   "outputs": [],
   "source": [
    "df.to_parquet(\"icd-11-2023-01.parquet\")"
   ]
  }
 ],
 "metadata": {
  "kernelspec": {
   "display_name": "lamindb",
   "language": "python",
   "name": "python3"
  },
  "language_info": {
   "codemirror_mode": {
    "name": "ipython",
    "version": 3
   },
   "file_extension": ".py",
   "mimetype": "text/x-python",
   "name": "python",
   "nbconvert_exporter": "python",
   "pygments_lexer": "ipython3",
   "version": "3.11.5"
  }
 },
 "nbformat": 4,
 "nbformat_minor": 2
}
