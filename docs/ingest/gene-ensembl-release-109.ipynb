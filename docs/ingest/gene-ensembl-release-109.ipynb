{
 "cells": [
  {
   "attachments": {},
   "cell_type": "markdown",
   "metadata": {},
   "source": [
    "# `Gene`: ensembl, release-109"
   ]
  },
  {
   "attachments": {},
   "cell_type": "markdown",
   "metadata": {},
   "source": [
    "- https://www.ensembl.org/info/data/mysql.html\n",
    "- https://www.ensembl.org/info/docs/api/core/core_schema.html"
   ]
  },
  {
   "attachments": {},
   "cell_type": "markdown",
   "metadata": {},
   "source": [
    "Install mysqlclient: https://pypi.org/project/mysqlclient/"
   ]
  },
  {
   "cell_type": "code",
   "execution_count": null,
   "metadata": {},
   "outputs": [],
   "source": [
    "import pandas as pd\n",
    "from sqlalchemy import create_engine\n",
    "import mysql.connector as sql  # needed"
   ]
  },
  {
   "cell_type": "code",
   "execution_count": null,
   "metadata": {},
   "outputs": [],
   "source": [
    "def get_url(db=\"homo_sapiens_core_109_38\"):\n",
    "    return f\"mysql+mysqldb://anonymous:@ensembldb.ensembl.org/{db}\""
   ]
  },
  {
   "attachments": {},
   "cell_type": "markdown",
   "metadata": {},
   "source": [
    "## Human"
   ]
  },
  {
   "cell_type": "code",
   "execution_count": null,
   "metadata": {},
   "outputs": [],
   "source": [
    "engine = create_engine(url=get_url())"
   ]
  },
  {
   "attachments": {},
   "cell_type": "markdown",
   "metadata": {},
   "source": [
    "### Queries"
   ]
  },
  {
   "cell_type": "code",
   "execution_count": null,
   "metadata": {},
   "outputs": [],
   "source": [
    "query_core = \"\"\"\n",
    "SELECT gene.stable_id, xref.display_label, gene.biotype, gene.description, external_synonym.synonym\n",
    "FROM gene\n",
    "LEFT JOIN xref ON gene.display_xref_id = xref.xref_id\n",
    "LEFT JOIN external_synonym ON gene.display_xref_id = external_synonym.xref_id\n",
    "\"\"\"\n",
    "\n",
    "query_external = \"\"\"\n",
    "SELECT gene.stable_id, object_xref.xref_id, xref.dbprimary_acc, external_db.db_name\n",
    "FROM gene\n",
    "LEFT JOIN object_xref ON gene.gene_id = object_xref.ensembl_id\n",
    "LEFT JOIN xref ON object_xref.xref_id = xref.xref_id\n",
    "LEFT JOIN external_db ON xref.external_db_id = external_db.external_db_id\n",
    "WHERE object_xref.ensembl_object_type = 'Gene' AND external_db.db_name IN ('HGNC', 'EntrezGene')\n",
    "\"\"\""
   ]
  },
  {
   "attachments": {},
   "cell_type": "markdown",
   "metadata": {},
   "source": [
    "Query for the basic gene annotations:"
   ]
  },
  {
   "cell_type": "code",
   "execution_count": null,
   "metadata": {},
   "outputs": [],
   "source": [
    "results_core = pd.read_sql(query_core, con=engine)\n",
    "results_core.shape"
   ]
  },
  {
   "cell_type": "code",
   "execution_count": null,
   "metadata": {},
   "outputs": [],
   "source": [
    "results_core.head()"
   ]
  },
  {
   "cell_type": "code",
   "execution_count": null,
   "metadata": {},
   "outputs": [],
   "source": [
    "results_core_group = results_core.groupby(\"stable_id\").agg(\n",
    "    {\n",
    "        \"display_label\": \"first\",\n",
    "        \"biotype\": \"first\",\n",
    "        \"description\": \"first\",\n",
    "        \"synonym\": lambda x: \"|\".join([i for i in set(x) if i is not None]),\n",
    "    }\n",
    ")"
   ]
  },
  {
   "cell_type": "code",
   "execution_count": null,
   "metadata": {},
   "outputs": [],
   "source": [
    "results_core_group.head()"
   ]
  },
  {
   "cell_type": "code",
   "execution_count": null,
   "metadata": {},
   "outputs": [],
   "source": [
    "results_core_group = results_core_group[results_core_group.index.str.startswith(\"ENS\")]"
   ]
  },
  {
   "cell_type": "code",
   "execution_count": null,
   "metadata": {},
   "outputs": [],
   "source": [
    "results_core_group.shape"
   ]
  },
  {
   "attachments": {},
   "cell_type": "markdown",
   "metadata": {},
   "source": [
    "Query for external ids:"
   ]
  },
  {
   "cell_type": "code",
   "execution_count": null,
   "metadata": {},
   "outputs": [],
   "source": [
    "results_external = pd.read_sql(query_external, con=engine)\n",
    "results_external = results_external[results_external.stable_id.str.startswith(\"ENS\")]\n",
    "results_external.shape"
   ]
  },
  {
   "cell_type": "code",
   "execution_count": null,
   "metadata": {},
   "outputs": [],
   "source": [
    "results_external.head(2)"
   ]
  },
  {
   "attachments": {},
   "cell_type": "markdown",
   "metadata": {},
   "source": [
    "### HGNC"
   ]
  },
  {
   "cell_type": "code",
   "execution_count": null,
   "metadata": {},
   "outputs": [],
   "source": [
    "hgnc = (\n",
    "    results_external[results_external[\"db_name\"] == \"HGNC\"]\n",
    "    .drop_duplicates([\"stable_id\", \"dbprimary_acc\"])\n",
    "    .drop(columns=[\"xref_id\", \"db_name\"])\n",
    ")\n",
    "hgnc.rename(columns={\"dbprimary_acc\": \"hgnc_id\"}, inplace=True)"
   ]
  },
  {
   "cell_type": "code",
   "execution_count": null,
   "metadata": {},
   "outputs": [],
   "source": [
    "dup = hgnc[hgnc.stable_id.duplicated(keep=False)]\n",
    "dup"
   ]
  },
  {
   "cell_type": "code",
   "execution_count": null,
   "metadata": {},
   "outputs": [],
   "source": [
    "# resolved by searching on https://www.genenames.org\n",
    "\n",
    "cond1 = (hgnc.stable_id == \"ENSG00000277796\") & (hgnc.hgnc_id == \"HGNC:10628\")\n",
    "cond2 = (hgnc.stable_id == \"ENSG00000276085\") & (hgnc.hgnc_id == \"HGNC:30554\")\n",
    "# ENSG00000230417 is mapped to both HGNC:31430 and HGNC:45111\n",
    "cond3 = hgnc.stable_id == \"ENSG00000230417\"\n",
    "\n",
    "hgnc = hgnc[~(cond1 | cond2 | cond3)].set_index(\"stable_id\")"
   ]
  },
  {
   "cell_type": "code",
   "execution_count": null,
   "metadata": {},
   "outputs": [],
   "source": [
    "hgnc[hgnc.index.duplicated()]"
   ]
  },
  {
   "attachments": {},
   "cell_type": "markdown",
   "metadata": {},
   "source": [
    "### Entrez"
   ]
  },
  {
   "cell_type": "code",
   "execution_count": null,
   "metadata": {},
   "outputs": [],
   "source": [
    "entrez = (\n",
    "    results_external[results_external[\"db_name\"] == \"EntrezGene\"]\n",
    "    .drop_duplicates([\"stable_id\", \"dbprimary_acc\"])\n",
    "    .drop(columns=[\"xref_id\", \"db_name\"])\n",
    ")\n",
    "entrez.rename(columns={\"dbprimary_acc\": \"ncbi_gene_id\"}, inplace=True)\n",
    "entrez = entrez.set_index(\"stable_id\")"
   ]
  },
  {
   "cell_type": "code",
   "execution_count": null,
   "metadata": {},
   "outputs": [],
   "source": [
    "dup = entrez[entrez.index.duplicated(keep=False)]\n",
    "dup"
   ]
  },
  {
   "attachments": {},
   "cell_type": "markdown",
   "metadata": {},
   "source": [
    "### Merge Ensembl with HGNC and Entrez"
   ]
  },
  {
   "cell_type": "code",
   "execution_count": null,
   "metadata": {},
   "outputs": [],
   "source": [
    "results_core_group"
   ]
  },
  {
   "cell_type": "code",
   "execution_count": null,
   "metadata": {},
   "outputs": [],
   "source": [
    "df = results_core_group.merge(hgnc, left_index=True, right_index=True, how=\"outer\")\n",
    "df[df.index.duplicated()]"
   ]
  },
  {
   "cell_type": "code",
   "execution_count": null,
   "metadata": {},
   "outputs": [],
   "source": [
    "df = df.merge(entrez, left_index=True, right_index=True, how=\"outer\")"
   ]
  },
  {
   "cell_type": "code",
   "execution_count": null,
   "metadata": {},
   "outputs": [],
   "source": [
    "df = df.reset_index()\n",
    "df.rename(\n",
    "    columns={\n",
    "        \"stable_id\": \"ensembl_gene_id\",\n",
    "        \"display_label\": \"symbol\",\n",
    "        \"synonym\": \"synonyms\",\n",
    "    },\n",
    "    inplace=True,\n",
    ")\n",
    "df = df[\n",
    "    [\n",
    "        \"ensembl_gene_id\",\n",
    "        \"symbol\",\n",
    "        \"ncbi_gene_id\",\n",
    "        \"hgnc_id\",\n",
    "        \"biotype\",\n",
    "        \"description\",\n",
    "        \"synonyms\",\n",
    "    ]\n",
    "]\n",
    "df = df[~df[\"ensembl_gene_id\"].isnull()]\n",
    "df = df.sort_values(\"ensembl_gene_id\").reset_index(drop=True)"
   ]
  },
  {
   "cell_type": "code",
   "execution_count": null,
   "metadata": {},
   "outputs": [],
   "source": [
    "df.head()"
   ]
  },
  {
   "cell_type": "code",
   "execution_count": null,
   "metadata": {},
   "outputs": [],
   "source": [
    "df.shape"
   ]
  },
  {
   "cell_type": "code",
   "execution_count": null,
   "metadata": {},
   "outputs": [],
   "source": [
    "df.to_parquet(\"df_human__ensembl__release-109__Gene.parquet\")"
   ]
  },
  {
   "attachments": {},
   "cell_type": "markdown",
   "metadata": {},
   "source": [
    "Uploaded to: s3://bionty-assets/human_ensembl_release-109_Gene_lookup.parquet"
   ]
  },
  {
   "attachments": {},
   "cell_type": "markdown",
   "metadata": {},
   "source": [
    "## Mouse"
   ]
  },
  {
   "cell_type": "code",
   "execution_count": null,
   "metadata": {},
   "outputs": [],
   "source": [
    "engine = create_engine(url=get_url(\"mus_musculus_core_109_39\"))"
   ]
  },
  {
   "attachments": {},
   "cell_type": "markdown",
   "metadata": {},
   "source": [
    "### Queries"
   ]
  },
  {
   "cell_type": "code",
   "execution_count": null,
   "metadata": {},
   "outputs": [],
   "source": [
    "query_core = \"\"\"\n",
    "SELECT gene.stable_id, xref.display_label, gene.biotype, gene.description, external_synonym.synonym\n",
    "FROM gene\n",
    "LEFT JOIN xref ON gene.display_xref_id = xref.xref_id\n",
    "LEFT JOIN external_synonym ON gene.display_xref_id = external_synonym.xref_id\n",
    "\"\"\"\n",
    "\n",
    "query_external = \"\"\"\n",
    "SELECT gene.stable_id, object_xref.xref_id, xref.dbprimary_acc, external_db.db_name\n",
    "FROM gene\n",
    "LEFT JOIN object_xref ON gene.gene_id = object_xref.ensembl_id\n",
    "LEFT JOIN xref ON object_xref.xref_id = xref.xref_id\n",
    "LEFT JOIN external_db ON xref.external_db_id = external_db.external_db_id\n",
    "WHERE object_xref.ensembl_object_type = 'Gene' AND external_db.db_name IN ('MGI', \"EntrezGene\")\n",
    "\"\"\""
   ]
  },
  {
   "attachments": {},
   "cell_type": "markdown",
   "metadata": {},
   "source": [
    "Query for the basic gene annotations:"
   ]
  },
  {
   "cell_type": "code",
   "execution_count": null,
   "metadata": {},
   "outputs": [],
   "source": [
    "results_core = pd.read_sql(query_core, con=engine)\n",
    "results_core.shape"
   ]
  },
  {
   "cell_type": "code",
   "execution_count": null,
   "metadata": {},
   "outputs": [],
   "source": [
    "results_core.head()"
   ]
  },
  {
   "cell_type": "code",
   "execution_count": null,
   "metadata": {},
   "outputs": [],
   "source": [
    "results_core_group = results_core.groupby(\"stable_id\").agg(\n",
    "    {\n",
    "        \"display_label\": \"first\",\n",
    "        \"biotype\": \"first\",\n",
    "        \"description\": \"first\",\n",
    "        \"synonym\": lambda x: \"|\".join([i for i in set(x) if i is not None]),\n",
    "    }\n",
    ")"
   ]
  },
  {
   "cell_type": "code",
   "execution_count": null,
   "metadata": {},
   "outputs": [],
   "source": [
    "results_core_group.head()"
   ]
  },
  {
   "cell_type": "code",
   "execution_count": null,
   "metadata": {},
   "outputs": [],
   "source": [
    "results_core_group = results_core_group[results_core_group.index.str.startswith(\"ENS\")]"
   ]
  },
  {
   "cell_type": "code",
   "execution_count": null,
   "metadata": {},
   "outputs": [],
   "source": [
    "results_core_group.shape"
   ]
  },
  {
   "attachments": {},
   "cell_type": "markdown",
   "metadata": {},
   "source": [
    "Query for external ids:"
   ]
  },
  {
   "cell_type": "code",
   "execution_count": null,
   "metadata": {},
   "outputs": [],
   "source": [
    "results_external = pd.read_sql(query_external, con=engine)\n",
    "results_external = results_external[results_external.stable_id.str.startswith(\"ENS\")]\n",
    "results_external.shape"
   ]
  },
  {
   "cell_type": "code",
   "execution_count": null,
   "metadata": {},
   "outputs": [],
   "source": [
    "results_external.head(2)"
   ]
  },
  {
   "attachments": {},
   "cell_type": "markdown",
   "metadata": {},
   "source": [
    "### MGI"
   ]
  },
  {
   "cell_type": "code",
   "execution_count": null,
   "metadata": {},
   "outputs": [],
   "source": [
    "mgi = (\n",
    "    results_external[results_external[\"db_name\"] == \"MGI\"]\n",
    "    .drop_duplicates([\"stable_id\", \"dbprimary_acc\"])\n",
    "    .drop(columns=[\"xref_id\", \"db_name\"])\n",
    ")\n",
    "mgi.rename(columns={\"dbprimary_acc\": \"mgi_id\"}, inplace=True)\n",
    "mgi = mgi.set_index(\"stable_id\")"
   ]
  },
  {
   "cell_type": "code",
   "execution_count": null,
   "metadata": {},
   "outputs": [],
   "source": [
    "dup = mgi[mgi.index.duplicated(keep=False)]\n",
    "dup"
   ]
  },
  {
   "attachments": {},
   "cell_type": "markdown",
   "metadata": {},
   "source": [
    "### Entrez"
   ]
  },
  {
   "cell_type": "code",
   "execution_count": null,
   "metadata": {},
   "outputs": [],
   "source": [
    "entrez = (\n",
    "    results_external[results_external[\"db_name\"] == \"EntrezGene\"]\n",
    "    .drop_duplicates([\"stable_id\", \"dbprimary_acc\"])\n",
    "    .drop(columns=[\"xref_id\", \"db_name\"])\n",
    ")\n",
    "entrez.rename(columns={\"dbprimary_acc\": \"ncbi_gene_id\"}, inplace=True)\n",
    "entrez = entrez.set_index(\"stable_id\")"
   ]
  },
  {
   "cell_type": "code",
   "execution_count": null,
   "metadata": {},
   "outputs": [],
   "source": [
    "dup = entrez[entrez.index.duplicated(keep=False)]\n",
    "dup"
   ]
  },
  {
   "attachments": {},
   "cell_type": "markdown",
   "metadata": {},
   "source": [
    "### Merge ensembl with MGI, Entrez"
   ]
  },
  {
   "cell_type": "code",
   "execution_count": null,
   "metadata": {},
   "outputs": [],
   "source": [
    "results_core_group"
   ]
  },
  {
   "cell_type": "code",
   "execution_count": null,
   "metadata": {},
   "outputs": [],
   "source": [
    "df = results_core_group.merge(mgi, left_index=True, right_index=True, how=\"outer\")\n",
    "df[df.index.duplicated()]"
   ]
  },
  {
   "cell_type": "code",
   "execution_count": null,
   "metadata": {},
   "outputs": [],
   "source": [
    "df = df.merge(entrez, left_index=True, right_index=True, how=\"outer\")"
   ]
  },
  {
   "cell_type": "code",
   "execution_count": null,
   "metadata": {},
   "outputs": [],
   "source": [
    "df = df.reset_index()\n",
    "df.rename(\n",
    "    columns={\n",
    "        \"stable_id\": \"ensembl_gene_id\",\n",
    "        \"display_label\": \"symbol\",\n",
    "        \"synonym\": \"synonyms\",\n",
    "    },\n",
    "    inplace=True,\n",
    ")\n",
    "df = df[\n",
    "    [\n",
    "        \"ensembl_gene_id\",\n",
    "        \"symbol\",\n",
    "        \"ncbi_gene_id\",\n",
    "        \"mgi_id\",\n",
    "        \"biotype\",\n",
    "        \"description\",\n",
    "        \"synonyms\",\n",
    "    ]\n",
    "]\n",
    "\n",
    "df = df[~df[\"ensembl_gene_id\"].isnull()]\n",
    "df = df.sort_values(\"ensembl_gene_id\").reset_index(drop=True)"
   ]
  },
  {
   "cell_type": "code",
   "execution_count": null,
   "metadata": {},
   "outputs": [],
   "source": [
    "df.head()"
   ]
  },
  {
   "cell_type": "code",
   "execution_count": null,
   "metadata": {},
   "outputs": [],
   "source": [
    "df.shape"
   ]
  },
  {
   "cell_type": "code",
   "execution_count": null,
   "metadata": {},
   "outputs": [],
   "source": [
    "df.to_parquet(\"df_mouse__ensembl__release-109__Gene.parquet\")"
   ]
  }
 ],
 "metadata": {
  "kernelspec": {
   "display_name": "Python 3.9.13 ('py39')",
   "language": "python",
   "name": "python3"
  },
  "language_info": {
   "codemirror_mode": {
    "name": "ipython",
    "version": 3
   },
   "file_extension": ".py",
   "mimetype": "text/x-python",
   "name": "python",
   "nbconvert_exporter": "python",
   "pygments_lexer": "ipython3",
   "version": "3.9.16"
  },
  "vscode": {
   "interpreter": {
    "hash": "ae1fefc8646a06dd2e75004cd934adda7c5727b046986a772e3b44b0ffba9754"
   }
  }
 },
 "nbformat": 4,
 "nbformat_minor": 2
}
