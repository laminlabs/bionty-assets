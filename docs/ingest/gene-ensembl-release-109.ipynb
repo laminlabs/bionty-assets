{
 "cells": [
  {
   "attachments": {},
   "cell_type": "markdown",
   "metadata": {},
   "source": [
    "# `Gene`: ensembl, release-109"
   ]
  },
  {
   "attachments": {},
   "cell_type": "markdown",
   "metadata": {},
   "source": [
    "- https://www.ensembl.org/info/data/mysql.html\n",
    "- https://www.ensembl.org/info/docs/api/core/core_schema.html"
   ]
  },
  {
   "attachments": {},
   "cell_type": "markdown",
   "metadata": {},
   "source": [
    "Install mysqlclient: https://pypi.org/project/mysqlclient/"
   ]
  },
  {
   "cell_type": "code",
   "execution_count": 1,
   "metadata": {},
   "outputs": [],
   "source": [
    "import pandas as pd\n",
    "from sqlalchemy import create_engine\n",
    "import mysql.connector as sql  # needed"
   ]
  },
  {
   "cell_type": "code",
   "execution_count": 2,
   "metadata": {},
   "outputs": [],
   "source": [
    "def get_url(db=\"homo_sapiens_core_109_38\"):\n",
    "    return f\"mysql+mysqldb://anonymous:@ensembldb.ensembl.org/{db}\""
   ]
  },
  {
   "attachments": {},
   "cell_type": "markdown",
   "metadata": {},
   "source": [
    "## Human"
   ]
  },
  {
   "cell_type": "code",
   "execution_count": 3,
   "metadata": {},
   "outputs": [],
   "source": [
    "engine = create_engine(url=get_url())"
   ]
  },
  {
   "attachments": {},
   "cell_type": "markdown",
   "metadata": {},
   "source": [
    "### Queries"
   ]
  },
  {
   "cell_type": "code",
   "execution_count": 4,
   "metadata": {},
   "outputs": [],
   "source": [
    "query_core = \"\"\"\n",
    "SELECT gene.stable_id, xref.display_label, gene.biotype, gene.description, external_synonym.synonym\n",
    "FROM gene\n",
    "LEFT JOIN xref ON gene.display_xref_id = xref.xref_id\n",
    "LEFT JOIN external_synonym ON gene.display_xref_id = external_synonym.xref_id\n",
    "\"\"\"\n",
    "\n",
    "query_external = \"\"\"\n",
    "SELECT gene.stable_id, object_xref.xref_id, xref.dbprimary_acc, external_db.db_name\n",
    "FROM gene\n",
    "LEFT JOIN object_xref ON gene.gene_id = object_xref.ensembl_id\n",
    "LEFT JOIN xref ON object_xref.xref_id = xref.xref_id\n",
    "LEFT JOIN external_db ON xref.external_db_id = external_db.external_db_id\n",
    "WHERE object_xref.ensembl_object_type = 'Gene' AND external_db.db_name IN ('HGNC', 'EntrezGene')\n",
    "\"\"\""
   ]
  },
  {
   "attachments": {},
   "cell_type": "markdown",
   "metadata": {},
   "source": [
    "Query for the basic gene annotations:"
   ]
  },
  {
   "cell_type": "code",
   "execution_count": 5,
   "metadata": {},
   "outputs": [
    {
     "data": {
      "text/plain": [
       "(111838, 5)"
      ]
     },
     "execution_count": 5,
     "metadata": {},
     "output_type": "execute_result"
    }
   ],
   "source": [
    "results_core = pd.read_sql(query_core, con=engine)\n",
    "results_core.shape"
   ]
  },
  {
   "cell_type": "code",
   "execution_count": 6,
   "metadata": {},
   "outputs": [
    {
     "data": {
      "text/html": [
       "<div>\n",
       "<style scoped>\n",
       "    .dataframe tbody tr th:only-of-type {\n",
       "        vertical-align: middle;\n",
       "    }\n",
       "\n",
       "    .dataframe tbody tr th {\n",
       "        vertical-align: top;\n",
       "    }\n",
       "\n",
       "    .dataframe thead th {\n",
       "        text-align: right;\n",
       "    }\n",
       "</style>\n",
       "<table border=\"1\" class=\"dataframe\">\n",
       "  <thead>\n",
       "    <tr style=\"text-align: right;\">\n",
       "      <th></th>\n",
       "      <th>stable_id</th>\n",
       "      <th>display_label</th>\n",
       "      <th>biotype</th>\n",
       "      <th>description</th>\n",
       "      <th>synonym</th>\n",
       "    </tr>\n",
       "  </thead>\n",
       "  <tbody>\n",
       "    <tr>\n",
       "      <th>0</th>\n",
       "      <td>ENSG00000210049</td>\n",
       "      <td>MT-TF</td>\n",
       "      <td>Mt_tRNA</td>\n",
       "      <td>mitochondrially encoded tRNA-Phe (UUU/C) [Sour...</td>\n",
       "      <td>MTTF</td>\n",
       "    </tr>\n",
       "    <tr>\n",
       "      <th>1</th>\n",
       "      <td>ENSG00000210049</td>\n",
       "      <td>MT-TF</td>\n",
       "      <td>Mt_tRNA</td>\n",
       "      <td>mitochondrially encoded tRNA-Phe (UUU/C) [Sour...</td>\n",
       "      <td>trnF</td>\n",
       "    </tr>\n",
       "    <tr>\n",
       "      <th>2</th>\n",
       "      <td>ENSG00000211459</td>\n",
       "      <td>MT-RNR1</td>\n",
       "      <td>Mt_rRNA</td>\n",
       "      <td>mitochondrially encoded 12S rRNA [Source:HGNC ...</td>\n",
       "      <td>12S</td>\n",
       "    </tr>\n",
       "    <tr>\n",
       "      <th>3</th>\n",
       "      <td>ENSG00000211459</td>\n",
       "      <td>MT-RNR1</td>\n",
       "      <td>Mt_rRNA</td>\n",
       "      <td>mitochondrially encoded 12S rRNA [Source:HGNC ...</td>\n",
       "      <td>MOTS-c</td>\n",
       "    </tr>\n",
       "    <tr>\n",
       "      <th>4</th>\n",
       "      <td>ENSG00000211459</td>\n",
       "      <td>MT-RNR1</td>\n",
       "      <td>Mt_rRNA</td>\n",
       "      <td>mitochondrially encoded 12S rRNA [Source:HGNC ...</td>\n",
       "      <td>MTRNR1</td>\n",
       "    </tr>\n",
       "  </tbody>\n",
       "</table>\n",
       "</div>"
      ],
      "text/plain": [
       "         stable_id display_label  biotype  \\\n",
       "0  ENSG00000210049         MT-TF  Mt_tRNA   \n",
       "1  ENSG00000210049         MT-TF  Mt_tRNA   \n",
       "2  ENSG00000211459       MT-RNR1  Mt_rRNA   \n",
       "3  ENSG00000211459       MT-RNR1  Mt_rRNA   \n",
       "4  ENSG00000211459       MT-RNR1  Mt_rRNA   \n",
       "\n",
       "                                         description synonym  \n",
       "0  mitochondrially encoded tRNA-Phe (UUU/C) [Sour...    MTTF  \n",
       "1  mitochondrially encoded tRNA-Phe (UUU/C) [Sour...    trnF  \n",
       "2  mitochondrially encoded 12S rRNA [Source:HGNC ...     12S  \n",
       "3  mitochondrially encoded 12S rRNA [Source:HGNC ...  MOTS-c  \n",
       "4  mitochondrially encoded 12S rRNA [Source:HGNC ...  MTRNR1  "
      ]
     },
     "execution_count": 6,
     "metadata": {},
     "output_type": "execute_result"
    }
   ],
   "source": [
    "results_core.head()"
   ]
  },
  {
   "cell_type": "code",
   "execution_count": 7,
   "metadata": {},
   "outputs": [],
   "source": [
    "results_core_group = results_core.groupby(\"stable_id\").agg(\n",
    "    {\n",
    "        \"display_label\": \"first\",\n",
    "        \"biotype\": \"first\",\n",
    "        \"description\": \"first\",\n",
    "        \"synonym\": lambda x: \"|\".join([i for i in set(x) if i is not None]),\n",
    "    }\n",
    ")"
   ]
  },
  {
   "cell_type": "code",
   "execution_count": 8,
   "metadata": {},
   "outputs": [
    {
     "data": {
      "text/html": [
       "<div>\n",
       "<style scoped>\n",
       "    .dataframe tbody tr th:only-of-type {\n",
       "        vertical-align: middle;\n",
       "    }\n",
       "\n",
       "    .dataframe tbody tr th {\n",
       "        vertical-align: top;\n",
       "    }\n",
       "\n",
       "    .dataframe thead th {\n",
       "        text-align: right;\n",
       "    }\n",
       "</style>\n",
       "<table border=\"1\" class=\"dataframe\">\n",
       "  <thead>\n",
       "    <tr style=\"text-align: right;\">\n",
       "      <th></th>\n",
       "      <th>display_label</th>\n",
       "      <th>biotype</th>\n",
       "      <th>description</th>\n",
       "      <th>synonym</th>\n",
       "    </tr>\n",
       "    <tr>\n",
       "      <th>stable_id</th>\n",
       "      <th></th>\n",
       "      <th></th>\n",
       "      <th></th>\n",
       "      <th></th>\n",
       "    </tr>\n",
       "  </thead>\n",
       "  <tbody>\n",
       "    <tr>\n",
       "      <th>ENSG00000000003</th>\n",
       "      <td>TSPAN6</td>\n",
       "      <td>protein_coding</td>\n",
       "      <td>tetraspanin 6 [Source:HGNC Symbol;Acc:HGNC:11858]</td>\n",
       "      <td>TM4SF6|T245|TSPAN-6</td>\n",
       "    </tr>\n",
       "    <tr>\n",
       "      <th>ENSG00000000005</th>\n",
       "      <td>TNMD</td>\n",
       "      <td>protein_coding</td>\n",
       "      <td>tenomodulin [Source:HGNC Symbol;Acc:HGNC:17757]</td>\n",
       "      <td>TEM|myodulin|tendin|BRICD4|ChM1L</td>\n",
       "    </tr>\n",
       "    <tr>\n",
       "      <th>ENSG00000000419</th>\n",
       "      <td>DPM1</td>\n",
       "      <td>protein_coding</td>\n",
       "      <td>dolichyl-phosphate mannosyltransferase subunit...</td>\n",
       "      <td>CDGIE|MPDS</td>\n",
       "    </tr>\n",
       "    <tr>\n",
       "      <th>ENSG00000000457</th>\n",
       "      <td>SCYL3</td>\n",
       "      <td>protein_coding</td>\n",
       "      <td>SCY1 like pseudokinase 3 [Source:HGNC Symbol;A...</td>\n",
       "      <td>PACE1|PACE-1</td>\n",
       "    </tr>\n",
       "    <tr>\n",
       "      <th>ENSG00000000460</th>\n",
       "      <td>C1orf112</td>\n",
       "      <td>protein_coding</td>\n",
       "      <td>chromosome 1 open reading frame 112 [Source:HG...</td>\n",
       "      <td>FLJ10706</td>\n",
       "    </tr>\n",
       "  </tbody>\n",
       "</table>\n",
       "</div>"
      ],
      "text/plain": [
       "                display_label         biotype  \\\n",
       "stable_id                                       \n",
       "ENSG00000000003        TSPAN6  protein_coding   \n",
       "ENSG00000000005          TNMD  protein_coding   \n",
       "ENSG00000000419          DPM1  protein_coding   \n",
       "ENSG00000000457         SCYL3  protein_coding   \n",
       "ENSG00000000460      C1orf112  protein_coding   \n",
       "\n",
       "                                                       description  \\\n",
       "stable_id                                                            \n",
       "ENSG00000000003  tetraspanin 6 [Source:HGNC Symbol;Acc:HGNC:11858]   \n",
       "ENSG00000000005    tenomodulin [Source:HGNC Symbol;Acc:HGNC:17757]   \n",
       "ENSG00000000419  dolichyl-phosphate mannosyltransferase subunit...   \n",
       "ENSG00000000457  SCY1 like pseudokinase 3 [Source:HGNC Symbol;A...   \n",
       "ENSG00000000460  chromosome 1 open reading frame 112 [Source:HG...   \n",
       "\n",
       "                                          synonym  \n",
       "stable_id                                          \n",
       "ENSG00000000003               TM4SF6|T245|TSPAN-6  \n",
       "ENSG00000000005  TEM|myodulin|tendin|BRICD4|ChM1L  \n",
       "ENSG00000000419                        CDGIE|MPDS  \n",
       "ENSG00000000457                      PACE1|PACE-1  \n",
       "ENSG00000000460                          FLJ10706  "
      ]
     },
     "execution_count": 8,
     "metadata": {},
     "output_type": "execute_result"
    }
   ],
   "source": [
    "results_core_group.head()"
   ]
  },
  {
   "cell_type": "code",
   "execution_count": 9,
   "metadata": {},
   "outputs": [],
   "source": [
    "results_core_group = results_core_group[results_core_group.index.str.startswith(\"ENS\")]"
   ]
  },
  {
   "cell_type": "code",
   "execution_count": 10,
   "metadata": {},
   "outputs": [
    {
     "data": {
      "text/plain": [
       "(69299, 4)"
      ]
     },
     "execution_count": 10,
     "metadata": {},
     "output_type": "execute_result"
    }
   ],
   "source": [
    "results_core_group.shape"
   ]
  },
  {
   "attachments": {},
   "cell_type": "markdown",
   "metadata": {},
   "source": [
    "Query for external ids:"
   ]
  },
  {
   "cell_type": "code",
   "execution_count": 11,
   "metadata": {},
   "outputs": [
    {
     "data": {
      "text/plain": [
       "(80857, 4)"
      ]
     },
     "execution_count": 11,
     "metadata": {},
     "output_type": "execute_result"
    }
   ],
   "source": [
    "results_external = pd.read_sql(query_external, con=engine)\n",
    "results_external = results_external[results_external.stable_id.str.startswith(\"ENS\")]\n",
    "results_external.shape"
   ]
  },
  {
   "cell_type": "code",
   "execution_count": 12,
   "metadata": {},
   "outputs": [
    {
     "data": {
      "text/html": [
       "<div>\n",
       "<style scoped>\n",
       "    .dataframe tbody tr th:only-of-type {\n",
       "        vertical-align: middle;\n",
       "    }\n",
       "\n",
       "    .dataframe tbody tr th {\n",
       "        vertical-align: top;\n",
       "    }\n",
       "\n",
       "    .dataframe thead th {\n",
       "        text-align: right;\n",
       "    }\n",
       "</style>\n",
       "<table border=\"1\" class=\"dataframe\">\n",
       "  <thead>\n",
       "    <tr style=\"text-align: right;\">\n",
       "      <th></th>\n",
       "      <th>stable_id</th>\n",
       "      <th>xref_id</th>\n",
       "      <th>dbprimary_acc</th>\n",
       "      <th>db_name</th>\n",
       "    </tr>\n",
       "  </thead>\n",
       "  <tbody>\n",
       "    <tr>\n",
       "      <th>0</th>\n",
       "      <td>ENSG00000210049</td>\n",
       "      <td>2898423</td>\n",
       "      <td>HGNC:7481</td>\n",
       "      <td>HGNC</td>\n",
       "    </tr>\n",
       "    <tr>\n",
       "      <th>1</th>\n",
       "      <td>ENSG00000211459</td>\n",
       "      <td>2898394</td>\n",
       "      <td>HGNC:7470</td>\n",
       "      <td>HGNC</td>\n",
       "    </tr>\n",
       "  </tbody>\n",
       "</table>\n",
       "</div>"
      ],
      "text/plain": [
       "         stable_id  xref_id dbprimary_acc db_name\n",
       "0  ENSG00000210049  2898423     HGNC:7481    HGNC\n",
       "1  ENSG00000211459  2898394     HGNC:7470    HGNC"
      ]
     },
     "execution_count": 12,
     "metadata": {},
     "output_type": "execute_result"
    }
   ],
   "source": [
    "results_external.head(2)"
   ]
  },
  {
   "attachments": {},
   "cell_type": "markdown",
   "metadata": {},
   "source": [
    "### HGNC"
   ]
  },
  {
   "cell_type": "code",
   "execution_count": 13,
   "metadata": {},
   "outputs": [],
   "source": [
    "hgnc = (\n",
    "    results_external[results_external[\"db_name\"] == \"HGNC\"]\n",
    "    .drop_duplicates([\"stable_id\", \"dbprimary_acc\"])\n",
    "    .drop(columns=[\"xref_id\", \"db_name\"])\n",
    ")\n",
    "hgnc.rename(columns={\"dbprimary_acc\": \"hgnc_id\"}, inplace=True)"
   ]
  },
  {
   "cell_type": "code",
   "execution_count": 14,
   "metadata": {},
   "outputs": [
    {
     "data": {
      "text/html": [
       "<div>\n",
       "<style scoped>\n",
       "    .dataframe tbody tr th:only-of-type {\n",
       "        vertical-align: middle;\n",
       "    }\n",
       "\n",
       "    .dataframe tbody tr th {\n",
       "        vertical-align: top;\n",
       "    }\n",
       "\n",
       "    .dataframe thead th {\n",
       "        text-align: right;\n",
       "    }\n",
       "</style>\n",
       "<table border=\"1\" class=\"dataframe\">\n",
       "  <thead>\n",
       "    <tr style=\"text-align: right;\">\n",
       "      <th></th>\n",
       "      <th>stable_id</th>\n",
       "      <th>hgnc_id</th>\n",
       "    </tr>\n",
       "  </thead>\n",
       "  <tbody>\n",
       "    <tr>\n",
       "      <th>6193</th>\n",
       "      <td>ENSG00000277796</td>\n",
       "      <td>HGNC:10628</td>\n",
       "    </tr>\n",
       "    <tr>\n",
       "      <th>6195</th>\n",
       "      <td>ENSG00000277796</td>\n",
       "      <td>HGNC:30554</td>\n",
       "    </tr>\n",
       "    <tr>\n",
       "      <th>6366</th>\n",
       "      <td>ENSG00000277768</td>\n",
       "      <td>HGNC:10628</td>\n",
       "    </tr>\n",
       "    <tr>\n",
       "      <th>6368</th>\n",
       "      <td>ENSG00000277768</td>\n",
       "      <td>HGNC:30554</td>\n",
       "    </tr>\n",
       "    <tr>\n",
       "      <th>9921</th>\n",
       "      <td>ENSG00000277336</td>\n",
       "      <td>HGNC:10628</td>\n",
       "    </tr>\n",
       "    <tr>\n",
       "      <th>9923</th>\n",
       "      <td>ENSG00000277336</td>\n",
       "      <td>HGNC:30554</td>\n",
       "    </tr>\n",
       "    <tr>\n",
       "      <th>12519</th>\n",
       "      <td>ENSG00000288487</td>\n",
       "      <td>HGNC:16346</td>\n",
       "    </tr>\n",
       "    <tr>\n",
       "      <th>12520</th>\n",
       "      <td>ENSG00000288487</td>\n",
       "      <td>HGNC:6335</td>\n",
       "    </tr>\n",
       "    <tr>\n",
       "      <th>17707</th>\n",
       "      <td>ENSG00000230417</td>\n",
       "      <td>HGNC:31430</td>\n",
       "    </tr>\n",
       "    <tr>\n",
       "      <th>17708</th>\n",
       "      <td>ENSG00000230417</td>\n",
       "      <td>HGNC:45111</td>\n",
       "    </tr>\n",
       "    <tr>\n",
       "      <th>79713</th>\n",
       "      <td>ENSG00000276085</td>\n",
       "      <td>HGNC:10628</td>\n",
       "    </tr>\n",
       "    <tr>\n",
       "      <th>79715</th>\n",
       "      <td>ENSG00000276085</td>\n",
       "      <td>HGNC:30554</td>\n",
       "    </tr>\n",
       "  </tbody>\n",
       "</table>\n",
       "</div>"
      ],
      "text/plain": [
       "             stable_id     hgnc_id\n",
       "6193   ENSG00000277796  HGNC:10628\n",
       "6195   ENSG00000277796  HGNC:30554\n",
       "6366   ENSG00000277768  HGNC:10628\n",
       "6368   ENSG00000277768  HGNC:30554\n",
       "9921   ENSG00000277336  HGNC:10628\n",
       "9923   ENSG00000277336  HGNC:30554\n",
       "12519  ENSG00000288487  HGNC:16346\n",
       "12520  ENSG00000288487   HGNC:6335\n",
       "17707  ENSG00000230417  HGNC:31430\n",
       "17708  ENSG00000230417  HGNC:45111\n",
       "79713  ENSG00000276085  HGNC:10628\n",
       "79715  ENSG00000276085  HGNC:30554"
      ]
     },
     "execution_count": 14,
     "metadata": {},
     "output_type": "execute_result"
    }
   ],
   "source": [
    "dup = hgnc[hgnc.stable_id.duplicated(keep=False)]\n",
    "dup"
   ]
  },
  {
   "cell_type": "code",
   "execution_count": 15,
   "metadata": {},
   "outputs": [],
   "source": [
    "# resolved by searching on https://www.genenames.org\n",
    "\n",
    "cond1 = (hgnc.stable_id == \"ENSG00000277796\") & (hgnc.hgnc_id == \"HGNC:10628\")\n",
    "cond2 = (hgnc.stable_id == \"ENSG00000276085\") & (hgnc.hgnc_id == \"HGNC:30554\")\n",
    "# ENSG00000230417 is mapped to both HGNC:31430 and HGNC:45111\n",
    "cond3 = hgnc.stable_id == \"ENSG00000230417\"\n",
    "\n",
    "hgnc = hgnc[~(cond1 | cond2 | cond3)].set_index(\"stable_id\")"
   ]
  },
  {
   "cell_type": "code",
   "execution_count": 16,
   "metadata": {},
   "outputs": [
    {
     "data": {
      "text/html": [
       "<div>\n",
       "<style scoped>\n",
       "    .dataframe tbody tr th:only-of-type {\n",
       "        vertical-align: middle;\n",
       "    }\n",
       "\n",
       "    .dataframe tbody tr th {\n",
       "        vertical-align: top;\n",
       "    }\n",
       "\n",
       "    .dataframe thead th {\n",
       "        text-align: right;\n",
       "    }\n",
       "</style>\n",
       "<table border=\"1\" class=\"dataframe\">\n",
       "  <thead>\n",
       "    <tr style=\"text-align: right;\">\n",
       "      <th></th>\n",
       "      <th>hgnc_id</th>\n",
       "    </tr>\n",
       "    <tr>\n",
       "      <th>stable_id</th>\n",
       "      <th></th>\n",
       "    </tr>\n",
       "  </thead>\n",
       "  <tbody>\n",
       "    <tr>\n",
       "      <th>ENSG00000277768</th>\n",
       "      <td>HGNC:30554</td>\n",
       "    </tr>\n",
       "    <tr>\n",
       "      <th>ENSG00000277336</th>\n",
       "      <td>HGNC:30554</td>\n",
       "    </tr>\n",
       "    <tr>\n",
       "      <th>ENSG00000288487</th>\n",
       "      <td>HGNC:6335</td>\n",
       "    </tr>\n",
       "  </tbody>\n",
       "</table>\n",
       "</div>"
      ],
      "text/plain": [
       "                    hgnc_id\n",
       "stable_id                  \n",
       "ENSG00000277768  HGNC:30554\n",
       "ENSG00000277336  HGNC:30554\n",
       "ENSG00000288487   HGNC:6335"
      ]
     },
     "execution_count": 16,
     "metadata": {},
     "output_type": "execute_result"
    }
   ],
   "source": [
    "hgnc[hgnc.index.duplicated()]"
   ]
  },
  {
   "attachments": {},
   "cell_type": "markdown",
   "metadata": {},
   "source": [
    "### Entrez"
   ]
  },
  {
   "cell_type": "code",
   "execution_count": 17,
   "metadata": {},
   "outputs": [],
   "source": [
    "entrez = (\n",
    "    results_external[results_external[\"db_name\"] == \"EntrezGene\"]\n",
    "    .drop_duplicates([\"stable_id\", \"dbprimary_acc\"])\n",
    "    .drop(columns=[\"xref_id\", \"db_name\"])\n",
    ")\n",
    "entrez.rename(columns={\"dbprimary_acc\": \"ncbi_gene_id\"}, inplace=True)\n",
    "entrez = entrez.set_index(\"stable_id\")"
   ]
  },
  {
   "cell_type": "code",
   "execution_count": 18,
   "metadata": {},
   "outputs": [
    {
     "data": {
      "text/html": [
       "<div>\n",
       "<style scoped>\n",
       "    .dataframe tbody tr th:only-of-type {\n",
       "        vertical-align: middle;\n",
       "    }\n",
       "\n",
       "    .dataframe tbody tr th {\n",
       "        vertical-align: top;\n",
       "    }\n",
       "\n",
       "    .dataframe thead th {\n",
       "        text-align: right;\n",
       "    }\n",
       "</style>\n",
       "<table border=\"1\" class=\"dataframe\">\n",
       "  <thead>\n",
       "    <tr style=\"text-align: right;\">\n",
       "      <th></th>\n",
       "      <th>ncbi_gene_id</th>\n",
       "    </tr>\n",
       "    <tr>\n",
       "      <th>stable_id</th>\n",
       "      <th></th>\n",
       "    </tr>\n",
       "  </thead>\n",
       "  <tbody>\n",
       "    <tr>\n",
       "      <th>ENSG00000278294</th>\n",
       "      <td>124907156</td>\n",
       "    </tr>\n",
       "    <tr>\n",
       "      <th>ENSG00000278294</th>\n",
       "      <td>124907485</td>\n",
       "    </tr>\n",
       "    <tr>\n",
       "      <th>ENSG00000278294</th>\n",
       "      <td>124908250</td>\n",
       "    </tr>\n",
       "    <tr>\n",
       "      <th>ENSG00000276779</th>\n",
       "      <td>3805</td>\n",
       "    </tr>\n",
       "    <tr>\n",
       "      <th>ENSG00000276779</th>\n",
       "      <td>124900568</td>\n",
       "    </tr>\n",
       "    <tr>\n",
       "      <th>...</th>\n",
       "      <td>...</td>\n",
       "    </tr>\n",
       "    <tr>\n",
       "      <th>ENSG00000273768</th>\n",
       "      <td>124905574</td>\n",
       "    </tr>\n",
       "    <tr>\n",
       "      <th>ENSG00000273768</th>\n",
       "      <td>124905808</td>\n",
       "    </tr>\n",
       "    <tr>\n",
       "      <th>ENSG00000273768</th>\n",
       "      <td>124905809</td>\n",
       "    </tr>\n",
       "    <tr>\n",
       "      <th>ENSG00000178104</th>\n",
       "      <td>9659</td>\n",
       "    </tr>\n",
       "    <tr>\n",
       "      <th>ENSG00000178104</th>\n",
       "      <td>124904395</td>\n",
       "    </tr>\n",
       "  </tbody>\n",
       "</table>\n",
       "<p>6437 rows × 1 columns</p>\n",
       "</div>"
      ],
      "text/plain": [
       "                ncbi_gene_id\n",
       "stable_id                   \n",
       "ENSG00000278294    124907156\n",
       "ENSG00000278294    124907485\n",
       "ENSG00000278294    124908250\n",
       "ENSG00000276779         3805\n",
       "ENSG00000276779    124900568\n",
       "...                      ...\n",
       "ENSG00000273768    124905574\n",
       "ENSG00000273768    124905808\n",
       "ENSG00000273768    124905809\n",
       "ENSG00000178104         9659\n",
       "ENSG00000178104    124904395\n",
       "\n",
       "[6437 rows x 1 columns]"
      ]
     },
     "execution_count": 18,
     "metadata": {},
     "output_type": "execute_result"
    }
   ],
   "source": [
    "dup = entrez[entrez.index.duplicated(keep=False)]\n",
    "dup"
   ]
  },
  {
   "attachments": {},
   "cell_type": "markdown",
   "metadata": {},
   "source": [
    "### Merge Ensembl with HGNC and Entrez"
   ]
  },
  {
   "cell_type": "code",
   "execution_count": 19,
   "metadata": {},
   "outputs": [
    {
     "data": {
      "text/html": [
       "<div>\n",
       "<style scoped>\n",
       "    .dataframe tbody tr th:only-of-type {\n",
       "        vertical-align: middle;\n",
       "    }\n",
       "\n",
       "    .dataframe tbody tr th {\n",
       "        vertical-align: top;\n",
       "    }\n",
       "\n",
       "    .dataframe thead th {\n",
       "        text-align: right;\n",
       "    }\n",
       "</style>\n",
       "<table border=\"1\" class=\"dataframe\">\n",
       "  <thead>\n",
       "    <tr style=\"text-align: right;\">\n",
       "      <th></th>\n",
       "      <th>display_label</th>\n",
       "      <th>biotype</th>\n",
       "      <th>description</th>\n",
       "      <th>synonym</th>\n",
       "    </tr>\n",
       "    <tr>\n",
       "      <th>stable_id</th>\n",
       "      <th></th>\n",
       "      <th></th>\n",
       "      <th></th>\n",
       "      <th></th>\n",
       "    </tr>\n",
       "  </thead>\n",
       "  <tbody>\n",
       "    <tr>\n",
       "      <th>ENSG00000000003</th>\n",
       "      <td>TSPAN6</td>\n",
       "      <td>protein_coding</td>\n",
       "      <td>tetraspanin 6 [Source:HGNC Symbol;Acc:HGNC:11858]</td>\n",
       "      <td>TM4SF6|T245|TSPAN-6</td>\n",
       "    </tr>\n",
       "    <tr>\n",
       "      <th>ENSG00000000005</th>\n",
       "      <td>TNMD</td>\n",
       "      <td>protein_coding</td>\n",
       "      <td>tenomodulin [Source:HGNC Symbol;Acc:HGNC:17757]</td>\n",
       "      <td>TEM|myodulin|tendin|BRICD4|ChM1L</td>\n",
       "    </tr>\n",
       "    <tr>\n",
       "      <th>ENSG00000000419</th>\n",
       "      <td>DPM1</td>\n",
       "      <td>protein_coding</td>\n",
       "      <td>dolichyl-phosphate mannosyltransferase subunit...</td>\n",
       "      <td>CDGIE|MPDS</td>\n",
       "    </tr>\n",
       "    <tr>\n",
       "      <th>ENSG00000000457</th>\n",
       "      <td>SCYL3</td>\n",
       "      <td>protein_coding</td>\n",
       "      <td>SCY1 like pseudokinase 3 [Source:HGNC Symbol;A...</td>\n",
       "      <td>PACE1|PACE-1</td>\n",
       "    </tr>\n",
       "    <tr>\n",
       "      <th>ENSG00000000460</th>\n",
       "      <td>C1orf112</td>\n",
       "      <td>protein_coding</td>\n",
       "      <td>chromosome 1 open reading frame 112 [Source:HG...</td>\n",
       "      <td>FLJ10706</td>\n",
       "    </tr>\n",
       "    <tr>\n",
       "      <th>...</th>\n",
       "      <td>...</td>\n",
       "      <td>...</td>\n",
       "      <td>...</td>\n",
       "      <td>...</td>\n",
       "    </tr>\n",
       "    <tr>\n",
       "      <th>ENSG00000291313</th>\n",
       "      <td>None</td>\n",
       "      <td>protein_coding</td>\n",
       "      <td>novel protein</td>\n",
       "      <td></td>\n",
       "    </tr>\n",
       "    <tr>\n",
       "      <th>ENSG00000291314</th>\n",
       "      <td>None</td>\n",
       "      <td>protein_coding</td>\n",
       "      <td>novel protein</td>\n",
       "      <td></td>\n",
       "    </tr>\n",
       "    <tr>\n",
       "      <th>ENSG00000291315</th>\n",
       "      <td>None</td>\n",
       "      <td>protein_coding</td>\n",
       "      <td>novel protein</td>\n",
       "      <td></td>\n",
       "    </tr>\n",
       "    <tr>\n",
       "      <th>ENSG00000291316</th>\n",
       "      <td>None</td>\n",
       "      <td>protein_coding</td>\n",
       "      <td>novel protein, LOC84773-CYHR1 readthrough</td>\n",
       "      <td></td>\n",
       "    </tr>\n",
       "    <tr>\n",
       "      <th>ENSG00000291317</th>\n",
       "      <td>TMEM276</td>\n",
       "      <td>protein_coding</td>\n",
       "      <td>transmembrane protein 276 [Source:HGNC Symbol;...</td>\n",
       "      <td></td>\n",
       "    </tr>\n",
       "  </tbody>\n",
       "</table>\n",
       "<p>69299 rows × 4 columns</p>\n",
       "</div>"
      ],
      "text/plain": [
       "                display_label         biotype  \\\n",
       "stable_id                                       \n",
       "ENSG00000000003        TSPAN6  protein_coding   \n",
       "ENSG00000000005          TNMD  protein_coding   \n",
       "ENSG00000000419          DPM1  protein_coding   \n",
       "ENSG00000000457         SCYL3  protein_coding   \n",
       "ENSG00000000460      C1orf112  protein_coding   \n",
       "...                       ...             ...   \n",
       "ENSG00000291313          None  protein_coding   \n",
       "ENSG00000291314          None  protein_coding   \n",
       "ENSG00000291315          None  protein_coding   \n",
       "ENSG00000291316          None  protein_coding   \n",
       "ENSG00000291317       TMEM276  protein_coding   \n",
       "\n",
       "                                                       description  \\\n",
       "stable_id                                                            \n",
       "ENSG00000000003  tetraspanin 6 [Source:HGNC Symbol;Acc:HGNC:11858]   \n",
       "ENSG00000000005    tenomodulin [Source:HGNC Symbol;Acc:HGNC:17757]   \n",
       "ENSG00000000419  dolichyl-phosphate mannosyltransferase subunit...   \n",
       "ENSG00000000457  SCY1 like pseudokinase 3 [Source:HGNC Symbol;A...   \n",
       "ENSG00000000460  chromosome 1 open reading frame 112 [Source:HG...   \n",
       "...                                                            ...   \n",
       "ENSG00000291313                                      novel protein   \n",
       "ENSG00000291314                                      novel protein   \n",
       "ENSG00000291315                                      novel protein   \n",
       "ENSG00000291316          novel protein, LOC84773-CYHR1 readthrough   \n",
       "ENSG00000291317  transmembrane protein 276 [Source:HGNC Symbol;...   \n",
       "\n",
       "                                          synonym  \n",
       "stable_id                                          \n",
       "ENSG00000000003               TM4SF6|T245|TSPAN-6  \n",
       "ENSG00000000005  TEM|myodulin|tendin|BRICD4|ChM1L  \n",
       "ENSG00000000419                        CDGIE|MPDS  \n",
       "ENSG00000000457                      PACE1|PACE-1  \n",
       "ENSG00000000460                          FLJ10706  \n",
       "...                                           ...  \n",
       "ENSG00000291313                                    \n",
       "ENSG00000291314                                    \n",
       "ENSG00000291315                                    \n",
       "ENSG00000291316                                    \n",
       "ENSG00000291317                                    \n",
       "\n",
       "[69299 rows x 4 columns]"
      ]
     },
     "execution_count": 19,
     "metadata": {},
     "output_type": "execute_result"
    }
   ],
   "source": [
    "results_core_group"
   ]
  },
  {
   "cell_type": "code",
   "execution_count": 20,
   "metadata": {},
   "outputs": [
    {
     "data": {
      "text/html": [
       "<div>\n",
       "<style scoped>\n",
       "    .dataframe tbody tr th:only-of-type {\n",
       "        vertical-align: middle;\n",
       "    }\n",
       "\n",
       "    .dataframe tbody tr th {\n",
       "        vertical-align: top;\n",
       "    }\n",
       "\n",
       "    .dataframe thead th {\n",
       "        text-align: right;\n",
       "    }\n",
       "</style>\n",
       "<table border=\"1\" class=\"dataframe\">\n",
       "  <thead>\n",
       "    <tr style=\"text-align: right;\">\n",
       "      <th></th>\n",
       "      <th>display_label</th>\n",
       "      <th>biotype</th>\n",
       "      <th>description</th>\n",
       "      <th>synonym</th>\n",
       "      <th>hgnc_id</th>\n",
       "    </tr>\n",
       "    <tr>\n",
       "      <th>stable_id</th>\n",
       "      <th></th>\n",
       "      <th></th>\n",
       "      <th></th>\n",
       "      <th></th>\n",
       "      <th></th>\n",
       "    </tr>\n",
       "  </thead>\n",
       "  <tbody>\n",
       "    <tr>\n",
       "      <th>ENSG00000277336</th>\n",
       "      <td>CCL3L3</td>\n",
       "      <td>protein_coding</td>\n",
       "      <td>C-C motif chemokine ligand 3 like 3 [Source:HG...</td>\n",
       "      <td>MGC12815</td>\n",
       "      <td>HGNC:30554</td>\n",
       "    </tr>\n",
       "    <tr>\n",
       "      <th>ENSG00000277768</th>\n",
       "      <td>CCL3L3</td>\n",
       "      <td>protein_coding</td>\n",
       "      <td>C-C motif chemokine ligand 3 like 3 [Source:HG...</td>\n",
       "      <td>MGC12815</td>\n",
       "      <td>HGNC:30554</td>\n",
       "    </tr>\n",
       "    <tr>\n",
       "      <th>ENSG00000288487</th>\n",
       "      <td>KIR2DS3</td>\n",
       "      <td>protein_coding</td>\n",
       "      <td>killer cell immunoglobulin like receptor, two ...</td>\n",
       "      <td>nkat7</td>\n",
       "      <td>HGNC:6335</td>\n",
       "    </tr>\n",
       "  </tbody>\n",
       "</table>\n",
       "</div>"
      ],
      "text/plain": [
       "                display_label         biotype  \\\n",
       "stable_id                                       \n",
       "ENSG00000277336        CCL3L3  protein_coding   \n",
       "ENSG00000277768        CCL3L3  protein_coding   \n",
       "ENSG00000288487       KIR2DS3  protein_coding   \n",
       "\n",
       "                                                       description   synonym  \\\n",
       "stable_id                                                                      \n",
       "ENSG00000277336  C-C motif chemokine ligand 3 like 3 [Source:HG...  MGC12815   \n",
       "ENSG00000277768  C-C motif chemokine ligand 3 like 3 [Source:HG...  MGC12815   \n",
       "ENSG00000288487  killer cell immunoglobulin like receptor, two ...     nkat7   \n",
       "\n",
       "                    hgnc_id  \n",
       "stable_id                    \n",
       "ENSG00000277336  HGNC:30554  \n",
       "ENSG00000277768  HGNC:30554  \n",
       "ENSG00000288487   HGNC:6335  "
      ]
     },
     "execution_count": 20,
     "metadata": {},
     "output_type": "execute_result"
    }
   ],
   "source": [
    "df = results_core_group.merge(hgnc, left_index=True, right_index=True, how=\"outer\")\n",
    "df[df.index.duplicated()]"
   ]
  },
  {
   "cell_type": "code",
   "execution_count": null,
   "metadata": {},
   "outputs": [],
   "source": [
    "df = df.merge(entrez, left_index=True, right_index=True, how=\"outer\")"
   ]
  },
  {
   "cell_type": "code",
   "execution_count": 22,
   "metadata": {},
   "outputs": [],
   "source": [
    "df = df.reset_index()\n",
    "df.rename(\n",
    "    columns={\"stable_id\": \"ensembl_gene_id\", \"display_label\": \"symbol\"}, inplace=True\n",
    ")\n",
    "df = df[\n",
    "    [\n",
    "        \"ensembl_gene_id\",\n",
    "        \"symbol\",\n",
    "        \"ncbi_gene_id\",\n",
    "        \"hgnc_id\",\n",
    "        \"biotype\",\n",
    "        \"description\",\n",
    "        \"synonym\",\n",
    "    ]\n",
    "]"
   ]
  },
  {
   "cell_type": "code",
   "execution_count": 50,
   "metadata": {},
   "outputs": [
    {
     "data": {
      "text/html": [
       "<div>\n",
       "<style scoped>\n",
       "    .dataframe tbody tr th:only-of-type {\n",
       "        vertical-align: middle;\n",
       "    }\n",
       "\n",
       "    .dataframe tbody tr th {\n",
       "        vertical-align: top;\n",
       "    }\n",
       "\n",
       "    .dataframe thead th {\n",
       "        text-align: right;\n",
       "    }\n",
       "</style>\n",
       "<table border=\"1\" class=\"dataframe\">\n",
       "  <thead>\n",
       "    <tr style=\"text-align: right;\">\n",
       "      <th></th>\n",
       "      <th>ensembl_gene_id</th>\n",
       "      <th>symbol</th>\n",
       "      <th>ncbi_gene_id</th>\n",
       "      <th>hgnc_id</th>\n",
       "      <th>biotype</th>\n",
       "      <th>description</th>\n",
       "      <th>synonym</th>\n",
       "    </tr>\n",
       "  </thead>\n",
       "  <tbody>\n",
       "    <tr>\n",
       "      <th>0</th>\n",
       "      <td>ENSG00000000003</td>\n",
       "      <td>TSPAN6</td>\n",
       "      <td>7105</td>\n",
       "      <td>HGNC:11858</td>\n",
       "      <td>protein_coding</td>\n",
       "      <td>tetraspanin 6 [Source:HGNC Symbol;Acc:HGNC:11858]</td>\n",
       "      <td>TM4SF6|T245|TSPAN-6</td>\n",
       "    </tr>\n",
       "    <tr>\n",
       "      <th>1</th>\n",
       "      <td>ENSG00000000005</td>\n",
       "      <td>TNMD</td>\n",
       "      <td>64102</td>\n",
       "      <td>HGNC:17757</td>\n",
       "      <td>protein_coding</td>\n",
       "      <td>tenomodulin [Source:HGNC Symbol;Acc:HGNC:17757]</td>\n",
       "      <td>TEM|myodulin|tendin|BRICD4|ChM1L</td>\n",
       "    </tr>\n",
       "    <tr>\n",
       "      <th>2</th>\n",
       "      <td>ENSG00000000419</td>\n",
       "      <td>DPM1</td>\n",
       "      <td>8813</td>\n",
       "      <td>HGNC:3005</td>\n",
       "      <td>protein_coding</td>\n",
       "      <td>dolichyl-phosphate mannosyltransferase subunit...</td>\n",
       "      <td>CDGIE|MPDS</td>\n",
       "    </tr>\n",
       "    <tr>\n",
       "      <th>3</th>\n",
       "      <td>ENSG00000000457</td>\n",
       "      <td>SCYL3</td>\n",
       "      <td>57147</td>\n",
       "      <td>HGNC:19285</td>\n",
       "      <td>protein_coding</td>\n",
       "      <td>SCY1 like pseudokinase 3 [Source:HGNC Symbol;A...</td>\n",
       "      <td>PACE1|PACE-1</td>\n",
       "    </tr>\n",
       "    <tr>\n",
       "      <th>4</th>\n",
       "      <td>ENSG00000000460</td>\n",
       "      <td>C1orf112</td>\n",
       "      <td>55732</td>\n",
       "      <td>HGNC:25565</td>\n",
       "      <td>protein_coding</td>\n",
       "      <td>chromosome 1 open reading frame 112 [Source:HG...</td>\n",
       "      <td>FLJ10706</td>\n",
       "    </tr>\n",
       "  </tbody>\n",
       "</table>\n",
       "</div>"
      ],
      "text/plain": [
       "   ensembl_gene_id    symbol ncbi_gene_id     hgnc_id         biotype  \\\n",
       "0  ENSG00000000003    TSPAN6         7105  HGNC:11858  protein_coding   \n",
       "1  ENSG00000000005      TNMD        64102  HGNC:17757  protein_coding   \n",
       "2  ENSG00000000419      DPM1         8813   HGNC:3005  protein_coding   \n",
       "3  ENSG00000000457     SCYL3        57147  HGNC:19285  protein_coding   \n",
       "4  ENSG00000000460  C1orf112        55732  HGNC:25565  protein_coding   \n",
       "\n",
       "                                         description  \\\n",
       "0  tetraspanin 6 [Source:HGNC Symbol;Acc:HGNC:11858]   \n",
       "1    tenomodulin [Source:HGNC Symbol;Acc:HGNC:17757]   \n",
       "2  dolichyl-phosphate mannosyltransferase subunit...   \n",
       "3  SCY1 like pseudokinase 3 [Source:HGNC Symbol;A...   \n",
       "4  chromosome 1 open reading frame 112 [Source:HG...   \n",
       "\n",
       "                            synonym  \n",
       "0               TM4SF6|T245|TSPAN-6  \n",
       "1  TEM|myodulin|tendin|BRICD4|ChM1L  \n",
       "2                        CDGIE|MPDS  \n",
       "3                      PACE1|PACE-1  \n",
       "4                          FLJ10706  "
      ]
     },
     "execution_count": 50,
     "metadata": {},
     "output_type": "execute_result"
    }
   ],
   "source": [
    "df.head()"
   ]
  },
  {
   "cell_type": "code",
   "execution_count": 51,
   "metadata": {},
   "outputs": [
    {
     "data": {
      "text/plain": [
       "(75124, 7)"
      ]
     },
     "execution_count": 51,
     "metadata": {},
     "output_type": "execute_result"
    }
   ],
   "source": [
    "df.shape"
   ]
  },
  {
   "cell_type": "code",
   "execution_count": 52,
   "metadata": {},
   "outputs": [],
   "source": [
    "df.to_parquet(\"human_ensembl_release-109_Gene_lookup.parquet\")"
   ]
  },
  {
   "attachments": {},
   "cell_type": "markdown",
   "metadata": {},
   "source": [
    "Uploaded to: s3://bionty-assets/human_ensembl_release-109_Gene_lookup.parquet"
   ]
  },
  {
   "attachments": {},
   "cell_type": "markdown",
   "metadata": {},
   "source": [
    "## Mouse"
   ]
  },
  {
   "cell_type": "code",
   "execution_count": 25,
   "metadata": {},
   "outputs": [],
   "source": [
    "engine = create_engine(url=get_url(\"mus_musculus_core_109_39\"))"
   ]
  },
  {
   "attachments": {},
   "cell_type": "markdown",
   "metadata": {},
   "source": [
    "### Queries"
   ]
  },
  {
   "cell_type": "code",
   "execution_count": 26,
   "metadata": {},
   "outputs": [],
   "source": [
    "query_core = \"\"\"\n",
    "SELECT gene.stable_id, xref.display_label, gene.biotype, gene.description, external_synonym.synonym\n",
    "FROM gene\n",
    "LEFT JOIN xref ON gene.display_xref_id = xref.xref_id\n",
    "LEFT JOIN external_synonym ON gene.display_xref_id = external_synonym.xref_id\n",
    "\"\"\"\n",
    "\n",
    "query_external = \"\"\"\n",
    "SELECT gene.stable_id, object_xref.xref_id, xref.dbprimary_acc, external_db.db_name\n",
    "FROM gene\n",
    "LEFT JOIN object_xref ON gene.gene_id = object_xref.ensembl_id\n",
    "LEFT JOIN xref ON object_xref.xref_id = xref.xref_id\n",
    "LEFT JOIN external_db ON xref.external_db_id = external_db.external_db_id\n",
    "WHERE object_xref.ensembl_object_type = 'Gene' AND external_db.db_name IN ('MGI')\n",
    "\"\"\""
   ]
  },
  {
   "attachments": {},
   "cell_type": "markdown",
   "metadata": {},
   "source": [
    "Query for the basic gene annotations:"
   ]
  },
  {
   "cell_type": "code",
   "execution_count": 27,
   "metadata": {},
   "outputs": [
    {
     "data": {
      "text/plain": [
       "(84720, 5)"
      ]
     },
     "execution_count": 27,
     "metadata": {},
     "output_type": "execute_result"
    }
   ],
   "source": [
    "results_core = pd.read_sql(query_core, con=engine)\n",
    "results_core.shape"
   ]
  },
  {
   "cell_type": "code",
   "execution_count": 28,
   "metadata": {},
   "outputs": [
    {
     "data": {
      "text/html": [
       "<div>\n",
       "<style scoped>\n",
       "    .dataframe tbody tr th:only-of-type {\n",
       "        vertical-align: middle;\n",
       "    }\n",
       "\n",
       "    .dataframe tbody tr th {\n",
       "        vertical-align: top;\n",
       "    }\n",
       "\n",
       "    .dataframe thead th {\n",
       "        text-align: right;\n",
       "    }\n",
       "</style>\n",
       "<table border=\"1\" class=\"dataframe\">\n",
       "  <thead>\n",
       "    <tr style=\"text-align: right;\">\n",
       "      <th></th>\n",
       "      <th>stable_id</th>\n",
       "      <th>display_label</th>\n",
       "      <th>biotype</th>\n",
       "      <th>description</th>\n",
       "      <th>synonym</th>\n",
       "    </tr>\n",
       "  </thead>\n",
       "  <tbody>\n",
       "    <tr>\n",
       "      <th>0</th>\n",
       "      <td>ENSMUSG00000064336</td>\n",
       "      <td>mt-Tf</td>\n",
       "      <td>Mt_tRNA</td>\n",
       "      <td>mitochondrially encoded tRNA phenylalanine [So...</td>\n",
       "      <td>tRNA</td>\n",
       "    </tr>\n",
       "    <tr>\n",
       "      <th>1</th>\n",
       "      <td>ENSMUSG00000064336</td>\n",
       "      <td>mt-Tf</td>\n",
       "      <td>Mt_tRNA</td>\n",
       "      <td>mitochondrially encoded tRNA phenylalanine [So...</td>\n",
       "      <td>tRNA-Phe</td>\n",
       "    </tr>\n",
       "    <tr>\n",
       "      <th>2</th>\n",
       "      <td>ENSMUSG00000064336</td>\n",
       "      <td>mt-Tf</td>\n",
       "      <td>Mt_tRNA</td>\n",
       "      <td>mitochondrially encoded tRNA phenylalanine [So...</td>\n",
       "      <td>TrnF tRNA</td>\n",
       "    </tr>\n",
       "    <tr>\n",
       "      <th>3</th>\n",
       "      <td>ENSMUSG00000064337</td>\n",
       "      <td>mt-Rnr1</td>\n",
       "      <td>Mt_rRNA</td>\n",
       "      <td>mitochondrially encoded 12S rRNA [Source:MGI S...</td>\n",
       "      <td>12S ribosomal RNA</td>\n",
       "    </tr>\n",
       "    <tr>\n",
       "      <th>4</th>\n",
       "      <td>ENSMUSG00000064337</td>\n",
       "      <td>mt-Rnr1</td>\n",
       "      <td>Mt_rRNA</td>\n",
       "      <td>mitochondrially encoded 12S rRNA [Source:MGI S...</td>\n",
       "      <td>12S rRNA</td>\n",
       "    </tr>\n",
       "  </tbody>\n",
       "</table>\n",
       "</div>"
      ],
      "text/plain": [
       "            stable_id display_label  biotype  \\\n",
       "0  ENSMUSG00000064336         mt-Tf  Mt_tRNA   \n",
       "1  ENSMUSG00000064336         mt-Tf  Mt_tRNA   \n",
       "2  ENSMUSG00000064336         mt-Tf  Mt_tRNA   \n",
       "3  ENSMUSG00000064337       mt-Rnr1  Mt_rRNA   \n",
       "4  ENSMUSG00000064337       mt-Rnr1  Mt_rRNA   \n",
       "\n",
       "                                         description            synonym  \n",
       "0  mitochondrially encoded tRNA phenylalanine [So...               tRNA  \n",
       "1  mitochondrially encoded tRNA phenylalanine [So...           tRNA-Phe  \n",
       "2  mitochondrially encoded tRNA phenylalanine [So...          TrnF tRNA  \n",
       "3  mitochondrially encoded 12S rRNA [Source:MGI S...  12S ribosomal RNA  \n",
       "4  mitochondrially encoded 12S rRNA [Source:MGI S...           12S rRNA  "
      ]
     },
     "execution_count": 28,
     "metadata": {},
     "output_type": "execute_result"
    }
   ],
   "source": [
    "results_core.head()"
   ]
  },
  {
   "cell_type": "code",
   "execution_count": 29,
   "metadata": {},
   "outputs": [],
   "source": [
    "results_core_group = results_core.groupby(\"stable_id\").agg(\n",
    "    {\n",
    "        \"display_label\": \"first\",\n",
    "        \"biotype\": \"first\",\n",
    "        \"description\": \"first\",\n",
    "        \"synonym\": lambda x: \"|\".join([i for i in set(x) if i is not None]),\n",
    "    }\n",
    ")"
   ]
  },
  {
   "cell_type": "code",
   "execution_count": 30,
   "metadata": {},
   "outputs": [
    {
     "data": {
      "text/html": [
       "<div>\n",
       "<style scoped>\n",
       "    .dataframe tbody tr th:only-of-type {\n",
       "        vertical-align: middle;\n",
       "    }\n",
       "\n",
       "    .dataframe tbody tr th {\n",
       "        vertical-align: top;\n",
       "    }\n",
       "\n",
       "    .dataframe thead th {\n",
       "        text-align: right;\n",
       "    }\n",
       "</style>\n",
       "<table border=\"1\" class=\"dataframe\">\n",
       "  <thead>\n",
       "    <tr style=\"text-align: right;\">\n",
       "      <th></th>\n",
       "      <th>display_label</th>\n",
       "      <th>biotype</th>\n",
       "      <th>description</th>\n",
       "      <th>synonym</th>\n",
       "    </tr>\n",
       "    <tr>\n",
       "      <th>stable_id</th>\n",
       "      <th></th>\n",
       "      <th></th>\n",
       "      <th></th>\n",
       "      <th></th>\n",
       "    </tr>\n",
       "  </thead>\n",
       "  <tbody>\n",
       "    <tr>\n",
       "      <th>ENSMUSG00000000001</th>\n",
       "      <td>Gnai3</td>\n",
       "      <td>protein_coding</td>\n",
       "      <td>guanine nucleotide binding protein (G protein)...</td>\n",
       "      <td>Galphai3</td>\n",
       "    </tr>\n",
       "    <tr>\n",
       "      <th>ENSMUSG00000000003</th>\n",
       "      <td>Pbsn</td>\n",
       "      <td>protein_coding</td>\n",
       "      <td>probasin [Source:MGI Symbol;Acc:MGI:1860484]</td>\n",
       "      <td>PB</td>\n",
       "    </tr>\n",
       "    <tr>\n",
       "      <th>ENSMUSG00000000028</th>\n",
       "      <td>Cdc45</td>\n",
       "      <td>protein_coding</td>\n",
       "      <td>cell division cycle 45 [Source:MGI Symbol;Acc:...</td>\n",
       "      <td>Cdc45l</td>\n",
       "    </tr>\n",
       "    <tr>\n",
       "      <th>ENSMUSG00000000031</th>\n",
       "      <td>H19</td>\n",
       "      <td>lncRNA</td>\n",
       "      <td>H19, imprinted maternally expressed transcript...</td>\n",
       "      <td></td>\n",
       "    </tr>\n",
       "    <tr>\n",
       "      <th>ENSMUSG00000000037</th>\n",
       "      <td>Scml2</td>\n",
       "      <td>protein_coding</td>\n",
       "      <td>Scm polycomb group protein like 2 [Source:MGI ...</td>\n",
       "      <td>4932420G07Rik</td>\n",
       "    </tr>\n",
       "  </tbody>\n",
       "</table>\n",
       "</div>"
      ],
      "text/plain": [
       "                   display_label         biotype  \\\n",
       "stable_id                                          \n",
       "ENSMUSG00000000001         Gnai3  protein_coding   \n",
       "ENSMUSG00000000003          Pbsn  protein_coding   \n",
       "ENSMUSG00000000028         Cdc45  protein_coding   \n",
       "ENSMUSG00000000031           H19          lncRNA   \n",
       "ENSMUSG00000000037         Scml2  protein_coding   \n",
       "\n",
       "                                                          description  \\\n",
       "stable_id                                                               \n",
       "ENSMUSG00000000001  guanine nucleotide binding protein (G protein)...   \n",
       "ENSMUSG00000000003       probasin [Source:MGI Symbol;Acc:MGI:1860484]   \n",
       "ENSMUSG00000000028  cell division cycle 45 [Source:MGI Symbol;Acc:...   \n",
       "ENSMUSG00000000031  H19, imprinted maternally expressed transcript...   \n",
       "ENSMUSG00000000037  Scm polycomb group protein like 2 [Source:MGI ...   \n",
       "\n",
       "                          synonym  \n",
       "stable_id                          \n",
       "ENSMUSG00000000001       Galphai3  \n",
       "ENSMUSG00000000003             PB  \n",
       "ENSMUSG00000000028         Cdc45l  \n",
       "ENSMUSG00000000031                 \n",
       "ENSMUSG00000000037  4932420G07Rik  "
      ]
     },
     "execution_count": 30,
     "metadata": {},
     "output_type": "execute_result"
    }
   ],
   "source": [
    "results_core_group.head()"
   ]
  },
  {
   "cell_type": "code",
   "execution_count": 31,
   "metadata": {},
   "outputs": [],
   "source": [
    "results_core_group = results_core_group[results_core_group.index.str.startswith(\"ENS\")]"
   ]
  },
  {
   "cell_type": "code",
   "execution_count": 32,
   "metadata": {},
   "outputs": [
    {
     "data": {
      "text/plain": [
       "(57010, 4)"
      ]
     },
     "execution_count": 32,
     "metadata": {},
     "output_type": "execute_result"
    }
   ],
   "source": [
    "results_core_group.shape"
   ]
  },
  {
   "attachments": {},
   "cell_type": "markdown",
   "metadata": {},
   "source": [
    "Query for external ids:"
   ]
  },
  {
   "cell_type": "code",
   "execution_count": 33,
   "metadata": {},
   "outputs": [
    {
     "data": {
      "text/plain": [
       "(55288, 4)"
      ]
     },
     "execution_count": 33,
     "metadata": {},
     "output_type": "execute_result"
    }
   ],
   "source": [
    "results_external = pd.read_sql(query_external, con=engine)\n",
    "results_external = results_external[results_external.stable_id.str.startswith(\"ENS\")]\n",
    "results_external.shape"
   ]
  },
  {
   "cell_type": "code",
   "execution_count": 34,
   "metadata": {},
   "outputs": [
    {
     "data": {
      "text/html": [
       "<div>\n",
       "<style scoped>\n",
       "    .dataframe tbody tr th:only-of-type {\n",
       "        vertical-align: middle;\n",
       "    }\n",
       "\n",
       "    .dataframe tbody tr th {\n",
       "        vertical-align: top;\n",
       "    }\n",
       "\n",
       "    .dataframe thead th {\n",
       "        text-align: right;\n",
       "    }\n",
       "</style>\n",
       "<table border=\"1\" class=\"dataframe\">\n",
       "  <thead>\n",
       "    <tr style=\"text-align: right;\">\n",
       "      <th></th>\n",
       "      <th>stable_id</th>\n",
       "      <th>xref_id</th>\n",
       "      <th>dbprimary_acc</th>\n",
       "      <th>db_name</th>\n",
       "    </tr>\n",
       "  </thead>\n",
       "  <tbody>\n",
       "    <tr>\n",
       "      <th>0</th>\n",
       "      <td>ENSMUSG00000064336</td>\n",
       "      <td>1630742</td>\n",
       "      <td>MGI:102487</td>\n",
       "      <td>MGI</td>\n",
       "    </tr>\n",
       "    <tr>\n",
       "      <th>1</th>\n",
       "      <td>ENSMUSG00000064337</td>\n",
       "      <td>1630726</td>\n",
       "      <td>MGI:102493</td>\n",
       "      <td>MGI</td>\n",
       "    </tr>\n",
       "  </tbody>\n",
       "</table>\n",
       "</div>"
      ],
      "text/plain": [
       "            stable_id  xref_id dbprimary_acc db_name\n",
       "0  ENSMUSG00000064336  1630742    MGI:102487     MGI\n",
       "1  ENSMUSG00000064337  1630726    MGI:102493     MGI"
      ]
     },
     "execution_count": 34,
     "metadata": {},
     "output_type": "execute_result"
    }
   ],
   "source": [
    "results_external.head(2)"
   ]
  },
  {
   "attachments": {},
   "cell_type": "markdown",
   "metadata": {},
   "source": [
    "### MGI"
   ]
  },
  {
   "cell_type": "code",
   "execution_count": 37,
   "metadata": {},
   "outputs": [],
   "source": [
    "mgi = (\n",
    "    results_external[results_external[\"db_name\"] == \"MGI\"]\n",
    "    .drop_duplicates([\"stable_id\", \"dbprimary_acc\"])\n",
    "    .drop(columns=[\"xref_id\", \"db_name\"])\n",
    ")\n",
    "mgi.rename(columns={\"dbprimary_acc\": \"mgi_id\"}, inplace=True)\n",
    "mgi = mgi.set_index(\"stable_id\")"
   ]
  },
  {
   "cell_type": "code",
   "execution_count": 38,
   "metadata": {},
   "outputs": [
    {
     "data": {
      "text/html": [
       "<div>\n",
       "<style scoped>\n",
       "    .dataframe tbody tr th:only-of-type {\n",
       "        vertical-align: middle;\n",
       "    }\n",
       "\n",
       "    .dataframe tbody tr th {\n",
       "        vertical-align: top;\n",
       "    }\n",
       "\n",
       "    .dataframe thead th {\n",
       "        text-align: right;\n",
       "    }\n",
       "</style>\n",
       "<table border=\"1\" class=\"dataframe\">\n",
       "  <thead>\n",
       "    <tr style=\"text-align: right;\">\n",
       "      <th></th>\n",
       "      <th>mgi_id</th>\n",
       "    </tr>\n",
       "    <tr>\n",
       "      <th>stable_id</th>\n",
       "      <th></th>\n",
       "    </tr>\n",
       "  </thead>\n",
       "  <tbody>\n",
       "    <tr>\n",
       "      <th>ENSMUSG00000115016</th>\n",
       "      <td>MGI:2145569</td>\n",
       "    </tr>\n",
       "    <tr>\n",
       "      <th>ENSMUSG00000115016</th>\n",
       "      <td>MGI:5593065</td>\n",
       "    </tr>\n",
       "    <tr>\n",
       "      <th>ENSMUSG00000119828</th>\n",
       "      <td>MGI:5455181</td>\n",
       "    </tr>\n",
       "    <tr>\n",
       "      <th>ENSMUSG00000119828</th>\n",
       "      <td>MGI:6721448</td>\n",
       "    </tr>\n",
       "    <tr>\n",
       "      <th>ENSMUSG00000082414</th>\n",
       "      <td>MGI:3705775</td>\n",
       "    </tr>\n",
       "    <tr>\n",
       "      <th>ENSMUSG00000082414</th>\n",
       "      <td>MGI:5434448</td>\n",
       "    </tr>\n",
       "  </tbody>\n",
       "</table>\n",
       "</div>"
      ],
      "text/plain": [
       "                         mgi_id\n",
       "stable_id                      \n",
       "ENSMUSG00000115016  MGI:2145569\n",
       "ENSMUSG00000115016  MGI:5593065\n",
       "ENSMUSG00000119828  MGI:5455181\n",
       "ENSMUSG00000119828  MGI:6721448\n",
       "ENSMUSG00000082414  MGI:3705775\n",
       "ENSMUSG00000082414  MGI:5434448"
      ]
     },
     "execution_count": 38,
     "metadata": {},
     "output_type": "execute_result"
    }
   ],
   "source": [
    "dup = mgi[mgi.index.duplicated(keep=False)]\n",
    "dup"
   ]
  },
  {
   "attachments": {},
   "cell_type": "markdown",
   "metadata": {},
   "source": [
    "### Merge ensembl with MGI"
   ]
  },
  {
   "cell_type": "code",
   "execution_count": 39,
   "metadata": {},
   "outputs": [
    {
     "data": {
      "text/html": [
       "<div>\n",
       "<style scoped>\n",
       "    .dataframe tbody tr th:only-of-type {\n",
       "        vertical-align: middle;\n",
       "    }\n",
       "\n",
       "    .dataframe tbody tr th {\n",
       "        vertical-align: top;\n",
       "    }\n",
       "\n",
       "    .dataframe thead th {\n",
       "        text-align: right;\n",
       "    }\n",
       "</style>\n",
       "<table border=\"1\" class=\"dataframe\">\n",
       "  <thead>\n",
       "    <tr style=\"text-align: right;\">\n",
       "      <th></th>\n",
       "      <th>display_label</th>\n",
       "      <th>biotype</th>\n",
       "      <th>description</th>\n",
       "      <th>synonym</th>\n",
       "      <th>mgi_id</th>\n",
       "    </tr>\n",
       "    <tr>\n",
       "      <th>stable_id</th>\n",
       "      <th></th>\n",
       "      <th></th>\n",
       "      <th></th>\n",
       "      <th></th>\n",
       "      <th></th>\n",
       "    </tr>\n",
       "  </thead>\n",
       "  <tbody>\n",
       "    <tr>\n",
       "      <th>ENSMUSG00000082414</th>\n",
       "      <td>Gm13303</td>\n",
       "      <td>unprocessed_pseudogene</td>\n",
       "      <td>predicted gene 13303 [Source:MGI Symbol;Acc:MG...</td>\n",
       "      <td></td>\n",
       "      <td>MGI:5434448</td>\n",
       "    </tr>\n",
       "    <tr>\n",
       "      <th>ENSMUSG00000115016</th>\n",
       "      <td>Gm33906</td>\n",
       "      <td>lncRNA</td>\n",
       "      <td>predicted gene, 33906 [Source:MGI Symbol;Acc:M...</td>\n",
       "      <td></td>\n",
       "      <td>MGI:5593065</td>\n",
       "    </tr>\n",
       "    <tr>\n",
       "      <th>ENSMUSG00000119828</th>\n",
       "      <td>Gm25404</td>\n",
       "      <td>snRNA</td>\n",
       "      <td>predicted gene, 25404 [Source:MGI Symbol;Acc:M...</td>\n",
       "      <td></td>\n",
       "      <td>MGI:6721448</td>\n",
       "    </tr>\n",
       "  </tbody>\n",
       "</table>\n",
       "</div>"
      ],
      "text/plain": [
       "                   display_label                 biotype  \\\n",
       "stable_id                                                  \n",
       "ENSMUSG00000082414       Gm13303  unprocessed_pseudogene   \n",
       "ENSMUSG00000115016       Gm33906                  lncRNA   \n",
       "ENSMUSG00000119828       Gm25404                   snRNA   \n",
       "\n",
       "                                                          description synonym  \\\n",
       "stable_id                                                                       \n",
       "ENSMUSG00000082414  predicted gene 13303 [Source:MGI Symbol;Acc:MG...           \n",
       "ENSMUSG00000115016  predicted gene, 33906 [Source:MGI Symbol;Acc:M...           \n",
       "ENSMUSG00000119828  predicted gene, 25404 [Source:MGI Symbol;Acc:M...           \n",
       "\n",
       "                         mgi_id  \n",
       "stable_id                        \n",
       "ENSMUSG00000082414  MGI:5434448  \n",
       "ENSMUSG00000115016  MGI:5593065  \n",
       "ENSMUSG00000119828  MGI:6721448  "
      ]
     },
     "execution_count": 39,
     "metadata": {},
     "output_type": "execute_result"
    }
   ],
   "source": [
    "### Merge Ensembl with HGNC and Entrez\n",
    "df = results_core_group.merge(mgi, left_index=True, right_index=True, how=\"outer\")\n",
    "df[df.index.duplicated()]"
   ]
  },
  {
   "cell_type": "code",
   "execution_count": 46,
   "metadata": {},
   "outputs": [
    {
     "data": {
      "text/html": [
       "<div>\n",
       "<style scoped>\n",
       "    .dataframe tbody tr th:only-of-type {\n",
       "        vertical-align: middle;\n",
       "    }\n",
       "\n",
       "    .dataframe tbody tr th {\n",
       "        vertical-align: top;\n",
       "    }\n",
       "\n",
       "    .dataframe thead th {\n",
       "        text-align: right;\n",
       "    }\n",
       "</style>\n",
       "<table border=\"1\" class=\"dataframe\">\n",
       "  <thead>\n",
       "    <tr style=\"text-align: right;\">\n",
       "      <th></th>\n",
       "      <th>ensembl_gene_id</th>\n",
       "      <th>symbol</th>\n",
       "      <th>mgi_id</th>\n",
       "      <th>biotype</th>\n",
       "      <th>description</th>\n",
       "      <th>synonym</th>\n",
       "    </tr>\n",
       "  </thead>\n",
       "  <tbody>\n",
       "    <tr>\n",
       "      <th>0</th>\n",
       "      <td>ENSMUSG00000000001</td>\n",
       "      <td>Gnai3</td>\n",
       "      <td>MGI:95773</td>\n",
       "      <td>protein_coding</td>\n",
       "      <td>guanine nucleotide binding protein (G protein)...</td>\n",
       "      <td>Galphai3</td>\n",
       "    </tr>\n",
       "    <tr>\n",
       "      <th>1</th>\n",
       "      <td>ENSMUSG00000000003</td>\n",
       "      <td>Pbsn</td>\n",
       "      <td>MGI:1860484</td>\n",
       "      <td>protein_coding</td>\n",
       "      <td>probasin [Source:MGI Symbol;Acc:MGI:1860484]</td>\n",
       "      <td>PB</td>\n",
       "    </tr>\n",
       "    <tr>\n",
       "      <th>2</th>\n",
       "      <td>ENSMUSG00000000028</td>\n",
       "      <td>Cdc45</td>\n",
       "      <td>MGI:1338073</td>\n",
       "      <td>protein_coding</td>\n",
       "      <td>cell division cycle 45 [Source:MGI Symbol;Acc:...</td>\n",
       "      <td>Cdc45l</td>\n",
       "    </tr>\n",
       "    <tr>\n",
       "      <th>3</th>\n",
       "      <td>ENSMUSG00000000031</td>\n",
       "      <td>H19</td>\n",
       "      <td>MGI:95891</td>\n",
       "      <td>lncRNA</td>\n",
       "      <td>H19, imprinted maternally expressed transcript...</td>\n",
       "      <td></td>\n",
       "    </tr>\n",
       "    <tr>\n",
       "      <th>4</th>\n",
       "      <td>ENSMUSG00000000037</td>\n",
       "      <td>Scml2</td>\n",
       "      <td>MGI:1340042</td>\n",
       "      <td>protein_coding</td>\n",
       "      <td>Scm polycomb group protein like 2 [Source:MGI ...</td>\n",
       "      <td>4932420G07Rik</td>\n",
       "    </tr>\n",
       "  </tbody>\n",
       "</table>\n",
       "</div>"
      ],
      "text/plain": [
       "      ensembl_gene_id symbol       mgi_id         biotype  \\\n",
       "0  ENSMUSG00000000001  Gnai3    MGI:95773  protein_coding   \n",
       "1  ENSMUSG00000000003   Pbsn  MGI:1860484  protein_coding   \n",
       "2  ENSMUSG00000000028  Cdc45  MGI:1338073  protein_coding   \n",
       "3  ENSMUSG00000000031    H19    MGI:95891          lncRNA   \n",
       "4  ENSMUSG00000000037  Scml2  MGI:1340042  protein_coding   \n",
       "\n",
       "                                         description        synonym  \n",
       "0  guanine nucleotide binding protein (G protein)...       Galphai3  \n",
       "1       probasin [Source:MGI Symbol;Acc:MGI:1860484]             PB  \n",
       "2  cell division cycle 45 [Source:MGI Symbol;Acc:...         Cdc45l  \n",
       "3  H19, imprinted maternally expressed transcript...                 \n",
       "4  Scm polycomb group protein like 2 [Source:MGI ...  4932420G07Rik  "
      ]
     },
     "execution_count": 46,
     "metadata": {},
     "output_type": "execute_result"
    }
   ],
   "source": [
    "df = df.reset_index()\n",
    "df.rename(\n",
    "    columns={\"stable_id\": \"ensembl_gene_id\", \"display_label\": \"symbol\"}, inplace=True\n",
    ")\n",
    "df = df[[\"ensembl_gene_id\", \"symbol\", \"mgi_id\", \"biotype\", \"description\", \"synonym\"]]\n",
    "df.head()"
   ]
  },
  {
   "cell_type": "code",
   "execution_count": 41,
   "metadata": {},
   "outputs": [
    {
     "data": {
      "text/plain": [
       "(57013, 6)"
      ]
     },
     "execution_count": 41,
     "metadata": {},
     "output_type": "execute_result"
    }
   ],
   "source": [
    "df.shape"
   ]
  },
  {
   "cell_type": "code",
   "execution_count": 47,
   "metadata": {},
   "outputs": [],
   "source": [
    "df.to_parquet(\"mouse_ensembl_release-109_Gene_lookup.parquet\")"
   ]
  }
 ],
 "metadata": {
  "kernelspec": {
   "display_name": "Python 3.9.13 ('py39')",
   "language": "python",
   "name": "python3"
  },
  "language_info": {
   "codemirror_mode": {
    "name": "ipython",
    "version": 3
   },
   "file_extension": ".py",
   "mimetype": "text/x-python",
   "name": "python",
   "nbconvert_exporter": "python",
   "pygments_lexer": "ipython3",
   "version": "3.9.16"
  },
  "orig_nbformat": 4,
  "vscode": {
   "interpreter": {
    "hash": "ae1fefc8646a06dd2e75004cd934adda7c5727b046986a772e3b44b0ffba9754"
   }
  }
 },
 "nbformat": 4,
 "nbformat_minor": 2
}
