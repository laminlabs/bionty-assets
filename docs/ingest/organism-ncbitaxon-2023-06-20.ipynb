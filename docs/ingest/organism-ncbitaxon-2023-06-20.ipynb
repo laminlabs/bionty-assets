{
 "cells": [
  {
   "cell_type": "markdown",
   "metadata": {},
   "source": [
    "# `Organism`: ncbitaxon, 2023-06-20"
   ]
  },
  {
   "cell_type": "code",
   "execution_count": null,
   "metadata": {},
   "outputs": [],
   "source": [
    "import bionty as bt"
   ]
  },
  {
   "cell_type": "code",
   "execution_count": null,
   "metadata": {},
   "outputs": [],
   "source": [
    "onto = bt.Ontology(\n",
    "    \"/Users/sunnysun/Documents/repos.nosync/bionty/bionty/_dynamic/ontology_all__ncbitaxon__2023-06-20__Organism\"\n",
    ")"
   ]
  },
  {
   "cell_type": "code",
   "execution_count": null,
   "metadata": {},
   "outputs": [
    {
     "data": {
      "text/plain": [
       "Ontology('/Users/sunnysun/Documents/repos.nosync/bionty/bionty/_dynamic/ontology_all__ncbitaxon__2023-06-20__Organism', timeout=100)"
      ]
     },
     "metadata": {},
     "output_type": "display_data"
    }
   ],
   "source": [
    "onto"
   ]
  },
  {
   "cell_type": "code",
   "execution_count": null,
   "metadata": {},
   "outputs": [
    {
     "data": {
      "text/plain": [
       "Term('NCBITaxon:9606', name='Homo sapiens')"
      ]
     },
     "metadata": {},
     "output_type": "display_data"
    }
   ],
   "source": [
    "term = onto[\"NCBITaxon:9606\"]\n",
    "term"
   ]
  },
  {
   "cell_type": "code",
   "execution_count": null,
   "metadata": {},
   "outputs": [
    {
     "data": {
      "text/plain": [
       "['human']"
      ]
     },
     "metadata": {},
     "output_type": "display_data"
    }
   ],
   "source": [
    "[i.description for i in term.synonyms if i.scope == \"EXACT\"]"
   ]
  },
  {
   "cell_type": "code",
   "execution_count": null,
   "metadata": {},
   "outputs": [],
   "source": [
    "df_values = []\n",
    "for term in onto.terms():\n",
    "\n",
    "    # # term definition text\n",
    "    definition = None if term.definition is None else term.definition.title()\n",
    "\n",
    "    # get synonyms as a list\n",
    "    synonyms_list = [i.description for i in term.synonyms if i.scope == \"EXACT\"]\n",
    "    # concatenate synonyms into a string\n",
    "    if len(synonyms_list) > 0:\n",
    "        common_name = synonyms_list[0]\n",
    "        synonyms_list = synonyms_list[1:]\n",
    "    else:\n",
    "        common_name = term.name\n",
    "    synonyms = \"|\".join(synonyms_list)\n",
    "    if len(synonyms) == 0:\n",
    "        synonyms = None  # type:ignore\n",
    "\n",
    "    # get 1st degree parents as a list\n",
    "    superclasses = [\n",
    "        s.id\n",
    "        for s in term.superclasses(distance=1, with_self=False).to_set()\n",
    "        if s.id.startswith(\"NCBITaxon\")\n",
    "    ]\n",
    "\n",
    "    df_values.append(\n",
    "        (term.id, common_name, term.name, definition, synonyms, superclasses)\n",
    "    )"
   ]
  },
  {
   "cell_type": "code",
   "execution_count": null,
   "metadata": {},
   "outputs": [
    {
     "data": {
      "text/plain": [
       "2511800"
      ]
     },
     "metadata": {},
     "output_type": "display_data"
    }
   ],
   "source": [
    "len(df_values)"
   ]
  },
  {
   "cell_type": "code",
   "execution_count": null,
   "metadata": {},
   "outputs": [],
   "source": [
    "import pandas as pd\n",
    "\n",
    "df = pd.DataFrame(\n",
    "    df_values,\n",
    "    columns=[\n",
    "        \"ontology_id\",\n",
    "        \"name\",\n",
    "        \"scientific_name\",\n",
    "        \"definition\",\n",
    "        \"synonyms\",\n",
    "        \"parents\",\n",
    "    ],\n",
    ").set_index(\"ontology_id\")"
   ]
  },
  {
   "cell_type": "code",
   "execution_count": null,
   "metadata": {},
   "outputs": [
    {
     "data": {
      "text/html": [
       "<div>\n",
       "<style scoped>\n",
       "    .dataframe tbody tr th:only-of-type {\n",
       "        vertical-align: middle;\n",
       "    }\n",
       "\n",
       "    .dataframe tbody tr th {\n",
       "        vertical-align: top;\n",
       "    }\n",
       "\n",
       "    .dataframe thead th {\n",
       "        text-align: right;\n",
       "    }\n",
       "</style>\n",
       "<table border=\"1\" class=\"dataframe\">\n",
       "  <thead>\n",
       "    <tr style=\"text-align: right;\">\n",
       "      <th></th>\n",
       "      <th>name</th>\n",
       "      <th>scientific_name</th>\n",
       "      <th>definition</th>\n",
       "      <th>synonyms</th>\n",
       "      <th>parents</th>\n",
       "    </tr>\n",
       "    <tr>\n",
       "      <th>ontology_id</th>\n",
       "      <th></th>\n",
       "      <th></th>\n",
       "      <th></th>\n",
       "      <th></th>\n",
       "      <th></th>\n",
       "    </tr>\n",
       "  </thead>\n",
       "  <tbody>\n",
       "    <tr>\n",
       "      <th>NCBITaxon:1</th>\n",
       "      <td>root</td>\n",
       "      <td>root</td>\n",
       "      <td>None</td>\n",
       "      <td>None</td>\n",
       "      <td>[]</td>\n",
       "    </tr>\n",
       "    <tr>\n",
       "      <th>NCBITaxon:10</th>\n",
       "      <td>Cellvibrio</td>\n",
       "      <td>Cellvibrio</td>\n",
       "      <td>None</td>\n",
       "      <td>None</td>\n",
       "      <td>[NCBITaxon:1706371]</td>\n",
       "    </tr>\n",
       "    <tr>\n",
       "      <th>NCBITaxon:100</th>\n",
       "      <td>Ancylobacter aquaticus</td>\n",
       "      <td>Ancylobacter aquaticus</td>\n",
       "      <td>None</td>\n",
       "      <td>None</td>\n",
       "      <td>[NCBITaxon:99]</td>\n",
       "    </tr>\n",
       "    <tr>\n",
       "      <th>NCBITaxon:100000</th>\n",
       "      <td>Herbaspirillum sp. BA12</td>\n",
       "      <td>Herbaspirillum sp. BA12</td>\n",
       "      <td>None</td>\n",
       "      <td>None</td>\n",
       "      <td>[NCBITaxon:2624150]</td>\n",
       "    </tr>\n",
       "    <tr>\n",
       "      <th>NCBITaxon:1000000</th>\n",
       "      <td>Microbacterium sp. 6.11-VPa</td>\n",
       "      <td>Microbacterium sp. 6.11-VPa</td>\n",
       "      <td>None</td>\n",
       "      <td>None</td>\n",
       "      <td>[NCBITaxon:2609290]</td>\n",
       "    </tr>\n",
       "    <tr>\n",
       "      <th>...</th>\n",
       "      <td>...</td>\n",
       "      <td>...</td>\n",
       "      <td>...</td>\n",
       "      <td>...</td>\n",
       "      <td>...</td>\n",
       "    </tr>\n",
       "    <tr>\n",
       "      <th>NCBITaxon:superorder</th>\n",
       "      <td>superorder</td>\n",
       "      <td>superorder</td>\n",
       "      <td>None</td>\n",
       "      <td>None</td>\n",
       "      <td>[NCBITaxon:taxonomic_rank]</td>\n",
       "    </tr>\n",
       "    <tr>\n",
       "      <th>NCBITaxon:superphylum</th>\n",
       "      <td>superphylum</td>\n",
       "      <td>superphylum</td>\n",
       "      <td>None</td>\n",
       "      <td>None</td>\n",
       "      <td>[NCBITaxon:taxonomic_rank]</td>\n",
       "    </tr>\n",
       "    <tr>\n",
       "      <th>NCBITaxon:taxonomic_rank</th>\n",
       "      <td>taxonomic rank</td>\n",
       "      <td>taxonomic rank</td>\n",
       "      <td>None</td>\n",
       "      <td>None</td>\n",
       "      <td>[]</td>\n",
       "    </tr>\n",
       "    <tr>\n",
       "      <th>NCBITaxon:tribe</th>\n",
       "      <td>tribe</td>\n",
       "      <td>tribe</td>\n",
       "      <td>None</td>\n",
       "      <td>None</td>\n",
       "      <td>[NCBITaxon:taxonomic_rank]</td>\n",
       "    </tr>\n",
       "    <tr>\n",
       "      <th>NCBITaxon:varietas</th>\n",
       "      <td>varietas</td>\n",
       "      <td>varietas</td>\n",
       "      <td>None</td>\n",
       "      <td>None</td>\n",
       "      <td>[NCBITaxon:taxonomic_rank]</td>\n",
       "    </tr>\n",
       "  </tbody>\n",
       "</table>\n",
       "<p>2511800 rows × 5 columns</p>\n",
       "</div>"
      ],
      "text/plain": [
       "                                                 name  \\\n",
       "ontology_id                                             \n",
       "NCBITaxon:1                                      root   \n",
       "NCBITaxon:10                               Cellvibrio   \n",
       "NCBITaxon:100                  Ancylobacter aquaticus   \n",
       "NCBITaxon:100000              Herbaspirillum sp. BA12   \n",
       "NCBITaxon:1000000         Microbacterium sp. 6.11-VPa   \n",
       "...                                               ...   \n",
       "NCBITaxon:superorder                       superorder   \n",
       "NCBITaxon:superphylum                     superphylum   \n",
       "NCBITaxon:taxonomic_rank               taxonomic rank   \n",
       "NCBITaxon:tribe                                 tribe   \n",
       "NCBITaxon:varietas                           varietas   \n",
       "\n",
       "                                      scientific_name definition synonyms  \\\n",
       "ontology_id                                                                 \n",
       "NCBITaxon:1                                      root       None     None   \n",
       "NCBITaxon:10                               Cellvibrio       None     None   \n",
       "NCBITaxon:100                  Ancylobacter aquaticus       None     None   \n",
       "NCBITaxon:100000              Herbaspirillum sp. BA12       None     None   \n",
       "NCBITaxon:1000000         Microbacterium sp. 6.11-VPa       None     None   \n",
       "...                                               ...        ...      ...   \n",
       "NCBITaxon:superorder                       superorder       None     None   \n",
       "NCBITaxon:superphylum                     superphylum       None     None   \n",
       "NCBITaxon:taxonomic_rank               taxonomic rank       None     None   \n",
       "NCBITaxon:tribe                                 tribe       None     None   \n",
       "NCBITaxon:varietas                           varietas       None     None   \n",
       "\n",
       "                                             parents  \n",
       "ontology_id                                           \n",
       "NCBITaxon:1                                       []  \n",
       "NCBITaxon:10                     [NCBITaxon:1706371]  \n",
       "NCBITaxon:100                         [NCBITaxon:99]  \n",
       "NCBITaxon:100000                 [NCBITaxon:2624150]  \n",
       "NCBITaxon:1000000                [NCBITaxon:2609290]  \n",
       "...                                              ...  \n",
       "NCBITaxon:superorder      [NCBITaxon:taxonomic_rank]  \n",
       "NCBITaxon:superphylum     [NCBITaxon:taxonomic_rank]  \n",
       "NCBITaxon:taxonomic_rank                          []  \n",
       "NCBITaxon:tribe           [NCBITaxon:taxonomic_rank]  \n",
       "NCBITaxon:varietas        [NCBITaxon:taxonomic_rank]  \n",
       "\n",
       "[2511800 rows x 5 columns]"
      ]
     },
     "metadata": {},
     "output_type": "display_data"
    }
   ],
   "source": [
    "df"
   ]
  },
  {
   "cell_type": "code",
   "execution_count": null,
   "metadata": {},
   "outputs": [],
   "source": [
    "df.name = df.name.str.lower()"
   ]
  },
  {
   "cell_type": "code",
   "execution_count": null,
   "metadata": {},
   "outputs": [
    {
     "data": {
      "text/plain": [
       "name                          human\n",
       "scientific_name        Homo sapiens\n",
       "definition                     None\n",
       "synonyms                       None\n",
       "parents            [NCBITaxon:9605]\n",
       "Name: NCBITaxon:9606, dtype: object"
      ]
     },
     "metadata": {},
     "output_type": "display_data"
    }
   ],
   "source": [
    "df.loc[\"NCBITaxon:9606\"]"
   ]
  },
  {
   "cell_type": "code",
   "execution_count": null,
   "metadata": {},
   "outputs": [],
   "source": [
    "df.to_parquet(\n",
    "    \"/Users/sunnysun/Documents/repos.nosync/bionty/bionty/_dynamic/df_all__ncbitaxon__2023-06-20__Organism.parquet\"\n",
    ")"
   ]
  },
  {
   "cell_type": "code",
   "execution_count": null,
   "metadata": {},
   "outputs": [],
   "source": [
    "from bionty.dev._md5 import calculate_md5"
   ]
  },
  {
   "cell_type": "code",
   "execution_count": null,
   "metadata": {},
   "outputs": [
    {
     "data": {
      "text/plain": [
       "'00d97ba65627f1cd65636d2df22ea76c'"
      ]
     },
     "metadata": {},
     "output_type": "display_data"
    }
   ],
   "source": [
    "calculate_md5(\n",
    "    \"/Users/sunnysun/Documents/repos.nosync/bionty/bionty/_dynamic/df_all__ncbitaxon__2023-06-20__Organism.parquet\"\n",
    ")"
   ]
  }
 ],
 "metadata": {
  "language_info": {
   "name": "python"
  }
 },
 "nbformat": 4,
 "nbformat_minor": 2
}
