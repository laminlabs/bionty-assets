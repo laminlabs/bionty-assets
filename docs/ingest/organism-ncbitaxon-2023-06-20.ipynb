{
 "cells": [
  {
   "cell_type": "markdown",
   "metadata": {},
   "source": [
    "# `Organism`: ncbitaxon, 2023-06-20"
   ]
  },
  {
   "cell_type": "code",
   "execution_count": null,
   "metadata": {},
   "outputs": [],
   "source": [
    "import bionty as bt"
   ]
  },
  {
   "cell_type": "code",
   "execution_count": null,
   "metadata": {},
   "outputs": [],
   "source": [
    "onto = bt.Ontology(\n",
    "    \"/Users/sunnysun/Documents/repos.nosync/bionty/bionty/_dynamic/ontology_all__ncbitaxon__2023-06-20__Organism\"\n",
    ")"
   ]
  },
  {
   "cell_type": "code",
   "execution_count": null,
   "metadata": {},
   "outputs": [],
   "source": [
    "onto"
   ]
  },
  {
   "cell_type": "code",
   "execution_count": null,
   "metadata": {},
   "outputs": [],
   "source": [
    "term = onto[\"NCBITaxon:9606\"]\n",
    "term"
   ]
  },
  {
   "cell_type": "code",
   "execution_count": null,
   "metadata": {},
   "outputs": [],
   "source": [
    "[i.description for i in term.synonyms if i.scope == \"EXACT\"]"
   ]
  },
  {
   "cell_type": "code",
   "execution_count": null,
   "metadata": {},
   "outputs": [],
   "source": [
    "df_values = []\n",
    "for term in onto.terms():\n",
    "\n",
    "    # # term definition text\n",
    "    definition = None if term.definition is None else term.definition.title()\n",
    "\n",
    "    # get synonyms as a list\n",
    "    synonyms_list = [i.description for i in term.synonyms if i.scope == \"EXACT\"]\n",
    "    # concatenate synonyms into a string\n",
    "    if len(synonyms_list) > 0:\n",
    "        common_name = synonyms_list[0]\n",
    "        synonyms_list = synonyms_list[1:]\n",
    "    else:\n",
    "        common_name = term.name\n",
    "    synonyms = \"|\".join(synonyms_list)\n",
    "    if len(synonyms) == 0:\n",
    "        synonyms = None  # type:ignore\n",
    "\n",
    "    # get 1st degree parents as a list\n",
    "    superclasses = [\n",
    "        s.id\n",
    "        for s in term.superclasses(distance=1, with_self=False).to_set()\n",
    "        if s.id.startswith(\"NCBITaxon\")\n",
    "    ]\n",
    "\n",
    "    df_values.append(\n",
    "        (term.id, common_name, term.name, definition, synonyms, superclasses)\n",
    "    )"
   ]
  },
  {
   "cell_type": "code",
   "execution_count": null,
   "metadata": {},
   "outputs": [],
   "source": [
    "len(df_values)"
   ]
  },
  {
   "cell_type": "code",
   "execution_count": null,
   "metadata": {},
   "outputs": [],
   "source": [
    "import pandas as pd\n",
    "\n",
    "df = pd.DataFrame(\n",
    "    df_values,\n",
    "    columns=[\n",
    "        \"ontology_id\",\n",
    "        \"name\",\n",
    "        \"scientific_name\",\n",
    "        \"definition\",\n",
    "        \"synonyms\",\n",
    "        \"parents\",\n",
    "    ],\n",
    ").set_index(\"ontology_id\")"
   ]
  },
  {
   "cell_type": "code",
   "execution_count": null,
   "metadata": {},
   "outputs": [],
   "source": [
    "df"
   ]
  },
  {
   "cell_type": "code",
   "execution_count": null,
   "metadata": {},
   "outputs": [],
   "source": [
    "df.name = df.name.str.lower()"
   ]
  },
  {
   "cell_type": "code",
   "execution_count": null,
   "metadata": {},
   "outputs": [],
   "source": [
    "df.loc[\"NCBITaxon:9606\"]"
   ]
  },
  {
   "cell_type": "code",
   "execution_count": null,
   "metadata": {},
   "outputs": [],
   "source": [
    "df.to_parquet(\n",
    "    \"/Users/sunnysun/Documents/repos.nosync/bionty/bionty/_dynamic/df_all__ncbitaxon__2023-06-20__Organism.parquet\"\n",
    ")"
   ]
  },
  {
   "cell_type": "code",
   "execution_count": null,
   "metadata": {},
   "outputs": [],
   "source": [
    "from bionty.dev._md5 import calculate_md5"
   ]
  },
  {
   "cell_type": "code",
   "execution_count": null,
   "metadata": {},
   "outputs": [],
   "source": [
    "calculate_md5(\n",
    "    \"/Users/sunnysun/Documents/repos.nosync/bionty/bionty/_dynamic/df_all__ncbitaxon__2023-06-20__Organism.parquet\"\n",
    ")"
   ]
  }
 ],
 "metadata": {
  "language_info": {
   "name": "python"
  }
 },
 "nbformat": 4,
 "nbformat_minor": 2
}
