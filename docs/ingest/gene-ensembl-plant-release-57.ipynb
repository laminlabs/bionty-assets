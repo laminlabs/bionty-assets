{
 "cells": [
  {
   "cell_type": "markdown",
   "metadata": {},
   "source": [
    "# Plant `Gene`: ensembl, release-57\n",
    "\n",
    "- https://www.ensembl.org/info/data/mysql.html\n",
    "- https://www.ensembl.org/info/docs/api/core/core_schema.html\n",
    "\n",
    "Install mysqlclient: https://pypi.org/project/mysqlclient/"
   ]
  },
  {
   "cell_type": "code",
   "execution_count": 10,
   "metadata": {},
   "outputs": [
    {
     "name": "stdout",
     "output_type": "stream",
     "text": [
      "The autoreload extension is already loaded. To reload it, use:\n",
      "  %reload_ext autoreload\n"
     ]
    }
   ],
   "source": [
    "from bionty_base.entities._gene import EnsemblGene\n"
   ]
  },
  {
   "cell_type": "code",
   "execution_count": 27,
   "metadata": {},
   "outputs": [],
   "source": [
    "organism = \"arabidopsis thaliana\"\n",
    "version = \"release-57\"\n",
    "ensembl_gene = EnsemblGene(organism=organism, version=version, kingdom=\"plants\")"
   ]
  },
  {
   "cell_type": "code",
   "execution_count": 20,
   "metadata": {},
   "outputs": [
    {
     "data": {
      "text/plain": [
       "'mysql+mysqldb://anonymous:@ensembldb.ensembl.org:4157/arabidopsis_thaliana_core_57_110_11'"
      ]
     },
     "execution_count": 20,
     "metadata": {},
     "output_type": "execute_result"
    }
   ],
   "source": [
    "ensembl_gene._url"
   ]
  },
  {
   "cell_type": "code",
   "execution_count": 21,
   "metadata": {},
   "outputs": [
    {
     "name": "stdout",
     "output_type": "stream",
     "text": [
      "\u001b[94m•\u001b[0m fetching records from the core DB...\n",
      "\u001b[94m•\u001b[0m fetching records from the external DBs...\n",
      "\u001b[93m!\u001b[0m duplicated #rows ensembl_gene_id with ncbi_gene_id: 438\n",
      "\u001b[93m!\u001b[0m no ensembl_gene_id found, writing to table_id column.\n",
      "\u001b[92m✓\u001b[0m downloaded Gene table containing 33127 entries.\n"
     ]
    }
   ],
   "source": [
    "df = ensembl_gene.download_df()"
   ]
  },
  {
   "cell_type": "code",
   "execution_count": 22,
   "metadata": {},
   "outputs": [
    {
     "data": {
      "text/html": [
       "<div>\n",
       "<style scoped>\n",
       "    .dataframe tbody tr th:only-of-type {\n",
       "        vertical-align: middle;\n",
       "    }\n",
       "\n",
       "    .dataframe tbody tr th {\n",
       "        vertical-align: top;\n",
       "    }\n",
       "\n",
       "    .dataframe thead th {\n",
       "        text-align: right;\n",
       "    }\n",
       "</style>\n",
       "<table border=\"1\" class=\"dataframe\">\n",
       "  <thead>\n",
       "    <tr style=\"text-align: right;\">\n",
       "      <th></th>\n",
       "      <th>stable_id</th>\n",
       "      <th>symbol</th>\n",
       "      <th>ncbi_gene_id</th>\n",
       "      <th>biotype</th>\n",
       "      <th>description</th>\n",
       "      <th>synonyms</th>\n",
       "    </tr>\n",
       "  </thead>\n",
       "  <tbody>\n",
       "    <tr>\n",
       "      <th>0</th>\n",
       "      <td>AT1G01010</td>\n",
       "      <td>NAC001</td>\n",
       "      <td>839580</td>\n",
       "      <td>protein_coding</td>\n",
       "      <td>NAC domain containing protein 1 [Source:NCBI g...</td>\n",
       "      <td>T25K16_1|ANAC001|NAC domain containing protein...</td>\n",
       "    </tr>\n",
       "    <tr>\n",
       "      <th>1</th>\n",
       "      <td>AT1G01020</td>\n",
       "      <td>ARV1</td>\n",
       "      <td>839569</td>\n",
       "      <td>protein_coding</td>\n",
       "      <td>ARV1 family protein [Source:NCBI gene (formerl...</td>\n",
       "      <td>T25K16_2|T25K16.2</td>\n",
       "    </tr>\n",
       "    <tr>\n",
       "      <th>2</th>\n",
       "      <td>AT1G01030</td>\n",
       "      <td>NGA3</td>\n",
       "      <td>839321</td>\n",
       "      <td>protein_coding</td>\n",
       "      <td>AP2/B3-like transcriptional factor family prot...</td>\n",
       "      <td>T25K16_3|T25K16.3|NGATHA3</td>\n",
       "    </tr>\n",
       "    <tr>\n",
       "      <th>3</th>\n",
       "      <td>AT1G01040</td>\n",
       "      <td>DCL1</td>\n",
       "      <td>839574</td>\n",
       "      <td>protein_coding</td>\n",
       "      <td>dicer-like 1 [Source:NCBI gene (formerly Entre...</td>\n",
       "      <td>T25K16.4|DICER-LIKE 1|EMB60|ASU1|CARPEL FACTOR...</td>\n",
       "    </tr>\n",
       "    <tr>\n",
       "      <th>4</th>\n",
       "      <td>AT1G01046</td>\n",
       "      <td>ath-MIR838</td>\n",
       "      <td>6240410</td>\n",
       "      <td>miRNA</td>\n",
       "      <td>ath-MIR838 [Source:miRBase;Acc:MI0005394]</td>\n",
       "      <td></td>\n",
       "    </tr>\n",
       "  </tbody>\n",
       "</table>\n",
       "</div>"
      ],
      "text/plain": [
       "   stable_id      symbol ncbi_gene_id         biotype  \\\n",
       "0  AT1G01010      NAC001       839580  protein_coding   \n",
       "1  AT1G01020        ARV1       839569  protein_coding   \n",
       "2  AT1G01030        NGA3       839321  protein_coding   \n",
       "3  AT1G01040        DCL1       839574  protein_coding   \n",
       "4  AT1G01046  ath-MIR838      6240410           miRNA   \n",
       "\n",
       "                                         description  \\\n",
       "0  NAC domain containing protein 1 [Source:NCBI g...   \n",
       "1  ARV1 family protein [Source:NCBI gene (formerl...   \n",
       "2  AP2/B3-like transcriptional factor family prot...   \n",
       "3  dicer-like 1 [Source:NCBI gene (formerly Entre...   \n",
       "4          ath-MIR838 [Source:miRBase;Acc:MI0005394]   \n",
       "\n",
       "                                            synonyms  \n",
       "0  T25K16_1|ANAC001|NAC domain containing protein...  \n",
       "1                                  T25K16_2|T25K16.2  \n",
       "2                          T25K16_3|T25K16.3|NGATHA3  \n",
       "3  T25K16.4|DICER-LIKE 1|EMB60|ASU1|CARPEL FACTOR...  \n",
       "4                                                     "
      ]
     },
     "execution_count": 22,
     "metadata": {},
     "output_type": "execute_result"
    }
   ],
   "source": [
    "df.head()"
   ]
  },
  {
   "cell_type": "code",
   "execution_count": 23,
   "metadata": {},
   "outputs": [],
   "source": [
    "# https://github.com/laminlabs/bionty/issues/533\n",
    "df[\"description\"] = df[\"description\"].str.replace(r\"\\[.*?\\]\", \"\", regex=True)"
   ]
  },
  {
   "cell_type": "code",
   "execution_count": 26,
   "metadata": {},
   "outputs": [
    {
     "name": "stdout",
     "output_type": "stream",
     "text": [
      "\u001b[92m→\u001b[0m connected lamindb: jacob/.lamin_storage\n"
     ]
    },
    {
     "data": {
      "text/html": [
       "<div>\n",
       "<style scoped>\n",
       "    .dataframe tbody tr th:only-of-type {\n",
       "        vertical-align: middle;\n",
       "    }\n",
       "\n",
       "    .dataframe tbody tr th {\n",
       "        vertical-align: top;\n",
       "    }\n",
       "\n",
       "    .dataframe thead th {\n",
       "        text-align: right;\n",
       "    }\n",
       "</style>\n",
       "<table border=\"1\" class=\"dataframe\">\n",
       "  <thead>\n",
       "    <tr style=\"text-align: right;\">\n",
       "      <th></th>\n",
       "      <th>stable_id</th>\n",
       "      <th>symbol</th>\n",
       "      <th>ncbi_gene_id</th>\n",
       "      <th>biotype</th>\n",
       "      <th>description</th>\n",
       "      <th>synonyms</th>\n",
       "    </tr>\n",
       "  </thead>\n",
       "  <tbody>\n",
       "    <tr>\n",
       "      <th>0</th>\n",
       "      <td>AT1G01010</td>\n",
       "      <td>NAC001</td>\n",
       "      <td>839580</td>\n",
       "      <td>protein_coding</td>\n",
       "      <td>NAC domain containing protein 1</td>\n",
       "      <td>T25K16_1|ANAC001|NAC domain containing protein...</td>\n",
       "    </tr>\n",
       "    <tr>\n",
       "      <th>1</th>\n",
       "      <td>AT1G01020</td>\n",
       "      <td>ARV1</td>\n",
       "      <td>839569</td>\n",
       "      <td>protein_coding</td>\n",
       "      <td>ARV1 family protein</td>\n",
       "      <td>T25K16_2|T25K16.2</td>\n",
       "    </tr>\n",
       "    <tr>\n",
       "      <th>2</th>\n",
       "      <td>AT1G01030</td>\n",
       "      <td>NGA3</td>\n",
       "      <td>839321</td>\n",
       "      <td>protein_coding</td>\n",
       "      <td>AP2/B3-like transcriptional factor family prot...</td>\n",
       "      <td>T25K16_3|T25K16.3|NGATHA3</td>\n",
       "    </tr>\n",
       "    <tr>\n",
       "      <th>3</th>\n",
       "      <td>AT1G01040</td>\n",
       "      <td>DCL1</td>\n",
       "      <td>839574</td>\n",
       "      <td>protein_coding</td>\n",
       "      <td>dicer-like 1</td>\n",
       "      <td>T25K16.4|DICER-LIKE 1|EMB60|ASU1|CARPEL FACTOR...</td>\n",
       "    </tr>\n",
       "    <tr>\n",
       "      <th>4</th>\n",
       "      <td>AT1G01046</td>\n",
       "      <td>ath-MIR838</td>\n",
       "      <td>6240410</td>\n",
       "      <td>miRNA</td>\n",
       "      <td>ath-MIR838</td>\n",
       "      <td></td>\n",
       "    </tr>\n",
       "  </tbody>\n",
       "</table>\n",
       "</div>"
      ],
      "text/plain": [
       "   stable_id      symbol ncbi_gene_id         biotype  \\\n",
       "0  AT1G01010      NAC001       839580  protein_coding   \n",
       "1  AT1G01020        ARV1       839569  protein_coding   \n",
       "2  AT1G01030        NGA3       839321  protein_coding   \n",
       "3  AT1G01040        DCL1       839574  protein_coding   \n",
       "4  AT1G01046  ath-MIR838      6240410           miRNA   \n",
       "\n",
       "                                         description  \\\n",
       "0                   NAC domain containing protein 1    \n",
       "1                               ARV1 family protein    \n",
       "2  AP2/B3-like transcriptional factor family prot...   \n",
       "3                                      dicer-like 1    \n",
       "4                                        ath-MIR838    \n",
       "\n",
       "                                            synonyms  \n",
       "0  T25K16_1|ANAC001|NAC domain containing protein...  \n",
       "1                                  T25K16_2|T25K16.2  \n",
       "2                          T25K16_3|T25K16.3|NGATHA3  \n",
       "3  T25K16.4|DICER-LIKE 1|EMB60|ASU1|CARPEL FACTOR...  \n",
       "4                                                     "
      ]
     },
     "execution_count": 26,
     "metadata": {},
     "output_type": "execute_result"
    }
   ],
   "source": [
    "df.head()\n"
   ]
  },
  {
   "cell_type": "code",
   "execution_count": 28,
   "metadata": {},
   "outputs": [],
   "source": [
    "df.to_parquet(f\"df_human__ensembl__{version}__Gene.parquet\")"
   ]
  }
 ],
 "metadata": {
  "kernelspec": {
   "display_name": "scprint-Vjske0Mr-py3.10",
   "language": "python",
   "name": "python3"
  },
  "language_info": {
   "codemirror_mode": {
    "name": "ipython",
    "version": 3
   },
   "file_extension": ".py",
   "mimetype": "text/x-python",
   "name": "python",
   "nbconvert_exporter": "python",
   "pygments_lexer": "ipython3",
   "version": "3.10.13"
  }
 },
 "nbformat": 4,
 "nbformat_minor": 2
}
