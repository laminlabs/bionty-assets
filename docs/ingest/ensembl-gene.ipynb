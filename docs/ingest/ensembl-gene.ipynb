{
 "cells": [
  {
   "cell_type": "markdown",
   "id": "343f610a-ccf5-4dc4-a853-e437ed5b6a1d",
   "metadata": {},
   "source": [
    "# Ensembl gene -> `bionty.Gene().df`"
   ]
  },
  {
   "cell_type": "code",
   "execution_count": 1,
   "id": "7bb50620-5208-425b-8c2c-17d0e00a7699",
   "metadata": {},
   "outputs": [
    {
     "name": "stderr",
     "output_type": "stream",
     "text": [
      "2022-10-24 10:12:27,662:INFO - Note: NumExpr detected 10 cores but \"NUMEXPR_MAX_THREADS\" not set, so enforcing safe limit of 8.\n",
      "2022-10-24 10:12:27,663:INFO - NumExpr defaulting to 8 threads.\n"
     ]
    },
    {
     "data": {
      "text/html": [
       "<table><tbody><tr><td style='text-align: left;'><b>author</b></td><td style='text-align: left;'>Sunny Sun (sunnyosun)</td></tr><tr><td style='text-align: left;'><b>id</b></td><td style='text-align: left;'>z2WN<span style='opacity:0.3'>jjvFuzwf</span></td></tr><tr><td style='text-align: left;'><b>version</b></td><td style='text-align: left;'>1</td></tr><tr><td style='text-align: left;'><b>time_init</b></td><td style='text-align: left;'>2022-09-27 11:04</td></tr><tr><td style='text-align: left;'><b>time_run</b></td><td style='text-align: left;'>2022-10-24 08:14</td></tr><tr><td style='text-align: left;'><b>consecutive_cells</b></td><td style='text-align: left;'>True</td></tr><tr><td style='text-align: left;'><b>pypackage</b></td><td style='text-align: left;'>lamindb==0.6.0 lnschema_bionty==0.4.3 pandas==1.5.0</td></tr></tbody></table>"
      ],
      "text/plain": [
       "<IPython.core.display.HTML object>"
      ]
     },
     "metadata": {},
     "output_type": "display_data"
    }
   ],
   "source": [
    "import lamindb as ln\n",
    "import pandas as pd\n",
    "from lnschema_bionty import id\n",
    "\n",
    "ln.nb.header()"
   ]
  },
  {
   "cell_type": "markdown",
   "id": "1b02179b-bda0-415a-b8ea-65ebbcf7f1d0",
   "metadata": {},
   "source": [
    "## Ensembl download\n",
    "\n",
    "The table has a `version` column with value of `Ens107`.\n",
    "\n",
    "These tables are downloaded from [biomart](https://www.ensembl.org/biomart/martview/) database (`Ensembl Genes 107`) containing the following id columns for every species:\n",
    "- `Gene stable ID`\n",
    "- `Transcript stable ID`\n",
    "- `Protein stable ID`\n",
    "- `Gene name`\n",
    "- `Gene Synonym`\n",
    "- `Gene type`\n",
    "- `Gene description` __# this is a new column added in v2__\n",
    "- `NCBI gene (formerly Entrezgene) ID`\n",
    "\n",
    "Addtional species-specific columns are also present for:\n",
    "- human: `HGNC ID`, `MIM gene accession`\n",
    "- mouse: `MGI ID`"
   ]
  },
  {
   "cell_type": "code",
   "execution_count": 2,
   "id": "80d3e482-b4ec-481b-afaf-05b28096f882",
   "metadata": {},
   "outputs": [],
   "source": [
    "dfs = {\n",
    "    \"human\": \"~/Downloads/mart_export-human.txt\",  # http://www.ensembl.org/biomart/martview/4d75e3d44de27e6ed58cfce974f0a755?VIRTUALSCHEMANAME=default&ATTRIBUTES=hsapiens_gene_ensembl.default.feature_page.ensembl_gene_id|hsapiens_gene_ensembl.default.feature_page.ensembl_transcript_id|hsapiens_gene_ensembl.default.feature_page.ensembl_peptide_id|hsapiens_gene_ensembl.default.feature_page.external_gene_name|hsapiens_gene_ensembl.default.feature_page.external_synonym|hsapiens_gene_ensembl.default.feature_page.gene_biotype|hsapiens_gene_ensembl.default.feature_page.entrezgene_id|hsapiens_gene_ensembl.default.feature_page.hgnc_id|hsapiens_gene_ensembl.default.feature_page.mim_gene_accession&FILTERS=&VISIBLEPANEL=resultspanel\n",
    "    \"mouse\": \"~/Downloads/mart_export-mouse.txt\",  # http://www.ensembl.org/biomart/martview/4d75e3d44de27e6ed58cfce974f0a755?VIRTUALSCHEMANAME=default&ATTRIBUTES=mmusculus_gene_ensembl.default.feature_page.ensembl_gene_id|mmusculus_gene_ensembl.default.feature_page.ensembl_transcript_id|mmusculus_gene_ensembl.default.feature_page.ensembl_peptide_id|mmusculus_gene_ensembl.default.feature_page.external_gene_name|mmusculus_gene_ensembl.default.feature_page.external_synonym|mmusculus_gene_ensembl.default.feature_page.gene_biotype|mmusculus_gene_ensembl.default.feature_page.entrezgene_id|mmusculus_gene_ensembl.default.feature_page.mgi_id&FILTERS=&VISIBLEPANEL=resultspanel\n",
    "}"
   ]
  },
  {
   "cell_type": "markdown",
   "id": "405e7f2a-b216-4c50-9f61-048784c92a54",
   "metadata": {},
   "source": [
    "## Curate the tables"
   ]
  },
  {
   "cell_type": "code",
   "execution_count": 3,
   "id": "38cc8237-7611-4f7c-901b-c1cbafb9b0a4",
   "metadata": {},
   "outputs": [
    {
     "name": "stdout",
     "output_type": "stream",
     "text": [
      "----------human----------\n",
      "Initial shape: (620902, 10)\n"
     ]
    },
    {
     "data": {
      "text/html": [
       "<div>\n",
       "<style scoped>\n",
       "    .dataframe tbody tr th:only-of-type {\n",
       "        vertical-align: middle;\n",
       "    }\n",
       "\n",
       "    .dataframe tbody tr th {\n",
       "        vertical-align: top;\n",
       "    }\n",
       "\n",
       "    .dataframe thead th {\n",
       "        text-align: right;\n",
       "    }\n",
       "</style>\n",
       "<table border=\"1\" class=\"dataframe\">\n",
       "  <thead>\n",
       "    <tr style=\"text-align: right;\">\n",
       "      <th></th>\n",
       "      <th>Gene stable ID</th>\n",
       "      <th>Transcript stable ID</th>\n",
       "      <th>Protein stable ID</th>\n",
       "      <th>Gene name</th>\n",
       "      <th>Gene type</th>\n",
       "      <th>Gene description</th>\n",
       "      <th>NCBI gene (formerly Entrezgene) ID</th>\n",
       "      <th>HGNC ID</th>\n",
       "      <th>MIM gene accession</th>\n",
       "      <th>Gene Synonym</th>\n",
       "      <th>version</th>\n",
       "    </tr>\n",
       "    <tr>\n",
       "      <th>id</th>\n",
       "      <th></th>\n",
       "      <th></th>\n",
       "      <th></th>\n",
       "      <th></th>\n",
       "      <th></th>\n",
       "      <th></th>\n",
       "      <th></th>\n",
       "      <th></th>\n",
       "      <th></th>\n",
       "      <th></th>\n",
       "      <th></th>\n",
       "    </tr>\n",
       "  </thead>\n",
       "  <tbody>\n",
       "    <tr>\n",
       "      <th>9ArDyH</th>\n",
       "      <td>ENSG00000210049</td>\n",
       "      <td>ENST00000387314</td>\n",
       "      <td>NaN</td>\n",
       "      <td>MT-TF</td>\n",
       "      <td>Mt_tRNA</td>\n",
       "      <td>mitochondrially encoded tRNA-Phe (UUU/C) [Sour...</td>\n",
       "      <td>NaN</td>\n",
       "      <td>HGNC:7481</td>\n",
       "      <td>NaN</td>\n",
       "      <td>MTTF|trnF</td>\n",
       "      <td>Ens107</td>\n",
       "    </tr>\n",
       "    <tr>\n",
       "      <th>VPx84V</th>\n",
       "      <td>ENSG00000211459</td>\n",
       "      <td>ENST00000389680</td>\n",
       "      <td>NaN</td>\n",
       "      <td>MT-RNR1</td>\n",
       "      <td>Mt_rRNA</td>\n",
       "      <td>mitochondrially encoded 12S rRNA [Source:HGNC ...</td>\n",
       "      <td>NaN</td>\n",
       "      <td>HGNC:7470</td>\n",
       "      <td>NaN</td>\n",
       "      <td>12S|MOTS-c|MTRNR1</td>\n",
       "      <td>Ens107</td>\n",
       "    </tr>\n",
       "    <tr>\n",
       "      <th>mxiCCU</th>\n",
       "      <td>ENSG00000210077</td>\n",
       "      <td>ENST00000387342</td>\n",
       "      <td>NaN</td>\n",
       "      <td>MT-TV</td>\n",
       "      <td>Mt_tRNA</td>\n",
       "      <td>mitochondrially encoded tRNA-Val (GUN) [Source...</td>\n",
       "      <td>NaN</td>\n",
       "      <td>HGNC:7500</td>\n",
       "      <td>NaN</td>\n",
       "      <td>MTTV|trnV</td>\n",
       "      <td>Ens107</td>\n",
       "    </tr>\n",
       "    <tr>\n",
       "      <th>BEMOZK</th>\n",
       "      <td>ENSG00000210082</td>\n",
       "      <td>ENST00000387347</td>\n",
       "      <td>NaN</td>\n",
       "      <td>MT-RNR2</td>\n",
       "      <td>Mt_rRNA</td>\n",
       "      <td>mitochondrially encoded 16S rRNA [Source:HGNC ...</td>\n",
       "      <td>NaN</td>\n",
       "      <td>HGNC:7471</td>\n",
       "      <td>NaN</td>\n",
       "      <td>16S|HN|MTRNR2</td>\n",
       "      <td>Ens107</td>\n",
       "    </tr>\n",
       "    <tr>\n",
       "      <th>rDIcoG</th>\n",
       "      <td>ENSG00000209082</td>\n",
       "      <td>ENST00000386347</td>\n",
       "      <td>NaN</td>\n",
       "      <td>MT-TL1</td>\n",
       "      <td>Mt_tRNA</td>\n",
       "      <td>mitochondrially encoded tRNA-Leu (UUA/G) 1 [So...</td>\n",
       "      <td>NaN</td>\n",
       "      <td>HGNC:7490</td>\n",
       "      <td>NaN</td>\n",
       "      <td>MTTL1|TRNL1</td>\n",
       "      <td>Ens107</td>\n",
       "    </tr>\n",
       "  </tbody>\n",
       "</table>\n",
       "</div>"
      ],
      "text/plain": [
       "         Gene stable ID Transcript stable ID Protein stable ID Gene name  \\\n",
       "id                                                                         \n",
       "9ArDyH  ENSG00000210049      ENST00000387314               NaN     MT-TF   \n",
       "VPx84V  ENSG00000211459      ENST00000389680               NaN   MT-RNR1   \n",
       "mxiCCU  ENSG00000210077      ENST00000387342               NaN     MT-TV   \n",
       "BEMOZK  ENSG00000210082      ENST00000387347               NaN   MT-RNR2   \n",
       "rDIcoG  ENSG00000209082      ENST00000386347               NaN    MT-TL1   \n",
       "\n",
       "       Gene type                                   Gene description  \\\n",
       "id                                                                    \n",
       "9ArDyH   Mt_tRNA  mitochondrially encoded tRNA-Phe (UUU/C) [Sour...   \n",
       "VPx84V   Mt_rRNA  mitochondrially encoded 12S rRNA [Source:HGNC ...   \n",
       "mxiCCU   Mt_tRNA  mitochondrially encoded tRNA-Val (GUN) [Source...   \n",
       "BEMOZK   Mt_rRNA  mitochondrially encoded 16S rRNA [Source:HGNC ...   \n",
       "rDIcoG   Mt_tRNA  mitochondrially encoded tRNA-Leu (UUA/G) 1 [So...   \n",
       "\n",
       "       NCBI gene (formerly Entrezgene) ID    HGNC ID MIM gene accession  \\\n",
       "id                                                                        \n",
       "9ArDyH                                NaN  HGNC:7481                NaN   \n",
       "VPx84V                                NaN  HGNC:7470                NaN   \n",
       "mxiCCU                                NaN  HGNC:7500                NaN   \n",
       "BEMOZK                                NaN  HGNC:7471                NaN   \n",
       "rDIcoG                                NaN  HGNC:7490                NaN   \n",
       "\n",
       "             Gene Synonym version  \n",
       "id                                 \n",
       "9ArDyH          MTTF|trnF  Ens107  \n",
       "VPx84V  12S|MOTS-c|MTRNR1  Ens107  \n",
       "mxiCCU          MTTV|trnV  Ens107  \n",
       "BEMOZK      16S|HN|MTRNR2  Ens107  \n",
       "rDIcoG        MTTL1|TRNL1  Ens107  "
      ]
     },
     "metadata": {},
     "output_type": "display_data"
    },
    {
     "name": "stdout",
     "output_type": "stream",
     "text": [
      "Final shape: (276652, 11)\n",
      "Saved as ensembl-ids-human.parquet.\n",
      "----------mouse----------\n",
      "Initial shape: (296054, 9)\n"
     ]
    },
    {
     "data": {
      "text/html": [
       "<div>\n",
       "<style scoped>\n",
       "    .dataframe tbody tr th:only-of-type {\n",
       "        vertical-align: middle;\n",
       "    }\n",
       "\n",
       "    .dataframe tbody tr th {\n",
       "        vertical-align: top;\n",
       "    }\n",
       "\n",
       "    .dataframe thead th {\n",
       "        text-align: right;\n",
       "    }\n",
       "</style>\n",
       "<table border=\"1\" class=\"dataframe\">\n",
       "  <thead>\n",
       "    <tr style=\"text-align: right;\">\n",
       "      <th></th>\n",
       "      <th>Gene stable ID</th>\n",
       "      <th>Transcript stable ID</th>\n",
       "      <th>Protein stable ID</th>\n",
       "      <th>Gene name</th>\n",
       "      <th>Gene type</th>\n",
       "      <th>Gene description</th>\n",
       "      <th>NCBI gene (formerly Entrezgene) ID</th>\n",
       "      <th>MGI ID</th>\n",
       "      <th>Gene Synonym</th>\n",
       "      <th>version</th>\n",
       "    </tr>\n",
       "    <tr>\n",
       "      <th>id</th>\n",
       "      <th></th>\n",
       "      <th></th>\n",
       "      <th></th>\n",
       "      <th></th>\n",
       "      <th></th>\n",
       "      <th></th>\n",
       "      <th></th>\n",
       "      <th></th>\n",
       "      <th></th>\n",
       "      <th></th>\n",
       "    </tr>\n",
       "  </thead>\n",
       "  <tbody>\n",
       "    <tr>\n",
       "      <th>G9Vtm7</th>\n",
       "      <td>ENSMUSG00000064336</td>\n",
       "      <td>ENSMUST00000082387</td>\n",
       "      <td>NaN</td>\n",
       "      <td>mt-Tf</td>\n",
       "      <td>Mt_tRNA</td>\n",
       "      <td>mitochondrially encoded tRNA phenylalanine [So...</td>\n",
       "      <td>NaN</td>\n",
       "      <td>MGI:102487</td>\n",
       "      <td>tRNA|tRNA-Phe|TrnF tRNA</td>\n",
       "      <td>Ens107</td>\n",
       "    </tr>\n",
       "    <tr>\n",
       "      <th>Z2UCfU</th>\n",
       "      <td>ENSMUSG00000064337</td>\n",
       "      <td>ENSMUST00000082388</td>\n",
       "      <td>NaN</td>\n",
       "      <td>mt-Rnr1</td>\n",
       "      <td>Mt_rRNA</td>\n",
       "      <td>mitochondrially encoded 12S rRNA [Source:MGI S...</td>\n",
       "      <td>NaN</td>\n",
       "      <td>MGI:102493</td>\n",
       "      <td>12S ribosomal RNA|12S rRNA|12SrRNA|Rnr1 s-rRNA</td>\n",
       "      <td>Ens107</td>\n",
       "    </tr>\n",
       "    <tr>\n",
       "      <th>m5533n</th>\n",
       "      <td>ENSMUSG00000064338</td>\n",
       "      <td>ENSMUST00000082389</td>\n",
       "      <td>NaN</td>\n",
       "      <td>mt-Tv</td>\n",
       "      <td>Mt_tRNA</td>\n",
       "      <td>mitochondrially encoded tRNA valine [Source:MG...</td>\n",
       "      <td>NaN</td>\n",
       "      <td>MGI:102472</td>\n",
       "      <td>tRNA|tRNA-Val|TrnaV tRNA</td>\n",
       "      <td>Ens107</td>\n",
       "    </tr>\n",
       "    <tr>\n",
       "      <th>FNeSbN</th>\n",
       "      <td>ENSMUSG00000064339</td>\n",
       "      <td>ENSMUST00000082390</td>\n",
       "      <td>NaN</td>\n",
       "      <td>mt-Rnr2</td>\n",
       "      <td>Mt_rRNA</td>\n",
       "      <td>mitochondrially encoded 16S rRNA [Source:MGI S...</td>\n",
       "      <td>NaN</td>\n",
       "      <td>MGI:102492</td>\n",
       "      <td>16S ribosomal RNA|16S rRNA|16SrRNA|Rnr2 16S ri...</td>\n",
       "      <td>Ens107</td>\n",
       "    </tr>\n",
       "    <tr>\n",
       "      <th>Bm4aSk</th>\n",
       "      <td>ENSMUSG00000064340</td>\n",
       "      <td>ENSMUST00000082391</td>\n",
       "      <td>NaN</td>\n",
       "      <td>mt-Tl1</td>\n",
       "      <td>Mt_tRNA</td>\n",
       "      <td>mitochondrially encoded tRNA leucine 1 [Source...</td>\n",
       "      <td>NaN</td>\n",
       "      <td>MGI:102482</td>\n",
       "      <td>tRNA|tRNA Leu|tRNA Leu_1|TrnrL1 tRNA</td>\n",
       "      <td>Ens107</td>\n",
       "    </tr>\n",
       "  </tbody>\n",
       "</table>\n",
       "</div>"
      ],
      "text/plain": [
       "            Gene stable ID Transcript stable ID Protein stable ID Gene name  \\\n",
       "id                                                                            \n",
       "G9Vtm7  ENSMUSG00000064336   ENSMUST00000082387               NaN     mt-Tf   \n",
       "Z2UCfU  ENSMUSG00000064337   ENSMUST00000082388               NaN   mt-Rnr1   \n",
       "m5533n  ENSMUSG00000064338   ENSMUST00000082389               NaN     mt-Tv   \n",
       "FNeSbN  ENSMUSG00000064339   ENSMUST00000082390               NaN   mt-Rnr2   \n",
       "Bm4aSk  ENSMUSG00000064340   ENSMUST00000082391               NaN    mt-Tl1   \n",
       "\n",
       "       Gene type                                   Gene description  \\\n",
       "id                                                                    \n",
       "G9Vtm7   Mt_tRNA  mitochondrially encoded tRNA phenylalanine [So...   \n",
       "Z2UCfU   Mt_rRNA  mitochondrially encoded 12S rRNA [Source:MGI S...   \n",
       "m5533n   Mt_tRNA  mitochondrially encoded tRNA valine [Source:MG...   \n",
       "FNeSbN   Mt_rRNA  mitochondrially encoded 16S rRNA [Source:MGI S...   \n",
       "Bm4aSk   Mt_tRNA  mitochondrially encoded tRNA leucine 1 [Source...   \n",
       "\n",
       "       NCBI gene (formerly Entrezgene) ID      MGI ID  \\\n",
       "id                                                      \n",
       "G9Vtm7                                NaN  MGI:102487   \n",
       "Z2UCfU                                NaN  MGI:102493   \n",
       "m5533n                                NaN  MGI:102472   \n",
       "FNeSbN                                NaN  MGI:102492   \n",
       "Bm4aSk                                NaN  MGI:102482   \n",
       "\n",
       "                                             Gene Synonym version  \n",
       "id                                                                 \n",
       "G9Vtm7                            tRNA|tRNA-Phe|TrnF tRNA  Ens107  \n",
       "Z2UCfU     12S ribosomal RNA|12S rRNA|12SrRNA|Rnr1 s-rRNA  Ens107  \n",
       "m5533n                           tRNA|tRNA-Val|TrnaV tRNA  Ens107  \n",
       "FNeSbN  16S ribosomal RNA|16S rRNA|16SrRNA|Rnr2 16S ri...  Ens107  \n",
       "Bm4aSk               tRNA|tRNA Leu|tRNA Leu_1|TrnrL1 tRNA  Ens107  "
      ]
     },
     "metadata": {},
     "output_type": "display_data"
    },
    {
     "name": "stdout",
     "output_type": "stream",
     "text": [
      "Final shape: (150702, 10)\n",
      "Saved as ensembl-ids-mouse.parquet.\n"
     ]
    }
   ],
   "source": [
    "for species, path in dfs.items():\n",
    "    print(f\"----------{species}----------\")\n",
    "    df = pd.read_csv(path, dtype=str)\n",
    "    print(f\"Initial shape: {df.shape}\")\n",
    "\n",
    "    # Aggregate the `Gene Synonym` column\n",
    "    df_alias = df[[\"Gene name\", \"Gene Synonym\"]].drop_duplicates().dropna()\n",
    "    df_alias = df_alias.groupby(\"Gene name\").agg(\"|\".join)\n",
    "    del df[\"Gene Synonym\"]\n",
    "    df = df.drop_duplicates()\n",
    "    df = pd.merge(df, df_alias, on=\"Gene name\", how=\"left\")\n",
    "\n",
    "    # add ids to each entry\n",
    "    ids = []\n",
    "    for i in df.index:\n",
    "        ids.append(id.gene())\n",
    "    df.index = ids\n",
    "    df.index.name = \"id\"\n",
    "\n",
    "    # add the version column\n",
    "    df[\"version\"] = \"Ens107\"\n",
    "\n",
    "    display(df.head())\n",
    "    print(f\"Final shape: {df.shape}\")\n",
    "\n",
    "    # save to a feather file\n",
    "    df.to_parquet(f\"ensembl-ids-{species}.parquet\")\n",
    "    print(f\"Saved as ensembl-ids-{species}.parquet.\")"
   ]
  },
  {
   "cell_type": "markdown",
   "id": "9a337dcd",
   "metadata": {},
   "source": [
    "## Push to bionty-assets.lndb"
   ]
  },
  {
   "cell_type": "code",
   "execution_count": 4,
   "id": "e42f7e15-f6ff-4968-b86a-b6ba3c9bbfa2",
   "metadata": {},
   "outputs": [
    {
     "name": "stdout",
     "output_type": "stream",
     "text": [
      "migrate-unnecessary\n"
     ]
    }
   ],
   "source": [
    "!lndb load bionty-assets"
   ]
  },
  {
   "cell_type": "code",
   "execution_count": 5,
   "id": "8585b983-6e20-497c-a184-11235508ea8e",
   "metadata": {},
   "outputs": [],
   "source": [
    "!lndb login sunnyosun"
   ]
  },
  {
   "cell_type": "code",
   "execution_count": 6,
   "id": "59247760",
   "metadata": {},
   "outputs": [],
   "source": [
    "ingest = ln.db.Ingest()"
   ]
  },
  {
   "cell_type": "code",
   "execution_count": 7,
   "id": "f7fdf118",
   "metadata": {},
   "outputs": [],
   "source": [
    "ingest.add(\"ensembl-ids-human.parquet\")\n",
    "ingest.add(\"ensembl-ids-mouse.parquet\");"
   ]
  },
  {
   "cell_type": "code",
   "execution_count": 8,
   "id": "cf99992e-9a9b-435e-92b0-73fa9aa141b1",
   "metadata": {},
   "outputs": [
    {
     "name": "stdout",
     "output_type": "stream",
     "text": [
      "✅ Cell numbers increase consecutively: Awesome!\n"
     ]
    },
    {
     "name": "stderr",
     "output_type": "stream",
     "text": [
      "2022-10-24 10:13:28,071:INFO - Found credentials in shared credentials file: ~/.aws/credentials\n"
     ]
    },
    {
     "name": "stdout",
     "output_type": "stream",
     "text": [
      "Upload /Users/sunnysun/Documents/repos.nosync/bionty-assets/docs/ingest/ensembl-ids-human.parquet: 1.00\n",
      "Upload /Users/sunnysun/Documents/repos.nosync/bionty-assets/docs/ingest/ensembl-ids-mouse.parquet: 1.00\n",
      "ℹ️ Added notebook 'Bionty `Gene` table' (z2WNjjvFuzwf, 1) by user sunnyosun.\n",
      "✅ Ingested the following dobjects:\n",
      "+---+---------------------------------------------------+-----------------------------------------+----------------------+\n",
      "|   | dobject                                           | jupynb                                  | user                 |\n",
      "+---+---------------------------------------------------+-----------------------------------------+----------------------+\n",
      "| 0 | ensembl-ids-human.parquet (w24cNKmNIdYl9AUvZFYVi) | 'Bionty `Gene` table' (z2WNjjvFuzwf, 1) | sunnyosun (kmvZDIX9) |\n",
      "| 1 | ensembl-ids-mouse.parquet (nbQ3aAi04ygeS8dC97DCi) | 'Bionty `Gene` table' (z2WNjjvFuzwf, 1) | sunnyosun (kmvZDIX9) |\n",
      "+---+---------------------------------------------------+-----------------------------------------+----------------------+\n",
      "ℹ️ Set notebook version to \u001b[1m1\u001b[0m & wrote pypackages.\n"
     ]
    }
   ],
   "source": [
    "ingest.commit()"
   ]
  },
  {
   "cell_type": "markdown",
   "id": "02809553-a837-4075-9739-3bf59b768cb3",
   "metadata": {},
   "source": [
    "Now on S3:\n",
    "- human: https://bionty-assets.s3.amazonaws.com/w24cNKmNIdYl9AUvZFYVi.parquet\n",
    "- mouse: https://bionty-assets.s3.amazonaws.com/nbQ3aAi04ygeS8dC97DCi.parquet"
   ]
  }
 ],
 "metadata": {
  "kernelspec": {
   "display_name": "Python 3 (ipykernel)",
   "language": "python",
   "name": "python3"
  },
  "language_info": {
   "codemirror_mode": {
    "name": "ipython",
    "version": 3
   },
   "file_extension": ".py",
   "mimetype": "text/x-python",
   "name": "python",
   "nbconvert_exporter": "python",
   "pygments_lexer": "ipython3",
   "version": "3.9.13"
  },
  "nbproject": {
   "id": "z2WNjjvFuzwf",
   "parent": null,
   "pypackage": {
    "lamindb": "0.6.0",
    "lnschema_bionty": "0.4.3",
    "pandas": "1.5.0"
   },
   "time_init": "2022-09-27T11:04:20.047354+00:00",
   "user_handle": "sunnyosun",
   "user_id": "kmvZDIX9",
   "user_name": "Sunny Sun",
   "version": "1"
  },
  "vscode": {
   "interpreter": {
    "hash": "ae1fefc8646a06dd2e75004cd934adda7c5727b046986a772e3b44b0ffba9754"
   }
  }
 },
 "nbformat": 4,
 "nbformat_minor": 5
}
