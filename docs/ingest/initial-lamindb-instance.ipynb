{
 "cells": [
  {
   "cell_type": "markdown",
   "metadata": {},
   "source": [
    "# Initialize `lamindb/bionty-assets` instance"
   ]
  },
  {
   "cell_type": "code",
   "execution_count": null,
   "metadata": {},
   "outputs": [],
   "source": [
    "!lamin load laminlabs/bionty-assets"
   ]
  },
  {
   "cell_type": "code",
   "execution_count": null,
   "metadata": {},
   "outputs": [],
   "source": [
    "import lamindb as ln\n",
    "import bionty as bt\n",
    "from lamin_utils import logger\n",
    "\n",
    "\n",
    "ln.settings.transform.stem_uid = \"b8kF9q3jL3Ty\"\n",
    "ln.settings.transform.version = \"1\"\n",
    "ln.track()"
   ]
  },
  {
   "cell_type": "code",
   "execution_count": null,
   "metadata": {},
   "outputs": [],
   "source": [
    "bt.Source.df().head()"
   ]
  },
  {
   "cell_type": "code",
   "execution_count": null,
   "metadata": {},
   "outputs": [],
   "source": [
    "ln.settings.storage.root.view_tree()"
   ]
  },
  {
   "cell_type": "markdown",
   "metadata": {},
   "source": [
    "## Register DataFrames as artifacts"
   ]
  },
  {
   "cell_type": "code",
   "execution_count": null,
   "metadata": {},
   "outputs": [],
   "source": [
    "from bionty._bionty import list_biorecord_models\n",
    "\n",
    "bt_models = list_biorecord_models(bt)\n",
    "\n",
    "not_registered = {\"no_source\": [], \"not_recognized\": []}\n",
    "for file in ln.settings.storage.root.glob('**/*'):\n",
    "    filepath = file.path\n",
    "    filestem = file.stem\n",
    "\n",
    "    if file.is_dir():\n",
    "        continue\n",
    "    if filepath.startswith(\"bionty-assets/.lamindb\"):\n",
    "        continue\n",
    "    \n",
    "    if file.suffix == \".parquet\":\n",
    "        # new format\n",
    "        if filestem.startswith(\"df_\"):\n",
    "            organism, source, version, entity = filestem.removeprefix(\"df_\").split(\"__\")\n",
    "        # old format\n",
    "        elif filestem.endswith(\"_lookup\"):\n",
    "            organism, source, version, entity = filestem.removesuffix(\"_lookup\").split(\"_\")\n",
    "        else:\n",
    "            not_registered[\"not_recognized\"].append(file)\n",
    "            logger.warning(f\"Not recognized parquet file! {file}\")\n",
    "            continue\n",
    "        if entity in bt_models:\n",
    "            entity = f\"bionty.{entity}\"\n",
    "        source_record = bt.Source.filter(organism=organism, name=source, version=version, entity=entity).one_or_none()\n",
    "        if source_record is not None:\n",
    "            artifact = ln.Artifact(file).save()\n",
    "            source_record.dataframe_artifact = artifact\n",
    "            source_record.save()\n",
    "            logger.print(f\"Registered parquet file: {file}\")\n",
    "        else:\n",
    "            not_registered[\"no_source\"].append(file)\n",
    "            logger.warning(f\"Source not found for parquet file! {file}\")\n",
    "    elif file.stem.startswith(\"ontology_\"):\n",
    "        try:\n",
    "            organism, source, version, entity = file.name.removeprefix(\"ontology_\").split(\"__\")\n",
    "        except ValueError:\n",
    "            not_registered[\"not_recognized\"].append(file)\n",
    "            logger.warning(f\"Not recognized file! {file}\")\n",
    "            continue\n",
    "        if entity in bt_models:\n",
    "            entity = f\"bionty.{entity}\"\n",
    "        source_record = bt.Source.filter(organism=organism, name=source, version=version, entity=entity).one_or_none()\n",
    "        if source_record is not None:\n",
    "            artifact = ln.Artifact(file).save()\n",
    "            source_record.artifacts.add(artifact)\n",
    "            logger.print(f\"Registered ontology file: {file}\")\n",
    "        else:\n",
    "            not_registered[\"no_source\"].append(file)\n",
    "            logger.warning(f\"Source not found for ontology file! {file}\")\n",
    "    else:\n",
    "        not_registered[\"not_recognized\"].append(file)\n",
    "        logger.warning(f\"Not recognized file! {file}\")"
   ]
  },
  {
   "cell_type": "markdown",
   "metadata": {},
   "source": [
    "## Non-registered files"
   ]
  },
  {
   "cell_type": "code",
   "execution_count": null,
   "metadata": {},
   "outputs": [],
   "source": [
    "not_registered"
   ]
  },
  {
   "cell_type": "markdown",
   "metadata": {},
   "source": [
    "## BFXPipeline currently has no linked dataframe\n",
    "\n",
    "Requires: https://github.com/laminlabs/bionty/issues/83"
   ]
  },
  {
   "cell_type": "code",
   "execution_count": null,
   "metadata": {},
   "outputs": [],
   "source": [
    "bt.Source.filter(dataframe_artifact=None).df()"
   ]
  },
  {
   "cell_type": "code",
   "execution_count": null,
   "metadata": {},
   "outputs": [],
   "source": [
    "ln.finish()"
   ]
  }
 ],
 "metadata": {
  "vscode": {
   "interpreter": {
    "hash": "ae1fefc8646a06dd2e75004cd934adda7c5727b046986a772e3b44b0ffba9754"
   }
  },
  "language_info": {
    "codemirror_mode": {
      "name": "ipython",
      "version": 3
    },
    "file_extension": ".py",
    "mimetype": "text/x-python",
    "name": "python",
    "nbconvert_exporter": "python",
    "pygments_lexer": "ipython3",
    "version": "3.9.16"
  }
 },
 "nbformat": 4,
 "nbformat_minor": 4
}
