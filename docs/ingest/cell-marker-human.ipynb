{
 "cells": [
  {
   "cell_type": "markdown",
   "metadata": {},
   "source": [
    "# Human cell markers -> `bionty.CellMarker().df`"
   ]
  },
  {
   "cell_type": "code",
   "execution_count": 1,
   "metadata": {},
   "outputs": [
    {
     "data": {
      "text/html": [
       "<table><tbody><tr><td style='text-align: left;'><b>author</b></td><td style='text-align: left;'>Sunny Sun (sunnyosun)</td></tr><tr><td style='text-align: left;'><b>id</b></td><td style='text-align: left;'>wxPc<span style='opacity:0.3'>3RWmRp2a</span></td></tr><tr><td style='text-align: left;'><b>version</b></td><td style='text-align: left;'>1</td></tr><tr><td style='text-align: left;'><b>time_init</b></td><td style='text-align: left;'>2022-09-26 15:37</td></tr><tr><td style='text-align: left;'><b>time_run</b></td><td style='text-align: left;'>2022-10-24 08:28</td></tr><tr><td style='text-align: left;'><b>consecutive_cells</b></td><td style='text-align: left;'>True</td></tr><tr><td style='text-align: left;'><b>pypackage</b></td><td style='text-align: left;'>lamindb==0.6.0 lnschema_bionty==0.4.3 pandas==1.5.0</td></tr></tbody></table>"
      ],
      "text/plain": [
       "<IPython.core.display.HTML object>"
      ]
     },
     "metadata": {},
     "output_type": "display_data"
    }
   ],
   "source": [
    "import pandas as pd\n",
    "from lnschema_bionty import id\n",
    "import lamindb as ln\n",
    "\n",
    "ln.nb.header()"
   ]
  },
  {
   "cell_type": "markdown",
   "metadata": {},
   "source": [
    "## Curate the human cell marker table"
   ]
  },
  {
   "cell_type": "code",
   "execution_count": 2,
   "metadata": {},
   "outputs": [
    {
     "data": {
      "text/plain": [
       "(2868, 15)"
      ]
     },
     "execution_count": 2,
     "metadata": {},
     "output_type": "execute_result"
    }
   ],
   "source": [
    "url = \"http://xteam.xbio.top/CellMarker/download/Human_cell_markers.txt\"\n",
    "df = pd.read_csv(url, sep=\"\\t\", dtype=str)\n",
    "\n",
    "df.shape"
   ]
  },
  {
   "cell_type": "code",
   "execution_count": 3,
   "metadata": {},
   "outputs": [
    {
     "data": {
      "text/html": [
       "<div>\n",
       "<style scoped>\n",
       "    .dataframe tbody tr th:only-of-type {\n",
       "        vertical-align: middle;\n",
       "    }\n",
       "\n",
       "    .dataframe tbody tr th {\n",
       "        vertical-align: top;\n",
       "    }\n",
       "\n",
       "    .dataframe thead th {\n",
       "        text-align: right;\n",
       "    }\n",
       "</style>\n",
       "<table border=\"1\" class=\"dataframe\">\n",
       "  <thead>\n",
       "    <tr style=\"text-align: right;\">\n",
       "      <th></th>\n",
       "      <th>speciesType</th>\n",
       "      <th>tissueType</th>\n",
       "      <th>UberonOntologyID</th>\n",
       "      <th>cancerType</th>\n",
       "      <th>cellType</th>\n",
       "      <th>cellName</th>\n",
       "      <th>CellOntologyID</th>\n",
       "      <th>cellMarker</th>\n",
       "      <th>geneSymbol</th>\n",
       "      <th>geneID</th>\n",
       "      <th>proteinName</th>\n",
       "      <th>proteinID</th>\n",
       "      <th>markerResource</th>\n",
       "      <th>PMID</th>\n",
       "      <th>Company</th>\n",
       "    </tr>\n",
       "  </thead>\n",
       "  <tbody>\n",
       "    <tr>\n",
       "      <th>0</th>\n",
       "      <td>Human</td>\n",
       "      <td>Kidney</td>\n",
       "      <td>UBERON_0002113</td>\n",
       "      <td>Normal</td>\n",
       "      <td>Normal cell</td>\n",
       "      <td>Proximal tubular cell</td>\n",
       "      <td>NaN</td>\n",
       "      <td>Intestinal Alkaline Phosphatase</td>\n",
       "      <td>ALPI</td>\n",
       "      <td>248</td>\n",
       "      <td>PPBI</td>\n",
       "      <td>P09923</td>\n",
       "      <td>Experiment</td>\n",
       "      <td>9263997</td>\n",
       "      <td>NaN</td>\n",
       "    </tr>\n",
       "    <tr>\n",
       "      <th>1</th>\n",
       "      <td>Human</td>\n",
       "      <td>Liver</td>\n",
       "      <td>UBERON_0002107</td>\n",
       "      <td>Normal</td>\n",
       "      <td>Normal cell</td>\n",
       "      <td>Ito cell (hepatic stellate cell)</td>\n",
       "      <td>CL_0000632</td>\n",
       "      <td>Synaptophysin</td>\n",
       "      <td>SYP</td>\n",
       "      <td>6855</td>\n",
       "      <td>SYPH</td>\n",
       "      <td>P08247</td>\n",
       "      <td>Experiment</td>\n",
       "      <td>10595912</td>\n",
       "      <td>NaN</td>\n",
       "    </tr>\n",
       "    <tr>\n",
       "      <th>2</th>\n",
       "      <td>Human</td>\n",
       "      <td>Endometrium</td>\n",
       "      <td>UBERON_0001295</td>\n",
       "      <td>Normal</td>\n",
       "      <td>Normal cell</td>\n",
       "      <td>Trophoblast cell</td>\n",
       "      <td>CL_0000351</td>\n",
       "      <td>CEACAM1</td>\n",
       "      <td>CEACAM1</td>\n",
       "      <td>634</td>\n",
       "      <td>CEAM1</td>\n",
       "      <td>P13688</td>\n",
       "      <td>Experiment</td>\n",
       "      <td>10751340</td>\n",
       "      <td>NaN</td>\n",
       "    </tr>\n",
       "    <tr>\n",
       "      <th>3</th>\n",
       "      <td>Human</td>\n",
       "      <td>Germ</td>\n",
       "      <td>UBERON_0000923</td>\n",
       "      <td>Normal</td>\n",
       "      <td>Normal cell</td>\n",
       "      <td>Primordial germ cell</td>\n",
       "      <td>CL_0000670</td>\n",
       "      <td>VASA</td>\n",
       "      <td>DDX4</td>\n",
       "      <td>54514</td>\n",
       "      <td>DDX4</td>\n",
       "      <td>Q9NQI0</td>\n",
       "      <td>Experiment</td>\n",
       "      <td>10920202</td>\n",
       "      <td>NaN</td>\n",
       "    </tr>\n",
       "    <tr>\n",
       "      <th>4</th>\n",
       "      <td>Human</td>\n",
       "      <td>Corneal epithelium</td>\n",
       "      <td>UBERON_0001772</td>\n",
       "      <td>Normal</td>\n",
       "      <td>Normal cell</td>\n",
       "      <td>Epithelial cell</td>\n",
       "      <td>CL_0000066</td>\n",
       "      <td>KLF6</td>\n",
       "      <td>KLF6</td>\n",
       "      <td>1316</td>\n",
       "      <td>KLF6</td>\n",
       "      <td>Q99612</td>\n",
       "      <td>Experiment</td>\n",
       "      <td>12407152</td>\n",
       "      <td>NaN</td>\n",
       "    </tr>\n",
       "  </tbody>\n",
       "</table>\n",
       "</div>"
      ],
      "text/plain": [
       "  speciesType          tissueType UberonOntologyID cancerType     cellType  \\\n",
       "0       Human              Kidney   UBERON_0002113     Normal  Normal cell   \n",
       "1       Human               Liver   UBERON_0002107     Normal  Normal cell   \n",
       "2       Human         Endometrium   UBERON_0001295     Normal  Normal cell   \n",
       "3       Human                Germ   UBERON_0000923     Normal  Normal cell   \n",
       "4       Human  Corneal epithelium   UBERON_0001772     Normal  Normal cell   \n",
       "\n",
       "                           cellName CellOntologyID  \\\n",
       "0             Proximal tubular cell            NaN   \n",
       "1  Ito cell (hepatic stellate cell)     CL_0000632   \n",
       "2                  Trophoblast cell     CL_0000351   \n",
       "3              Primordial germ cell     CL_0000670   \n",
       "4                   Epithelial cell     CL_0000066   \n",
       "\n",
       "                        cellMarker geneSymbol geneID proteinName proteinID  \\\n",
       "0  Intestinal Alkaline Phosphatase       ALPI    248        PPBI    P09923   \n",
       "1                    Synaptophysin        SYP   6855        SYPH    P08247   \n",
       "2                          CEACAM1    CEACAM1    634       CEAM1    P13688   \n",
       "3                             VASA       DDX4  54514        DDX4    Q9NQI0   \n",
       "4                             KLF6       KLF6   1316        KLF6    Q99612   \n",
       "\n",
       "  markerResource      PMID Company  \n",
       "0     Experiment   9263997     NaN  \n",
       "1     Experiment  10595912     NaN  \n",
       "2     Experiment  10751340     NaN  \n",
       "3     Experiment  10920202     NaN  \n",
       "4     Experiment  12407152     NaN  "
      ]
     },
     "execution_count": 3,
     "metadata": {},
     "output_type": "execute_result"
    }
   ],
   "source": [
    "df.head()"
   ]
  },
  {
   "cell_type": "code",
   "execution_count": 4,
   "metadata": {},
   "outputs": [],
   "source": [
    "import re\n",
    "\n",
    "\n",
    "def _split_list(string):\n",
    "    \"\"\"Parse out a, b, [c, d] to [a, b, [c, d]]\"\"\"\n",
    "    in_bracket = re.findall(\"\\[(.*?)\\]\", string)\n",
    "    for lst in in_bracket:\n",
    "        lst = f\"[{lst}]\"\n",
    "        new_lst = lst.replace(\", \", \"; \")\n",
    "        string = string.replace(lst, new_lst)\n",
    "    return string\n",
    "\n",
    "\n",
    "markers = []\n",
    "genes = []\n",
    "gene_ids = []\n",
    "proteins = []\n",
    "protein_ids = []\n",
    "\n",
    "problem_rows = []\n",
    "for i, row in df.iterrows():\n",
    "    if \", \" in row[\"cellMarker\"]:\n",
    "        marker = row[\"cellMarker\"].rstrip(\", \").split(\", \")\n",
    "        gene = _split_list(row[\"geneSymbol\"].rstrip(\", \")).split(\", \")\n",
    "        gene_id = _split_list(row[\"geneID\"].rstrip(\", \")).split(\", \")\n",
    "        protein = _split_list(row[\"proteinName\"].rstrip(\", \")).split(\", \")\n",
    "        protein_id = _split_list(row[\"proteinID\"].rstrip(\", \")).split(\", \")\n",
    "\n",
    "        try:\n",
    "            assert (\n",
    "                len(marker)\n",
    "                == len(gene)\n",
    "                == len(gene_id)\n",
    "                == len(protein)\n",
    "                == len(protein_id)\n",
    "            )\n",
    "            markers += marker\n",
    "            genes += gene\n",
    "            gene_ids += gene_id\n",
    "            proteins += protein\n",
    "            protein_ids += protein_id\n",
    "        except AssertionError:\n",
    "            problem_rows.append(row)\n",
    "            continue\n",
    "        assert (\n",
    "            len(markers)\n",
    "            == len(genes)\n",
    "            == len(gene_ids)\n",
    "            == len(proteins)\n",
    "            == len(protein_ids)\n",
    "        )\n",
    "    else:\n",
    "        markers.append(row[\"cellMarker\"])\n",
    "        genes.append(row[\"geneSymbol\"])\n",
    "        gene_ids.append(row[\"geneID\"])\n",
    "        proteins.append(row[\"proteinName\"])\n",
    "        protein_ids.append(row[\"proteinID\"])\n",
    "        assert (\n",
    "            len(markers)\n",
    "            == len(genes)\n",
    "            == len(gene_ids)\n",
    "            == len(proteins)\n",
    "            == len(protein_ids)\n",
    "        )"
   ]
  },
  {
   "cell_type": "code",
   "execution_count": 5,
   "metadata": {},
   "outputs": [
    {
     "data": {
      "text/plain": [
       "11"
      ]
     },
     "execution_count": 5,
     "metadata": {},
     "output_type": "execute_result"
    }
   ],
   "source": [
    "# these 11 rows didn't get parsed due to unequal number of markers and genes/proteins\n",
    "\n",
    "len(problem_rows)"
   ]
  },
  {
   "cell_type": "code",
   "execution_count": 6,
   "metadata": {},
   "outputs": [],
   "source": [
    "mapper = pd.DataFrame()\n",
    "mapper[\"cell_marker\"] = markers\n",
    "mapper[\"gene_symbols\"] = genes\n",
    "mapper[\"ncbi_gene_ids\"] = gene_ids\n",
    "mapper[\"protein_names\"] = proteins\n",
    "mapper[\"uniprotkb_ids\"] = protein_ids\n",
    "\n",
    "mapper = mapper.drop_duplicates().dropna()\n",
    "markers_df = mapper.groupby(\"cell_marker\").agg(\"|\".join)"
   ]
  },
  {
   "cell_type": "code",
   "execution_count": 7,
   "metadata": {},
   "outputs": [],
   "source": [
    "def _contain_digits(string):\n",
    "    return any(char.isdigit() for char in string)\n",
    "\n",
    "\n",
    "for i, row in markers_df.iterrows():\n",
    "    for k, v in row.items():\n",
    "        values = [j for j in set(v.split(\"|\")) if j != \"NA\"]\n",
    "        if len(values) == 0:\n",
    "            markers_df.loc[i, k] = \"\"\n",
    "            continue\n",
    "        else:\n",
    "            if k == \"uniprotkb_ids\":\n",
    "                values = [j for j in values if _contain_digits(j)]\n",
    "            markers_df.loc[i, k] = \"|\".join(values)"
   ]
  },
  {
   "cell_type": "code",
   "execution_count": 8,
   "metadata": {},
   "outputs": [
    {
     "data": {
      "text/html": [
       "<div>\n",
       "<style scoped>\n",
       "    .dataframe tbody tr th:only-of-type {\n",
       "        vertical-align: middle;\n",
       "    }\n",
       "\n",
       "    .dataframe tbody tr th {\n",
       "        vertical-align: top;\n",
       "    }\n",
       "\n",
       "    .dataframe thead th {\n",
       "        text-align: right;\n",
       "    }\n",
       "</style>\n",
       "<table border=\"1\" class=\"dataframe\">\n",
       "  <thead>\n",
       "    <tr style=\"text-align: right;\">\n",
       "      <th></th>\n",
       "      <th>gene_symbols</th>\n",
       "      <th>ncbi_gene_ids</th>\n",
       "      <th>protein_names</th>\n",
       "      <th>uniprotkb_ids</th>\n",
       "    </tr>\n",
       "    <tr>\n",
       "      <th>cell_marker</th>\n",
       "      <th></th>\n",
       "      <th></th>\n",
       "      <th></th>\n",
       "      <th></th>\n",
       "    </tr>\n",
       "  </thead>\n",
       "  <tbody>\n",
       "    <tr>\n",
       "      <th>ACAD11</th>\n",
       "      <td>ACAD11</td>\n",
       "      <td>84129</td>\n",
       "      <td>ACD11</td>\n",
       "      <td>Q709F0</td>\n",
       "    </tr>\n",
       "    <tr>\n",
       "      <th>ACADS</th>\n",
       "      <td>ACADS</td>\n",
       "      <td>35</td>\n",
       "      <td>ACADS</td>\n",
       "      <td>P16219</td>\n",
       "    </tr>\n",
       "    <tr>\n",
       "      <th>ACADSB</th>\n",
       "      <td>ACADSB</td>\n",
       "      <td>36</td>\n",
       "      <td>ACDSB</td>\n",
       "      <td>P45954</td>\n",
       "    </tr>\n",
       "    <tr>\n",
       "      <th>ACAP2</th>\n",
       "      <td>ACAP2</td>\n",
       "      <td>23527</td>\n",
       "      <td>ACAP2</td>\n",
       "      <td>Q15057</td>\n",
       "    </tr>\n",
       "    <tr>\n",
       "      <th>ACAT1</th>\n",
       "      <td>ACAT1</td>\n",
       "      <td>38</td>\n",
       "      <td>THIL</td>\n",
       "      <td>P24752</td>\n",
       "    </tr>\n",
       "  </tbody>\n",
       "</table>\n",
       "</div>"
      ],
      "text/plain": [
       "            gene_symbols ncbi_gene_ids protein_names uniprotkb_ids\n",
       "cell_marker                                                       \n",
       "ACAD11            ACAD11         84129         ACD11        Q709F0\n",
       "ACADS              ACADS            35         ACADS        P16219\n",
       "ACADSB            ACADSB            36         ACDSB        P45954\n",
       "ACAP2              ACAP2         23527         ACAP2        Q15057\n",
       "ACAT1              ACAT1            38          THIL        P24752"
      ]
     },
     "execution_count": 8,
     "metadata": {},
     "output_type": "execute_result"
    }
   ],
   "source": [
    "markers_df.iloc[100:105]"
   ]
  },
  {
   "cell_type": "code",
   "execution_count": 9,
   "metadata": {},
   "outputs": [
    {
     "data": {
      "text/plain": [
       "gene_symbols       CD8A\n",
       "ncbi_gene_ids       925\n",
       "protein_names      CD8A\n",
       "uniprotkb_ids    P01732\n",
       "Name: CD8, dtype: object"
      ]
     },
     "execution_count": 9,
     "metadata": {},
     "output_type": "execute_result"
    }
   ],
   "source": [
    "markers_df.loc[\"CD8\"]"
   ]
  },
  {
   "cell_type": "code",
   "execution_count": 10,
   "metadata": {},
   "outputs": [
    {
     "data": {
      "text/plain": [
       "gene_symbols      PTPRC\n",
       "ncbi_gene_ids      5788\n",
       "protein_names     PTPRC\n",
       "uniprotkb_ids    P08575\n",
       "Name: CD45RO, dtype: object"
      ]
     },
     "execution_count": 10,
     "metadata": {},
     "output_type": "execute_result"
    }
   ],
   "source": [
    "markers_df.loc[\"CD45RO\"]"
   ]
  },
  {
   "cell_type": "markdown",
   "metadata": {},
   "source": [
    "### generate dobject ids"
   ]
  },
  {
   "cell_type": "code",
   "execution_count": 11,
   "metadata": {},
   "outputs": [],
   "source": [
    "markers_df = markers_df.reset_index()\n",
    "\n",
    "ids = []\n",
    "for i in markers_df.index:\n",
    "    ids.append(id.cell_marker())\n",
    "markers_df.index = ids\n",
    "markers_df.index.name = \"id\""
   ]
  },
  {
   "cell_type": "code",
   "execution_count": 12,
   "metadata": {},
   "outputs": [],
   "source": [
    "markers_df.to_parquet(\"CellMarker-human.parquet\")"
   ]
  },
  {
   "cell_type": "markdown",
   "metadata": {},
   "source": [
    "## Push to bionty-assets.lndb"
   ]
  },
  {
   "cell_type": "code",
   "execution_count": 13,
   "metadata": {},
   "outputs": [
    {
     "name": "stdout",
     "output_type": "stream",
     "text": [
      "migrate-unnecessary\n"
     ]
    }
   ],
   "source": [
    "!lndb load bionty-assets"
   ]
  },
  {
   "cell_type": "code",
   "execution_count": 14,
   "metadata": {},
   "outputs": [],
   "source": [
    "!lndb login sunnyosun"
   ]
  },
  {
   "cell_type": "code",
   "execution_count": 15,
   "metadata": {},
   "outputs": [],
   "source": [
    "ingest = ln.db.Ingest()"
   ]
  },
  {
   "cell_type": "code",
   "execution_count": 16,
   "metadata": {},
   "outputs": [],
   "source": [
    "ingest.add(\"CellMarker-human.parquet\");"
   ]
  },
  {
   "cell_type": "code",
   "execution_count": 17,
   "metadata": {},
   "outputs": [
    {
     "name": "stdout",
     "output_type": "stream",
     "text": [
      "✅ Cell numbers increase consecutively: Awesome!\n"
     ]
    },
    {
     "name": "stderr",
     "output_type": "stream",
     "text": [
      "2022-10-24 10:28:34,297:INFO - Found credentials in shared credentials file: ~/.aws/credentials\n"
     ]
    },
    {
     "name": "stdout",
     "output_type": "stream",
     "text": [
      "Upload /Users/sunnysun/Documents/repos.nosync/bionty-assets/docs/ingest/CellMarker-human.parquet: 1.00\n",
      "ℹ️ Added notebook 'Cell markers -> `bionty.CellMarker().df`' (wxPc3RWmRp2a, 1) by user sunnyosun.\n",
      "✅ Ingested the following dobjects:\n",
      "+---+--------------------------------------------------+--------------------------------------------------------------+----------------------+\n",
      "|   | dobject                                          | jupynb                                                       | user                 |\n",
      "+---+--------------------------------------------------+--------------------------------------------------------------+----------------------+\n",
      "| 0 | CellMarker-human.parquet (GpxJL1sMziMFxfyvk9Jlx) | 'Cell markers -> `bionty.CellMarker().df`' (wxPc3RWmRp2a, 1) | sunnyosun (kmvZDIX9) |\n",
      "+---+--------------------------------------------------+--------------------------------------------------------------+----------------------+\n",
      "ℹ️ Set notebook version to \u001b[1m1\u001b[0m & wrote pypackages.\n"
     ]
    }
   ],
   "source": [
    "ingest.commit()"
   ]
  },
  {
   "cell_type": "markdown",
   "metadata": {},
   "source": [
    "Now on S3:\n",
    "- human: https://bionty-assets.s3.amazonaws.com/GpxJL1sMziMFxfyvk9Jlx.parquet"
   ]
  }
 ],
 "metadata": {
  "kernelspec": {
   "display_name": "Python 3 (ipykernel)",
   "language": "python",
   "name": "python3"
  },
  "language_info": {
   "codemirror_mode": {
    "name": "ipython",
    "version": 3
   },
   "file_extension": ".py",
   "mimetype": "text/x-python",
   "name": "python",
   "nbconvert_exporter": "python",
   "pygments_lexer": "ipython3",
   "version": "3.9.13"
  },
  "nbproject": {
   "id": "wxPc3RWmRp2a",
   "parent": null,
   "pypackage": {
    "lamindb": "0.6.0",
    "lnschema_bionty": "0.4.3",
    "pandas": "1.5.0"
   },
   "time_init": "2022-09-26T15:37:24.026641+00:00",
   "user_handle": "sunnyosun",
   "user_id": "kmvZDIX9",
   "user_name": "Sunny Sun",
   "version": "1"
  },
  "vscode": {
   "interpreter": {
    "hash": "ae1fefc8646a06dd2e75004cd934adda7c5727b046986a772e3b44b0ffba9754"
   }
  }
 },
 "nbformat": 4,
 "nbformat_minor": 4
}
