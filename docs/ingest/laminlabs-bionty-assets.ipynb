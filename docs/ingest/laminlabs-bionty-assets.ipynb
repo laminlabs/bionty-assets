{
  "cells": [
    {
      "cell_type": "markdown",
      "metadata": {},
      "source": [
        "# sunnyosun/bionty-assets"
      ]
    },
    {
      "cell_type": "code",
      "execution_count": null,
      "metadata": {},
      "outputs": [],
      "source": [
        "# !lamin init --storage s3://bionty-assets"
      ]
    },
    {
      "cell_type": "code",
      "execution_count": 1,
      "metadata": {},
      "outputs": [
        {
          "name": "stdout",
          "output_type": "stream",
          "text": [
            "❗ updating local SQLite & locking cloud SQLite (sync back & unlock: lamin close)\n",
            "💡 loaded instance: sunnyosun/bionty-assets\n",
            "\u001b[0m"
          ]
        }
      ],
      "source": [
        "!lamin load bionty-assets"
      ]
    },
    {
      "cell_type": "code",
      "execution_count": 2,
      "metadata": {},
      "outputs": [
        {
          "name": "stdout",
          "output_type": "stream",
          "text": [
            "💡 loaded instance: sunnyosun/bionty-assets (lamindb 0.57.1)\n"
          ]
        }
      ],
      "source": [
        "import lamindb as ln\n",
        "from lamindb.dev.storage import UPath"
      ]
    },
    {
      "cell_type": "markdown",
      "metadata": {},
      "source": [
        "Registering existing files of the `s3://bionty-assets` bucket:"
      ]
    },
    {
      "cell_type": "code",
      "execution_count": 3,
      "metadata": {},
      "outputs": [],
      "source": [
        "upath = UPath(\"s3://bionty-assets/\")"
      ]
    },
    {
      "cell_type": "code",
      "execution_count": 4,
      "metadata": {},
      "outputs": [
        {
          "data": {
            "text/plain": [
              "108"
            ]
          },
          "execution_count": 4,
          "metadata": {},
          "output_type": "execute_result"
        }
      ],
      "source": [
        "files = []\n",
        "\n",
        "for i in upath.glob(\"*\"):\n",
        "    if i.name == \"exclusion\":\n",
        "        continue\n",
        "    if i.name.endswith(\".lndb\"):\n",
        "        continue\n",
        "    if i.name == \"bfxpipelines_data\":\n",
        "        continue\n",
        "    files.append(i)\n",
        "\n",
        "files += [i for i in upath.glob(\"bfxpipelines_data/*\")]\n",
        "len(files)"
      ]
    },
    {
      "cell_type": "code",
      "execution_count": 5,
      "metadata": {},
      "outputs": [
        {
          "name": "stdout",
          "output_type": "stream",
          "text": [
            "💡 notebook imports: lamindb==0.57.0\n",
            "💡 Transform(uid='SZGJ1mJbsLnOz8', name='sunnyosun/bionty-assets', short_name='laminlabs-bionty-assets', version='0', type=notebook, updated_at=2023-10-23 20:29:58, created_by_id=1)\n",
            "💡 Run(uid='nMSWRkoaWncp7jfmjk7g', run_at=2023-10-23 20:29:58, transform_id=1, created_by_id=1)\n"
          ]
        }
      ],
      "source": [
        "ln.track()"
      ]
    },
    {
      "cell_type": "code",
      "execution_count": 6,
      "metadata": {},
      "outputs": [
        {
          "name": "stdout",
          "output_type": "stream",
          "text": [
            "❗ file has more than one suffix (path.suffixes), using only last suffix: '.parquet' - if you want your file format to be recognized, make an issue: https://github.com/laminlabs/lamindb/issues/new\n",
            "❗ file has more than one suffix (path.suffixes), using only last suffix: '.parquet' - if you want your file format to be recognized, make an issue: https://github.com/laminlabs/lamindb/issues/new\n",
            "❗ file has more than one suffix (path.suffixes), using only last suffix: '.parquet' - if you want your file format to be recognized, make an issue: https://github.com/laminlabs/lamindb/issues/new\n",
            "❗ file has more than one suffix (path.suffixes), using only last suffix: '.parquet' - if you want your file format to be recognized, make an issue: https://github.com/laminlabs/lamindb/issues/new\n",
            "❗ returning existing file with same hash: File(uid='lqg2Bg3dKrBXZBJQ5woC', key='df_all__efo__3.48.0__ExperimentalFactor.parquet', suffix='.parquet', size=1601872, hash='2KKPAkWjxnZKN7oI5Fgm_Q', hash_type='md5', updated_at=2023-10-23 20:30:07, storage_id=1, transform_id=1, run_id=1, created_by_id=1)\n",
            "❗ file has more than one suffix (path.suffixes), using only last suffix: '.parquet' - if you want your file format to be recognized, make an issue: https://github.com/laminlabs/lamindb/issues/new\n",
            "❗ file has more than one suffix (path.suffixes), using only last suffix: '.parquet' - if you want your file format to be recognized, make an issue: https://github.com/laminlabs/lamindb/issues/new\n",
            "❗ file has more than one suffix (path.suffixes), using only last suffix: '.parquet' - if you want your file format to be recognized, make an issue: https://github.com/laminlabs/lamindb/issues/new\n",
            "❗ file has more than one suffix (path.suffixes), using only last suffix: '.parquet' - if you want your file format to be recognized, make an issue: https://github.com/laminlabs/lamindb/issues/new\n",
            "❗ file has more than one suffix (path.suffixes), using only last suffix: '.parquet' - if you want your file format to be recognized, make an issue: https://github.com/laminlabs/lamindb/issues/new\n",
            "❗ file has more than one suffix (path.suffixes), using only last suffix: '.parquet' - if you want your file format to be recognized, make an issue: https://github.com/laminlabs/lamindb/issues/new\n",
            "❗ returning existing file with same hash: File(uid='LAtkbAuyCjnoRoR0d2lf', key='df_human__cellmarker__2.0__CellMarker.parquet', suffix='.parquet', size=429544, hash='1WXUpUKlx-egYlWXU1jk9A', hash_type='md5', updated_at=2023-10-23 20:30:10, storage_id=1, transform_id=1, run_id=1, created_by_id=1)\n",
            "❗ returning existing file with same hash: File(uid='wBikfDfBeKPovSwJH0Vc', key='df_human__ensembl__release-109__Gene.parquet', suffix='.parquet', size=3186727, hash='ctqZaMdOltE2pImmECpFRg', hash_type='md5', updated_at=2023-10-23 20:30:11, storage_id=1, transform_id=1, run_id=1, created_by_id=1)\n",
            "❗ returning existing file with same hash: File(uid='SmzFAZyWLrS05crONOvX', key='df_human__uniprot__2023-02__Protein.parquet', suffix='.parquet', size=5374652, hash='DLcmTrQ_kb0E2seS3YeSQQ', hash_type='md5', updated_at=2023-10-23 20:30:13, storage_id=1, transform_id=1, run_id=1, created_by_id=1)\n",
            "❗ file has more than one suffix (path.suffixes), using only last suffix: '.parquet' - if you want your file format to be recognized, make an issue: https://github.com/laminlabs/lamindb/issues/new\n",
            "❗ returning existing file with same hash: File(uid='Wnz9IRyJu9jNMDVvBLt9', key='df_mouse__cellmarker__2.0__CellMarker.parquet', suffix='.parquet', size=315212, hash='GJWGcyxjvpSeQN-mo2NhBQ', hash_type='md5', updated_at=2023-10-23 20:30:15, storage_id=1, transform_id=1, run_id=1, created_by_id=1)\n",
            "❗ returning existing file with same hash: File(uid='wNBfbEgYf0ef89kMTCNr', key='df_mouse__ensembl__release-109__Gene.parquet', suffix='.parquet', size=3084684, hash='CKEWUGEVGycLmFMXMivS7Q', hash_type='md5', updated_at=2023-10-23 20:30:15, storage_id=1, transform_id=1, run_id=1, created_by_id=1)\n",
            "❗ returning existing file with same hash: File(uid='FdNftyskc4wXyiFB6jaQ', key='df_mouse__uniprot__2023-02__Protein.parquet', suffix='.parquet', size=2953639, hash='3K5PYvXfFFpcFRY_zn6RNQ', hash_type='md5', updated_at=2023-10-23 20:30:16, storage_id=1, transform_id=1, run_id=1, created_by_id=1)\n",
            "❗ file has more than one suffix (path.suffixes), using only last suffix: '.0__ExperimentalFactor' - if you want your file format to be recognized, make an issue: https://github.com/laminlabs/lamindb/issues/new\n",
            "❗ file has more than one suffix (path.suffixes), inferring: '.tsv.gz'\n",
            "❗ file has more than one suffix (path.suffixes), inferring: '.tsv.gz'\n",
            "❗ file has more than one suffix (path.suffixes), inferring: '.tsv.gz'\n",
            "❗ file has more than one suffix (path.suffixes), inferring: '.tsv.gz'\n"
          ]
        }
      ],
      "source": [
        "for path in files:\n",
        "    file = ln.File(path)\n",
        "    file.save()"
      ]
    }
  ],
  "metadata": {
    "kernelspec": {
      "display_name": "py39",
      "language": "python",
      "name": "python3"
    },
    "language_info": {
      "codemirror_mode": {
        "name": "ipython",
        "version": 3
      },
      "file_extension": ".py",
      "mimetype": "text/x-python",
      "name": "python",
      "nbconvert_exporter": "python",
      "pygments_lexer": "ipython3",
      "version": "3.9.16"
    },
    "nbproject": {
      "id": "SZGJ1mJbsLnO",
      "parent": null,
      "pypackage": null,
      "time_init": "2023-10-23T20:29:36.224002+00:00",
      "user_handle": null,
      "user_id": null,
      "user_name": null,
      "version": "0"
    }
  },
  "nbformat": 4,
  "nbformat_minor": 2
}
