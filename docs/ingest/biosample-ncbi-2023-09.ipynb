{
 "cells": [
  {
   "cell_type": "markdown",
   "metadata": {},
   "source": [
    "# `BioSample`: ncbi, 2023-09"
   ]
  },
  {
   "cell_type": "code",
   "execution_count": 1,
   "metadata": {},
   "outputs": [],
   "source": [
    "import pandas as pd"
   ]
  },
  {
   "cell_type": "code",
   "execution_count": 2,
   "metadata": {},
   "outputs": [],
   "source": [
    "df = pd.read_xml(\"https://www.ncbi.nlm.nih.gov/biosample/docs/attributes/?format=xml\")"
   ]
  },
  {
   "cell_type": "code",
   "execution_count": 4,
   "metadata": {},
   "outputs": [],
   "source": [
    "df.columns = df.columns.str.lower()"
   ]
  },
  {
   "cell_type": "code",
   "execution_count": 7,
   "metadata": {},
   "outputs": [],
   "source": [
    "df.rename(columns={\"harmonizedname\": \"abbr\", \"synonym\": \"synonyms\"}, inplace=True)"
   ]
  },
  {
   "cell_type": "code",
   "execution_count": 8,
   "metadata": {},
   "outputs": [
    {
     "data": {
      "text/html": [
       "<div>\n",
       "<style scoped>\n",
       "    .dataframe tbody tr th:only-of-type {\n",
       "        vertical-align: middle;\n",
       "    }\n",
       "\n",
       "    .dataframe tbody tr th {\n",
       "        vertical-align: top;\n",
       "    }\n",
       "\n",
       "    .dataframe thead th {\n",
       "        text-align: right;\n",
       "    }\n",
       "</style>\n",
       "<table border=\"1\" class=\"dataframe\">\n",
       "  <thead>\n",
       "    <tr style=\"text-align: right;\">\n",
       "      <th></th>\n",
       "      <th>name</th>\n",
       "      <th>abbr</th>\n",
       "      <th>synonyms</th>\n",
       "      <th>description</th>\n",
       "      <th>format</th>\n",
       "      <th>package</th>\n",
       "    </tr>\n",
       "  </thead>\n",
       "  <tbody>\n",
       "    <tr>\n",
       "      <th>0</th>\n",
       "      <td>API gravity</td>\n",
       "      <td>api</td>\n",
       "      <td>api gravity</td>\n",
       "      <td>API gravity is a measure of how heavy or light...</td>\n",
       "      <td>{float} {unit}</td>\n",
       "      <td>MIUVIG.hydrocarbon-fluids_swabs.6.0</td>\n",
       "    </tr>\n",
       "    <tr>\n",
       "      <th>1</th>\n",
       "      <td>EDTA inhibitor tested</td>\n",
       "      <td>edta_inhibitor_tested</td>\n",
       "      <td>edta inhibitor tested</td>\n",
       "      <td>Was carbapenemase activity tested in the prese...</td>\n",
       "      <td>['', 'yes', 'no', 'missing', 'not applicable',...</td>\n",
       "      <td>Beta-lactamase.1.0</td>\n",
       "    </tr>\n",
       "    <tr>\n",
       "      <th>2</th>\n",
       "      <td>FAO classification</td>\n",
       "      <td>fao_class</td>\n",
       "      <td>soil taxonomic/fao classification</td>\n",
       "      <td>soil classification from the FAO World Referen...</td>\n",
       "      <td>{term}</td>\n",
       "      <td>MIUVIG.soil.6.0</td>\n",
       "    </tr>\n",
       "    <tr>\n",
       "      <th>3</th>\n",
       "      <td>FDA food industry class name</td>\n",
       "      <td>food_industry_class</td>\n",
       "      <td>food industry class</td>\n",
       "      <td>The US FDA Class is the second of five element...</td>\n",
       "      <td>{text}</td>\n",
       "      <td>OneHealthEnteric.1.0</td>\n",
       "    </tr>\n",
       "    <tr>\n",
       "      <th>4</th>\n",
       "      <td>FDA food industry code name</td>\n",
       "      <td>food_industry_code</td>\n",
       "      <td>food industry code</td>\n",
       "      <td>The US FDA Industry Code is the first of five ...</td>\n",
       "      <td>{text}</td>\n",
       "      <td>OneHealthEnteric.1.0</td>\n",
       "    </tr>\n",
       "    <tr>\n",
       "      <th>...</th>\n",
       "      <td>...</td>\n",
       "      <td>...</td>\n",
       "      <td>...</td>\n",
       "      <td>...</td>\n",
       "      <td>...</td>\n",
       "      <td>...</td>\n",
       "    </tr>\n",
       "    <tr>\n",
       "      <th>933</th>\n",
       "      <td>window signs of water/mold</td>\n",
       "      <td>window_water_mold</td>\n",
       "      <td>window water mold</td>\n",
       "      <td>Signs of the presence of mold or mildew on the...</td>\n",
       "      <td>{text}</td>\n",
       "      <td>MIUVIG.built.6.0</td>\n",
       "    </tr>\n",
       "    <tr>\n",
       "      <th>934</th>\n",
       "      <td>window status</td>\n",
       "      <td>window_status</td>\n",
       "      <td>None</td>\n",
       "      <td>Defines whether the windows were open or close...</td>\n",
       "      <td>{text}</td>\n",
       "      <td>MIUVIG.built.6.0</td>\n",
       "    </tr>\n",
       "    <tr>\n",
       "      <th>935</th>\n",
       "      <td>window type</td>\n",
       "      <td>window_type</td>\n",
       "      <td>None</td>\n",
       "      <td>The type of windows, e.g., single-hung sash wi...</td>\n",
       "      <td>{text}</td>\n",
       "      <td>MIUVIG.built.6.0</td>\n",
       "    </tr>\n",
       "    <tr>\n",
       "      <th>936</th>\n",
       "      <td>window vertical position</td>\n",
       "      <td>window_vert_pos</td>\n",
       "      <td>window vert pos</td>\n",
       "      <td>The vertical position of the window on the wal...</td>\n",
       "      <td>{text}</td>\n",
       "      <td>MIUVIG.built.6.0</td>\n",
       "    </tr>\n",
       "    <tr>\n",
       "      <th>937</th>\n",
       "      <td>xylene</td>\n",
       "      <td>xylene</td>\n",
       "      <td>None</td>\n",
       "      <td>Concentration of xylene in the sample</td>\n",
       "      <td>{float} {unit}</td>\n",
       "      <td>MIUVIG.hydrocarbon-fluids_swabs.6.0</td>\n",
       "    </tr>\n",
       "  </tbody>\n",
       "</table>\n",
       "<p>938 rows × 6 columns</p>\n",
       "</div>"
      ],
      "text/plain": [
       "                             name                   abbr  \\\n",
       "0                     API gravity                    api   \n",
       "1           EDTA inhibitor tested  edta_inhibitor_tested   \n",
       "2              FAO classification              fao_class   \n",
       "3    FDA food industry class name    food_industry_class   \n",
       "4     FDA food industry code name     food_industry_code   \n",
       "..                            ...                    ...   \n",
       "933    window signs of water/mold      window_water_mold   \n",
       "934                 window status          window_status   \n",
       "935                   window type            window_type   \n",
       "936      window vertical position        window_vert_pos   \n",
       "937                        xylene                 xylene   \n",
       "\n",
       "                              synonyms  \\\n",
       "0                          api gravity   \n",
       "1                edta inhibitor tested   \n",
       "2    soil taxonomic/fao classification   \n",
       "3                  food industry class   \n",
       "4                   food industry code   \n",
       "..                                 ...   \n",
       "933                  window water mold   \n",
       "934                               None   \n",
       "935                               None   \n",
       "936                    window vert pos   \n",
       "937                               None   \n",
       "\n",
       "                                           description  \\\n",
       "0    API gravity is a measure of how heavy or light...   \n",
       "1    Was carbapenemase activity tested in the prese...   \n",
       "2    soil classification from the FAO World Referen...   \n",
       "3    The US FDA Class is the second of five element...   \n",
       "4    The US FDA Industry Code is the first of five ...   \n",
       "..                                                 ...   \n",
       "933  Signs of the presence of mold or mildew on the...   \n",
       "934  Defines whether the windows were open or close...   \n",
       "935  The type of windows, e.g., single-hung sash wi...   \n",
       "936  The vertical position of the window on the wal...   \n",
       "937              Concentration of xylene in the sample   \n",
       "\n",
       "                                                format  \\\n",
       "0                                       {float} {unit}   \n",
       "1    ['', 'yes', 'no', 'missing', 'not applicable',...   \n",
       "2                                               {term}   \n",
       "3                                               {text}   \n",
       "4                                               {text}   \n",
       "..                                                 ...   \n",
       "933                                             {text}   \n",
       "934                                             {text}   \n",
       "935                                             {text}   \n",
       "936                                             {text}   \n",
       "937                                     {float} {unit}   \n",
       "\n",
       "                                 package  \n",
       "0    MIUVIG.hydrocarbon-fluids_swabs.6.0  \n",
       "1                     Beta-lactamase.1.0  \n",
       "2                        MIUVIG.soil.6.0  \n",
       "3                   OneHealthEnteric.1.0  \n",
       "4                   OneHealthEnteric.1.0  \n",
       "..                                   ...  \n",
       "933                     MIUVIG.built.6.0  \n",
       "934                     MIUVIG.built.6.0  \n",
       "935                     MIUVIG.built.6.0  \n",
       "936                     MIUVIG.built.6.0  \n",
       "937  MIUVIG.hydrocarbon-fluids_swabs.6.0  \n",
       "\n",
       "[938 rows x 6 columns]"
      ]
     },
     "execution_count": 8,
     "metadata": {},
     "output_type": "execute_result"
    }
   ],
   "source": [
    "df"
   ]
  },
  {
   "cell_type": "code",
   "execution_count": null,
   "metadata": {},
   "outputs": [],
   "source": [
    "df.to_parquet(\"df_all__ncbi__2023-09__BioSample.parquet\")"
   ]
  },
  {
   "cell_type": "code",
   "execution_count": 1,
   "metadata": {},
   "outputs": [
    {
     "data": {
      "text/plain": [
       "'918db9bd1734b97c596c67d9654a4126'"
      ]
     },
     "execution_count": 1,
     "metadata": {},
     "output_type": "execute_result"
    }
   ],
   "source": [
    "from bionty.dev._md5 import calculate_md5\n",
    "\n",
    "calculate_md5(\"df_all__ncbi__2023-09__BioSample.parquet\")"
   ]
  }
 ],
 "metadata": {
  "kernelspec": {
   "display_name": "py39",
   "language": "python",
   "name": "python3"
  },
  "language_info": {
   "codemirror_mode": {
    "name": "ipython",
    "version": 3
   },
   "file_extension": ".py",
   "mimetype": "text/x-python",
   "name": "python",
   "nbconvert_exporter": "python",
   "pygments_lexer": "ipython3",
   "version": "3.9.16"
  },
  "orig_nbformat": 4
 },
 "nbformat": 4,
 "nbformat_minor": 2
}
