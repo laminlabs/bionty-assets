{
 "cells": [
  {
   "cell_type": "markdown",
   "metadata": {},
   "source": [
    "# `Drug`: chebi, 2024-07-27"
   ]
  },
  {
   "cell_type": "code",
   "execution_count": 1,
   "metadata": {},
   "outputs": [
    {
     "name": "stdout",
     "output_type": "stream",
     "text": [
      "💡 connected lamindb: laminlabs/bionty-assets\n"
     ]
    }
   ],
   "source": [
    "!lamin load laminlabs/bionty-assets"
   ]
  },
  {
   "cell_type": "code",
   "execution_count": 2,
   "metadata": {},
   "outputs": [
    {
     "name": "stdout",
     "output_type": "stream",
     "text": [
      "💡 connected lamindb: laminlabs/bionty-assets\n",
      "💡 notebook imports: bionty==0.48.2 lamindb==0.76.0 pandas==2.2.2\n"
     ]
    },
    {
     "name": "stderr",
     "output_type": "stream",
     "text": [
      "\u001b[33mWARNING: Skipping /home/zeth/miniconda3/envs/lamindb/lib/python3.11/site-packages/jupyterlab_widgets-3.0.10.dist-info due to invalid metadata entry 'name'\u001b[0m\u001b[33m\n",
      "\u001b[0m"
     ]
    },
    {
     "name": "stdout",
     "output_type": "stream",
     "text": [
      "💡 loaded Transform('fQpBV2oEQUFi0000') & created Run('2024-08-20 10:05:14.415182+00:00')\n"
     ]
    }
   ],
   "source": [
    "import lamindb as ln\n",
    "import bionty as bt\n",
    "import pandas as pd\n",
    "\n",
    "ln.context.uid = \"fQpBV2oEQUFi0000\"\n",
    "ln.track()\n",
    "\n",
    "new_ontology = ln.ULabel.filter(name=\"new_ontology\").one()\n",
    "ln.context.run.transform.ulabels.add(new_ontology)"
   ]
  },
  {
   "cell_type": "markdown",
   "metadata": {},
   "source": [
    "## Curate source"
   ]
  },
  {
   "cell_type": "markdown",
   "metadata": {},
   "source": [
    "The chebi owl file only has chebi IDs.\n",
    "However, mappings between chebi and chembl exist that we will add to the chebi DataFrame.\n",
    "We obtained a source from https://ftp.ebi.ac.uk/pub/databases/chembl/UniChem/data/table_dumps/ which tells us that Source 1 corresponds to chembl and source 7 to chebi.\n",
    "Hence, we obtain the mapping from src1 to src7 from https://ftp.ebi.ac.uk/pub/databases/chembl/UniChem/data/wholeSourceMapping/."
   ]
  },
  {
   "cell_type": "code",
   "execution_count": 3,
   "metadata": {},
   "outputs": [],
   "source": [
    "# The parquet file was obtained by loading http://purl.obolibrary.org/obo/chebi/236/chebi.owl with Bionty Drug\n",
    "drug_df = pd.read_parquet(\"chebi_2024-07-27.parquet\")"
   ]
  },
  {
   "cell_type": "code",
   "execution_count": 4,
   "metadata": {},
   "outputs": [
    {
     "data": {
      "text/html": [
       "<div>\n",
       "<style scoped>\n",
       "    .dataframe tbody tr th:only-of-type {\n",
       "        vertical-align: middle;\n",
       "    }\n",
       "\n",
       "    .dataframe tbody tr th {\n",
       "        vertical-align: top;\n",
       "    }\n",
       "\n",
       "    .dataframe thead th {\n",
       "        text-align: right;\n",
       "    }\n",
       "</style>\n",
       "<table border=\"1\" class=\"dataframe\">\n",
       "  <thead>\n",
       "    <tr style=\"text-align: right;\">\n",
       "      <th></th>\n",
       "      <th>name</th>\n",
       "      <th>definition</th>\n",
       "      <th>synonyms</th>\n",
       "      <th>parents</th>\n",
       "    </tr>\n",
       "    <tr>\n",
       "      <th>ontology_id</th>\n",
       "      <th></th>\n",
       "      <th></th>\n",
       "      <th></th>\n",
       "      <th></th>\n",
       "    </tr>\n",
       "  </thead>\n",
       "  <tbody>\n",
       "    <tr>\n",
       "      <th>CHEBI:10</th>\n",
       "      <td>(+)-Atherospermoline</td>\n",
       "      <td>None</td>\n",
       "      <td>(+)-Atherospermoline</td>\n",
       "      <td>[CHEBI:133004]</td>\n",
       "    </tr>\n",
       "    <tr>\n",
       "      <th>CHEBI:100</th>\n",
       "      <td>(-)-medicarpin</td>\n",
       "      <td>The (-)-Enantiomer Of Medicarpin.</td>\n",
       "      <td>(-)-Medicarpin|(-)-medicarpin|(6aR,11aR)-9-met...</td>\n",
       "      <td>[CHEBI:16114]</td>\n",
       "    </tr>\n",
       "    <tr>\n",
       "      <th>CHEBI:10000</th>\n",
       "      <td>Vismione D</td>\n",
       "      <td>None</td>\n",
       "      <td>Vismione D</td>\n",
       "      <td>[CHEBI:46955]</td>\n",
       "    </tr>\n",
       "    <tr>\n",
       "      <th>CHEBI:100000</th>\n",
       "      <td>(2S,3S,4R)-3-[4-(3-cyclopentylprop-1-ynyl)phen...</td>\n",
       "      <td>None</td>\n",
       "      <td>None</td>\n",
       "      <td>[CHEBI:36820, CHEBI:22712, CHEBI:38777]</td>\n",
       "    </tr>\n",
       "    <tr>\n",
       "      <th>CHEBI:100001</th>\n",
       "      <td>N-[(2R,3S,6R)-2-(hydroxymethyl)-6-[2-[[oxo-[4-...</td>\n",
       "      <td>None</td>\n",
       "      <td>None</td>\n",
       "      <td>[CHEBI:20857]</td>\n",
       "    </tr>\n",
       "  </tbody>\n",
       "</table>\n",
       "</div>"
      ],
      "text/plain": [
       "                                                           name  \\\n",
       "ontology_id                                                       \n",
       "CHEBI:10                                   (+)-Atherospermoline   \n",
       "CHEBI:100                                        (-)-medicarpin   \n",
       "CHEBI:10000                                          Vismione D   \n",
       "CHEBI:100000  (2S,3S,4R)-3-[4-(3-cyclopentylprop-1-ynyl)phen...   \n",
       "CHEBI:100001  N-[(2R,3S,6R)-2-(hydroxymethyl)-6-[2-[[oxo-[4-...   \n",
       "\n",
       "                                     definition  \\\n",
       "ontology_id                                       \n",
       "CHEBI:10                                   None   \n",
       "CHEBI:100     The (-)-Enantiomer Of Medicarpin.   \n",
       "CHEBI:10000                                None   \n",
       "CHEBI:100000                               None   \n",
       "CHEBI:100001                               None   \n",
       "\n",
       "                                                       synonyms  \\\n",
       "ontology_id                                                       \n",
       "CHEBI:10                                   (+)-Atherospermoline   \n",
       "CHEBI:100     (-)-Medicarpin|(-)-medicarpin|(6aR,11aR)-9-met...   \n",
       "CHEBI:10000                                          Vismione D   \n",
       "CHEBI:100000                                               None   \n",
       "CHEBI:100001                                               None   \n",
       "\n",
       "                                              parents  \n",
       "ontology_id                                            \n",
       "CHEBI:10                               [CHEBI:133004]  \n",
       "CHEBI:100                               [CHEBI:16114]  \n",
       "CHEBI:10000                             [CHEBI:46955]  \n",
       "CHEBI:100000  [CHEBI:36820, CHEBI:22712, CHEBI:38777]  \n",
       "CHEBI:100001                            [CHEBI:20857]  "
      ]
     },
     "execution_count": 4,
     "metadata": {},
     "output_type": "execute_result"
    }
   ],
   "source": [
    "drug_df.head()"
   ]
  },
  {
   "cell_type": "code",
   "execution_count": 5,
   "metadata": {},
   "outputs": [],
   "source": [
    "def read_mapping_file(file_path: str) -> dict[str, str]:\n",
    "    chembl_dict = {}\n",
    "\n",
    "    with open(file_path) as file:\n",
    "        next(file)\n",
    "\n",
    "        for line in file:\n",
    "            fromsrc1, tosrc7 = line.strip().split()\n",
    "            chembl_dict[f\"CHEBI:{tosrc7}\"] = fromsrc1\n",
    "\n",
    "    return chembl_dict\n",
    "\n",
    "\n",
    "src_mapping = read_mapping_file(\"src1src7.txt\")"
   ]
  },
  {
   "cell_type": "code",
   "execution_count": 6,
   "metadata": {},
   "outputs": [
    {
     "name": "stdout",
     "output_type": "stream",
     "text": [
      "First element of the mapping: CHEBI:16273: CHEMBL46810\n"
     ]
    }
   ],
   "source": [
    "first_key = next(iter(src_mapping))\n",
    "print(f\"First element of the mapping: {first_key}: {src_mapping[first_key]}\")"
   ]
  },
  {
   "cell_type": "code",
   "execution_count": 7,
   "metadata": {},
   "outputs": [],
   "source": [
    "drug_df[\"chembl_id\"] = drug_df.index.map(src_mapping.get)"
   ]
  },
  {
   "cell_type": "code",
   "execution_count": 8,
   "metadata": {},
   "outputs": [
    {
     "data": {
      "text/html": [
       "<div>\n",
       "<style scoped>\n",
       "    .dataframe tbody tr th:only-of-type {\n",
       "        vertical-align: middle;\n",
       "    }\n",
       "\n",
       "    .dataframe tbody tr th {\n",
       "        vertical-align: top;\n",
       "    }\n",
       "\n",
       "    .dataframe thead th {\n",
       "        text-align: right;\n",
       "    }\n",
       "</style>\n",
       "<table border=\"1\" class=\"dataframe\">\n",
       "  <thead>\n",
       "    <tr style=\"text-align: right;\">\n",
       "      <th></th>\n",
       "      <th>name</th>\n",
       "      <th>definition</th>\n",
       "      <th>synonyms</th>\n",
       "      <th>parents</th>\n",
       "      <th>chembl_id</th>\n",
       "    </tr>\n",
       "    <tr>\n",
       "      <th>ontology_id</th>\n",
       "      <th></th>\n",
       "      <th></th>\n",
       "      <th></th>\n",
       "      <th></th>\n",
       "      <th></th>\n",
       "    </tr>\n",
       "  </thead>\n",
       "  <tbody>\n",
       "    <tr>\n",
       "      <th>CHEBI:10</th>\n",
       "      <td>(+)-Atherospermoline</td>\n",
       "      <td>None</td>\n",
       "      <td>(+)-Atherospermoline</td>\n",
       "      <td>[CHEBI:133004]</td>\n",
       "      <td>CHEMBL500609</td>\n",
       "    </tr>\n",
       "    <tr>\n",
       "      <th>CHEBI:100</th>\n",
       "      <td>(-)-medicarpin</td>\n",
       "      <td>The (-)-Enantiomer Of Medicarpin.</td>\n",
       "      <td>(-)-Medicarpin|(-)-medicarpin|(6aR,11aR)-9-met...</td>\n",
       "      <td>[CHEBI:16114]</td>\n",
       "      <td>CHEMBL238845</td>\n",
       "    </tr>\n",
       "    <tr>\n",
       "      <th>CHEBI:10000</th>\n",
       "      <td>Vismione D</td>\n",
       "      <td>None</td>\n",
       "      <td>Vismione D</td>\n",
       "      <td>[CHEBI:46955]</td>\n",
       "      <td>CHEMBL487795</td>\n",
       "    </tr>\n",
       "    <tr>\n",
       "      <th>CHEBI:100000</th>\n",
       "      <td>(2S,3S,4R)-3-[4-(3-cyclopentylprop-1-ynyl)phen...</td>\n",
       "      <td>None</td>\n",
       "      <td>None</td>\n",
       "      <td>[CHEBI:36820, CHEBI:22712, CHEBI:38777]</td>\n",
       "      <td>None</td>\n",
       "    </tr>\n",
       "    <tr>\n",
       "      <th>CHEBI:100001</th>\n",
       "      <td>N-[(2R,3S,6R)-2-(hydroxymethyl)-6-[2-[[oxo-[4-...</td>\n",
       "      <td>None</td>\n",
       "      <td>None</td>\n",
       "      <td>[CHEBI:20857]</td>\n",
       "      <td>None</td>\n",
       "    </tr>\n",
       "    <tr>\n",
       "      <th>...</th>\n",
       "      <td>...</td>\n",
       "      <td>...</td>\n",
       "      <td>...</td>\n",
       "      <td>...</td>\n",
       "      <td>...</td>\n",
       "    </tr>\n",
       "    <tr>\n",
       "      <th>CHEBI:99995</th>\n",
       "      <td>2-[(2S,4aS,12aS)-5-methyl-6-oxo-8-[(1-oxo-2-ph...</td>\n",
       "      <td>None</td>\n",
       "      <td>None</td>\n",
       "      <td>[CHEBI:22160]</td>\n",
       "      <td>None</td>\n",
       "    </tr>\n",
       "    <tr>\n",
       "      <th>CHEBI:99996</th>\n",
       "      <td>N-[(1S,3S,4aR,9aS)-3-[2-[(2,5-difluorophenyl)m...</td>\n",
       "      <td>None</td>\n",
       "      <td>None</td>\n",
       "      <td>[CHEBI:74927]</td>\n",
       "      <td>None</td>\n",
       "    </tr>\n",
       "    <tr>\n",
       "      <th>CHEBI:99997</th>\n",
       "      <td>N-[(2S,4aS,12aS)-2-[2-(cyclohexylmethylamino)-...</td>\n",
       "      <td>None</td>\n",
       "      <td>None</td>\n",
       "      <td>[CHEBI:17792, CHEBI:36586]</td>\n",
       "      <td>None</td>\n",
       "    </tr>\n",
       "    <tr>\n",
       "      <th>CHEBI:99998</th>\n",
       "      <td>N-[[(3S,9S,10R)-16-(dimethylamino)-12-[(2S)-1-...</td>\n",
       "      <td>None</td>\n",
       "      <td>None</td>\n",
       "      <td>[CHEBI:52898, CHEBI:24995]</td>\n",
       "      <td>CHEMBL1903737</td>\n",
       "    </tr>\n",
       "    <tr>\n",
       "      <th>CHEBI:99999</th>\n",
       "      <td>N-[(5S,6S,9S)-5-methoxy-3,6,9-trimethyl-2-oxo-...</td>\n",
       "      <td>None</td>\n",
       "      <td>None</td>\n",
       "      <td>[CHEBI:52898, CHEBI:24995]</td>\n",
       "      <td>None</td>\n",
       "    </tr>\n",
       "  </tbody>\n",
       "</table>\n",
       "<p>200981 rows × 5 columns</p>\n",
       "</div>"
      ],
      "text/plain": [
       "                                                           name  \\\n",
       "ontology_id                                                       \n",
       "CHEBI:10                                   (+)-Atherospermoline   \n",
       "CHEBI:100                                        (-)-medicarpin   \n",
       "CHEBI:10000                                          Vismione D   \n",
       "CHEBI:100000  (2S,3S,4R)-3-[4-(3-cyclopentylprop-1-ynyl)phen...   \n",
       "CHEBI:100001  N-[(2R,3S,6R)-2-(hydroxymethyl)-6-[2-[[oxo-[4-...   \n",
       "...                                                         ...   \n",
       "CHEBI:99995   2-[(2S,4aS,12aS)-5-methyl-6-oxo-8-[(1-oxo-2-ph...   \n",
       "CHEBI:99996   N-[(1S,3S,4aR,9aS)-3-[2-[(2,5-difluorophenyl)m...   \n",
       "CHEBI:99997   N-[(2S,4aS,12aS)-2-[2-(cyclohexylmethylamino)-...   \n",
       "CHEBI:99998   N-[[(3S,9S,10R)-16-(dimethylamino)-12-[(2S)-1-...   \n",
       "CHEBI:99999   N-[(5S,6S,9S)-5-methoxy-3,6,9-trimethyl-2-oxo-...   \n",
       "\n",
       "                                     definition  \\\n",
       "ontology_id                                       \n",
       "CHEBI:10                                   None   \n",
       "CHEBI:100     The (-)-Enantiomer Of Medicarpin.   \n",
       "CHEBI:10000                                None   \n",
       "CHEBI:100000                               None   \n",
       "CHEBI:100001                               None   \n",
       "...                                         ...   \n",
       "CHEBI:99995                                None   \n",
       "CHEBI:99996                                None   \n",
       "CHEBI:99997                                None   \n",
       "CHEBI:99998                                None   \n",
       "CHEBI:99999                                None   \n",
       "\n",
       "                                                       synonyms  \\\n",
       "ontology_id                                                       \n",
       "CHEBI:10                                   (+)-Atherospermoline   \n",
       "CHEBI:100     (-)-Medicarpin|(-)-medicarpin|(6aR,11aR)-9-met...   \n",
       "CHEBI:10000                                          Vismione D   \n",
       "CHEBI:100000                                               None   \n",
       "CHEBI:100001                                               None   \n",
       "...                                                         ...   \n",
       "CHEBI:99995                                                None   \n",
       "CHEBI:99996                                                None   \n",
       "CHEBI:99997                                                None   \n",
       "CHEBI:99998                                                None   \n",
       "CHEBI:99999                                                None   \n",
       "\n",
       "                                              parents      chembl_id  \n",
       "ontology_id                                                           \n",
       "CHEBI:10                               [CHEBI:133004]   CHEMBL500609  \n",
       "CHEBI:100                               [CHEBI:16114]   CHEMBL238845  \n",
       "CHEBI:10000                             [CHEBI:46955]   CHEMBL487795  \n",
       "CHEBI:100000  [CHEBI:36820, CHEBI:22712, CHEBI:38777]           None  \n",
       "CHEBI:100001                            [CHEBI:20857]           None  \n",
       "...                                               ...            ...  \n",
       "CHEBI:99995                             [CHEBI:22160]           None  \n",
       "CHEBI:99996                             [CHEBI:74927]           None  \n",
       "CHEBI:99997                [CHEBI:17792, CHEBI:36586]           None  \n",
       "CHEBI:99998                [CHEBI:52898, CHEBI:24995]  CHEMBL1903737  \n",
       "CHEBI:99999                [CHEBI:52898, CHEBI:24995]           None  \n",
       "\n",
       "[200981 rows x 5 columns]"
      ]
     },
     "execution_count": 8,
     "metadata": {},
     "output_type": "execute_result"
    }
   ],
   "source": [
    "drug_df"
   ]
  },
  {
   "cell_type": "code",
   "execution_count": 9,
   "metadata": {},
   "outputs": [],
   "source": [
    "drug_df.to_parquet(\"df_all__chebi__2024-07-27__Drug.parquet\")"
   ]
  },
  {
   "cell_type": "markdown",
   "metadata": {},
   "source": [
    "## Register in `laminlabs/bionty-assets`"
   ]
  },
  {
   "cell_type": "code",
   "execution_count": 10,
   "metadata": {},
   "outputs": [],
   "source": [
    "from bionty.core._bionty import register_source_in_bionty_assets"
   ]
  },
  {
   "cell_type": "code",
   "execution_count": 11,
   "metadata": {},
   "outputs": [],
   "source": [
    "source_record = bt.Source.filter(\n",
    "    name=\"chebi\", organism=\"all\", version=\"2024-07-27\", entity=\"Drug\"\n",
    ").one()"
   ]
  },
  {
   "cell_type": "code",
   "execution_count": 12,
   "metadata": {},
   "outputs": [
    {
     "name": "stdout",
     "output_type": "stream",
     "text": [
      "... uploading df_all__chebi__2024-07-27__Drug.parquet: 100.0%\n",
      "registered Source(uid='1atB', entity='Drug', organism='all', name='chebi', version='2024-07-27', in_db=False, currently_used=False, description='', url='http://purl.obolibrary.org/obo/chebi/236/chebi.owl', md5='', source_website='', created_by_id=3, dataframe_artifact_id=176, updated_at='2024-08-20 10:05:33 UTC') with dataframe Artifact(uid='FeIg71WrUn9HBeS1VbtA', is_latest=True, key='df_all__chebi__2024-07-27__Drug.parquet', suffix='.parquet', size=13901923, hash='0MdXAAAHwLqglrfW55lEhw', _hash_type='md5', visibility=1, _key_is_virtual=False, created_by_id=2, storage_id=1, transform_id=9, run_id=10, updated_at='2024-08-20 10:05:22 UTC')\n"
     ]
    },
    {
     "data": {
      "text/plain": [
       "Artifact(uid='FeIg71WrUn9HBeS1VbtA', is_latest=True, key='df_all__chebi__2024-07-27__Drug.parquet', suffix='.parquet', size=13901923, hash='0MdXAAAHwLqglrfW55lEhw', _hash_type='md5', visibility=1, _key_is_virtual=False, created_by_id=2, storage_id=1, transform_id=9, run_id=10, updated_at='2024-08-20 10:05:22 UTC')"
      ]
     },
     "execution_count": 12,
     "metadata": {},
     "output_type": "execute_result"
    }
   ],
   "source": [
    "register_source_in_bionty_assets(\n",
    "    filepath=\"df_all__chebi__2024-07-27__Drug.parquet\", source=source_record\n",
    ")"
   ]
  },
  {
   "cell_type": "code",
   "execution_count": 13,
   "metadata": {},
   "outputs": [
    {
     "name": "stdout",
     "output_type": "stream",
     "text": [
      "✅ cell execution numbers increase consecutively\n",
      "💡 go to: https://lamin.ai/laminlabs/bionty-assets/transform/fQpBV2oEQUFi0000\n",
      "💡 if you want to update your notebook without re-running it, use `lamin save notebook.ipynb`\n"
     ]
    }
   ],
   "source": [
    "ln.finish()"
   ]
  }
 ],
 "metadata": {
  "kernelspec": {
   "display_name": "lamindb",
   "language": "python",
   "name": "python3"
  },
  "language_info": {
   "codemirror_mode": {
    "name": "ipython",
    "version": 3
   },
   "file_extension": ".py",
   "mimetype": "text/x-python",
   "name": "python",
   "nbconvert_exporter": "python",
   "pygments_lexer": "ipython3",
   "version": "3.11.7"
  }
 },
 "nbformat": 4,
 "nbformat_minor": 2
}
