{
 "cells": [
  {
   "cell_type": "markdown",
   "metadata": {},
   "source": [
    "## arabidopsis thaliana"
   ]
  },
  {
   "cell_type": "markdown",
   "metadata": {},
   "source": [
    "Install mysqlclient: https://pypi.org/project/mysqlclient/"
   ]
  },
  {
   "cell_type": "code",
   "execution_count": 1,
   "metadata": {},
   "outputs": [],
   "source": [
    "from bionty.base.entities._gene import EnsemblGene"
   ]
  },
  {
   "cell_type": "code",
   "execution_count": 2,
   "metadata": {},
   "outputs": [],
   "source": [
    "version = \"release-57\""
   ]
  },
  {
   "cell_type": "code",
   "execution_count": 3,
   "metadata": {},
   "outputs": [],
   "source": [
    "ensembl_gene = EnsemblGene(organism=\"arabidopsis thaliana\", taxa=\"plants\", version=version)"
   ]
  },
  {
   "cell_type": "code",
   "execution_count": 4,
   "metadata": {},
   "outputs": [
    {
     "name": "stdout",
     "output_type": "stream",
     "text": [
      "\u001b[94m•\u001b[0m fetching records from the core DB...\n",
      "\u001b[94m•\u001b[0m fetching records from the external DBs...\n",
      "\u001b[93m!\u001b[0m duplicated #rows ensembl_gene_id with ncbi_gene_id: 438\n",
      "\u001b[93m!\u001b[0m no ensembl_gene_id found, writing to table_id column.\n",
      "\u001b[92m✓\u001b[0m downloaded Gene table containing 75285 entries.\n"
     ]
    }
   ],
   "source": [
    "df = ensembl_gene.download_df()"
   ]
  },
  {
   "cell_type": "code",
   "execution_count": 5,
   "metadata": {},
   "outputs": [
    {
     "data": {
      "text/html": [
       "<div>\n",
       "<style scoped>\n",
       "    .dataframe tbody tr th:only-of-type {\n",
       "        vertical-align: middle;\n",
       "    }\n",
       "\n",
       "    .dataframe tbody tr th {\n",
       "        vertical-align: top;\n",
       "    }\n",
       "\n",
       "    .dataframe thead th {\n",
       "        text-align: right;\n",
       "    }\n",
       "</style>\n",
       "<table border=\"1\" class=\"dataframe\">\n",
       "  <thead>\n",
       "    <tr style=\"text-align: right;\">\n",
       "      <th></th>\n",
       "      <th>stable_id</th>\n",
       "      <th>symbol</th>\n",
       "      <th>ncbi_gene_id</th>\n",
       "      <th>biotype</th>\n",
       "      <th>description</th>\n",
       "      <th>synonyms</th>\n",
       "      <th>index</th>\n",
       "    </tr>\n",
       "  </thead>\n",
       "  <tbody>\n",
       "    <tr>\n",
       "      <th>0</th>\n",
       "      <td>AT1G01010</td>\n",
       "      <td>NAC001</td>\n",
       "      <td>NaN</td>\n",
       "      <td>protein_coding</td>\n",
       "      <td>NAC domain containing protein 1 [Source:NCBI g...</td>\n",
       "      <td>T25K16_1</td>\n",
       "      <td>43080</td>\n",
       "    </tr>\n",
       "    <tr>\n",
       "      <th>1</th>\n",
       "      <td>AT1G01010</td>\n",
       "      <td>NAC001</td>\n",
       "      <td>NaN</td>\n",
       "      <td>protein_coding</td>\n",
       "      <td>NAC domain containing protein 1 [Source:NCBI g...</td>\n",
       "      <td>T25K16.1</td>\n",
       "      <td>43079</td>\n",
       "    </tr>\n",
       "    <tr>\n",
       "      <th>2</th>\n",
       "      <td>AT1G01010</td>\n",
       "      <td>NAC001</td>\n",
       "      <td>NaN</td>\n",
       "      <td>protein_coding</td>\n",
       "      <td>NAC domain containing protein 1 [Source:NCBI g...</td>\n",
       "      <td>NAC domain containing protein 1</td>\n",
       "      <td>43078</td>\n",
       "    </tr>\n",
       "    <tr>\n",
       "      <th>3</th>\n",
       "      <td>AT1G01010</td>\n",
       "      <td>NAC001</td>\n",
       "      <td>NaN</td>\n",
       "      <td>protein_coding</td>\n",
       "      <td>NAC domain containing protein 1 [Source:NCBI g...</td>\n",
       "      <td>ANAC001</td>\n",
       "      <td>43077</td>\n",
       "    </tr>\n",
       "    <tr>\n",
       "      <th>4</th>\n",
       "      <td>AT1G01020</td>\n",
       "      <td>ARV1</td>\n",
       "      <td>NaN</td>\n",
       "      <td>protein_coding</td>\n",
       "      <td>ARV1 family protein [Source:NCBI gene (formerl...</td>\n",
       "      <td>T25K16_2</td>\n",
       "      <td>46552</td>\n",
       "    </tr>\n",
       "    <tr>\n",
       "      <th>...</th>\n",
       "      <td>...</td>\n",
       "      <td>...</td>\n",
       "      <td>...</td>\n",
       "      <td>...</td>\n",
       "      <td>...</td>\n",
       "      <td>...</td>\n",
       "      <td>...</td>\n",
       "    </tr>\n",
       "    <tr>\n",
       "      <th>75280</th>\n",
       "      <td>ATMG09730</td>\n",
       "      <td>None</td>\n",
       "      <td>NaN</td>\n",
       "      <td>tRNA</td>\n",
       "      <td>None</td>\n",
       "      <td>None</td>\n",
       "      <td>1533</td>\n",
       "    </tr>\n",
       "    <tr>\n",
       "      <th>75281</th>\n",
       "      <td>ATMG09740</td>\n",
       "      <td>None</td>\n",
       "      <td>NaN</td>\n",
       "      <td>tRNA</td>\n",
       "      <td>None</td>\n",
       "      <td>None</td>\n",
       "      <td>1390</td>\n",
       "    </tr>\n",
       "    <tr>\n",
       "      <th>75282</th>\n",
       "      <td>ATMG09950</td>\n",
       "      <td>None</td>\n",
       "      <td>NaN</td>\n",
       "      <td>tRNA</td>\n",
       "      <td>None</td>\n",
       "      <td>None</td>\n",
       "      <td>435</td>\n",
       "    </tr>\n",
       "    <tr>\n",
       "      <th>75283</th>\n",
       "      <td>ATMG09960</td>\n",
       "      <td>None</td>\n",
       "      <td>NaN</td>\n",
       "      <td>tRNA</td>\n",
       "      <td>None</td>\n",
       "      <td>None</td>\n",
       "      <td>1466</td>\n",
       "    </tr>\n",
       "    <tr>\n",
       "      <th>75284</th>\n",
       "      <td>ATMG09980</td>\n",
       "      <td>None</td>\n",
       "      <td>NaN</td>\n",
       "      <td>tRNA</td>\n",
       "      <td>None</td>\n",
       "      <td>None</td>\n",
       "      <td>1420</td>\n",
       "    </tr>\n",
       "  </tbody>\n",
       "</table>\n",
       "<p>75285 rows × 7 columns</p>\n",
       "</div>"
      ],
      "text/plain": [
       "       stable_id  symbol ncbi_gene_id         biotype  \\\n",
       "0      AT1G01010  NAC001          NaN  protein_coding   \n",
       "1      AT1G01010  NAC001          NaN  protein_coding   \n",
       "2      AT1G01010  NAC001          NaN  protein_coding   \n",
       "3      AT1G01010  NAC001          NaN  protein_coding   \n",
       "4      AT1G01020    ARV1          NaN  protein_coding   \n",
       "...          ...     ...          ...             ...   \n",
       "75280  ATMG09730    None          NaN            tRNA   \n",
       "75281  ATMG09740    None          NaN            tRNA   \n",
       "75282  ATMG09950    None          NaN            tRNA   \n",
       "75283  ATMG09960    None          NaN            tRNA   \n",
       "75284  ATMG09980    None          NaN            tRNA   \n",
       "\n",
       "                                             description  \\\n",
       "0      NAC domain containing protein 1 [Source:NCBI g...   \n",
       "1      NAC domain containing protein 1 [Source:NCBI g...   \n",
       "2      NAC domain containing protein 1 [Source:NCBI g...   \n",
       "3      NAC domain containing protein 1 [Source:NCBI g...   \n",
       "4      ARV1 family protein [Source:NCBI gene (formerl...   \n",
       "...                                                  ...   \n",
       "75280                                               None   \n",
       "75281                                               None   \n",
       "75282                                               None   \n",
       "75283                                               None   \n",
       "75284                                               None   \n",
       "\n",
       "                              synonyms  index  \n",
       "0                             T25K16_1  43080  \n",
       "1                             T25K16.1  43079  \n",
       "2      NAC domain containing protein 1  43078  \n",
       "3                              ANAC001  43077  \n",
       "4                             T25K16_2  46552  \n",
       "...                                ...    ...  \n",
       "75280                             None   1533  \n",
       "75281                             None   1390  \n",
       "75282                             None    435  \n",
       "75283                             None   1466  \n",
       "75284                             None   1420  \n",
       "\n",
       "[75285 rows x 7 columns]"
      ]
     },
     "execution_count": 5,
     "metadata": {},
     "output_type": "execute_result"
    }
   ],
   "source": [
    "df"
   ]
  },
  {
   "cell_type": "code",
   "execution_count": 6,
   "metadata": {},
   "outputs": [],
   "source": [
    "# https://github.com/laminlabs/bionty-base/issues/533\n",
    "df[\"description\"] = df[\"description\"].str.replace(r\"\\[.*?\\]\", \"\", regex=True)"
   ]
  },
  {
   "cell_type": "code",
   "execution_count": 7,
   "metadata": {},
   "outputs": [],
   "source": [
    "df.to_parquet(f\"df_arabidopsis thaliana__ensembl__{version}__Gene.parquet\")"
   ]
  },
  {
   "cell_type": "code",
   "execution_count": 8,
   "metadata": {},
   "outputs": [],
   "source": [
    "df_legacy = ensembl_gene.download_legacy_ids_df(df, col=\"stable_id\")"
   ]
  },
  {
   "cell_type": "code",
   "execution_count": 9,
   "metadata": {},
   "outputs": [
    {
     "data": {
      "text/plain": [
       "(0, 0)"
      ]
     },
     "execution_count": 9,
     "metadata": {},
     "output_type": "execute_result"
    }
   ],
   "source": [
    "df_legacy.shape"
   ]
  }
 ],
 "metadata": {
  "kernelspec": {
   "display_name": "lamindb",
   "language": "python",
   "name": "python3"
  },
  "language_info": {
   "codemirror_mode": {
    "name": "ipython",
    "version": 3
   },
   "file_extension": ".py",
   "mimetype": "text/x-python",
   "name": "python",
   "nbconvert_exporter": "python",
   "pygments_lexer": "ipython3",
   "version": "3.11.7"
  }
 },
 "nbformat": 4,
 "nbformat_minor": 2
}
