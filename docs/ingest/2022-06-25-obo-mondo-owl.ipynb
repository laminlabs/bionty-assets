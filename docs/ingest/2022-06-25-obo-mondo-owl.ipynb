{
 "cells": [
  {
   "cell_type": "markdown",
   "id": "f3e82c07-912c-46e9-91dd-2fef2de9c424",
   "metadata": {},
   "source": [
    "# OBO Mondo Owl"
   ]
  },
  {
   "cell_type": "code",
   "execution_count": null,
   "id": "76285672-18e8-42ba-baa1-24c5a990b1f6",
   "metadata": {},
   "outputs": [],
   "source": [
    "URL = \"http://purl.obolibrary.org/obo/mondo/mondo-base.owl\""
   ]
  }
 ],
 "metadata": {
  "kernelspec": {
   "display_name": "Python 3 (ipykernel)",
   "language": "python",
   "name": "python3"
  },
  "language_info": {
   "codemirror_mode": {
    "name": "ipython",
    "version": 3
   },
   "file_extension": ".py",
   "mimetype": "text/x-python",
   "name": "python",
   "nbconvert_exporter": "python",
   "pygments_lexer": "ipython3",
   "version": "3.9.12"
  }
 },
 "nbformat": 4,
 "nbformat_minor": 5
}
