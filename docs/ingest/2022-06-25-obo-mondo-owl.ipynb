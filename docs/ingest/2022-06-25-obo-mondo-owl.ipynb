{
 "cells": [
  {
   "cell_type": "markdown",
   "id": "f3e82c07-912c-46e9-91dd-2fef2de9c424",
   "metadata": {},
   "source": [
    "# OBO Mondo Owl / JSON"
   ]
  },
  {
   "cell_type": "code",
   "execution_count": 1,
   "id": "c6bdc8c1",
   "metadata": {},
   "outputs": [
    {
     "name": "stderr",
     "output_type": "stream",
     "text": [
      "* Owlready2 * Warning: optimized Cython parser module 'owlready2_optimized' is not available, defaulting to slower Python implementation\n"
     ]
    }
   ],
   "source": [
    "from owlready2 import get_ontology\n",
    "import orjson"
   ]
  },
  {
   "cell_type": "code",
   "execution_count": 2,
   "id": "76285672-18e8-42ba-baa1-24c5a990b1f6",
   "metadata": {},
   "outputs": [],
   "source": [
    "URL = \"http://purl.obolibrary.org/obo/mondo/mondo-base.owl\""
   ]
  },
  {
   "cell_type": "code",
   "execution_count": 3,
   "id": "0fe920c1",
   "metadata": {},
   "outputs": [],
   "source": [
    "onto = get_ontology(URL).load()"
   ]
  },
  {
   "cell_type": "code",
   "execution_count": 4,
   "id": "a3efe60f",
   "metadata": {},
   "outputs": [],
   "source": [
    "def get_onto_dict(onto) -> dict:\n",
    "    return {i.name: i for i in onto.classes()}"
   ]
  },
  {
   "cell_type": "code",
   "execution_count": 5,
   "id": "9d6f6a1d",
   "metadata": {},
   "outputs": [],
   "source": [
    "onto_dict = get_onto_dict(onto)"
   ]
  },
  {
   "cell_type": "code",
   "execution_count": 6,
   "id": "5261e6da",
   "metadata": {},
   "outputs": [],
   "source": [
    "def get_onto_dict_filtered(onto_dict) -> dict:\n",
    "    return {\n",
    "        v.name: v.label[0]\n",
    "        for k, v in onto_dict.items()\n",
    "        if k.startswith(\"MONDO\") & len(v.label) > 0\n",
    "    }"
   ]
  },
  {
   "cell_type": "code",
   "execution_count": 7,
   "id": "e456ef4a",
   "metadata": {},
   "outputs": [],
   "source": [
    "onto_dict_filtered = get_onto_dict_filtered(onto_dict)"
   ]
  },
  {
   "cell_type": "code",
   "execution_count": 8,
   "id": "4fb3002f",
   "metadata": {},
   "outputs": [],
   "source": [
    "def write_json(data, filename):\n",
    "    with open(filename, \"wb\") as f:\n",
    "        f.write(orjson.dumps(data))"
   ]
  },
  {
   "cell_type": "code",
   "execution_count": null,
   "id": "bcace8d3",
   "metadata": {},
   "outputs": [],
   "source": [
    "write_json(onto_dict_filtered, \"mondo-base.json\")"
   ]
  }
 ],
 "metadata": {
  "kernelspec": {
   "display_name": "Python 3.9.12 ('base1')",
   "language": "python",
   "name": "python3"
  },
  "language_info": {
   "codemirror_mode": {
    "name": "ipython",
    "version": 3
   },
   "file_extension": ".py",
   "mimetype": "text/x-python",
   "name": "python",
   "nbconvert_exporter": "python",
   "pygments_lexer": "ipython3",
   "version": "3.9.12"
  },
  "vscode": {
   "interpreter": {
    "hash": "2775e555cdc2d728c54aa22130c79afb1fa4da64f22f2fc6dcc2aa346c4e0672"
   }
  }
 },
 "nbformat": 4,
 "nbformat_minor": 5
}
