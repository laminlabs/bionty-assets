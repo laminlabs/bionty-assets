{
 "cells": [
  {
   "attachments": {},
   "cell_type": "markdown",
   "metadata": {},
   "source": [
    "# `CellLine`: clo; 2022-03-21\n",
    "\n",
    "The owl files are missing metadata including definition and synonyms for clo, so we manually parse them from the csv file."
   ]
  },
  {
   "attachments": {},
   "cell_type": "markdown",
   "metadata": {},
   "source": [
    "Download `clo.csv.gz` from: https://data.bioontology.org/ontologies/CLO/download?apikey=8b5b7825-538d-40e0-9e9e-5ab9274a9aeb&download_format=csv\n",
    "https://bioportal.bioontology.org/ontologies/CLO"
   ]
  },
  {
   "cell_type": "code",
   "execution_count": 1,
   "metadata": {},
   "outputs": [],
   "source": [
    "import pandas as pd\n",
    "\n",
    "\n",
    "def df_from_csv(csv_filepath, prefix):\n",
    "    df = pd.read_csv(csv_filepath)\n",
    "    # df = df[~df[\"Obsolete\"]]\n",
    "    df[\"ontology_id\"] = (\n",
    "        df[\"Class ID\"]\n",
    "        .str.replace(\"http://purl.obolibrary.org/obo/\", \"\")\n",
    "        .str.replace(\"_\", \":\")\n",
    "    )\n",
    "    df = df[df[\"ontology_id\"].str.startswith(\"CLO\")]\n",
    "    df.drop(columns=[\"definition\"], inplace=True)\n",
    "    df.rename(\n",
    "        columns={\n",
    "            \"Preferred Label\": \"name\",\n",
    "            \"Synonyms\": \"synonyms\",\n",
    "            \"Definitions\": \"definition\",\n",
    "            \"Parents\": \"parents\",\n",
    "        },\n",
    "        inplace=True,\n",
    "    )\n",
    "    parents = []\n",
    "    for p in df[\"parents\"]:\n",
    "        try:\n",
    "            plist = [\n",
    "                i\n",
    "                for i in p.replace(\"http://purl.obolibrary.org/obo/\", \"\")\n",
    "                .replace(\"_\", \":\")\n",
    "                .split(\"|\")\n",
    "                if i.startswith(prefix)\n",
    "            ]\n",
    "            parents.append(plist)\n",
    "        except AttributeError:\n",
    "            parents.append([])\n",
    "    df[\"parents\"] = parents\n",
    "    df = df[[\"ontology_id\", \"name\", \"definition\", \"synonyms\", \"parents\"]]\n",
    "    df = df.sort_values(\"ontology_id\")\n",
    "\n",
    "    # drop duplicated names, keep the last record\n",
    "    df = df.drop_duplicates(\"name\", keep=\"last\")\n",
    "\n",
    "    return df.set_index(\"ontology_id\")"
   ]
  },
  {
   "cell_type": "code",
   "execution_count": 2,
   "metadata": {},
   "outputs": [
    {
     "name": "stderr",
     "output_type": "stream",
     "text": [
      "/var/folders/m8/s9fnpvhj7qsgng70w8xpts_m0000gn/T/ipykernel_29020/626069511.py:5: DtypeWarning: Columns (8,9,10,12,13,15,17,18,20,23,35,39,40,41,42,43,46,48,49,50,51,53,54,55,56,57,60,63,64,65,70,71,72,77,82,88,89,92,98,99,101,104,105,108,110,111,112,113,115,116,117,118,124,126,127,128,131,132,135,136,137,139,140,143,144,145,149,150,151,152,153,154,158,159,160,161,164,165,166,168,169,170,171,172,173,174,175,178,181,182,184,186,189,190,197,198,199,200,201,202,204,205,206,209,210,211,212,213,215,216,219,220,221,246,257,258,260,261,263,269,270,272,273,274,276,278,284,292,296,297,299,300,303,305,313,316,318,319,322,324,326,327,328,330,333,334,335,336,338,339,340,341,342,343,344,345,346,348,350,352,355,356,359,360,361,362,363,364,365,366,367,368,369,370,372,375,376,377,380,382,383,384,385,387,388,389,390,391,396,397,400,403,404) have mixed types. Specify dtype option on import or set low_memory=False.\n",
      "  df = pd.read_csv(csv_filepath)\n",
      "/var/folders/m8/s9fnpvhj7qsgng70w8xpts_m0000gn/T/ipykernel_29020/626069511.py:8: FutureWarning: The default value of regex will change from True to False in a future version.\n",
      "  df[\"Class ID\"]\n"
     ]
    }
   ],
   "source": [
    "df = df_from_csv(\"clo.csv.gz\", \"CLO\")"
   ]
  },
  {
   "cell_type": "code",
   "execution_count": 3,
   "metadata": {},
   "outputs": [
    {
     "data": {
      "text/html": [
       "<div>\n",
       "<style scoped>\n",
       "    .dataframe tbody tr th:only-of-type {\n",
       "        vertical-align: middle;\n",
       "    }\n",
       "\n",
       "    .dataframe tbody tr th {\n",
       "        vertical-align: top;\n",
       "    }\n",
       "\n",
       "    .dataframe thead th {\n",
       "        text-align: right;\n",
       "    }\n",
       "</style>\n",
       "<table border=\"1\" class=\"dataframe\">\n",
       "  <thead>\n",
       "    <tr style=\"text-align: right;\">\n",
       "      <th></th>\n",
       "      <th>name</th>\n",
       "      <th>definition</th>\n",
       "      <th>synonyms</th>\n",
       "      <th>parents</th>\n",
       "    </tr>\n",
       "    <tr>\n",
       "      <th>ontology_id</th>\n",
       "      <th></th>\n",
       "      <th></th>\n",
       "      <th></th>\n",
       "      <th></th>\n",
       "    </tr>\n",
       "  </thead>\n",
       "  <tbody>\n",
       "    <tr>\n",
       "      <th>CLO:0000000</th>\n",
       "      <td>cell line cell culturing</td>\n",
       "      <td>a maintaining cell culture process that keeps ...</td>\n",
       "      <td>NaN</td>\n",
       "      <td>[]</td>\n",
       "    </tr>\n",
       "    <tr>\n",
       "      <th>CLO:0000001</th>\n",
       "      <td>cell line cell</td>\n",
       "      <td>A cultured cell that is part of a cell line - ...</td>\n",
       "      <td>NaN</td>\n",
       "      <td>[]</td>\n",
       "    </tr>\n",
       "    <tr>\n",
       "      <th>CLO:0000002</th>\n",
       "      <td>suspension cell line culturing</td>\n",
       "      <td>suspension cell line culturing is a cell line ...</td>\n",
       "      <td>NaN</td>\n",
       "      <td>[CLO:0000000]</td>\n",
       "    </tr>\n",
       "    <tr>\n",
       "      <th>CLO:0000003</th>\n",
       "      <td>adherent cell line culturing</td>\n",
       "      <td>adherent cell line culturing is a cell line cu...</td>\n",
       "      <td>NaN</td>\n",
       "      <td>[CLO:0000000]</td>\n",
       "    </tr>\n",
       "    <tr>\n",
       "      <th>CLO:0000004</th>\n",
       "      <td>cell line cell modification</td>\n",
       "      <td>a material processing that modifies an existin...</td>\n",
       "      <td>NaN</td>\n",
       "      <td>[]</td>\n",
       "    </tr>\n",
       "    <tr>\n",
       "      <th>...</th>\n",
       "      <td>...</td>\n",
       "      <td>...</td>\n",
       "      <td>...</td>\n",
       "      <td>...</td>\n",
       "    </tr>\n",
       "    <tr>\n",
       "      <th>CLO:0051617</th>\n",
       "      <td>RCB0187 cell</td>\n",
       "      <td>A immortal medaka cell line cell that has the ...</td>\n",
       "      <td>RCB0187|OLHE-131</td>\n",
       "      <td>[CLO:0009822]</td>\n",
       "    </tr>\n",
       "    <tr>\n",
       "      <th>CLO:0051618</th>\n",
       "      <td>RCB2945 cell</td>\n",
       "      <td>A immortal medaka cell line cell that has the ...</td>\n",
       "      <td>RCB2945|DIT29</td>\n",
       "      <td>[CLO:0009822]</td>\n",
       "    </tr>\n",
       "    <tr>\n",
       "      <th>CLO:0051619</th>\n",
       "      <td>RCB0184 cell</td>\n",
       "      <td>A immortal medaka cell line cell that has the ...</td>\n",
       "      <td>OLF-136|RCB0184</td>\n",
       "      <td>[CLO:0009822]</td>\n",
       "    </tr>\n",
       "    <tr>\n",
       "      <th>CLO:0051620</th>\n",
       "      <td>RCB0188 cell</td>\n",
       "      <td>A immortal medaka cell line cell that has the ...</td>\n",
       "      <td>RCB0188|OLME-104</td>\n",
       "      <td>[CLO:0009822]</td>\n",
       "    </tr>\n",
       "    <tr>\n",
       "      <th>CLO:0051621</th>\n",
       "      <td>RCB2319 cell</td>\n",
       "      <td>A immortal cell line cell that has the charact...</td>\n",
       "      <td>LACF-NaNaI|RCB2319</td>\n",
       "      <td>[CLO:0000019]</td>\n",
       "    </tr>\n",
       "  </tbody>\n",
       "</table>\n",
       "<p>39037 rows × 4 columns</p>\n",
       "</div>"
      ],
      "text/plain": [
       "                                       name  \\\n",
       "ontology_id                                   \n",
       "CLO:0000000        cell line cell culturing   \n",
       "CLO:0000001                  cell line cell   \n",
       "CLO:0000002  suspension cell line culturing   \n",
       "CLO:0000003    adherent cell line culturing   \n",
       "CLO:0000004     cell line cell modification   \n",
       "...                                     ...   \n",
       "CLO:0051617                    RCB0187 cell   \n",
       "CLO:0051618                    RCB2945 cell   \n",
       "CLO:0051619                    RCB0184 cell   \n",
       "CLO:0051620                    RCB0188 cell   \n",
       "CLO:0051621                    RCB2319 cell   \n",
       "\n",
       "                                                    definition  \\\n",
       "ontology_id                                                      \n",
       "CLO:0000000  a maintaining cell culture process that keeps ...   \n",
       "CLO:0000001  A cultured cell that is part of a cell line - ...   \n",
       "CLO:0000002  suspension cell line culturing is a cell line ...   \n",
       "CLO:0000003  adherent cell line culturing is a cell line cu...   \n",
       "CLO:0000004  a material processing that modifies an existin...   \n",
       "...                                                        ...   \n",
       "CLO:0051617  A immortal medaka cell line cell that has the ...   \n",
       "CLO:0051618  A immortal medaka cell line cell that has the ...   \n",
       "CLO:0051619  A immortal medaka cell line cell that has the ...   \n",
       "CLO:0051620  A immortal medaka cell line cell that has the ...   \n",
       "CLO:0051621  A immortal cell line cell that has the charact...   \n",
       "\n",
       "                       synonyms        parents  \n",
       "ontology_id                                     \n",
       "CLO:0000000                 NaN             []  \n",
       "CLO:0000001                 NaN             []  \n",
       "CLO:0000002                 NaN  [CLO:0000000]  \n",
       "CLO:0000003                 NaN  [CLO:0000000]  \n",
       "CLO:0000004                 NaN             []  \n",
       "...                         ...            ...  \n",
       "CLO:0051617    RCB0187|OLHE-131  [CLO:0009822]  \n",
       "CLO:0051618       RCB2945|DIT29  [CLO:0009822]  \n",
       "CLO:0051619     OLF-136|RCB0184  [CLO:0009822]  \n",
       "CLO:0051620    RCB0188|OLME-104  [CLO:0009822]  \n",
       "CLO:0051621  LACF-NaNaI|RCB2319  [CLO:0000019]  \n",
       "\n",
       "[39037 rows x 4 columns]"
      ]
     },
     "execution_count": 3,
     "metadata": {},
     "output_type": "execute_result"
    }
   ],
   "source": [
    "df"
   ]
  },
  {
   "cell_type": "code",
   "execution_count": 4,
   "metadata": {},
   "outputs": [
    {
     "data": {
      "text/plain": [
       "name                                          K 562 cell\n",
       "definition            disease: leukemia, chronic myeloid\n",
       "synonyms      K-562|KO|GM05372E|K.562|K562|GM05372|K 562\n",
       "parents                                    [CLO:0000511]\n",
       "Name: CLO:0007050, dtype: object"
      ]
     },
     "execution_count": 4,
     "metadata": {},
     "output_type": "execute_result"
    }
   ],
   "source": [
    "df.loc[\"CLO:0007050\"]"
   ]
  },
  {
   "cell_type": "code",
   "execution_count": 5,
   "metadata": {},
   "outputs": [],
   "source": [
    "# adding RPE1 and RPE to synonyms as it's used quite often\n",
    "\n",
    "df.loc[\"CLO:0004290\"][\"synonyms\"] += \"|RPE1|RPE-1|RPE\""
   ]
  },
  {
   "cell_type": "code",
   "execution_count": 6,
   "metadata": {},
   "outputs": [
    {
     "data": {
      "text/plain": [
       "'hTERT RPE-1|RPE1|RPE-1|RPE'"
      ]
     },
     "execution_count": 6,
     "metadata": {},
     "output_type": "execute_result"
    }
   ],
   "source": [
    "df.loc[\"CLO:0004290\"][\"synonyms\"]"
   ]
  },
  {
   "cell_type": "code",
   "execution_count": 7,
   "metadata": {},
   "outputs": [],
   "source": [
    "df.to_parquet(\"df_all__clo__2022-03-21__CellLine.parquet\")"
   ]
  }
 ],
 "metadata": {
  "kernelspec": {
   "display_name": "py39",
   "language": "python",
   "name": "python3"
  },
  "language_info": {
   "codemirror_mode": {
    "name": "ipython",
    "version": 3
   },
   "file_extension": ".py",
   "mimetype": "text/x-python",
   "name": "python",
   "nbconvert_exporter": "python",
   "pygments_lexer": "ipython3",
   "version": "3.9.16"
  },
  "orig_nbformat": 4
 },
 "nbformat": 4,
 "nbformat_minor": 2
}
