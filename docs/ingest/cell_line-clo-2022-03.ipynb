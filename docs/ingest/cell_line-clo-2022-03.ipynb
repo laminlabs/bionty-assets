{
 "cells": [
  {
   "attachments": {},
   "cell_type": "markdown",
   "metadata": {},
   "source": [
    "# `CellLine`: clo; 2022-03-21\n",
    "\n",
    "The owl files are missing metadata including definition and synonyms for clo, so we manually parse them from the csv file."
   ]
  },
  {
   "attachments": {},
   "cell_type": "markdown",
   "metadata": {},
   "source": [
    "Download `clo.csv.gz` from: https://data.bioontology.org/ontologies/CLO/download?apikey=8b5b7825-538d-40e0-9e9e-5ab9274a9aeb&download_format=csv\n",
    "https://bioportal.bioontology.org/ontologies/CLO"
   ]
  },
  {
   "cell_type": "code",
   "execution_count": null,
   "metadata": {},
   "outputs": [],
   "source": [
    "import pandas as pd\n",
    "\n",
    "\n",
    "def df_from_csv(csv_filepath, prefix):\n",
    "    df = pd.read_csv(csv_filepath)\n",
    "    # df = df[~df[\"Obsolete\"]]\n",
    "    df[\"ontology_id\"] = (\n",
    "        df[\"Class ID\"]\n",
    "        .str.replace(\"http://purl.obolibrary.org/obo/\", \"\")\n",
    "        .str.replace(\"_\", \":\")\n",
    "    )\n",
    "    df = df[df[\"ontology_id\"].str.startswith(\"CLO\")]\n",
    "    df.drop(columns=[\"definition\"], inplace=True)\n",
    "    df.rename(\n",
    "        columns={\n",
    "            \"Preferred Label\": \"name\",\n",
    "            \"Synonyms\": \"synonyms\",\n",
    "            \"Definitions\": \"definition\",\n",
    "            \"Parents\": \"parents\",\n",
    "        },\n",
    "        inplace=True,\n",
    "    )\n",
    "    parents = []\n",
    "    for p in df[\"parents\"]:\n",
    "        try:\n",
    "            plist = [\n",
    "                i\n",
    "                for i in p.replace(\"http://purl.obolibrary.org/obo/\", \"\")\n",
    "                .replace(\"_\", \":\")\n",
    "                .split(\"|\")\n",
    "                if i.startswith(prefix)\n",
    "            ]\n",
    "            parents.append(plist)\n",
    "        except AttributeError:\n",
    "            parents.append([])\n",
    "    df[\"parents\"] = parents\n",
    "    df = df[[\"ontology_id\", \"name\", \"definition\", \"synonyms\", \"parents\"]]\n",
    "    df = df.sort_values(\"ontology_id\")\n",
    "\n",
    "    # drop duplicated names, keep the last record\n",
    "    df = df.drop_duplicates(\"name\", keep=\"last\")\n",
    "\n",
    "    return df.set_index(\"ontology_id\")"
   ]
  },
  {
   "cell_type": "code",
   "execution_count": null,
   "metadata": {},
   "outputs": [],
   "source": [
    "df = df_from_csv(\"clo.csv.gz\", \"CLO\")"
   ]
  },
  {
   "cell_type": "code",
   "execution_count": null,
   "metadata": {},
   "outputs": [],
   "source": [
    "df"
   ]
  },
  {
   "cell_type": "code",
   "execution_count": null,
   "metadata": {},
   "outputs": [],
   "source": [
    "df.loc[\"CLO:0007050\"]"
   ]
  },
  {
   "cell_type": "code",
   "execution_count": null,
   "metadata": {},
   "outputs": [],
   "source": [
    "# adding RPE1 and RPE to synonyms as it's used quite often\n",
    "\n",
    "df.loc[\"CLO:0004290\"][\"synonyms\"] += \"|RPE1|RPE-1|RPE\""
   ]
  },
  {
   "cell_type": "code",
   "execution_count": null,
   "metadata": {},
   "outputs": [],
   "source": [
    "df.loc[\"CLO:0004290\"][\"synonyms\"]"
   ]
  },
  {
   "cell_type": "code",
   "execution_count": null,
   "metadata": {},
   "outputs": [],
   "source": [
    "df.to_parquet(\"df_all__clo__2022-03-21__CellLine.parquet\")"
   ]
  }
 ],
 "metadata": {
  "kernelspec": {
   "display_name": "py39",
   "language": "python",
   "name": "python3"
  },
  "language_info": {
   "codemirror_mode": {
    "name": "ipython",
    "version": 3
   },
   "file_extension": ".py",
   "mimetype": "text/x-python",
   "name": "python",
   "nbconvert_exporter": "python",
   "pygments_lexer": "ipython3",
   "version": "3.9.16"
  }
 },
 "nbformat": 4,
 "nbformat_minor": 2
}
