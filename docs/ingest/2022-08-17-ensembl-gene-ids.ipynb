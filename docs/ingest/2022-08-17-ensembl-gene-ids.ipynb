{
 "cells": [
  {
   "cell_type": "markdown",
   "metadata": {},
   "source": [
    "# Ingest the Ensembl table as the gene table\n",
    "\n",
    "HGNC table contain only 20k+ validated human entries. When people perform bioinformatic analysis, they often use ensembl ids for transcripts and therefore we are switching to the Ensembl table in `bionty.Gene().df`.\n",
    "\n",
    "This table is downloaded from [biomart](https://www.ensembl.org/biomart) including the following id columns: `ensembl_gene_id`, `ensembl_transcript_id`, `hgnc_symbl`, `entrez_gene_id`, `uniprotkb_id`"
   ]
  },
  {
   "cell_type": "code",
   "execution_count": 1,
   "metadata": {},
   "outputs": [],
   "source": [
    "import pandas as pd"
   ]
  },
  {
   "cell_type": "markdown",
   "metadata": {},
   "source": [
    "## Human"
   ]
  },
  {
   "cell_type": "code",
   "execution_count": 3,
   "metadata": {},
   "outputs": [],
   "source": [
    "human = pd.read_csv(\"~/Downloads/mart_export-human.txt\", dtype=str)"
   ]
  },
  {
   "cell_type": "code",
   "execution_count": 4,
   "metadata": {},
   "outputs": [
    {
     "data": {
      "text/plain": [
       "(276652, 8)"
      ]
     },
     "execution_count": 4,
     "metadata": {},
     "output_type": "execute_result"
    }
   ],
   "source": [
    "human.shape"
   ]
  },
  {
   "cell_type": "code",
   "execution_count": 5,
   "metadata": {},
   "outputs": [
    {
     "data": {
      "text/html": [
       "<div>\n",
       "<style scoped>\n",
       "    .dataframe tbody tr th:only-of-type {\n",
       "        vertical-align: middle;\n",
       "    }\n",
       "\n",
       "    .dataframe tbody tr th {\n",
       "        vertical-align: top;\n",
       "    }\n",
       "\n",
       "    .dataframe thead th {\n",
       "        text-align: right;\n",
       "    }\n",
       "</style>\n",
       "<table border=\"1\" class=\"dataframe\">\n",
       "  <thead>\n",
       "    <tr style=\"text-align: right;\">\n",
       "      <th></th>\n",
       "      <th>Gene stable ID</th>\n",
       "      <th>Transcript stable ID</th>\n",
       "      <th>Protein stable ID</th>\n",
       "      <th>Gene name</th>\n",
       "      <th>Gene type</th>\n",
       "      <th>NCBI gene (formerly Entrezgene) ID</th>\n",
       "      <th>HGNC ID</th>\n",
       "      <th>MIM gene accession</th>\n",
       "    </tr>\n",
       "  </thead>\n",
       "  <tbody>\n",
       "    <tr>\n",
       "      <th>0</th>\n",
       "      <td>ENSG00000210049</td>\n",
       "      <td>ENST00000387314</td>\n",
       "      <td>NaN</td>\n",
       "      <td>MT-TF</td>\n",
       "      <td>Mt_tRNA</td>\n",
       "      <td>NaN</td>\n",
       "      <td>HGNC:7481</td>\n",
       "      <td>NaN</td>\n",
       "    </tr>\n",
       "    <tr>\n",
       "      <th>1</th>\n",
       "      <td>ENSG00000211459</td>\n",
       "      <td>ENST00000389680</td>\n",
       "      <td>NaN</td>\n",
       "      <td>MT-RNR1</td>\n",
       "      <td>Mt_rRNA</td>\n",
       "      <td>NaN</td>\n",
       "      <td>HGNC:7470</td>\n",
       "      <td>NaN</td>\n",
       "    </tr>\n",
       "    <tr>\n",
       "      <th>2</th>\n",
       "      <td>ENSG00000210077</td>\n",
       "      <td>ENST00000387342</td>\n",
       "      <td>NaN</td>\n",
       "      <td>MT-TV</td>\n",
       "      <td>Mt_tRNA</td>\n",
       "      <td>NaN</td>\n",
       "      <td>HGNC:7500</td>\n",
       "      <td>NaN</td>\n",
       "    </tr>\n",
       "    <tr>\n",
       "      <th>3</th>\n",
       "      <td>ENSG00000210082</td>\n",
       "      <td>ENST00000387347</td>\n",
       "      <td>NaN</td>\n",
       "      <td>MT-RNR2</td>\n",
       "      <td>Mt_rRNA</td>\n",
       "      <td>NaN</td>\n",
       "      <td>HGNC:7471</td>\n",
       "      <td>NaN</td>\n",
       "    </tr>\n",
       "    <tr>\n",
       "      <th>4</th>\n",
       "      <td>ENSG00000209082</td>\n",
       "      <td>ENST00000386347</td>\n",
       "      <td>NaN</td>\n",
       "      <td>MT-TL1</td>\n",
       "      <td>Mt_tRNA</td>\n",
       "      <td>NaN</td>\n",
       "      <td>HGNC:7490</td>\n",
       "      <td>NaN</td>\n",
       "    </tr>\n",
       "  </tbody>\n",
       "</table>\n",
       "</div>"
      ],
      "text/plain": [
       "    Gene stable ID Transcript stable ID Protein stable ID Gene name Gene type  \\\n",
       "0  ENSG00000210049      ENST00000387314               NaN     MT-TF   Mt_tRNA   \n",
       "1  ENSG00000211459      ENST00000389680               NaN   MT-RNR1   Mt_rRNA   \n",
       "2  ENSG00000210077      ENST00000387342               NaN     MT-TV   Mt_tRNA   \n",
       "3  ENSG00000210082      ENST00000387347               NaN   MT-RNR2   Mt_rRNA   \n",
       "4  ENSG00000209082      ENST00000386347               NaN    MT-TL1   Mt_tRNA   \n",
       "\n",
       "  NCBI gene (formerly Entrezgene) ID    HGNC ID MIM gene accession  \n",
       "0                                NaN  HGNC:7481                NaN  \n",
       "1                                NaN  HGNC:7470                NaN  \n",
       "2                                NaN  HGNC:7500                NaN  \n",
       "3                                NaN  HGNC:7471                NaN  \n",
       "4                                NaN  HGNC:7490                NaN  "
      ]
     },
     "execution_count": 5,
     "metadata": {},
     "output_type": "execute_result"
    }
   ],
   "source": [
    "human.head()"
   ]
  },
  {
   "cell_type": "code",
   "execution_count": 10,
   "metadata": {},
   "outputs": [],
   "source": [
    "human.to_feather(\"ensembl-ids-human.feather\")"
   ]
  },
  {
   "cell_type": "markdown",
   "metadata": {},
   "source": [
    "## Mouse"
   ]
  },
  {
   "cell_type": "code",
   "execution_count": 6,
   "metadata": {},
   "outputs": [],
   "source": [
    "mouse = pd.read_csv(\"~/Downloads/mart_export-mouse.txt\", dtype=str)"
   ]
  },
  {
   "cell_type": "code",
   "execution_count": 7,
   "metadata": {},
   "outputs": [
    {
     "data": {
      "text/plain": [
       "(150702, 7)"
      ]
     },
     "execution_count": 7,
     "metadata": {},
     "output_type": "execute_result"
    }
   ],
   "source": [
    "mouse.shape"
   ]
  },
  {
   "cell_type": "code",
   "execution_count": 8,
   "metadata": {},
   "outputs": [
    {
     "data": {
      "text/html": [
       "<div>\n",
       "<style scoped>\n",
       "    .dataframe tbody tr th:only-of-type {\n",
       "        vertical-align: middle;\n",
       "    }\n",
       "\n",
       "    .dataframe tbody tr th {\n",
       "        vertical-align: top;\n",
       "    }\n",
       "\n",
       "    .dataframe thead th {\n",
       "        text-align: right;\n",
       "    }\n",
       "</style>\n",
       "<table border=\"1\" class=\"dataframe\">\n",
       "  <thead>\n",
       "    <tr style=\"text-align: right;\">\n",
       "      <th></th>\n",
       "      <th>Gene stable ID</th>\n",
       "      <th>Transcript stable ID</th>\n",
       "      <th>Protein stable ID</th>\n",
       "      <th>Gene name</th>\n",
       "      <th>Gene type</th>\n",
       "      <th>NCBI gene (formerly Entrezgene) ID</th>\n",
       "      <th>MGI ID</th>\n",
       "    </tr>\n",
       "  </thead>\n",
       "  <tbody>\n",
       "    <tr>\n",
       "      <th>0</th>\n",
       "      <td>ENSMUSG00000064336</td>\n",
       "      <td>ENSMUST00000082387</td>\n",
       "      <td>NaN</td>\n",
       "      <td>mt-Tf</td>\n",
       "      <td>Mt_tRNA</td>\n",
       "      <td>NaN</td>\n",
       "      <td>MGI:102487</td>\n",
       "    </tr>\n",
       "    <tr>\n",
       "      <th>1</th>\n",
       "      <td>ENSMUSG00000064337</td>\n",
       "      <td>ENSMUST00000082388</td>\n",
       "      <td>NaN</td>\n",
       "      <td>mt-Rnr1</td>\n",
       "      <td>Mt_rRNA</td>\n",
       "      <td>NaN</td>\n",
       "      <td>MGI:102493</td>\n",
       "    </tr>\n",
       "    <tr>\n",
       "      <th>2</th>\n",
       "      <td>ENSMUSG00000064338</td>\n",
       "      <td>ENSMUST00000082389</td>\n",
       "      <td>NaN</td>\n",
       "      <td>mt-Tv</td>\n",
       "      <td>Mt_tRNA</td>\n",
       "      <td>NaN</td>\n",
       "      <td>MGI:102472</td>\n",
       "    </tr>\n",
       "    <tr>\n",
       "      <th>3</th>\n",
       "      <td>ENSMUSG00000064339</td>\n",
       "      <td>ENSMUST00000082390</td>\n",
       "      <td>NaN</td>\n",
       "      <td>mt-Rnr2</td>\n",
       "      <td>Mt_rRNA</td>\n",
       "      <td>NaN</td>\n",
       "      <td>MGI:102492</td>\n",
       "    </tr>\n",
       "    <tr>\n",
       "      <th>4</th>\n",
       "      <td>ENSMUSG00000064340</td>\n",
       "      <td>ENSMUST00000082391</td>\n",
       "      <td>NaN</td>\n",
       "      <td>mt-Tl1</td>\n",
       "      <td>Mt_tRNA</td>\n",
       "      <td>NaN</td>\n",
       "      <td>MGI:102482</td>\n",
       "    </tr>\n",
       "  </tbody>\n",
       "</table>\n",
       "</div>"
      ],
      "text/plain": [
       "       Gene stable ID Transcript stable ID Protein stable ID Gene name  \\\n",
       "0  ENSMUSG00000064336   ENSMUST00000082387               NaN     mt-Tf   \n",
       "1  ENSMUSG00000064337   ENSMUST00000082388               NaN   mt-Rnr1   \n",
       "2  ENSMUSG00000064338   ENSMUST00000082389               NaN     mt-Tv   \n",
       "3  ENSMUSG00000064339   ENSMUST00000082390               NaN   mt-Rnr2   \n",
       "4  ENSMUSG00000064340   ENSMUST00000082391               NaN    mt-Tl1   \n",
       "\n",
       "  Gene type NCBI gene (formerly Entrezgene) ID      MGI ID  \n",
       "0   Mt_tRNA                                NaN  MGI:102487  \n",
       "1   Mt_rRNA                                NaN  MGI:102493  \n",
       "2   Mt_tRNA                                NaN  MGI:102472  \n",
       "3   Mt_rRNA                                NaN  MGI:102492  \n",
       "4   Mt_tRNA                                NaN  MGI:102482  "
      ]
     },
     "execution_count": 8,
     "metadata": {},
     "output_type": "execute_result"
    }
   ],
   "source": [
    "mouse.head()"
   ]
  },
  {
   "cell_type": "code",
   "execution_count": 11,
   "metadata": {},
   "outputs": [],
   "source": [
    "mouse.to_feather(\"ensembl-ids-mouse.feather\")"
   ]
  },
  {
   "cell_type": "code",
   "execution_count": null,
   "metadata": {},
   "outputs": [],
   "source": []
  }
 ],
 "metadata": {
  "kernelspec": {
   "display_name": "Python 3.9.13 ('py39')",
   "language": "python",
   "name": "python3"
  },
  "language_info": {
   "codemirror_mode": {
    "name": "ipython",
    "version": 3
   },
   "file_extension": ".py",
   "mimetype": "text/x-python",
   "name": "python",
   "nbconvert_exporter": "python",
   "pygments_lexer": "ipython3",
   "version": "3.9.13"
  },
  "orig_nbformat": 4,
  "vscode": {
   "interpreter": {
    "hash": "ae1fefc8646a06dd2e75004cd934adda7c5727b046986a772e3b44b0ffba9754"
   }
  }
 },
 "nbformat": 4,
 "nbformat_minor": 2
}
