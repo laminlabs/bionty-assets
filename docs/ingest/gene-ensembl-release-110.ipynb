{
 "cells": [
  {
   "attachments": {},
   "cell_type": "markdown",
   "metadata": {},
   "source": [
    "# `Gene`: ensembl, release-110"
   ]
  },
  {
   "attachments": {},
   "cell_type": "markdown",
   "metadata": {},
   "source": [
    "- https://www.ensembl.org/info/data/mysql.html\n",
    "- https://www.ensembl.org/info/docs/api/core/core_schema.html"
   ]
  },
  {
   "attachments": {},
   "cell_type": "markdown",
   "metadata": {},
   "source": [
    "Install mysqlclient: https://pypi.org/project/mysqlclient/"
   ]
  },
  {
   "cell_type": "code",
   "execution_count": 1,
   "metadata": {},
   "outputs": [],
   "source": [
    "import bionty as bt\n",
    "from bionty.entities._gene import EnsemblGene\n",
    "\n",
    "version = \"release-110\""
   ]
  },
  {
   "attachments": {},
   "cell_type": "markdown",
   "metadata": {},
   "source": [
    "## Human"
   ]
  },
  {
   "cell_type": "code",
   "execution_count": 2,
   "metadata": {},
   "outputs": [
    {
     "name": "stdout",
     "output_type": "stream",
     "text": [
      "💡 Fetching records from the core DB...\n",
      "💡 Fetching records from the external DBs...\n",
      "🔶 Duplicated #rows ensembl_gene_id with ncbi_gene_id: 6195\n",
      "✅ Downloaded Gene table containing 75719 entries.\n"
     ]
    }
   ],
   "source": [
    "df = EnsemblGene(species=\"human\", version=version).download_df()"
   ]
  },
  {
   "cell_type": "code",
   "execution_count": 3,
   "metadata": {},
   "outputs": [
    {
     "data": {
      "text/html": [
       "<div>\n",
       "<style scoped>\n",
       "    .dataframe tbody tr th:only-of-type {\n",
       "        vertical-align: middle;\n",
       "    }\n",
       "\n",
       "    .dataframe tbody tr th {\n",
       "        vertical-align: top;\n",
       "    }\n",
       "\n",
       "    .dataframe thead th {\n",
       "        text-align: right;\n",
       "    }\n",
       "</style>\n",
       "<table border=\"1\" class=\"dataframe\">\n",
       "  <thead>\n",
       "    <tr style=\"text-align: right;\">\n",
       "      <th></th>\n",
       "      <th>ensembl_gene_id</th>\n",
       "      <th>symbol</th>\n",
       "      <th>ncbi_gene_id</th>\n",
       "      <th>biotype</th>\n",
       "      <th>description</th>\n",
       "      <th>synonyms</th>\n",
       "    </tr>\n",
       "  </thead>\n",
       "  <tbody>\n",
       "    <tr>\n",
       "      <th>0</th>\n",
       "      <td>ENSG00000000003</td>\n",
       "      <td>TSPAN6</td>\n",
       "      <td>7105</td>\n",
       "      <td>protein_coding</td>\n",
       "      <td>tetraspanin 6 [Source:HGNC Symbol;Acc:HGNC:11858]</td>\n",
       "      <td>T245|TSPAN-6|TM4SF6</td>\n",
       "    </tr>\n",
       "    <tr>\n",
       "      <th>1</th>\n",
       "      <td>ENSG00000000005</td>\n",
       "      <td>TNMD</td>\n",
       "      <td>64102</td>\n",
       "      <td>protein_coding</td>\n",
       "      <td>tenomodulin [Source:HGNC Symbol;Acc:HGNC:17757]</td>\n",
       "      <td>TEM|CHM1L|BRICD4|MYODULIN|TENDIN</td>\n",
       "    </tr>\n",
       "    <tr>\n",
       "      <th>2</th>\n",
       "      <td>ENSG00000000419</td>\n",
       "      <td>DPM1</td>\n",
       "      <td>8813</td>\n",
       "      <td>protein_coding</td>\n",
       "      <td>dolichyl-phosphate mannosyltransferase subunit...</td>\n",
       "      <td>MPDS|CDGIE</td>\n",
       "    </tr>\n",
       "    <tr>\n",
       "      <th>3</th>\n",
       "      <td>ENSG00000000457</td>\n",
       "      <td>SCYL3</td>\n",
       "      <td>57147</td>\n",
       "      <td>protein_coding</td>\n",
       "      <td>SCY1 like pseudokinase 3 [Source:HGNC Symbol;A...</td>\n",
       "      <td>PACE-1|PACE1</td>\n",
       "    </tr>\n",
       "    <tr>\n",
       "      <th>4</th>\n",
       "      <td>ENSG00000000460</td>\n",
       "      <td>C1orf112</td>\n",
       "      <td>55732</td>\n",
       "      <td>protein_coding</td>\n",
       "      <td>chromosome 1 open reading frame 112 [Source:HG...</td>\n",
       "      <td>APOLO1|FLIP|FLJ10706</td>\n",
       "    </tr>\n",
       "  </tbody>\n",
       "</table>\n",
       "</div>"
      ],
      "text/plain": [
       "   ensembl_gene_id    symbol ncbi_gene_id         biotype  \\\n",
       "0  ENSG00000000003    TSPAN6         7105  protein_coding   \n",
       "1  ENSG00000000005      TNMD        64102  protein_coding   \n",
       "2  ENSG00000000419      DPM1         8813  protein_coding   \n",
       "3  ENSG00000000457     SCYL3        57147  protein_coding   \n",
       "4  ENSG00000000460  C1orf112        55732  protein_coding   \n",
       "\n",
       "                                         description  \\\n",
       "0  tetraspanin 6 [Source:HGNC Symbol;Acc:HGNC:11858]   \n",
       "1    tenomodulin [Source:HGNC Symbol;Acc:HGNC:17757]   \n",
       "2  dolichyl-phosphate mannosyltransferase subunit...   \n",
       "3  SCY1 like pseudokinase 3 [Source:HGNC Symbol;A...   \n",
       "4  chromosome 1 open reading frame 112 [Source:HG...   \n",
       "\n",
       "                           synonyms  \n",
       "0               T245|TSPAN-6|TM4SF6  \n",
       "1  TEM|CHM1L|BRICD4|MYODULIN|TENDIN  \n",
       "2                        MPDS|CDGIE  \n",
       "3                      PACE-1|PACE1  \n",
       "4              APOLO1|FLIP|FLJ10706  "
      ]
     },
     "execution_count": 3,
     "metadata": {},
     "output_type": "execute_result"
    }
   ],
   "source": [
    "df.head()"
   ]
  },
  {
   "cell_type": "code",
   "execution_count": 4,
   "metadata": {},
   "outputs": [],
   "source": [
    "df.to_parquet(\"df_human__ensembl__release-110__Gene.parquet\")"
   ]
  },
  {
   "cell_type": "markdown",
   "metadata": {},
   "source": [
    "## Mouse"
   ]
  },
  {
   "cell_type": "code",
   "execution_count": 5,
   "metadata": {},
   "outputs": [
    {
     "name": "stdout",
     "output_type": "stream",
     "text": [
      "💡 Fetching records from the core DB...\n",
      "💡 Fetching records from the external DBs...\n",
      "🔶 Duplicated #rows ensembl_gene_id with ncbi_gene_id: 554\n",
      "✅ Downloaded Gene table containing 57283 entries.\n"
     ]
    }
   ],
   "source": [
    "df = EnsemblGene(species=\"mouse\", version=version).download_df()"
   ]
  },
  {
   "cell_type": "code",
   "execution_count": 6,
   "metadata": {},
   "outputs": [
    {
     "data": {
      "text/html": [
       "<div>\n",
       "<style scoped>\n",
       "    .dataframe tbody tr th:only-of-type {\n",
       "        vertical-align: middle;\n",
       "    }\n",
       "\n",
       "    .dataframe tbody tr th {\n",
       "        vertical-align: top;\n",
       "    }\n",
       "\n",
       "    .dataframe thead th {\n",
       "        text-align: right;\n",
       "    }\n",
       "</style>\n",
       "<table border=\"1\" class=\"dataframe\">\n",
       "  <thead>\n",
       "    <tr style=\"text-align: right;\">\n",
       "      <th></th>\n",
       "      <th>ensembl_gene_id</th>\n",
       "      <th>symbol</th>\n",
       "      <th>ncbi_gene_id</th>\n",
       "      <th>biotype</th>\n",
       "      <th>description</th>\n",
       "      <th>synonyms</th>\n",
       "    </tr>\n",
       "  </thead>\n",
       "  <tbody>\n",
       "    <tr>\n",
       "      <th>0</th>\n",
       "      <td>ENSMUSG00000000001</td>\n",
       "      <td>Gnai3</td>\n",
       "      <td>14679</td>\n",
       "      <td>protein_coding</td>\n",
       "      <td>guanine nucleotide binding protein (G protein)...</td>\n",
       "      <td>Galphai3</td>\n",
       "    </tr>\n",
       "    <tr>\n",
       "      <th>1</th>\n",
       "      <td>ENSMUSG00000000003</td>\n",
       "      <td>Pbsn</td>\n",
       "      <td>54192</td>\n",
       "      <td>protein_coding</td>\n",
       "      <td>probasin [Source:MGI Symbol;Acc:MGI:1860484]</td>\n",
       "      <td>PB</td>\n",
       "    </tr>\n",
       "    <tr>\n",
       "      <th>2</th>\n",
       "      <td>ENSMUSG00000000028</td>\n",
       "      <td>Cdc45</td>\n",
       "      <td>12544</td>\n",
       "      <td>protein_coding</td>\n",
       "      <td>cell division cycle 45 [Source:MGI Symbol;Acc:...</td>\n",
       "      <td>Cdc45l</td>\n",
       "    </tr>\n",
       "    <tr>\n",
       "      <th>3</th>\n",
       "      <td>ENSMUSG00000000031</td>\n",
       "      <td>H19</td>\n",
       "      <td>14955</td>\n",
       "      <td>lncRNA</td>\n",
       "      <td>H19, imprinted maternally expressed transcript...</td>\n",
       "      <td></td>\n",
       "    </tr>\n",
       "    <tr>\n",
       "      <th>4</th>\n",
       "      <td>ENSMUSG00000000037</td>\n",
       "      <td>Scml2</td>\n",
       "      <td>107815</td>\n",
       "      <td>protein_coding</td>\n",
       "      <td>Scm polycomb group protein like 2 [Source:MGI ...</td>\n",
       "      <td>4932420G07Rik</td>\n",
       "    </tr>\n",
       "  </tbody>\n",
       "</table>\n",
       "</div>"
      ],
      "text/plain": [
       "      ensembl_gene_id symbol ncbi_gene_id         biotype  \\\n",
       "0  ENSMUSG00000000001  Gnai3        14679  protein_coding   \n",
       "1  ENSMUSG00000000003   Pbsn        54192  protein_coding   \n",
       "2  ENSMUSG00000000028  Cdc45        12544  protein_coding   \n",
       "3  ENSMUSG00000000031    H19        14955          lncRNA   \n",
       "4  ENSMUSG00000000037  Scml2       107815  protein_coding   \n",
       "\n",
       "                                         description       synonyms  \n",
       "0  guanine nucleotide binding protein (G protein)...       Galphai3  \n",
       "1       probasin [Source:MGI Symbol;Acc:MGI:1860484]             PB  \n",
       "2  cell division cycle 45 [Source:MGI Symbol;Acc:...         Cdc45l  \n",
       "3  H19, imprinted maternally expressed transcript...                 \n",
       "4  Scm polycomb group protein like 2 [Source:MGI ...  4932420G07Rik  "
      ]
     },
     "execution_count": 6,
     "metadata": {},
     "output_type": "execute_result"
    }
   ],
   "source": [
    "df.head()"
   ]
  },
  {
   "cell_type": "code",
   "execution_count": 7,
   "metadata": {},
   "outputs": [],
   "source": [
    "df.to_parquet(\"df_mouse__ensembl__release-110__Gene.parquet\")"
   ]
  },
  {
   "cell_type": "markdown",
   "metadata": {},
   "source": [
    "## saccharomyces_cerevisiae"
   ]
  },
  {
   "cell_type": "code",
   "execution_count": 8,
   "metadata": {},
   "outputs": [
    {
     "name": "stdout",
     "output_type": "stream",
     "text": [
      "💡 Fetching records from the core DB...\n",
      "💡 Fetching records from the external DBs...\n",
      "🔶 Duplicated #rows ensembl_gene_id with ncbi_gene_id: 218\n",
      "🔶 No ensembl_gene_id found, writing to table_id column.\n",
      "✅ Downloaded Gene table containing 7248 entries.\n"
     ]
    }
   ],
   "source": [
    "df = EnsemblGene(species=\"saccharomyces cerevisiae\", version=version).download_df()"
   ]
  },
  {
   "cell_type": "code",
   "execution_count": 9,
   "metadata": {},
   "outputs": [],
   "source": [
    "df.to_parquet(\"df_saccharomyces cerevisiae__ensembl__release-110__Gene.parquet\")"
   ]
  }
 ],
 "metadata": {
  "kernelspec": {
   "display_name": "Python 3.9.13 ('py39')",
   "language": "python",
   "name": "python3"
  },
  "language_info": {
   "codemirror_mode": {
    "name": "ipython",
    "version": 3
   },
   "file_extension": ".py",
   "mimetype": "text/x-python",
   "name": "python",
   "nbconvert_exporter": "python",
   "pygments_lexer": "ipython3",
   "version": "3.9.16"
  },
  "orig_nbformat": 4,
  "vscode": {
   "interpreter": {
    "hash": "ae1fefc8646a06dd2e75004cd934adda7c5727b046986a772e3b44b0ffba9754"
   }
  }
 },
 "nbformat": 4,
 "nbformat_minor": 2
}
