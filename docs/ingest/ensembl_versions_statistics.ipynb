{
 "cells": [
  {
   "cell_type": "code",
   "execution_count": 1,
   "metadata": {},
   "outputs": [],
   "source": [
    "import pandas as pd"
   ]
  },
  {
   "cell_type": "code",
   "execution_count": 8,
   "metadata": {},
   "outputs": [],
   "source": [
    "df_110 = pd.read_parquet(\"docs/ingest/df_human__ensembl__release-110__Gene.parquet\")\n",
    "df_111 = pd.read_parquet(\"docs/ingest/df_human__ensembl__release-111__Gene.parquet\")\n",
    "df_112 = pd.read_parquet(\"docs/ingest/df_human__ensembl__release-112__Gene.parquet\")\n",
    "\n",
    "df_110_set = set(df_110[\"ensembl_gene_id\"])\n",
    "df_111_set = set(df_111[\"ensembl_gene_id\"])\n",
    "df_112_set = set(df_112[\"ensembl_gene_id\"])"
   ]
  },
  {
   "cell_type": "code",
   "execution_count": 24,
   "metadata": {},
   "outputs": [
    {
     "name": "stdout",
     "output_type": "stream",
     "text": [
      "Total number of (potentially non-unique) genes 75719 in ensembl 110\n",
      "Total number of (potentially non-unique) genes 76062 in ensembl 111\n",
      "Total number of (potentially non-unique) genes 75829 in ensembl 112\n"
     ]
    }
   ],
   "source": [
    "for release, df in zip([\"110\", \"111\", \"112\"], [df_110, df_111, df_112]):\n",
    "    print(f\"Total number of (potentially non-unique) genes {len(df)} in ensembl {release}\")"
   ]
  },
  {
   "cell_type": "code",
   "execution_count": 17,
   "metadata": {},
   "outputs": [
    {
     "name": "stdout",
     "output_type": "stream",
     "text": [
      "Total number of genes 70116 in ensembl 110\n",
      "Total number of genes 70711 in ensembl 111\n",
      "Total number of genes 70611 in ensembl 112\n"
     ]
    }
   ],
   "source": [
    "for release, df_set in zip([\"110\", \"111\", \"112\"], [df_110_set, df_111_set, df_112_set]):\n",
    "    print(f\"Total number of unique genes {len(df_set)} in ensembl {release}\")"
   ]
  },
  {
   "cell_type": "code",
   "execution_count": 10,
   "metadata": {},
   "outputs": [
    {
     "name": "stdout",
     "output_type": "stream",
     "text": [
      "Unique to 110 when comparing 110 and 111: 50\n",
      "Unique to 111 when comparing 111 and 112: 127\n"
     ]
    }
   ],
   "source": [
    "print(f\"Removed genes: Unique for 110 when comparing 110 and 111: {len(df_110_set - df_111_set)}\")\n",
    "print(f\"Removed genes: Unique for 111 when comparing 111 and 112: {len(df_111_set - df_112_set)}\")"
   ]
  },
  {
   "cell_type": "code",
   "execution_count": 11,
   "metadata": {},
   "outputs": [
    {
     "name": "stdout",
     "output_type": "stream",
     "text": [
      "Added genes: Unique for 111 when comparing 111 and 110: 645\n",
      "Added genes: Unique for 112 when comparing 112 and 111: 27\n"
     ]
    }
   ],
   "source": [
    "print(f\"Added genes: Unique for 111 when comparing 111 and 110: {len(df_111_set - df_110_set)}\")\n",
    "print(f\"Added genes: Unique for 112 when comparing 112 and 111: {len(df_112_set - df_111_set)}\")"
   ]
  },
  {
   "cell_type": "code",
   "execution_count": null,
   "metadata": {},
   "outputs": [],
   "source": []
  }
 ],
 "metadata": {
  "kernelspec": {
   "display_name": "bionty",
   "language": "python",
   "name": "python3"
  },
  "language_info": {
   "codemirror_mode": {
    "name": "ipython",
    "version": 3
   },
   "file_extension": ".py",
   "mimetype": "text/x-python",
   "name": "python",
   "nbconvert_exporter": "python",
   "pygments_lexer": "ipython3",
   "version": "3.10.10"
  }
 },
 "nbformat": 4,
 "nbformat_minor": 2
}
