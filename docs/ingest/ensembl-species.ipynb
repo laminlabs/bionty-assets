{
 "cells": [
  {
   "cell_type": "markdown",
   "metadata": {},
   "source": [
    "# Ensembl species -> `bionty.Species().df`"
   ]
  },
  {
   "cell_type": "markdown",
   "metadata": {},
   "source": [
    "Downloaded from: https://www.ensembl.org/info/about/species.html"
   ]
  },
  {
   "cell_type": "code",
   "execution_count": 1,
   "metadata": {},
   "outputs": [
    {
     "name": "stderr",
     "output_type": "stream",
     "text": [
      "2022-10-24 16:54:15,372:INFO - Note: NumExpr detected 10 cores but \"NUMEXPR_MAX_THREADS\" not set, so enforcing safe limit of 8.\n",
      "2022-10-24 16:54:15,373:INFO - NumExpr defaulting to 8 threads.\n"
     ]
    },
    {
     "data": {
      "text/html": [
       "<table><tbody><tr><td style='text-align: left;'><b>author</b></td><td style='text-align: left;'>Sunny Sun (sunnyosun)</td></tr><tr><td style='text-align: left;'><b>id</b></td><td style='text-align: left;'>SH5O<span style='opacity:0.3'>08MYHNXe</span></td></tr><tr><td style='text-align: left;'><b>version</b></td><td style='text-align: left;'>1</td></tr><tr><td style='text-align: left;'><b>time_init</b></td><td style='text-align: left;'>2022-10-24 10:21</td></tr><tr><td style='text-align: left;'><b>time_run</b></td><td style='text-align: left;'>2022-10-24 14:55</td></tr><tr><td style='text-align: left;'><b>consecutive_cells</b></td><td style='text-align: left;'>True</td></tr><tr><td style='text-align: left;'><b>pypackage</b></td><td style='text-align: left;'>lamindb==0.6.0 lnschema_bionty==0.4.3 pandas==1.5.0</td></tr></tbody></table>"
      ],
      "text/plain": [
       "<IPython.core.display.HTML object>"
      ]
     },
     "metadata": {},
     "output_type": "display_data"
    }
   ],
   "source": [
    "import lamindb as ln\n",
    "import pandas as pd\n",
    "from lnschema_bionty import id\n",
    "\n",
    "ln.nb.header()"
   ]
  },
  {
   "cell_type": "markdown",
   "metadata": {},
   "source": [
    "## Curate the species table"
   ]
  },
  {
   "cell_type": "code",
   "execution_count": 2,
   "metadata": {},
   "outputs": [
    {
     "data": {
      "text/html": [
       "<div>\n",
       "<style scoped>\n",
       "    .dataframe tbody tr th:only-of-type {\n",
       "        vertical-align: middle;\n",
       "    }\n",
       "\n",
       "    .dataframe tbody tr th {\n",
       "        vertical-align: top;\n",
       "    }\n",
       "\n",
       "    .dataframe thead th {\n",
       "        text-align: right;\n",
       "    }\n",
       "</style>\n",
       "<table border=\"1\" class=\"dataframe\">\n",
       "  <thead>\n",
       "    <tr style=\"text-align: right;\">\n",
       "      <th></th>\n",
       "      <th>Common name</th>\n",
       "      <th>Scientific name</th>\n",
       "      <th>Taxon ID</th>\n",
       "      <th>Ensembl Assembly</th>\n",
       "      <th>Accession</th>\n",
       "      <th>Genebuild Method</th>\n",
       "      <th>Variation database</th>\n",
       "      <th>Regulation database</th>\n",
       "    </tr>\n",
       "  </thead>\n",
       "  <tbody>\n",
       "    <tr>\n",
       "      <th>0</th>\n",
       "      <td>Abingdon island giant tortoise</td>\n",
       "      <td>Chelonoidis abingdonii</td>\n",
       "      <td>106734</td>\n",
       "      <td>ASM359739v1</td>\n",
       "      <td>GCA_003597395.1</td>\n",
       "      <td>Full genebuild</td>\n",
       "      <td>-</td>\n",
       "      <td>-</td>\n",
       "    </tr>\n",
       "    <tr>\n",
       "      <th>1</th>\n",
       "      <td>African ostrich</td>\n",
       "      <td>Struthio camelus australis</td>\n",
       "      <td>441894</td>\n",
       "      <td>ASM69896v1</td>\n",
       "      <td>GCA_000698965.1</td>\n",
       "      <td>Full genebuild</td>\n",
       "      <td>-</td>\n",
       "      <td>-</td>\n",
       "    </tr>\n",
       "    <tr>\n",
       "      <th>2</th>\n",
       "      <td>Agassiz's desert tortoise</td>\n",
       "      <td>Gopherus agassizii</td>\n",
       "      <td>38772</td>\n",
       "      <td>ASM289641v1</td>\n",
       "      <td>GCA_002896415.1</td>\n",
       "      <td>Full genebuild</td>\n",
       "      <td>-</td>\n",
       "      <td>-</td>\n",
       "    </tr>\n",
       "    <tr>\n",
       "      <th>3</th>\n",
       "      <td>Algerian mouse</td>\n",
       "      <td>Mus spretus</td>\n",
       "      <td>10096</td>\n",
       "      <td>SPRET_EiJ_v1</td>\n",
       "      <td>GCA_001624865.1</td>\n",
       "      <td>External annotation import</td>\n",
       "      <td>-</td>\n",
       "      <td>Y</td>\n",
       "    </tr>\n",
       "    <tr>\n",
       "      <th>4</th>\n",
       "      <td>Alpaca</td>\n",
       "      <td>Vicugna pacos</td>\n",
       "      <td>30538</td>\n",
       "      <td>vicPac1</td>\n",
       "      <td>-</td>\n",
       "      <td>Projection build</td>\n",
       "      <td>-</td>\n",
       "      <td>-</td>\n",
       "    </tr>\n",
       "  </tbody>\n",
       "</table>\n",
       "</div>"
      ],
      "text/plain": [
       "                      Common name             Scientific name Taxon ID  \\\n",
       "0  Abingdon island giant tortoise      Chelonoidis abingdonii   106734   \n",
       "1                 African ostrich  Struthio camelus australis   441894   \n",
       "2       Agassiz's desert tortoise          Gopherus agassizii    38772   \n",
       "3                  Algerian mouse                 Mus spretus    10096   \n",
       "4                          Alpaca               Vicugna pacos    30538   \n",
       "\n",
       "  Ensembl Assembly        Accession            Genebuild Method  \\\n",
       "0      ASM359739v1  GCA_003597395.1              Full genebuild   \n",
       "1       ASM69896v1  GCA_000698965.1              Full genebuild   \n",
       "2      ASM289641v1  GCA_002896415.1              Full genebuild   \n",
       "3     SPRET_EiJ_v1  GCA_001624865.1  External annotation import   \n",
       "4          vicPac1                -            Projection build   \n",
       "\n",
       "  Variation database Regulation database  \n",
       "0                  -                   -  \n",
       "1                  -                   -  \n",
       "2                  -                   -  \n",
       "3                  -                   Y  \n",
       "4                  -                   -  "
      ]
     },
     "execution_count": 2,
     "metadata": {},
     "output_type": "execute_result"
    }
   ],
   "source": [
    "df = pd.read_csv(\"https://bionty-assets.s3.amazonaws.com/Species.csv\", dtype=str)\n",
    "\n",
    "df.head()"
   ]
  },
  {
   "cell_type": "code",
   "execution_count": 3,
   "metadata": {},
   "outputs": [
    {
     "data": {
      "text/html": [
       "<div>\n",
       "<style scoped>\n",
       "    .dataframe tbody tr th:only-of-type {\n",
       "        vertical-align: middle;\n",
       "    }\n",
       "\n",
       "    .dataframe tbody tr th {\n",
       "        vertical-align: top;\n",
       "    }\n",
       "\n",
       "    .dataframe thead th {\n",
       "        text-align: right;\n",
       "    }\n",
       "</style>\n",
       "<table border=\"1\" class=\"dataframe\">\n",
       "  <thead>\n",
       "    <tr style=\"text-align: right;\">\n",
       "      <th></th>\n",
       "      <th>Common name</th>\n",
       "      <th>Taxon ID</th>\n",
       "      <th>Scientific name</th>\n",
       "      <th>Ensembl Assembly</th>\n",
       "      <th>Accession</th>\n",
       "    </tr>\n",
       "  </thead>\n",
       "  <tbody>\n",
       "    <tr>\n",
       "      <th>0</th>\n",
       "      <td>Abingdon island giant tortoise</td>\n",
       "      <td>106734</td>\n",
       "      <td>Chelonoidis abingdonii</td>\n",
       "      <td>ASM359739v1</td>\n",
       "      <td>GCA_003597395.1</td>\n",
       "    </tr>\n",
       "    <tr>\n",
       "      <th>1</th>\n",
       "      <td>African ostrich</td>\n",
       "      <td>441894</td>\n",
       "      <td>Struthio camelus australis</td>\n",
       "      <td>ASM69896v1</td>\n",
       "      <td>GCA_000698965.1</td>\n",
       "    </tr>\n",
       "    <tr>\n",
       "      <th>2</th>\n",
       "      <td>Agassiz's desert tortoise</td>\n",
       "      <td>38772</td>\n",
       "      <td>Gopherus agassizii</td>\n",
       "      <td>ASM289641v1</td>\n",
       "      <td>GCA_002896415.1</td>\n",
       "    </tr>\n",
       "    <tr>\n",
       "      <th>3</th>\n",
       "      <td>Algerian mouse</td>\n",
       "      <td>10096</td>\n",
       "      <td>Mus spretus</td>\n",
       "      <td>SPRET_EiJ_v1</td>\n",
       "      <td>GCA_001624865.1</td>\n",
       "    </tr>\n",
       "    <tr>\n",
       "      <th>4</th>\n",
       "      <td>Alpaca</td>\n",
       "      <td>30538</td>\n",
       "      <td>Vicugna pacos</td>\n",
       "      <td>vicPac1</td>\n",
       "      <td>-</td>\n",
       "    </tr>\n",
       "  </tbody>\n",
       "</table>\n",
       "</div>"
      ],
      "text/plain": [
       "                      Common name Taxon ID             Scientific name  \\\n",
       "0  Abingdon island giant tortoise   106734      Chelonoidis abingdonii   \n",
       "1                 African ostrich   441894  Struthio camelus australis   \n",
       "2       Agassiz's desert tortoise    38772          Gopherus agassizii   \n",
       "3                  Algerian mouse    10096                 Mus spretus   \n",
       "4                          Alpaca    30538               Vicugna pacos   \n",
       "\n",
       "  Ensembl Assembly        Accession  \n",
       "0      ASM359739v1  GCA_003597395.1  \n",
       "1       ASM69896v1  GCA_000698965.1  \n",
       "2      ASM289641v1  GCA_002896415.1  \n",
       "3     SPRET_EiJ_v1  GCA_001624865.1  \n",
       "4          vicPac1                -  "
      ]
     },
     "execution_count": 3,
     "metadata": {},
     "output_type": "execute_result"
    }
   ],
   "source": [
    "df = df[\n",
    "    [\"Common name\", \"Taxon ID\", \"Scientific name\", \"Ensembl Assembly\", \"Accession\"]\n",
    "].copy()\n",
    "\n",
    "df.head()"
   ]
  },
  {
   "cell_type": "markdown",
   "metadata": {},
   "source": [
    "## Generate bionty species ids"
   ]
  },
  {
   "cell_type": "code",
   "execution_count": 4,
   "metadata": {},
   "outputs": [],
   "source": [
    "ids = []\n",
    "for i in df.index:\n",
    "    ids.append(id.species())\n",
    "\n",
    "# make sure the ids are unique\n",
    "assert df.index.is_unique\n",
    "\n",
    "df.index = ids\n",
    "df.index.name = \"id\""
   ]
  },
  {
   "cell_type": "code",
   "execution_count": 5,
   "metadata": {},
   "outputs": [
    {
     "data": {
      "text/html": [
       "<div>\n",
       "<style scoped>\n",
       "    .dataframe tbody tr th:only-of-type {\n",
       "        vertical-align: middle;\n",
       "    }\n",
       "\n",
       "    .dataframe tbody tr th {\n",
       "        vertical-align: top;\n",
       "    }\n",
       "\n",
       "    .dataframe thead th {\n",
       "        text-align: right;\n",
       "    }\n",
       "</style>\n",
       "<table border=\"1\" class=\"dataframe\">\n",
       "  <thead>\n",
       "    <tr style=\"text-align: right;\">\n",
       "      <th></th>\n",
       "      <th>Common name</th>\n",
       "      <th>Taxon ID</th>\n",
       "      <th>Scientific name</th>\n",
       "      <th>Ensembl Assembly</th>\n",
       "      <th>Accession</th>\n",
       "    </tr>\n",
       "    <tr>\n",
       "      <th>id</th>\n",
       "      <th></th>\n",
       "      <th></th>\n",
       "      <th></th>\n",
       "      <th></th>\n",
       "      <th></th>\n",
       "    </tr>\n",
       "  </thead>\n",
       "  <tbody>\n",
       "    <tr>\n",
       "      <th>MfC</th>\n",
       "      <td>Abingdon island giant tortoise</td>\n",
       "      <td>106734</td>\n",
       "      <td>Chelonoidis abingdonii</td>\n",
       "      <td>ASM359739v1</td>\n",
       "      <td>GCA_003597395.1</td>\n",
       "    </tr>\n",
       "    <tr>\n",
       "      <th>oQH</th>\n",
       "      <td>African ostrich</td>\n",
       "      <td>441894</td>\n",
       "      <td>Struthio camelus australis</td>\n",
       "      <td>ASM69896v1</td>\n",
       "      <td>GCA_000698965.1</td>\n",
       "    </tr>\n",
       "    <tr>\n",
       "      <th>G2P</th>\n",
       "      <td>Agassiz's desert tortoise</td>\n",
       "      <td>38772</td>\n",
       "      <td>Gopherus agassizii</td>\n",
       "      <td>ASM289641v1</td>\n",
       "      <td>GCA_002896415.1</td>\n",
       "    </tr>\n",
       "    <tr>\n",
       "      <th>OC9</th>\n",
       "      <td>Algerian mouse</td>\n",
       "      <td>10096</td>\n",
       "      <td>Mus spretus</td>\n",
       "      <td>SPRET_EiJ_v1</td>\n",
       "      <td>GCA_001624865.1</td>\n",
       "    </tr>\n",
       "    <tr>\n",
       "      <th>Tns</th>\n",
       "      <td>Alpaca</td>\n",
       "      <td>30538</td>\n",
       "      <td>Vicugna pacos</td>\n",
       "      <td>vicPac1</td>\n",
       "      <td>-</td>\n",
       "    </tr>\n",
       "  </tbody>\n",
       "</table>\n",
       "</div>"
      ],
      "text/plain": [
       "                        Common name Taxon ID             Scientific name  \\\n",
       "id                                                                         \n",
       "MfC  Abingdon island giant tortoise   106734      Chelonoidis abingdonii   \n",
       "oQH                 African ostrich   441894  Struthio camelus australis   \n",
       "G2P       Agassiz's desert tortoise    38772          Gopherus agassizii   \n",
       "OC9                  Algerian mouse    10096                 Mus spretus   \n",
       "Tns                          Alpaca    30538               Vicugna pacos   \n",
       "\n",
       "    Ensembl Assembly        Accession  \n",
       "id                                     \n",
       "MfC      ASM359739v1  GCA_003597395.1  \n",
       "oQH       ASM69896v1  GCA_000698965.1  \n",
       "G2P      ASM289641v1  GCA_002896415.1  \n",
       "OC9     SPRET_EiJ_v1  GCA_001624865.1  \n",
       "Tns          vicPac1                -  "
      ]
     },
     "execution_count": 5,
     "metadata": {},
     "output_type": "execute_result"
    }
   ],
   "source": [
    "df.head()"
   ]
  },
  {
   "cell_type": "code",
   "execution_count": 6,
   "metadata": {},
   "outputs": [],
   "source": [
    "df.to_parquet(\"ensembl_species.parquet\")"
   ]
  },
  {
   "cell_type": "markdown",
   "metadata": {},
   "source": [
    "## Push to bionty-assets.lndb"
   ]
  },
  {
   "cell_type": "code",
   "execution_count": 7,
   "metadata": {},
   "outputs": [
    {
     "name": "stdout",
     "output_type": "stream",
     "text": [
      "migrate-unnecessary\n"
     ]
    }
   ],
   "source": [
    "!lndb load bionty-assets"
   ]
  },
  {
   "cell_type": "code",
   "execution_count": 8,
   "metadata": {},
   "outputs": [],
   "source": [
    "!lndb login sunnyosun"
   ]
  },
  {
   "cell_type": "code",
   "execution_count": 9,
   "metadata": {},
   "outputs": [],
   "source": [
    "ingest = ln.db.Ingest()"
   ]
  },
  {
   "cell_type": "code",
   "execution_count": 10,
   "metadata": {},
   "outputs": [],
   "source": [
    "ingest.add(\"ensembl_species.parquet\", dobject_id=\"VpdUdouFahpvStwddqTwk\");"
   ]
  },
  {
   "cell_type": "code",
   "execution_count": 11,
   "metadata": {},
   "outputs": [
    {
     "name": "stdout",
     "output_type": "stream",
     "text": [
      "✅ Cell numbers increase consecutively: Awesome!\n"
     ]
    },
    {
     "name": "stderr",
     "output_type": "stream",
     "text": [
      "2022-10-24 16:54:51,715:INFO - Found credentials in shared credentials file: ~/.aws/credentials\n"
     ]
    },
    {
     "name": "stdout",
     "output_type": "stream",
     "text": [
      "Upload /Users/sunnysun/Documents/repos.nosync/bionty-assets/docs/ingest/ensembl_species.parquet: 1.00\n",
      "ℹ️ Added notebook 'Ensembl species -> `bionty.Species().df`' (SH5O08MYHNXe, 1) by user sunnyosun.\n",
      "✅ Ingested the following dobjects:\n",
      "+---+-------------------------------------------------+--------------------------------------------------------------+----------------------+\n",
      "|   | dobject                                         | jupynb                                                       | user                 |\n",
      "+---+-------------------------------------------------+--------------------------------------------------------------+----------------------+\n",
      "| 0 | ensembl_species.parquet (VpdUdouFahpvStwddqTwk) | 'Ensembl species -> `bionty.Species().df`' (SH5O08MYHNXe, 1) | sunnyosun (kmvZDIX9) |\n",
      "+---+-------------------------------------------------+--------------------------------------------------------------+----------------------+\n",
      "ℹ️ Set notebook version to \u001b[1m1\u001b[0m & wrote pypackages.\n"
     ]
    }
   ],
   "source": [
    "ingest.commit()"
   ]
  },
  {
   "cell_type": "markdown",
   "metadata": {},
   "source": [
    "Now on S3: https://bionty-assets.s3.amazonaws.com/VpdUdouFahpvStwddqTwk.parquet"
   ]
  }
 ],
 "metadata": {
  "kernelspec": {
   "display_name": "Python 3 (ipykernel)",
   "language": "python",
   "name": "python3"
  },
  "language_info": {
   "codemirror_mode": {
    "name": "ipython",
    "version": 3
   },
   "file_extension": ".py",
   "mimetype": "text/x-python",
   "name": "python",
   "nbconvert_exporter": "python",
   "pygments_lexer": "ipython3",
   "version": "3.9.13"
  },
  "nbproject": {
   "id": "SH5O08MYHNXe",
   "parent": null,
   "pypackage": {
    "lamindb": "0.6.0",
    "lnschema_bionty": "0.4.3",
    "pandas": "1.5.0"
   },
   "time_init": "2022-10-24T10:21:44.003231+00:00",
   "user_handle": "sunnyosun",
   "user_id": "kmvZDIX9",
   "user_name": "Sunny Sun",
   "version": "1"
  },
  "vscode": {
   "interpreter": {
    "hash": "ae1fefc8646a06dd2e75004cd934adda7c5727b046986a772e3b44b0ffba9754"
   }
  }
 },
 "nbformat": 4,
 "nbformat_minor": 4
}
