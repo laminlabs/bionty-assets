{
 "cells": [
  {
   "cell_type": "markdown",
   "id": "13ff816f-64a9-4e8c-8c5a-b2efb6d53482",
   "metadata": {},
   "source": [
    "# Ensembl gene table -> bionty.Gene().df\n",
    "\n",
    "HGNC table contain only 20k+ validated human entries. When people perform bioinformatic analysis, they often use ensembl ids for transcripts and therefore we are switching to the Ensembl table in `bionty.Gene().df`."
   ]
  },
  {
   "cell_type": "code",
   "execution_count": 1,
   "id": "7953b96c-6b7b-4c95-875f-2179f2bec919",
   "metadata": {},
   "outputs": [
    {
     "data": {
      "text/html": [
       "<table><tbody><tr><td style='text-align: left;'><b>id</b></td><td style='text-align: left;'>tMgY<span style='opacity:0.3'>orKV3nxR</span></td></tr><tr><td style='text-align: left;'><b>version</b></td><td style='text-align: left;'>1</td></tr><tr><td style='text-align: left;'><b>time_init</b></td><td style='text-align: left;'>2022-09-26 21:08</td></tr><tr><td style='text-align: left;'><b>time_run</b></td><td style='text-align: left;'>2022-09-26 21:26</td></tr><tr><td style='text-align: left;'><b>consecutive_cells</b></td><td style='text-align: left;'>True</td></tr><tr><td style='text-align: left;'><b>pypackage</b></td><td style='text-align: left;'>lamindb==0.3.8 lnschema_bionty==0.4.0 pandas==1.4.3</td></tr></tbody></table>"
      ],
      "text/plain": [
       "<IPython.core.display.HTML object>"
      ]
     },
     "metadata": {},
     "output_type": "display_data"
    }
   ],
   "source": [
    "import lamindb as ln\n",
    "import pandas as pd\n",
    "from lnschema_bionty import id\n",
    "\n",
    "ln.nb.header()"
   ]
  },
  {
   "cell_type": "markdown",
   "id": "47bdb8b8-1575-4f4b-9d4a-95a5b1a89002",
   "metadata": {},
   "source": [
    "## Ensembl download\n",
    "\n",
    "These tables are downloaded from [biomart](https://www.ensembl.org/biomart/martview/) database (`Ensembl Genes 107`) containing the following id columns for every species:\n",
    "- `Gene stable ID`\n",
    "- `Transcript stable ID`\n",
    "- `Protein stable ID`\n",
    "- `Gene name`\n",
    "- `Gene Synonym`\n",
    "- `Gene type`\n",
    "- `NCBI gene (formerly Entrezgene) ID`\n",
    "\n",
    "Addtional species-specific columns are also present for:\n",
    "- human: `HGNC ID`, `MIM gene accession`\n",
    "- mouse: `MGI ID`"
   ]
  },
  {
   "cell_type": "code",
   "execution_count": 2,
   "id": "3a01468e-2c12-4994-b42f-64ff281a31f7",
   "metadata": {},
   "outputs": [],
   "source": [
    "dfs = {\n",
    "    \"human\": \"~/Downloads/mart_export-human.txt\",  # http://www.ensembl.org/biomart/martview/4d75e3d44de27e6ed58cfce974f0a755?VIRTUALSCHEMANAME=default&ATTRIBUTES=hsapiens_gene_ensembl.default.feature_page.ensembl_gene_id|hsapiens_gene_ensembl.default.feature_page.ensembl_transcript_id|hsapiens_gene_ensembl.default.feature_page.ensembl_peptide_id|hsapiens_gene_ensembl.default.feature_page.external_gene_name|hsapiens_gene_ensembl.default.feature_page.external_synonym|hsapiens_gene_ensembl.default.feature_page.gene_biotype|hsapiens_gene_ensembl.default.feature_page.entrezgene_id|hsapiens_gene_ensembl.default.feature_page.hgnc_id|hsapiens_gene_ensembl.default.feature_page.mim_gene_accession&FILTERS=&VISIBLEPANEL=resultspanel\n",
    "    \"mouse\": \"~/Downloads/mart_export-mouse.txt\",  # http://www.ensembl.org/biomart/martview/4d75e3d44de27e6ed58cfce974f0a755?VIRTUALSCHEMANAME=default&ATTRIBUTES=mmusculus_gene_ensembl.default.feature_page.ensembl_gene_id|mmusculus_gene_ensembl.default.feature_page.ensembl_transcript_id|mmusculus_gene_ensembl.default.feature_page.ensembl_peptide_id|mmusculus_gene_ensembl.default.feature_page.external_gene_name|mmusculus_gene_ensembl.default.feature_page.external_synonym|mmusculus_gene_ensembl.default.feature_page.gene_biotype|mmusculus_gene_ensembl.default.feature_page.entrezgene_id|mmusculus_gene_ensembl.default.feature_page.mgi_id&FILTERS=&VISIBLEPANEL=resultspanel\n",
    "}"
   ]
  },
  {
   "cell_type": "markdown",
   "id": "6b0615a2-9d89-42bf-8c68-68974cce52e6",
   "metadata": {},
   "source": [
    "## Curate the tables"
   ]
  },
  {
   "cell_type": "code",
   "execution_count": 3,
   "id": "ec64be48-f5bf-4534-b445-718f2f178e4d",
   "metadata": {},
   "outputs": [
    {
     "name": "stdout",
     "output_type": "stream",
     "text": [
      "----------human----------\n",
      "Initial shape: (620902, 9)\n"
     ]
    },
    {
     "data": {
      "text/html": [
       "<div>\n",
       "<style scoped>\n",
       "    .dataframe tbody tr th:only-of-type {\n",
       "        vertical-align: middle;\n",
       "    }\n",
       "\n",
       "    .dataframe tbody tr th {\n",
       "        vertical-align: top;\n",
       "    }\n",
       "\n",
       "    .dataframe thead th {\n",
       "        text-align: right;\n",
       "    }\n",
       "</style>\n",
       "<table border=\"1\" class=\"dataframe\">\n",
       "  <thead>\n",
       "    <tr style=\"text-align: right;\">\n",
       "      <th></th>\n",
       "      <th>Gene stable ID</th>\n",
       "      <th>Transcript stable ID</th>\n",
       "      <th>Protein stable ID</th>\n",
       "      <th>Gene name</th>\n",
       "      <th>Gene type</th>\n",
       "      <th>NCBI gene (formerly Entrezgene) ID</th>\n",
       "      <th>HGNC ID</th>\n",
       "      <th>MIM gene accession</th>\n",
       "      <th>Gene Synonym</th>\n",
       "    </tr>\n",
       "    <tr>\n",
       "      <th>id</th>\n",
       "      <th></th>\n",
       "      <th></th>\n",
       "      <th></th>\n",
       "      <th></th>\n",
       "      <th></th>\n",
       "      <th></th>\n",
       "      <th></th>\n",
       "      <th></th>\n",
       "      <th></th>\n",
       "    </tr>\n",
       "  </thead>\n",
       "  <tbody>\n",
       "    <tr>\n",
       "      <th>quhUmr</th>\n",
       "      <td>ENSG00000210049</td>\n",
       "      <td>ENST00000387314</td>\n",
       "      <td>NaN</td>\n",
       "      <td>MT-TF</td>\n",
       "      <td>Mt_tRNA</td>\n",
       "      <td>NaN</td>\n",
       "      <td>HGNC:7481</td>\n",
       "      <td>NaN</td>\n",
       "      <td>MTTF|trnF</td>\n",
       "    </tr>\n",
       "    <tr>\n",
       "      <th>zf1r7K</th>\n",
       "      <td>ENSG00000211459</td>\n",
       "      <td>ENST00000389680</td>\n",
       "      <td>NaN</td>\n",
       "      <td>MT-RNR1</td>\n",
       "      <td>Mt_rRNA</td>\n",
       "      <td>NaN</td>\n",
       "      <td>HGNC:7470</td>\n",
       "      <td>NaN</td>\n",
       "      <td>12S|MOTS-c|MTRNR1</td>\n",
       "    </tr>\n",
       "    <tr>\n",
       "      <th>CYV0sO</th>\n",
       "      <td>ENSG00000210077</td>\n",
       "      <td>ENST00000387342</td>\n",
       "      <td>NaN</td>\n",
       "      <td>MT-TV</td>\n",
       "      <td>Mt_tRNA</td>\n",
       "      <td>NaN</td>\n",
       "      <td>HGNC:7500</td>\n",
       "      <td>NaN</td>\n",
       "      <td>MTTV|trnV</td>\n",
       "    </tr>\n",
       "    <tr>\n",
       "      <th>oxw43c</th>\n",
       "      <td>ENSG00000210082</td>\n",
       "      <td>ENST00000387347</td>\n",
       "      <td>NaN</td>\n",
       "      <td>MT-RNR2</td>\n",
       "      <td>Mt_rRNA</td>\n",
       "      <td>NaN</td>\n",
       "      <td>HGNC:7471</td>\n",
       "      <td>NaN</td>\n",
       "      <td>16S|HN|MTRNR2</td>\n",
       "    </tr>\n",
       "    <tr>\n",
       "      <th>7dYjdc</th>\n",
       "      <td>ENSG00000209082</td>\n",
       "      <td>ENST00000386347</td>\n",
       "      <td>NaN</td>\n",
       "      <td>MT-TL1</td>\n",
       "      <td>Mt_tRNA</td>\n",
       "      <td>NaN</td>\n",
       "      <td>HGNC:7490</td>\n",
       "      <td>NaN</td>\n",
       "      <td>MTTL1|TRNL1</td>\n",
       "    </tr>\n",
       "  </tbody>\n",
       "</table>\n",
       "</div>"
      ],
      "text/plain": [
       "         Gene stable ID Transcript stable ID Protein stable ID Gene name  \\\n",
       "id                                                                         \n",
       "quhUmr  ENSG00000210049      ENST00000387314               NaN     MT-TF   \n",
       "zf1r7K  ENSG00000211459      ENST00000389680               NaN   MT-RNR1   \n",
       "CYV0sO  ENSG00000210077      ENST00000387342               NaN     MT-TV   \n",
       "oxw43c  ENSG00000210082      ENST00000387347               NaN   MT-RNR2   \n",
       "7dYjdc  ENSG00000209082      ENST00000386347               NaN    MT-TL1   \n",
       "\n",
       "       Gene type NCBI gene (formerly Entrezgene) ID    HGNC ID  \\\n",
       "id                                                               \n",
       "quhUmr   Mt_tRNA                                NaN  HGNC:7481   \n",
       "zf1r7K   Mt_rRNA                                NaN  HGNC:7470   \n",
       "CYV0sO   Mt_tRNA                                NaN  HGNC:7500   \n",
       "oxw43c   Mt_rRNA                                NaN  HGNC:7471   \n",
       "7dYjdc   Mt_tRNA                                NaN  HGNC:7490   \n",
       "\n",
       "       MIM gene accession       Gene Synonym  \n",
       "id                                            \n",
       "quhUmr                NaN          MTTF|trnF  \n",
       "zf1r7K                NaN  12S|MOTS-c|MTRNR1  \n",
       "CYV0sO                NaN          MTTV|trnV  \n",
       "oxw43c                NaN      16S|HN|MTRNR2  \n",
       "7dYjdc                NaN        MTTL1|TRNL1  "
      ]
     },
     "metadata": {},
     "output_type": "display_data"
    },
    {
     "name": "stdout",
     "output_type": "stream",
     "text": [
      "Final shape: (276652, 9)\n",
      "Saved as ensembl-ids-human.parquet.\n",
      "----------mouse----------\n",
      "Initial shape: (296054, 8)\n"
     ]
    },
    {
     "data": {
      "text/html": [
       "<div>\n",
       "<style scoped>\n",
       "    .dataframe tbody tr th:only-of-type {\n",
       "        vertical-align: middle;\n",
       "    }\n",
       "\n",
       "    .dataframe tbody tr th {\n",
       "        vertical-align: top;\n",
       "    }\n",
       "\n",
       "    .dataframe thead th {\n",
       "        text-align: right;\n",
       "    }\n",
       "</style>\n",
       "<table border=\"1\" class=\"dataframe\">\n",
       "  <thead>\n",
       "    <tr style=\"text-align: right;\">\n",
       "      <th></th>\n",
       "      <th>Gene stable ID</th>\n",
       "      <th>Transcript stable ID</th>\n",
       "      <th>Protein stable ID</th>\n",
       "      <th>Gene name</th>\n",
       "      <th>Gene type</th>\n",
       "      <th>NCBI gene (formerly Entrezgene) ID</th>\n",
       "      <th>MGI ID</th>\n",
       "      <th>Gene Synonym</th>\n",
       "    </tr>\n",
       "    <tr>\n",
       "      <th>id</th>\n",
       "      <th></th>\n",
       "      <th></th>\n",
       "      <th></th>\n",
       "      <th></th>\n",
       "      <th></th>\n",
       "      <th></th>\n",
       "      <th></th>\n",
       "      <th></th>\n",
       "    </tr>\n",
       "  </thead>\n",
       "  <tbody>\n",
       "    <tr>\n",
       "      <th>TwhCHf</th>\n",
       "      <td>ENSMUSG00000064336</td>\n",
       "      <td>ENSMUST00000082387</td>\n",
       "      <td>NaN</td>\n",
       "      <td>mt-Tf</td>\n",
       "      <td>Mt_tRNA</td>\n",
       "      <td>NaN</td>\n",
       "      <td>MGI:102487</td>\n",
       "      <td>tRNA|tRNA-Phe|TrnF tRNA</td>\n",
       "    </tr>\n",
       "    <tr>\n",
       "      <th>KwLzET</th>\n",
       "      <td>ENSMUSG00000064337</td>\n",
       "      <td>ENSMUST00000082388</td>\n",
       "      <td>NaN</td>\n",
       "      <td>mt-Rnr1</td>\n",
       "      <td>Mt_rRNA</td>\n",
       "      <td>NaN</td>\n",
       "      <td>MGI:102493</td>\n",
       "      <td>12S ribosomal RNA|12S rRNA|12SrRNA|Rnr1 s-rRNA</td>\n",
       "    </tr>\n",
       "    <tr>\n",
       "      <th>VtmSVw</th>\n",
       "      <td>ENSMUSG00000064338</td>\n",
       "      <td>ENSMUST00000082389</td>\n",
       "      <td>NaN</td>\n",
       "      <td>mt-Tv</td>\n",
       "      <td>Mt_tRNA</td>\n",
       "      <td>NaN</td>\n",
       "      <td>MGI:102472</td>\n",
       "      <td>tRNA|tRNA-Val|TrnaV tRNA</td>\n",
       "    </tr>\n",
       "    <tr>\n",
       "      <th>4b6dtU</th>\n",
       "      <td>ENSMUSG00000064339</td>\n",
       "      <td>ENSMUST00000082390</td>\n",
       "      <td>NaN</td>\n",
       "      <td>mt-Rnr2</td>\n",
       "      <td>Mt_rRNA</td>\n",
       "      <td>NaN</td>\n",
       "      <td>MGI:102492</td>\n",
       "      <td>16S ribosomal RNA|16S rRNA|16SrRNA|Rnr2 16S ri...</td>\n",
       "    </tr>\n",
       "    <tr>\n",
       "      <th>DPkgFA</th>\n",
       "      <td>ENSMUSG00000064340</td>\n",
       "      <td>ENSMUST00000082391</td>\n",
       "      <td>NaN</td>\n",
       "      <td>mt-Tl1</td>\n",
       "      <td>Mt_tRNA</td>\n",
       "      <td>NaN</td>\n",
       "      <td>MGI:102482</td>\n",
       "      <td>tRNA|tRNA Leu|tRNA Leu_1|TrnrL1 tRNA</td>\n",
       "    </tr>\n",
       "  </tbody>\n",
       "</table>\n",
       "</div>"
      ],
      "text/plain": [
       "            Gene stable ID Transcript stable ID Protein stable ID Gene name  \\\n",
       "id                                                                            \n",
       "TwhCHf  ENSMUSG00000064336   ENSMUST00000082387               NaN     mt-Tf   \n",
       "KwLzET  ENSMUSG00000064337   ENSMUST00000082388               NaN   mt-Rnr1   \n",
       "VtmSVw  ENSMUSG00000064338   ENSMUST00000082389               NaN     mt-Tv   \n",
       "4b6dtU  ENSMUSG00000064339   ENSMUST00000082390               NaN   mt-Rnr2   \n",
       "DPkgFA  ENSMUSG00000064340   ENSMUST00000082391               NaN    mt-Tl1   \n",
       "\n",
       "       Gene type NCBI gene (formerly Entrezgene) ID      MGI ID  \\\n",
       "id                                                                \n",
       "TwhCHf   Mt_tRNA                                NaN  MGI:102487   \n",
       "KwLzET   Mt_rRNA                                NaN  MGI:102493   \n",
       "VtmSVw   Mt_tRNA                                NaN  MGI:102472   \n",
       "4b6dtU   Mt_rRNA                                NaN  MGI:102492   \n",
       "DPkgFA   Mt_tRNA                                NaN  MGI:102482   \n",
       "\n",
       "                                             Gene Synonym  \n",
       "id                                                         \n",
       "TwhCHf                            tRNA|tRNA-Phe|TrnF tRNA  \n",
       "KwLzET     12S ribosomal RNA|12S rRNA|12SrRNA|Rnr1 s-rRNA  \n",
       "VtmSVw                           tRNA|tRNA-Val|TrnaV tRNA  \n",
       "4b6dtU  16S ribosomal RNA|16S rRNA|16SrRNA|Rnr2 16S ri...  \n",
       "DPkgFA               tRNA|tRNA Leu|tRNA Leu_1|TrnrL1 tRNA  "
      ]
     },
     "metadata": {},
     "output_type": "display_data"
    },
    {
     "name": "stdout",
     "output_type": "stream",
     "text": [
      "Final shape: (150702, 8)\n",
      "Saved as ensembl-ids-mouse.parquet.\n"
     ]
    }
   ],
   "source": [
    "for species, path in dfs.items():\n",
    "    print(f\"----------{species}----------\")\n",
    "    df = pd.read_csv(path, dtype=str)\n",
    "    print(f\"Initial shape: {df.shape}\")\n",
    "\n",
    "    # Aggregate the `Gene Synonym` column\n",
    "    df_alias = df[[\"Gene name\", \"Gene Synonym\"]].drop_duplicates().dropna()\n",
    "    df_alias = df_alias.groupby(\"Gene name\").agg(\"|\".join)\n",
    "    del df[\"Gene Synonym\"]\n",
    "    df = df.drop_duplicates()\n",
    "    df = pd.merge(df, df_alias, on=\"Gene name\", how=\"left\")\n",
    "\n",
    "    # add ids to each entry\n",
    "    ids = []\n",
    "    for i in df.index:\n",
    "        ids.append(id.gene())\n",
    "    df.index = ids\n",
    "    df.index.name = \"id\"\n",
    "\n",
    "    display(df.head())\n",
    "    print(f\"Final shape: {df.shape}\")\n",
    "\n",
    "    # save to a feather file\n",
    "    df.to_parquet(f\"ensembl-ids-{species}.parquet\")\n",
    "    print(f\"Saved as ensembl-ids-{species}.parquet.\")"
   ]
  },
  {
   "cell_type": "code",
   "execution_count": 4,
   "id": "60da3628-e513-4ded-aa4e-a3fe4d6bab07",
   "metadata": {},
   "outputs": [
    {
     "name": "stdout",
     "output_type": "stream",
     "text": [
      "ℹ️ Loading schema modules: core.\n",
      "ℹ️ Created instance bionty-assets with core schema v0.8.1: s3://bionty-assets/bionty-assets.lndb\n"
     ]
    }
   ],
   "source": [
    "!lndb init --storage s3://bionty-assets"
   ]
  },
  {
   "cell_type": "code",
   "execution_count": 5,
   "id": "58ab8155-2f45-4a51-8de6-50651b682b6e",
   "metadata": {},
   "outputs": [],
   "source": [
    "!lndb login sunnyosun"
   ]
  },
  {
   "cell_type": "code",
   "execution_count": 6,
   "id": "3560809e-8756-4bff-abe3-8ced052138c5",
   "metadata": {},
   "outputs": [],
   "source": [
    "ln.db.ingest.add(\"ensembl-ids-human.parquet\")\n",
    "ln.db.ingest.add(\"ensembl-ids-mouse.parquet\")"
   ]
  },
  {
   "cell_type": "code",
   "execution_count": 7,
   "id": "384dcd0e-1554-48de-bd93-920756254dce",
   "metadata": {},
   "outputs": [
    {
     "name": "stdout",
     "output_type": "stream",
     "text": [
      "✅ Inserted entry \u001b[1;92mtMgYorKV3nxR\u001b[0m into \u001b[1;94mjupynb\u001b[0m.\n",
      "✅ Inserted entry \u001b[1;92mwZYxR9pgNRqpBziDrsRlp\u001b[0m into \u001b[1;94mdtransform\u001b[0m.\n",
      "ℹ️ Added notebook 'Ensembl gene table -> bionty.Gene().df' (tMgYorKV3nxR, 1) by user sunnyosun.\n",
      "✅ Ingested the following dobjects:\n",
      "+------------------------------------------------------+------------------------------------------------------------+----------------------+\n",
      "| \u001b[1;92mdobject\u001b[0m                                              | \u001b[1;94mjupynb\u001b[0m                                                     | \u001b[1;95muser\u001b[0m                 |\n",
      "+------------------------------------------------------+------------------------------------------------------------+----------------------+\n",
      "| ensembl-ids-human.parquet (Ig0Js7serjpvhQyGU3HDH, 1) | 'Ensembl gene table -> bionty.Gene().df' (tMgYorKV3nxR, 1) | sunnyosun (kmvZDIX9) |\n",
      "| ensembl-ids-mouse.parquet (Zj7ArlEGHv7jFcH79bbcY, 1) | 'Ensembl gene table -> bionty.Gene().df' (tMgYorKV3nxR, 1) | sunnyosun (kmvZDIX9) |\n",
      "+------------------------------------------------------+------------------------------------------------------------+----------------------+\n",
      "✅ Cell numbers increase consecutively: Awesome!\n",
      "ℹ️ Set notebook version to \u001b[1m1\u001b[0m & wrote pypackages.\n"
     ]
    }
   ],
   "source": [
    "ln.db.ingest.commit()"
   ]
  },
  {
   "cell_type": "markdown",
   "id": "1faff71d-000d-478d-84c2-5e3a1d02793d",
   "metadata": {},
   "source": [
    "Now on S3:\n",
    "- human: https://bionty-assets.s3.amazonaws.com/Ig0Js7serjpvhQyGU3HDH-1.parquet\n",
    "- mouse: https://bionty-assets.s3.amazonaws.com/Zj7ArlEGHv7jFcH79bbcY-1.parquet"
   ]
  }
 ],
 "metadata": {
  "kernelspec": {
   "display_name": "Python 3 (ipykernel)",
   "language": "python",
   "name": "python3"
  },
  "language_info": {
   "codemirror_mode": {
    "name": "ipython",
    "version": 3
   },
   "file_extension": ".py",
   "mimetype": "text/x-python",
   "name": "python",
   "nbconvert_exporter": "python",
   "pygments_lexer": "ipython3",
   "version": "3.9.13"
  },
  "nbproject": {
   "id": "tMgYorKV3nxR",
   "parent": null,
   "pypackage": {
    "lamindb": "0.3.8",
    "lnschema_bionty": "0.4.0",
    "pandas": "1.4.3"
   },
   "time_init": "2022-09-26T21:08:46.168000+00:00",
   "version": "1"
  }
 },
 "nbformat": 4,
 "nbformat_minor": 5
}
