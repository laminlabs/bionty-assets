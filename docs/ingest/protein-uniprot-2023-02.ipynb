{
 "cells": [
  {
   "attachments": {},
   "cell_type": "markdown",
   "metadata": {},
   "source": [
    "# `Protein`: uniprot, 2023-02"
   ]
  },
  {
   "cell_type": "code",
   "execution_count": null,
   "metadata": {},
   "outputs": [],
   "source": [
    "import pandas as pd"
   ]
  },
  {
   "cell_type": "code",
   "execution_count": null,
   "metadata": {},
   "outputs": [],
   "source": [
    "def _get_shortest_name(df: pd.DataFrame, column: str, new_column=\"name\"):\n",
    "    \"\"\"Get a single shortest name from a column of lists.\n",
    "\n",
    "    Everyone else became synonyms.\n",
    "    \"\"\"\n",
    "    synonyms_list = []\n",
    "    name_list = []\n",
    "    for lst in df[column]:\n",
    "\n",
    "        def shortest_name(lst: list):\n",
    "            return min(lst, key=len)\n",
    "\n",
    "        synonyms = set(lst.split(\", \"))\n",
    "        no_space_names = [i for i in synonyms if \" \" not in i]\n",
    "        if len(no_space_names) == 0:\n",
    "            name = shortest_name(synonyms)\n",
    "        else:\n",
    "            name = shortest_name(no_space_names)\n",
    "        name_list.append(name)\n",
    "        synonyms.remove(name)\n",
    "        synonyms_list.append(\"|\".join([i for i in synonyms]))\n",
    "\n",
    "    df[new_column] = name_list\n",
    "    df[column] = synonyms_list"
   ]
  },
  {
   "attachments": {},
   "cell_type": "markdown",
   "metadata": {},
   "source": [
    "Files are downloaded from: https://www.uniprot.org/uniprotkb"
   ]
  },
  {
   "cell_type": "code",
   "execution_count": null,
   "metadata": {},
   "outputs": [],
   "source": [
    "# Downloaded from 2022-09-26\n",
    "\n",
    "filepaths = {\n",
    "    \"human\": \"https://bionty-assets.s3.amazonaws.com/uniprot-human-2023-02.tsv.gz\",\n",
    "    \"mouse\": \"https://bionty-assets.s3.amazonaws.com/uniprot-mouse-2023-02.tsv.gz\",\n",
    "}"
   ]
  },
  {
   "attachments": {},
   "cell_type": "markdown",
   "metadata": {},
   "source": [
    "## Human"
   ]
  },
  {
   "attachments": {},
   "cell_type": "markdown",
   "metadata": {},
   "source": [
    "## Curate the tables"
   ]
  },
  {
   "cell_type": "code",
   "execution_count": null,
   "metadata": {},
   "outputs": [],
   "source": [
    "for species, filepath in filepaths.items():\n",
    "    print(f\"Loading {species} data...\")\n",
    "\n",
    "    df = pd.read_csv(filepath, sep=\"\\t\")\n",
    "\n",
    "    print(f\"shape: {df.shape}\")\n",
    "    display(df.head())\n",
    "\n",
    "    df = df.rename(\n",
    "        columns={\n",
    "            \"Entry\": \"uniprotkb_id\",\n",
    "            \"Protein names\": \"synonyms\",\n",
    "            \"Length\": \"length\",\n",
    "            \"Gene Names (primary)\": \"gene_symbol\",\n",
    "            \"GeneID\": \"ncbi_gene_ids\",\n",
    "        }\n",
    "    )\n",
    "\n",
    "    # concatenate ncbi gene ids with |\n",
    "    df[\"ncbi_gene_ids\"] = df[\"ncbi_gene_ids\"].fillna(\"\")\n",
    "    df[\"ncbi_gene_ids\"] = df[\"ncbi_gene_ids\"].str.rstrip(\";\").str.replace(\";\", \"|\")\n",
    "\n",
    "    # pick the shortest name from synonyms as name\n",
    "    # concatenate the rest synonyms with |\n",
    "    df[\"synonyms\"] = df[\"synonyms\"].fillna(\"\")\n",
    "    _get_shortest_name(df, \"synonyms\")\n",
    "    df = df[\n",
    "        [\"uniprotkb_id\", \"name\", \"length\", \"synonyms\", \"gene_symbol\", \"ncbi_gene_ids\"]\n",
    "    ]\n",
    "\n",
    "    # sort by uniprotkb id, reset index\n",
    "    df = df[~df[\"uniprotkb_id\"].isnull()]\n",
    "    df = df.sort_values(\"uniprotkb_id\").reset_index(drop=True)\n",
    "\n",
    "    print(f\"shape: {df.shape}, unique: {df.uniprotkb_id.is_unique}\")\n",
    "    display(df.head())\n",
    "\n",
    "    filename = f\"df_{species}__uniprot__2023-02__Protein.parquet\"\n",
    "    df.to_parquet(filename)\n",
    "\n",
    "    print(f\"Wrote {filename}.\")\n",
    "    print(\"------------------------------------------------\")"
   ]
  }
 ],
 "metadata": {
  "kernelspec": {
   "display_name": "py39",
   "language": "python",
   "name": "python3"
  },
  "language_info": {
   "codemirror_mode": {
    "name": "ipython",
    "version": 3
   },
   "file_extension": ".py",
   "mimetype": "text/x-python",
   "name": "python",
   "nbconvert_exporter": "python",
   "pygments_lexer": "ipython3",
   "version": "3.9.16"
  }
 },
 "nbformat": 4,
 "nbformat_minor": 2
}
